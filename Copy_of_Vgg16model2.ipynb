{
  "nbformat": 4,
  "nbformat_minor": 5,
  "metadata": {
    "kernelspec": {
      "name": "python3",
      "display_name": "Python 3"
    },
    "colab": {
      "name": "Copy of Vgg16model2.ipynb",
      "provenance": [],
      "collapsed_sections": [],
      "include_colab_link": true
    },
    "accelerator": "GPU",
    "language_info": {
      "name": "python"
    }
  },
  "cells": [
    {
      "cell_type": "markdown",
      "metadata": {
        "id": "view-in-github",
        "colab_type": "text"
      },
      "source": [
        "<a href=\"https://colab.research.google.com/github/snehahs03/medical-image-analysis/blob/main/Copy_of_Vgg16model2.ipynb\" target=\"_parent\"><img src=\"https://colab.research.google.com/assets/colab-badge.svg\" alt=\"Open In Colab\"/></a>"
      ]
    },
    {
      "cell_type": "code",
      "metadata": {
        "colab": {
          "base_uri": "https://localhost:8080/"
        },
        "id": "QGBbAEIwK8Ll",
        "outputId": "c8342074-f2af-4487-929e-56bb8f238b96"
      },
      "source": [
        "from google.colab import drive\n",
        "drive.mount('/content/drive')"
      ],
      "id": "QGBbAEIwK8Ll",
      "execution_count": 1,
      "outputs": [
        {
          "output_type": "stream",
          "text": [
            "Mounted at /content/drive\n"
          ],
          "name": "stdout"
        }
      ]
    },
    {
      "cell_type": "code",
      "metadata": {
        "colab": {
          "base_uri": "https://localhost:8080/"
        },
        "id": "kqWIarM9UlvI",
        "outputId": "1161a111-ea21-4f96-87b8-8c26931efb97"
      },
      "source": [
        "!pwd"
      ],
      "id": "kqWIarM9UlvI",
      "execution_count": 33,
      "outputs": [
        {
          "output_type": "stream",
          "text": [
            "/content\n"
          ],
          "name": "stdout"
        }
      ]
    },
    {
      "cell_type": "code",
      "metadata": {
        "colab": {
          "base_uri": "https://localhost:8080/"
        },
        "id": "XrsVdUyuUtg_",
        "outputId": "2baf4791-bb99-48e6-fb98-99cf352eba4f"
      },
      "source": [
        "!ls"
      ],
      "id": "XrsVdUyuUtg_",
      "execution_count": 34,
      "outputs": [
        {
          "output_type": "stream",
          "text": [
            "drive  medical-image-analysis  sample_data  VGG16model2.h5\n"
          ],
          "name": "stdout"
        }
      ]
    },
    {
      "cell_type": "code",
      "metadata": {
        "colab": {
          "base_uri": "https://localhost:8080/"
        },
        "id": "RhHUtvYXUzxJ",
        "outputId": "4d6dd2ed-f155-4b0e-ad6c-858e9fc409b7"
      },
      "source": [
        "%cd drive"
      ],
      "id": "RhHUtvYXUzxJ",
      "execution_count": 35,
      "outputs": [
        {
          "output_type": "stream",
          "text": [
            "/content/drive\n"
          ],
          "name": "stdout"
        }
      ]
    },
    {
      "cell_type": "code",
      "metadata": {
        "colab": {
          "base_uri": "https://localhost:8080/"
        },
        "id": "U9QRkElAU5YI",
        "outputId": "bfcae3fc-284b-49ad-98bc-dbfb2b1f780f"
      },
      "source": [
        "!ls"
      ],
      "id": "U9QRkElAU5YI",
      "execution_count": 36,
      "outputs": [
        {
          "output_type": "stream",
          "text": [
            "MyDrive\n"
          ],
          "name": "stdout"
        }
      ]
    },
    {
      "cell_type": "code",
      "metadata": {
        "colab": {
          "base_uri": "https://localhost:8080/"
        },
        "id": "-qR0U9pjU83g",
        "outputId": "596472c5-eabd-4f94-f67e-e289a781cd89"
      },
      "source": [
        "%cd MyDrive"
      ],
      "id": "-qR0U9pjU83g",
      "execution_count": 37,
      "outputs": [
        {
          "output_type": "stream",
          "text": [
            "/content/drive/MyDrive\n"
          ],
          "name": "stdout"
        }
      ]
    },
    {
      "cell_type": "code",
      "metadata": {
        "colab": {
          "base_uri": "https://localhost:8080/"
        },
        "id": "1iUc-BsMVCxL",
        "outputId": "c15e0a68-ea4e-4d3b-c945-0a3a7eb877e2"
      },
      "source": [
        "!ls"
      ],
      "id": "1iUc-BsMVCxL",
      "execution_count": 38,
      "outputs": [
        {
          "output_type": "stream",
          "text": [
            " Classroom  'Colab Notebooks'   Vaibhav_Resume.gdoc\n"
          ],
          "name": "stdout"
        }
      ]
    },
    {
      "cell_type": "code",
      "metadata": {
        "colab": {
          "base_uri": "https://localhost:8080/"
        },
        "id": "H-lDRiiwQavC",
        "outputId": "8ea3e472-a205-4fd0-c647-32e72c951011"
      },
      "source": [
        "!git clone https://github.com/snehahs03/medical-image-analysis.git"
      ],
      "id": "H-lDRiiwQavC",
      "execution_count": 39,
      "outputs": [
        {
          "output_type": "stream",
          "text": [
            "Cloning into 'medical-image-analysis'...\n",
            "remote: Enumerating objects: 3796, done.\u001b[K\n",
            "remote: Counting objects: 100% (33/33), done.\u001b[K\n",
            "remote: Compressing objects: 100% (32/32), done.\u001b[K\n",
            "remote: Total 3796 (delta 15), reused 0 (delta 0), pack-reused 3763\u001b[K\n",
            "Receiving objects: 100% (3796/3796), 337.06 MiB | 19.21 MiB/s, done.\n",
            "Resolving deltas: 100% (26/26), done.\n",
            "Checking out files: 100% (3887/3887), done.\n"
          ],
          "name": "stdout"
        }
      ]
    },
    {
      "cell_type": "code",
      "metadata": {
        "colab": {
          "base_uri": "https://localhost:8080/"
        },
        "id": "bOEtE364VRPi",
        "outputId": "1a7a4cae-f5cd-4cfe-a613-faf971e033a3"
      },
      "source": [
        "!ls"
      ],
      "id": "bOEtE364VRPi",
      "execution_count": 40,
      "outputs": [
        {
          "output_type": "stream",
          "text": [
            " Classroom  'Colab Notebooks'   medical-image-analysis\t Vaibhav_Resume.gdoc\n"
          ],
          "name": "stdout"
        }
      ]
    },
    {
      "cell_type": "code",
      "metadata": {
        "colab": {
          "base_uri": "https://localhost:8080/",
          "height": 35
        },
        "id": "JXvVuzcyVjWw",
        "outputId": "f67c3839-0c6d-464e-c368-8623da5f509e"
      },
      "source": [
        "pwd"
      ],
      "id": "JXvVuzcyVjWw",
      "execution_count": 41,
      "outputs": [
        {
          "output_type": "execute_result",
          "data": {
            "application/vnd.google.colaboratory.intrinsic+json": {
              "type": "string"
            },
            "text/plain": [
              "'/content/drive/My Drive'"
            ]
          },
          "metadata": {
            "tags": []
          },
          "execution_count": 41
        }
      ]
    },
    {
      "cell_type": "code",
      "metadata": {
        "colab": {
          "base_uri": "https://localhost:8080/"
        },
        "id": "z06l_jkJVog4",
        "outputId": "05aaab1f-5558-4912-a314-44e2d914ee2e"
      },
      "source": [
        "%cd medical-image-analysis"
      ],
      "id": "z06l_jkJVog4",
      "execution_count": 42,
      "outputs": [
        {
          "output_type": "stream",
          "text": [
            "/content/drive/My Drive/medical-image-analysis\n"
          ],
          "name": "stdout"
        }
      ]
    },
    {
      "cell_type": "code",
      "metadata": {
        "id": "97cfb9c4"
      },
      "source": [
        "import json\n",
        "import math\n",
        "import os\n",
        "import cv2\n",
        "from PIL import Image\n",
        "import numpy as np\n",
        "from keras import layers\n",
        "from keras.callbacks import Callback, ModelCheckpoint, ReduceLROnPlateau, TensorBoard\n",
        "from keras.models import Model\n",
        "from keras.preprocessing.image import ImageDataGenerator\n",
        "from keras.utils.np_utils import to_categorical\n",
        "from keras.models import Sequential\n",
        "from keras.optimizers import Adam\n",
        "import matplotlib.pyplot as plt\n",
        "import pandas as pd\n",
        "from sklearn.model_selection import train_test_split\n",
        "from sklearn.metrics import cohen_kappa_score, accuracy_score\n",
        "import scipy\n",
        "import tensorflow as tf\n",
        "from keras import backend as K\n",
        "import gc\n",
        "from functools import partial\n",
        "from tqdm import tqdm\n",
        "from sklearn import metrics\n",
        "from collections import Counter\n",
        "import itertools\n",
        "from keras.applications.vgg16 import VGG16, preprocess_input\n",
        "from keras.callbacks import ModelCheckpoint, EarlyStopping\n",
        "from keras.layers import Dense, Dropout, Flatten\n",
        "from keras.layers import Input, Lambda, Dense, Flatten\n",
        "from keras.preprocessing import image\n",
        "from glob import glob"
      ],
      "id": "97cfb9c4",
      "execution_count": 3,
      "outputs": []
    },
    {
      "cell_type": "code",
      "metadata": {
        "id": "53fc4864"
      },
      "source": [
        "def Dataset_loader(DIR, RESIZE, sigmaX=10):\n",
        "    IMG = []\n",
        "    read = lambda imname: np.asarray(Image.open(imname).convert(\"RGB\"))\n",
        "    for IMAGE_NAME in tqdm(os.listdir(DIR)):\n",
        "        PATH = os.path.join(DIR,IMAGE_NAME)\n",
        "        _, ftype = os.path.splitext(PATH)\n",
        "        if ftype == \".jpg\":\n",
        "            img = read(PATH)\n",
        "           \n",
        "            img = cv2.resize(img, (RESIZE,RESIZE))\n",
        "           \n",
        "            IMG.append(np.array(img))\n",
        "    return IMG"
      ],
      "id": "53fc4864",
      "execution_count": 4,
      "outputs": []
    },
    {
      "cell_type": "code",
      "metadata": {
        "colab": {
          "base_uri": "https://localhost:8080/"
        },
        "id": "675f14ba",
        "outputId": "4a180b9f-d1e3-4099-bb7e-972cc1720091"
      },
      "source": [
        "eczema_train = np.array(Dataset_loader(\"/content/medical-image-analysis/train/Eczema Photos\", 224))\n",
        "melanoma_train = np.array(Dataset_loader(\"/content/medical-image-analysis/train/Melanoma Skin Cancer Nevi and Moles\",224))\n",
        "psoriasis_train = np.array(Dataset_loader(\"/content/medical-image-analysis/train/Psoriasis pictures Lichen Planus and related diseases\",224))\n",
        "eczema_test = np.array(Dataset_loader(\"/content/medical-image-analysis/test/Eczema Photos\",224))\n",
        "melonoma_test = np.array(Dataset_loader(\"/content/medical-image-analysis/test/Melanoma Skin Cancer Nevi and Moles\",224))\n",
        "psoriasis_test = np.array(Dataset_loader(\"/content/medical-image-analysis/test/Psoriasis pictures Lichen Planus and related diseases\", 224))\n"
      ],
      "id": "675f14ba",
      "execution_count": 5,
      "outputs": [
        {
          "output_type": "stream",
          "text": [
            "100%|██████████| 1235/1235 [00:07<00:00, 158.30it/s]\n",
            "100%|██████████| 463/463 [00:02<00:00, 154.91it/s]\n",
            "100%|██████████| 1405/1405 [00:09<00:00, 155.79it/s]\n",
            "100%|██████████| 309/309 [00:01<00:00, 159.81it/s]\n",
            "100%|██████████| 116/116 [00:00<00:00, 155.91it/s]\n",
            "100%|██████████| 352/352 [00:02<00:00, 159.73it/s]\n"
          ],
          "name": "stderr"
        }
      ]
    },
    {
      "cell_type": "code",
      "metadata": {
        "id": "e38c2004"
      },
      "source": [
        "#labelling \n",
        "eczema_train_label = np.full(len(eczema_train),0)\n",
        "melonoma_train_label = np.full(len(melanoma_train),1)\n",
        "psoriasis_train_label = np.full(len(psoriasis_train),2)\n",
        "eczema_test_label = np.full(len(eczema_test),0)\n",
        "melonoma_test_label = np.full(len(melonoma_test),1)\n",
        "psoriasis_test_label = np.full(len(psoriasis_test),2)"
      ],
      "id": "e38c2004",
      "execution_count": 6,
      "outputs": []
    },
    {
      "cell_type": "code",
      "metadata": {
        "colab": {
          "base_uri": "https://localhost:8080/"
        },
        "id": "2e4abed4",
        "outputId": "77e6c1cb-85b4-4650-9c03-6a7825c40a75"
      },
      "source": [
        "X_train = np.concatenate((eczema_train, melanoma_train, psoriasis_train), axis=0)\n",
        "Y_train = np.concatenate((eczema_train_label, melonoma_train_label, psoriasis_train_label), axis=0)\n",
        "X_test = np.concatenate((eczema_test, melonoma_test, psoriasis_test), axis=0)\n",
        "Y_test = np.concatenate((eczema_test_label, melonoma_test_label, psoriasis_test_label), axis = 0)\n",
        "print(Y_test.shape)\n",
        "print(X_test.shape)"
      ],
      "id": "2e4abed4",
      "execution_count": 7,
      "outputs": [
        {
          "output_type": "stream",
          "text": [
            "(777,)\n",
            "(777, 224, 224, 3)\n"
          ],
          "name": "stdout"
        }
      ]
    },
    {
      "cell_type": "code",
      "metadata": {
        "id": "e40a3bc5"
      },
      "source": [
        "s = np.arange(X_train.shape[0])\n",
        "np.random.shuffle(s)\n",
        "X_train = X_train[s]\n",
        "Y_train = Y_train[s]\n",
        "\n",
        "s = np.arange(X_test.shape[0])\n",
        "np.random.shuffle(s)\n",
        "X_test = X_test[s]\n",
        "Y_test = Y_test[s]\n",
        "\n",
        "Y_train = to_categorical(Y_train, num_classes= 3)\n",
        "Y_test = to_categorical(Y_test, num_classes= 3)\n",
        "\n",
        "#train and evaluation split\n",
        "X_train, X_val, Y_train, Y_val = train_test_split(\n",
        "    X_train, Y_train, \n",
        "    test_size=0.3, \n",
        "    random_state=5\n",
        ")"
      ],
      "id": "e40a3bc5",
      "execution_count": 8,
      "outputs": []
    },
    {
      "cell_type": "code",
      "metadata": {
        "colab": {
          "base_uri": "https://localhost:8080/"
        },
        "id": "3e475dfb",
        "outputId": "bea19a74-3acd-4b07-b344-46ee35ab2ccc"
      },
      "source": [
        "X_train.shape, Y_train.shape"
      ],
      "id": "3e475dfb",
      "execution_count": 9,
      "outputs": [
        {
          "output_type": "execute_result",
          "data": {
            "text/plain": [
              "((2172, 224, 224, 3), (2172, 3))"
            ]
          },
          "metadata": {
            "tags": []
          },
          "execution_count": 9
        }
      ]
    },
    {
      "cell_type": "code",
      "metadata": {
        "colab": {
          "base_uri": "https://localhost:8080/"
        },
        "id": "258c8f7f",
        "outputId": "c7c63c39-f2b0-42f7-bb18-a682e352dbaa"
      },
      "source": [
        "X_val.shape, Y_val.shape"
      ],
      "id": "258c8f7f",
      "execution_count": 10,
      "outputs": [
        {
          "output_type": "execute_result",
          "data": {
            "text/plain": [
              "((931, 224, 224, 3), (931, 3))"
            ]
          },
          "metadata": {
            "tags": []
          },
          "execution_count": 10
        }
      ]
    },
    {
      "cell_type": "code",
      "metadata": {
        "colab": {
          "base_uri": "https://localhost:8080/"
        },
        "id": "8n0EgaD3WWAE",
        "outputId": "aaf004e6-ba10-41ae-ea33-a5c31fafd1fc"
      },
      "source": [
        "X_test.shape, Y_test.shape"
      ],
      "id": "8n0EgaD3WWAE",
      "execution_count": 11,
      "outputs": [
        {
          "output_type": "execute_result",
          "data": {
            "text/plain": [
              "((777, 224, 224, 3), (777, 3))"
            ]
          },
          "metadata": {
            "tags": []
          },
          "execution_count": 11
        }
      ]
    },
    {
      "cell_type": "code",
      "metadata": {
        "id": "a67f35b1",
        "colab": {
          "base_uri": "https://localhost:8080/"
        },
        "outputId": "f0db1640-51f2-4108-b0ed-3b2fd304ff0c"
      },
      "source": [
        "#load in pretrained model\n",
        "vgg = VGG16(input_shape=(224,224,3), weights='imagenet', include_top=False)\n",
        "for layer in vgg.layers:\n",
        "  layer.trainable = False"
      ],
      "id": "a67f35b1",
      "execution_count": 12,
      "outputs": [
        {
          "output_type": "stream",
          "text": [
            "Downloading data from https://storage.googleapis.com/tensorflow/keras-applications/vgg16/vgg16_weights_tf_dim_ordering_tf_kernels_notop.h5\n",
            "58892288/58889256 [==============================] - 0s 0us/step\n",
            "58900480/58889256 [==============================] - 0s 0us/step\n"
          ],
          "name": "stdout"
        }
      ]
    },
    {
      "cell_type": "code",
      "metadata": {
        "id": "a476c740"
      },
      "source": [
        "#adding output layer\n",
        "top_model = vgg.output\n",
        "top_model = Flatten(name=\"flatten\")(top_model)\n",
        "top_model = Dense(4096, activation='relu')(top_model)\n",
        "top_model = Dense(1072, activation='relu')(top_model)\n",
        "top_model = Dropout(0.2)(top_model)\n",
        "output_layer = Dense(3, activation='softmax')(top_model)"
      ],
      "id": "a476c740",
      "execution_count": 13,
      "outputs": []
    },
    {
      "cell_type": "code",
      "metadata": {
        "id": "36dbd445"
      },
      "source": [
        "#create a model object\n",
        "model2 = Model(inputs=vgg.input, outputs=output_layer)\n",
        "optimizer = Adam(learning_rate=0.0001, beta_1=0.9, beta_2=0.999, epsilon=None, decay=0.0, amsgrad=True)\n",
        "model2.compile(loss='categorical_crossentropy',\n",
        "              optimizer=optimizer,\n",
        "              metrics=['accuracy'])"
      ],
      "id": "36dbd445",
      "execution_count": 14,
      "outputs": []
    },
    {
      "cell_type": "code",
      "metadata": {
        "id": "e6cfee67"
      },
      "source": [
        "#Feature extraction\n",
        "train_datagen = ImageDataGenerator(rotation_range=90, width_shift_range=0.2, height_shift_range=0.2,\n",
        "                                   shear_range=0.2, zoom_range=0.25, fill_mode='nearest')\n",
        "\n",
        "train_datagen.fit(X_train)\n",
        "\n",
        "val_datagen = ImageDataGenerator(rotation_range=90, width_shift_range=0.2, height_shift_range=0.2,\n",
        "                                   shear_range=0.2, zoom_range=0.25, fill_mode='nearest')\n",
        "val_datagen.fit(X_val)\n"
      ],
      "id": "e6cfee67",
      "execution_count": 15,
      "outputs": []
    },
    {
      "cell_type": "code",
      "metadata": {
        "colab": {
          "base_uri": "https://localhost:8080/"
        },
        "id": "ff25ec59",
        "outputId": "6e008be5-6b6f-4cb5-f420-3ce06d5f5871"
      },
      "source": [
        "batch_size = 64\n",
        "epochs = 10\n",
        "history = model2.fit(train_datagen.flow(X_train,Y_train, batch_size=batch_size),\n",
        "                              epochs = epochs, validation_data = val_datagen.flow(X_val, Y_val),\n",
        "                              verbose = 1, steps_per_epoch=(X_train.shape[0] // batch_size), \n",
        "                              validation_steps=(X_val.shape[0] // batch_size))\n"
      ],
      "id": "ff25ec59",
      "execution_count": 16,
      "outputs": [
        {
          "output_type": "stream",
          "text": [
            "Epoch 1/10\n",
            "33/33 [==============================] - 93s 1s/step - loss: 10.9852 - accuracy: 0.4639 - val_loss: 2.0810 - val_accuracy: 0.5536\n",
            "Epoch 2/10\n",
            "33/33 [==============================] - 26s 801ms/step - loss: 2.1956 - accuracy: 0.5687 - val_loss: 1.3422 - val_accuracy: 0.5625\n",
            "Epoch 3/10\n",
            "33/33 [==============================] - 26s 801ms/step - loss: 1.2549 - accuracy: 0.5901 - val_loss: 0.9079 - val_accuracy: 0.6250\n",
            "Epoch 4/10\n",
            "33/33 [==============================] - 27s 808ms/step - loss: 0.9279 - accuracy: 0.5888 - val_loss: 0.8451 - val_accuracy: 0.6027\n",
            "Epoch 5/10\n",
            "33/33 [==============================] - 27s 821ms/step - loss: 0.8388 - accuracy: 0.6176 - val_loss: 0.8747 - val_accuracy: 0.6004\n",
            "Epoch 6/10\n",
            "33/33 [==============================] - 27s 803ms/step - loss: 0.7810 - accuracy: 0.6528 - val_loss: 0.8385 - val_accuracy: 0.6004\n",
            "Epoch 7/10\n",
            "33/33 [==============================] - 26s 803ms/step - loss: 0.7764 - accuracy: 0.6469 - val_loss: 0.8083 - val_accuracy: 0.6228\n",
            "Epoch 8/10\n",
            "33/33 [==============================] - 26s 803ms/step - loss: 0.7593 - accuracy: 0.6679 - val_loss: 0.7982 - val_accuracy: 0.6562\n",
            "Epoch 9/10\n",
            "33/33 [==============================] - 27s 810ms/step - loss: 0.7210 - accuracy: 0.6571 - val_loss: 0.8027 - val_accuracy: 0.6317\n",
            "Epoch 10/10\n",
            "33/33 [==============================] - 27s 810ms/step - loss: 0.6883 - accuracy: 0.6658 - val_loss: 0.7794 - val_accuracy: 0.6741\n"
          ],
          "name": "stdout"
        }
      ]
    },
    {
      "cell_type": "code",
      "metadata": {
        "id": "QsOkx6SEUHc6"
      },
      "source": [
        "#Fine-Tuning \n",
        "for layer in model2.layers[15:]:\n",
        "    layer.trainable = True"
      ],
      "id": "QsOkx6SEUHc6",
      "execution_count": 18,
      "outputs": []
    },
    {
      "cell_type": "code",
      "metadata": {
        "id": "T7IJHevMUO5A"
      },
      "source": [
        "optimizer = Adam(learning_rate=0.00015, beta_1=0.9, beta_2=0.999, epsilon=None, decay=0.0, amsgrad=False)\n",
        "model2.compile(loss='categorical_crossentropy',\n",
        "              optimizer=optimizer,\n",
        "              metrics=['acc'])\n",
        "learning_rate_reduction = ReduceLROnPlateau(monitor='val_acc', patience=3, verbose=1, factor=0.5, \n",
        "                                            min_lr=0.000001, cooldown=3)"
      ],
      "id": "T7IJHevMUO5A",
      "execution_count": 19,
      "outputs": []
    },
    {
      "cell_type": "code",
      "metadata": {
        "colab": {
          "base_uri": "https://localhost:8080/"
        },
        "id": "PCOpPinVUZRw",
        "outputId": "c2069563-91d3-4b8f-a333-376c7bb2595b"
      },
      "source": [
        "batch_size = 64\n",
        "epochs = 30\n",
        "history2 = model2.fit(train_datagen.flow(X_train,Y_train, batch_size=batch_size),\n",
        "                              epochs = epochs, validation_data = val_datagen.flow(X_val, Y_val),\n",
        "                              verbose = 1, steps_per_epoch=(X_train.shape[0] // batch_size),\n",
        "                              validation_steps=(X_val.shape[0] // batch_size), callbacks=[learning_rate_reduction])"
      ],
      "id": "PCOpPinVUZRw",
      "execution_count": 20,
      "outputs": [
        {
          "output_type": "stream",
          "text": [
            "Epoch 1/30\n",
            "33/33 [==============================] - 31s 854ms/step - loss: 1.0403 - acc: 0.5493 - val_loss: 0.8439 - val_acc: 0.5804\n",
            "Epoch 2/30\n",
            "33/33 [==============================] - 27s 827ms/step - loss: 0.8588 - acc: 0.5760 - val_loss: 0.8366 - val_acc: 0.5781\n",
            "Epoch 3/30\n",
            "33/33 [==============================] - 27s 816ms/step - loss: 0.8194 - acc: 0.6016 - val_loss: 0.9041 - val_acc: 0.5781\n",
            "Epoch 4/30\n",
            "33/33 [==============================] - 27s 822ms/step - loss: 0.7668 - acc: 0.6366 - val_loss: 0.8830 - val_acc: 0.6071\n",
            "Epoch 5/30\n",
            "33/33 [==============================] - 27s 817ms/step - loss: 0.6884 - acc: 0.6740 - val_loss: 0.7654 - val_acc: 0.6250\n",
            "Epoch 6/30\n",
            "33/33 [==============================] - 27s 826ms/step - loss: 0.6611 - acc: 0.6759 - val_loss: 0.7814 - val_acc: 0.6540\n",
            "Epoch 7/30\n",
            "33/33 [==============================] - 27s 818ms/step - loss: 0.6894 - acc: 0.6614 - val_loss: 0.8050 - val_acc: 0.6250\n",
            "Epoch 8/30\n",
            "33/33 [==============================] - 27s 823ms/step - loss: 0.6405 - acc: 0.6913 - val_loss: 0.7935 - val_acc: 0.6362\n",
            "Epoch 9/30\n",
            "33/33 [==============================] - 27s 814ms/step - loss: 0.5652 - acc: 0.7420 - val_loss: 0.6909 - val_acc: 0.6741\n",
            "Epoch 10/30\n",
            "33/33 [==============================] - 28s 835ms/step - loss: 0.5597 - acc: 0.7455 - val_loss: 0.7762 - val_acc: 0.6987\n",
            "Epoch 11/30\n",
            "33/33 [==============================] - 27s 825ms/step - loss: 0.5723 - acc: 0.7388 - val_loss: 0.7470 - val_acc: 0.6719\n",
            "Epoch 12/30\n",
            "33/33 [==============================] - 27s 830ms/step - loss: 0.5164 - acc: 0.7795 - val_loss: 0.6883 - val_acc: 0.6897\n",
            "Epoch 13/30\n",
            "33/33 [==============================] - 27s 826ms/step - loss: 0.5011 - acc: 0.7646 - val_loss: 0.9653 - val_acc: 0.6674\n",
            "\n",
            "Epoch 00013: ReduceLROnPlateau reducing learning rate to 7.500000356230885e-05.\n",
            "Epoch 14/30\n",
            "33/33 [==============================] - 27s 822ms/step - loss: 0.4657 - acc: 0.8079 - val_loss: 0.6724 - val_acc: 0.7299\n",
            "Epoch 15/30\n",
            "33/33 [==============================] - 27s 831ms/step - loss: 0.3727 - acc: 0.8514 - val_loss: 0.6210 - val_acc: 0.7612\n",
            "Epoch 16/30\n",
            "33/33 [==============================] - 27s 821ms/step - loss: 0.3515 - acc: 0.8616 - val_loss: 0.5829 - val_acc: 0.7321\n",
            "Epoch 17/30\n",
            "33/33 [==============================] - 28s 833ms/step - loss: 0.3643 - acc: 0.8394 - val_loss: 0.7623 - val_acc: 0.7455\n",
            "Epoch 18/30\n",
            "33/33 [==============================] - 27s 825ms/step - loss: 0.3368 - acc: 0.8509 - val_loss: 0.6068 - val_acc: 0.7500\n",
            "\n",
            "Epoch 00018: ReduceLROnPlateau reducing learning rate to 3.7500001781154424e-05.\n",
            "Epoch 19/30\n",
            "33/33 [==============================] - 27s 830ms/step - loss: 0.2978 - acc: 0.8770 - val_loss: 0.7982 - val_acc: 0.7321\n",
            "Epoch 20/30\n",
            "33/33 [==============================] - 28s 835ms/step - loss: 0.2736 - acc: 0.8814 - val_loss: 0.7381 - val_acc: 0.7411\n",
            "Epoch 21/30\n",
            "33/33 [==============================] - 27s 824ms/step - loss: 0.2771 - acc: 0.8707 - val_loss: 0.5794 - val_acc: 0.7879\n",
            "Epoch 22/30\n",
            "33/33 [==============================] - 28s 835ms/step - loss: 0.2517 - acc: 0.8940 - val_loss: 0.8053 - val_acc: 0.7500\n",
            "Epoch 23/30\n",
            "33/33 [==============================] - 27s 830ms/step - loss: 0.2531 - acc: 0.8974 - val_loss: 0.8522 - val_acc: 0.7321\n",
            "Epoch 24/30\n",
            "33/33 [==============================] - 28s 839ms/step - loss: 0.2202 - acc: 0.9035 - val_loss: 0.7892 - val_acc: 0.7321\n",
            "\n",
            "Epoch 00024: ReduceLROnPlateau reducing learning rate to 1.8750000890577212e-05.\n",
            "Epoch 25/30\n",
            "33/33 [==============================] - 28s 832ms/step - loss: 0.2092 - acc: 0.9227 - val_loss: 0.8118 - val_acc: 0.7879\n",
            "Epoch 26/30\n",
            "33/33 [==============================] - 27s 821ms/step - loss: 0.2163 - acc: 0.9088 - val_loss: 0.7852 - val_acc: 0.7835\n",
            "Epoch 27/30\n",
            "33/33 [==============================] - 27s 828ms/step - loss: 0.1709 - acc: 0.9249 - val_loss: 0.7921 - val_acc: 0.7411\n",
            "Epoch 28/30\n",
            "33/33 [==============================] - 27s 829ms/step - loss: 0.2105 - acc: 0.9132 - val_loss: 0.8960 - val_acc: 0.7277\n",
            "Epoch 29/30\n",
            "33/33 [==============================] - 27s 829ms/step - loss: 0.1649 - acc: 0.9294 - val_loss: 0.7349 - val_acc: 0.7969\n",
            "Epoch 30/30\n",
            "33/33 [==============================] - 27s 826ms/step - loss: 0.1893 - acc: 0.9112 - val_loss: 0.7658 - val_acc: 0.7812\n"
          ],
          "name": "stdout"
        }
      ]
    },
    {
      "cell_type": "code",
      "metadata": {
        "colab": {
          "base_uri": "https://localhost:8080/"
        },
        "id": "ukqaa2m3RajB",
        "outputId": "2f6c0ec3-2a0a-4f8a-b656-240db8e016b8"
      },
      "source": [
        "loss_val, acc_val = model2.evaluate(X_val, Y_val, verbose=1)\n",
        "print(\"Validation: accuracy = %f  ;  loss_v = %f\" % (acc_val, loss_val))"
      ],
      "id": "ukqaa2m3RajB",
      "execution_count": 22,
      "outputs": [
        {
          "output_type": "stream",
          "text": [
            "30/30 [==============================] - 6s 169ms/step - loss: 0.8807 - acc: 0.7777\n",
            "Validation: accuracy = 0.777658  ;  loss_v = 0.880686\n"
          ],
          "name": "stdout"
        }
      ]
    },
    {
      "cell_type": "code",
      "metadata": {
        "colab": {
          "base_uri": "https://localhost:8080/",
          "height": 311
        },
        "id": "2e94a28c",
        "outputId": "f0ae91d4-091f-4f94-a768-9e222883822c"
      },
      "source": [
        "from sklearn.metrics import confusion_matrix\n",
        "import itertools\n",
        "def plot_confusion_matrix(cm, classes,\n",
        "                          normalize=False,\n",
        "                          title='Confusion matrix',\n",
        "                          cmap=plt.cm.Blues):\n",
        "    \"\"\"\n",
        "    This function prints and plots the confusion matrix.\n",
        "    Normalization can be applied by setting `normalize=True`.\n",
        "    \"\"\"\n",
        "    plt.imshow(cm, interpolation='nearest', cmap=cmap)\n",
        "    plt.title(title)\n",
        "    plt.colorbar()\n",
        "    tick_marks = np.arange(len(classes))\n",
        "    plt.xticks(tick_marks, classes, rotation=45)\n",
        "    plt.yticks(tick_marks, classes)\n",
        "\n",
        "    if normalize:\n",
        "        cm = cm.astype('float') / cm.sum(axis=1)[:, np.newaxis]\n",
        "\n",
        "    thresh = cm.max() / 2.\n",
        "    for i, j in itertools.product(range(cm.shape[0]), range(cm.shape[1])):\n",
        "        plt.text(j, i, cm[i, j],\n",
        "                 horizontalalignment=\"center\",\n",
        "                 color=\"white\" if cm[i, j] > thresh else \"black\")\n",
        "\n",
        "    plt.tight_layout()\n",
        "    plt.ylabel('True label')\n",
        "    plt.xlabel('Predicted label')\n",
        "\n",
        "# Predict the values from the validation dataset\n",
        "y_pred = model2.predict(X_val)\n",
        "# Convert predictions classes to one hot vectors \n",
        "y_pred_classes = np.argmax(y_pred,axis = 1) \n",
        "# Convert validation observations to one hot vectors\n",
        "y_true = np.argmax(Y_val,axis = 1) \n",
        "# compute the confusion matrix\n",
        "confusion_mtx = confusion_matrix(y_true, y_pred_classes) \n",
        "# plot the confusion matrix\n",
        "plot_confusion_matrix(confusion_mtx, classes = range(3))"
      ],
      "id": "2e94a28c",
      "execution_count": 24,
      "outputs": [
        {
          "output_type": "display_data",
          "data": {
            "image/png": "[encoded data removed]",
            "text/plain": [
              "<Figure size 432x288 with 2 Axes>"
            ]
          },
          "metadata": {
            "tags": [],
            "needs_background": "light"
          }
        }
      ]
    },
    {
      "cell_type": "markdown",
      "metadata": {
        "id": "4r8uQdfZRtsA"
      },
      "source": [
        "TESTING1\n"
      ],
      "id": "4r8uQdfZRtsA"
    },
    {
      "cell_type": "code",
      "metadata": {
        "colab": {
          "base_uri": "https://localhost:8080/"
        },
        "id": "vT8XWX1IRx3X",
        "outputId": "8a883a0d-d200-430a-a2a5-309e3cb4e785"
      },
      "source": [
        "loss_test, acc_test = model2.evaluate(X_test, Y_test, verbose=1)\n",
        "print(\"Test: accuracy = %f  ;  loss = %f\" % (acc_test, loss_test))"
      ],
      "id": "vT8XWX1IRx3X",
      "execution_count": 25,
      "outputs": [
        {
          "output_type": "stream",
          "text": [
            "25/25 [==============================] - 6s 231ms/step - loss: 0.8585 - acc: 0.7683\n",
            "Test: accuracy = 0.768340  ;  loss = 0.858496\n"
          ],
          "name": "stdout"
        }
      ]
    },
    {
      "cell_type": "code",
      "metadata": {
        "colab": {
          "base_uri": "https://localhost:8080/",
          "height": 561
        },
        "id": "GKjkUk6qR0sQ",
        "outputId": "61b243c5-e693-464f-bdae-5077fe2b5134"
      },
      "source": [
        "# Retrieve a list of accuracy results on training and test data\n",
        "# sets for each training epoch\n",
        "acc = history2.history['acc']\n",
        "val_acc = history2.history['val_acc']\n",
        "\n",
        "# Retrieve a list of list results on training and test data\n",
        "# sets for each training epoch\n",
        "loss = history2.history['loss']\n",
        "val_loss = history2.history['val_loss']\n",
        "\n",
        "# Get number of epochs\n",
        "epochs = range(len(acc))\n",
        "\n",
        "# Plot training and validation accuracy per epoch\n",
        "plt.plot(epochs, acc, label = \"training\")\n",
        "plt.plot(epochs, val_acc, label = \"validation\")\n",
        "plt.legend(loc=\"upper left\")\n",
        "plt.title('Training and validation accuracy')\n",
        "\n",
        "plt.figure()\n",
        "\n",
        "# Plot training and validation loss per epoch\n",
        "plt.plot(epochs, loss, label = \"training\")\n",
        "plt.plot(epochs, val_loss, label = \"validation\")\n",
        "plt.legend(loc=\"upper right\")\n",
        "plt.title('Training and validation loss')"
      ],
      "id": "GKjkUk6qR0sQ",
      "execution_count": 31,
      "outputs": [
        {
          "output_type": "execute_result",
          "data": {
            "text/plain": [
              "Text(0.5, 1.0, 'Training and validation loss')"
            ]
          },
          "metadata": {
            "tags": []
          },
          "execution_count": 31
        },
        {
          "output_type": "display_data",
          "data": {
            "image/png": "[encoded data removed]",
            "text/plain": [
              "<Figure size 432x288 with 1 Axes>"
            ]
          },
          "metadata": {
            "tags": [],
            "needs_background": "light"
          }
        },
        {
          "output_type": "display_data",
          "data": {
            "image/png": "[encoded data removed]",
            "text/plain": [
              "<Figure size 432x288 with 1 Axes>"
            ]
          },
          "metadata": {
            "tags": [],
            "needs_background": "light"
          }
        }
      ]
    },
    {
      "cell_type": "code",
      "metadata": {
        "id": "YfSKt0QWTeFC"
      },
      "source": [
        "model2.save(\"VGG16model2.h5\")"
      ],
      "id": "YfSKt0QWTeFC",
      "execution_count": 43,
      "outputs": []
    }
  ]
}