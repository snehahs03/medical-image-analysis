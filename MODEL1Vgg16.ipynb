{
  "nbformat": 4,
  "nbformat_minor": 5,
  "metadata": {
    "kernelspec": {
      "name": "python3",
      "display_name": "Python 3"
    },
    "colab": {
      "name": "MODEL1Vgg16.ipynb",
      "provenance": [],
      "collapsed_sections": [],
      "include_colab_link": true
    },
    "accelerator": "GPU",
    "language_info": {
      "name": "python"
    }
  },
  "cells": [
    {
      "cell_type": "markdown",
      "metadata": {
        "id": "view-in-github",
        "colab_type": "text"
      },
      "source": [
        "<a href=\"https://colab.research.google.com/github/snehahs03/medical-image-analysis/blob/main/MODEL1Vgg16.ipynb\" target=\"_parent\"><img src=\"https://colab.research.google.com/assets/colab-badge.svg\" alt=\"Open In Colab\"/></a>"
      ]
    },
    {
      "cell_type": "code",
      "metadata": {
        "id": "JBmYtoV2Z3f8",
        "colab": {
          "base_uri": "https://localhost:8080/"
        },
        "outputId": "037e6c35-59b0-4d2d-f4b1-d61a3dfd0e37"
      },
      "source": [
        "from google.colab import drive\n",
        "drive.mount('/content/drive')"
      ],
      "id": "JBmYtoV2Z3f8",
      "execution_count": null,
      "outputs": [
        {
          "output_type": "stream",
          "text": [
            "Mounted at /content/drive\n"
          ],
          "name": "stdout"
        }
      ]
    },
    {
      "cell_type": "code",
      "metadata": {
        "id": "tShbFmqmZ47r",
        "colab": {
          "base_uri": "https://localhost:8080/"
        },
        "outputId": "cc461d34-b30a-4028-fab0-e93e1cedd89b"
      },
      "source": [
        "%cd drive"
      ],
      "id": "tShbFmqmZ47r",
      "execution_count": null,
      "outputs": [
        {
          "output_type": "stream",
          "text": [
            "/content/drive\n"
          ],
          "name": "stdout"
        }
      ]
    },
    {
      "cell_type": "code",
      "metadata": {
        "id": "NBW-CMYQaCW6",
        "colab": {
          "base_uri": "https://localhost:8080/"
        },
        "outputId": "21b15fa6-0b80-4475-9a01-1358fc8824c2"
      },
      "source": [
        "%cd MyDrive"
      ],
      "id": "NBW-CMYQaCW6",
      "execution_count": null,
      "outputs": [
        {
          "output_type": "stream",
          "text": [
            "/content/drive/MyDrive\n"
          ],
          "name": "stdout"
        }
      ]
    },
    {
      "cell_type": "code",
      "metadata": {
        "id": "tZD4gttbaFK9",
        "colab": {
          "base_uri": "https://localhost:8080/"
        },
        "outputId": "a708c9a9-fd84-49c2-b767-35cfbcd7296a"
      },
      "source": [
        "%cd medical-image-analysis"
      ],
      "id": "tZD4gttbaFK9",
      "execution_count": null,
      "outputs": [
        {
          "output_type": "stream",
          "text": [
            "/content/drive/MyDrive/medical-image-analysis\n"
          ],
          "name": "stdout"
        }
      ]
    },
    {
      "cell_type": "code",
      "metadata": {
        "colab": {
          "base_uri": "https://localhost:8080/"
        },
        "id": "H-lDRiiwQavC",
        "outputId": "827d7186-5f77-4351-df3f-6ca607ce41f1"
      },
      "source": [
        "!git clone https://github.com/snehahs03/medical-image-analysis.git"
      ],
      "id": "H-lDRiiwQavC",
      "execution_count": null,
      "outputs": [
        {
          "output_type": "stream",
          "text": [
            "Cloning into 'medical-image-analysis'...\n",
            "remote: Enumerating objects: 3822, done.\u001b[K\n",
            "remote: Counting objects: 100% (59/59), done.\u001b[K\n",
            "remote: Compressing objects: 100% (58/58), done.\u001b[K\n",
            "remote: Total 3822 (delta 30), reused 0 (delta 0), pack-reused 3763\u001b[K\n",
            "Receiving objects: 100% (3822/3822), 337.36 MiB | 34.71 MiB/s, done.\n",
            "Resolving deltas: 100% (41/41), done.\n",
            "Checking out files: 100% (3893/3893), done.\n"
          ],
          "name": "stdout"
        }
      ]
    },
    {
      "cell_type": "code",
      "metadata": {
        "id": "97cfb9c4"
      },
      "source": [
        "import json\n",
        "import math\n",
        "import os\n",
        "import cv2\n",
        "from PIL import Image\n",
        "import numpy as np\n",
        "from keras import layers\n",
        "from keras.callbacks import Callback, ModelCheckpoint, ReduceLROnPlateau, TensorBoard\n",
        "from keras.models import Model\n",
        "from keras.preprocessing.image import ImageDataGenerator\n",
        "from keras.utils.np_utils import to_categorical\n",
        "from keras.models import Sequential\n",
        "from keras.optimizers import Adam\n",
        "import matplotlib.pyplot as plt\n",
        "import pandas as pd\n",
        "from sklearn.model_selection import train_test_split\n",
        "from sklearn.metrics import cohen_kappa_score, accuracy_score\n",
        "import scipy\n",
        "import tensorflow as tf\n",
        "from keras import backend as K\n",
        "import gc\n",
        "from functools import partial\n",
        "from tqdm import tqdm\n",
        "from sklearn import metrics\n",
        "from collections import Counter\n",
        "import itertools\n",
        "from keras.applications.vgg16 import VGG16, preprocess_input\n",
        "from keras.callbacks import ModelCheckpoint, EarlyStopping\n",
        "from keras.layers import Dense, Dropout, Flatten\n",
        "from keras.layers import Input, Lambda, Dense, Flatten\n",
        "from keras.preprocessing import image\n",
        "from glob import glob"
      ],
      "id": "97cfb9c4",
      "execution_count": null,
      "outputs": []
    },
    {
      "cell_type": "code",
      "metadata": {
        "id": "53fc4864"
      },
      "source": [
        "def Dataset_loader(DIR, RESIZE, sigmaX=10):\n",
        "    IMG = []\n",
        "    read = lambda imname: np.asarray(Image.open(imname).convert(\"RGB\"))\n",
        "    for IMAGE_NAME in tqdm(os.listdir(DIR)):\n",
        "        PATH = os.path.join(DIR,IMAGE_NAME)\n",
        "        _, ftype = os.path.splitext(PATH)\n",
        "        if ftype == \".jpg\":\n",
        "            img = read(PATH)\n",
        "           \n",
        "            img = cv2.resize(img, (RESIZE,RESIZE))\n",
        "           \n",
        "            IMG.append(np.array(img))\n",
        "    return IMG"
      ],
      "id": "53fc4864",
      "execution_count": null,
      "outputs": []
    },
    {
      "cell_type": "code",
      "metadata": {
        "colab": {
          "base_uri": "https://localhost:8080/"
        },
        "id": "675f14ba",
        "outputId": "b7b19df1-3a0f-49fe-d8f7-2d82aebd28b7"
      },
      "source": [
        "eczema_train = np.array(Dataset_loader(\"/content/medical-image-analysis/train/Eczema Photos\", 224))\n",
        "melanoma_train = np.array(Dataset_loader(\"/content/medical-image-analysis/train/Melanoma Skin Cancer Nevi and Moles\",224))\n",
        "psoriasis_train = np.array(Dataset_loader(\"/content/medical-image-analysis/train/Psoriasis pictures Lichen Planus and related diseases\",224))\n",
        "eczema_test = np.array(Dataset_loader(\"/content/medical-image-analysis/test/Eczema Photos\",224))\n",
        "melonoma_test = np.array(Dataset_loader(\"/content/medical-image-analysis/test/Melanoma Skin Cancer Nevi and Moles\",224))\n",
        "psoriasis_test = np.array(Dataset_loader(\"/content/medical-image-analysis/test/Psoriasis pictures Lichen Planus and related diseases\", 224))\n"
      ],
      "id": "675f14ba",
      "execution_count": null,
      "outputs": [
        {
          "output_type": "stream",
          "text": [
            "100%|██████████| 1235/1235 [00:07<00:00, 156.27it/s]\n",
            "100%|██████████| 463/463 [00:02<00:00, 155.73it/s]\n",
            "100%|██████████| 1405/1405 [00:08<00:00, 156.44it/s]\n",
            "100%|██████████| 309/309 [00:01<00:00, 155.29it/s]\n",
            "100%|██████████| 116/116 [00:00<00:00, 150.47it/s]\n",
            "100%|██████████| 352/352 [00:02<00:00, 158.06it/s]\n"
          ],
          "name": "stderr"
        }
      ]
    },
    {
      "cell_type": "code",
      "metadata": {
        "id": "e38c2004"
      },
      "source": [
        "#labelling \n",
        "eczema_train_label = np.full(len(eczema_train),0)\n",
        "melonoma_train_label = np.full(len(melanoma_train),1)\n",
        "psoriasis_train_label = np.full(len(psoriasis_train),2)\n",
        "eczema_test_label = np.full(len(eczema_test),0)\n",
        "melonoma_test_label = np.full(len(melonoma_test),1)\n",
        "psoriasis_test_label = np.full(len(psoriasis_test),2)"
      ],
      "id": "e38c2004",
      "execution_count": null,
      "outputs": []
    },
    {
      "cell_type": "code",
      "metadata": {
        "colab": {
          "base_uri": "https://localhost:8080/"
        },
        "id": "2e4abed4",
        "outputId": "38edd7bd-ee3f-4c7f-8db7-43bae0e5335c"
      },
      "source": [
        "X_train = np.concatenate((eczema_train, melanoma_train, psoriasis_train), axis=0)\n",
        "Y_train = np.concatenate((eczema_train_label, melonoma_train_label, psoriasis_train_label), axis=0)\n",
        "X_test = np.concatenate((eczema_test, melonoma_test, psoriasis_test), axis=0)\n",
        "Y_test = np.concatenate((eczema_test_label, melonoma_test_label, psoriasis_test_label), axis = 0)\n",
        "print(Y_test.shape)\n",
        "print(X_test.shape)"
      ],
      "id": "2e4abed4",
      "execution_count": null,
      "outputs": [
        {
          "output_type": "stream",
          "text": [
            "(777,)\n",
            "(777, 224, 224, 3)\n"
          ],
          "name": "stdout"
        }
      ]
    },
    {
      "cell_type": "code",
      "metadata": {
        "id": "e40a3bc5"
      },
      "source": [
        "s = np.arange(X_train.shape[0])\n",
        "np.random.shuffle(s)\n",
        "X_train = X_train[s]\n",
        "Y_train = Y_train[s]\n",
        "\n",
        "s = np.arange(X_test.shape[0])\n",
        "np.random.shuffle(s)\n",
        "X_test = X_test[s]\n",
        "Y_test = Y_test[s]\n",
        "\n",
        "Y_train = to_categorical(Y_train, num_classes= 3)\n",
        "Y_test = to_categorical(Y_test, num_classes= 3)\n",
        "\n",
        "#train and evaluation split\n",
        "X_train, X_val, Y_train, Y_val = train_test_split(\n",
        "    X_train, Y_train, \n",
        "    test_size=0.3, \n",
        "    random_state=5\n",
        ")"
      ],
      "id": "e40a3bc5",
      "execution_count": null,
      "outputs": []
    },
    {
      "cell_type": "code",
      "metadata": {
        "colab": {
          "base_uri": "https://localhost:8080/"
        },
        "id": "3e475dfb",
        "outputId": "4dc3492a-7a72-452f-e9ce-a9c946f59b7f"
      },
      "source": [
        "X_train.shape, Y_train.shape"
      ],
      "id": "3e475dfb",
      "execution_count": null,
      "outputs": [
        {
          "output_type": "execute_result",
          "data": {
            "text/plain": [
              "((2172, 224, 224, 3), (2172, 3))"
            ]
          },
          "metadata": {
            "tags": []
          },
          "execution_count": 8
        }
      ]
    },
    {
      "cell_type": "code",
      "metadata": {
        "colab": {
          "base_uri": "https://localhost:8080/"
        },
        "id": "258c8f7f",
        "outputId": "a99f4493-4e66-4d2c-cd1b-75d61e9d9fd0"
      },
      "source": [
        "X_val.shape, Y_val.shape"
      ],
      "id": "258c8f7f",
      "execution_count": null,
      "outputs": [
        {
          "output_type": "execute_result",
          "data": {
            "text/plain": [
              "((931, 224, 224, 3), (931, 3))"
            ]
          },
          "metadata": {
            "tags": []
          },
          "execution_count": 9
        }
      ]
    },
    {
      "cell_type": "code",
      "metadata": {
        "colab": {
          "base_uri": "https://localhost:8080/"
        },
        "id": "8n0EgaD3WWAE",
        "outputId": "087b3c7c-7edb-4a62-9bfc-5281632fdf23"
      },
      "source": [
        "X_test.shape, Y_test.shape"
      ],
      "id": "8n0EgaD3WWAE",
      "execution_count": null,
      "outputs": [
        {
          "output_type": "execute_result",
          "data": {
            "text/plain": [
              "((777, 224, 224, 3), (777, 3))"
            ]
          },
          "metadata": {
            "tags": []
          },
          "execution_count": 10
        }
      ]
    },
    {
      "cell_type": "code",
      "metadata": {
        "id": "a67f35b1",
        "colab": {
          "base_uri": "https://localhost:8080/"
        },
        "outputId": "17fa6c07-d3f1-46fc-d73f-0a76d38c8790"
      },
      "source": [
        "#load in pretrained model\n",
        "vgg = VGG16(input_shape=(224,224,3), weights='imagenet', include_top=False)\n",
        "for layer in vgg.layers:\n",
        "  print(layer.name)\n",
        "  layer.trainable = False\n",
        "print(len(vgg.layers))"
      ],
      "id": "a67f35b1",
      "execution_count": null,
      "outputs": [
        {
          "output_type": "stream",
          "text": [
            "Downloading data from https://storage.googleapis.com/tensorflow/keras-applications/vgg16/vgg16_weights_tf_dim_ordering_tf_kernels_notop.h5\n",
            "58892288/58889256 [==============================] - 1s 0us/step\n",
            "58900480/58889256 [==============================] - 1s 0us/step\n",
            "input_1\n",
            "block1_conv1\n",
            "block1_conv2\n",
            "block1_pool\n",
            "block2_conv1\n",
            "block2_conv2\n",
            "block2_pool\n",
            "block3_conv1\n",
            "block3_conv2\n",
            "block3_conv3\n",
            "block3_pool\n",
            "block4_conv1\n",
            "block4_conv2\n",
            "block4_conv3\n",
            "block4_pool\n",
            "block5_conv1\n",
            "block5_conv2\n",
            "block5_conv3\n",
            "block5_pool\n",
            "19\n"
          ],
          "name": "stdout"
        }
      ]
    },
    {
      "cell_type": "code",
      "metadata": {
        "id": "a476c740"
      },
      "source": [
        "#adding output layer\n",
        "top_model = vgg.output\n",
        "top_model = Flatten(name=\"flatten\")(top_model)\n",
        "top_model = Dense(4096, activation='relu')(top_model)\n",
        "top_model = Dense(1072, activation='relu')(top_model)\n",
        "top_model = Dropout(0.2)(top_model)\n",
        "output_layer = Dense(3, activation='softmax')(top_model)"
      ],
      "id": "a476c740",
      "execution_count": null,
      "outputs": []
    },
    {
      "cell_type": "code",
      "metadata": {
        "id": "36dbd445"
      },
      "source": [
        "#create a model object\n",
        "model1 = Model(inputs=vgg.input, outputs=output_layer)\n",
        "optimizer = Adam(learning_rate=0.0001, beta_1=0.9, beta_2=0.999, epsilon=None, decay=0.0, amsgrad=True)\n",
        "model1.compile(loss='categorical_crossentropy',\n",
        "              optimizer=optimizer,\n",
        "              metrics=['accuracy'])"
      ],
      "id": "36dbd445",
      "execution_count": null,
      "outputs": []
    },
    {
      "cell_type": "code",
      "metadata": {
        "id": "e6cfee67"
      },
      "source": [
        "#Feature extraction\n",
        "train_datagen = ImageDataGenerator(rotation_range=60, width_shift_range=0.2, height_shift_range=0.2,\n",
        "                                   shear_range=0.2, zoom_range=0.2, fill_mode='nearest')\n",
        "\n",
        "train_datagen.fit(X_train)\n",
        "\n",
        "val_datagen = ImageDataGenerator(rotation_range=60, width_shift_range=0.2, height_shift_range=0.2,\n",
        "                                   shear_range=0.2, zoom_range=0.2, fill_mode='nearest')\n",
        "val_datagen.fit(X_val)\n"
      ],
      "id": "e6cfee67",
      "execution_count": null,
      "outputs": []
    },
    {
      "cell_type": "code",
      "metadata": {
        "colab": {
          "base_uri": "https://localhost:8080/"
        },
        "id": "ff25ec59",
        "outputId": "db0c8d21-ca9a-449b-feaa-16d3e39577b2"
      },
      "source": [
        "batch_size = 64\n",
        "epochs = 20\n",
        "history0 = model1.fit(train_datagen.flow(X_train,Y_train, batch_size=batch_size),\n",
        "                              epochs = epochs, validation_data = val_datagen.flow(X_val, Y_val),\n",
        "                              verbose = 1, steps_per_epoch=(X_train.shape[0] // batch_size), \n",
        "                              validation_steps=(X_val.shape[0] // batch_size))\n"
      ],
      "id": "ff25ec59",
      "execution_count": null,
      "outputs": [
        {
          "output_type": "stream",
          "text": [
            "Epoch 1/20\n",
            "33/33 [==============================] - 96s 1s/step - loss: 9.9356 - accuracy: 0.4521 - val_loss: 1.7986 - val_accuracy: 0.6094\n",
            "Epoch 2/20\n",
            "33/33 [==============================] - 29s 868ms/step - loss: 1.9967 - accuracy: 0.5576 - val_loss: 1.1867 - val_accuracy: 0.6116\n",
            "Epoch 3/20\n",
            "33/33 [==============================] - 29s 864ms/step - loss: 1.3200 - accuracy: 0.5968 - val_loss: 1.0604 - val_accuracy: 0.6116\n",
            "Epoch 4/20\n",
            "33/33 [==============================] - 29s 870ms/step - loss: 0.9659 - accuracy: 0.6265 - val_loss: 0.9276 - val_accuracy: 0.6138\n",
            "Epoch 5/20\n",
            "33/33 [==============================] - 29s 865ms/step - loss: 0.8565 - accuracy: 0.6184 - val_loss: 0.7720 - val_accuracy: 0.6384\n",
            "Epoch 6/20\n",
            "33/33 [==============================] - 28s 862ms/step - loss: 0.7635 - accuracy: 0.6579 - val_loss: 0.7987 - val_accuracy: 0.6562\n",
            "Epoch 7/20\n",
            "33/33 [==============================] - 29s 869ms/step - loss: 0.7510 - accuracy: 0.6508 - val_loss: 0.7626 - val_accuracy: 0.6094\n",
            "Epoch 8/20\n",
            "33/33 [==============================] - 28s 862ms/step - loss: 0.7074 - accuracy: 0.6787 - val_loss: 0.8818 - val_accuracy: 0.5982\n",
            "Epoch 9/20\n",
            "33/33 [==============================] - 29s 864ms/step - loss: 0.7010 - accuracy: 0.6847 - val_loss: 0.8323 - val_accuracy: 0.6540\n",
            "Epoch 10/20\n",
            "33/33 [==============================] - 28s 863ms/step - loss: 0.6720 - accuracy: 0.7025 - val_loss: 0.8058 - val_accuracy: 0.6183\n",
            "Epoch 11/20\n",
            "33/33 [==============================] - 29s 863ms/step - loss: 0.6390 - accuracy: 0.7152 - val_loss: 0.8145 - val_accuracy: 0.6116\n",
            "Epoch 12/20\n",
            "33/33 [==============================] - 28s 860ms/step - loss: 0.6362 - accuracy: 0.7177 - val_loss: 0.7844 - val_accuracy: 0.6362\n",
            "Epoch 13/20\n",
            "33/33 [==============================] - 28s 861ms/step - loss: 0.6266 - accuracy: 0.7299 - val_loss: 0.7539 - val_accuracy: 0.6406\n",
            "Epoch 14/20\n",
            "33/33 [==============================] - 29s 865ms/step - loss: 0.5924 - accuracy: 0.7424 - val_loss: 0.7906 - val_accuracy: 0.6317\n",
            "Epoch 15/20\n",
            "33/33 [==============================] - 29s 864ms/step - loss: 0.5708 - accuracy: 0.7414 - val_loss: 0.7994 - val_accuracy: 0.6250\n",
            "Epoch 16/20\n",
            "33/33 [==============================] - 28s 862ms/step - loss: 0.5902 - accuracy: 0.7454 - val_loss: 0.7089 - val_accuracy: 0.6830\n",
            "Epoch 17/20\n",
            "33/33 [==============================] - 29s 864ms/step - loss: 0.5335 - accuracy: 0.7746 - val_loss: 0.7876 - val_accuracy: 0.6696\n",
            "Epoch 18/20\n",
            "33/33 [==============================] - 29s 865ms/step - loss: 0.5301 - accuracy: 0.7735 - val_loss: 0.7415 - val_accuracy: 0.6518\n",
            "Epoch 19/20\n",
            "33/33 [==============================] - 29s 866ms/step - loss: 0.5263 - accuracy: 0.7700 - val_loss: 0.7611 - val_accuracy: 0.6741\n",
            "Epoch 20/20\n",
            "33/33 [==============================] - 29s 866ms/step - loss: 0.5404 - accuracy: 0.7648 - val_loss: 0.8139 - val_accuracy: 0.6763\n"
          ],
          "name": "stdout"
        }
      ]
    },
    {
      "cell_type": "code",
      "metadata": {
        "id": "-z4SQqiUGr-o"
      },
      "source": [
        "np.save('his0_VGG16.npy',history0.history)"
      ],
      "id": "-z4SQqiUGr-o",
      "execution_count": null,
      "outputs": []
    },
    {
      "cell_type": "code",
      "metadata": {
        "id": "QsOkx6SEUHc6"
      },
      "source": [
        "#Fine-Tuning \n",
        "for layer in model1.layers[15:]:\n",
        "    layer.trainable = True"
      ],
      "id": "QsOkx6SEUHc6",
      "execution_count": null,
      "outputs": []
    },
    {
      "cell_type": "code",
      "metadata": {
        "id": "T7IJHevMUO5A"
      },
      "source": [
        "optimizer = Adam(learning_rate=0.0001, beta_1=0.9, beta_2=0.999, epsilon=None, decay=0.0, amsgrad=False)\n",
        "model1.compile(loss='categorical_crossentropy',\n",
        "              optimizer=optimizer,\n",
        "              metrics=['acc'])\n",
        "learning_rate_reduction = ReduceLROnPlateau(monitor='val_acc', patience=3, verbose=1, factor=0.5, \n",
        "                                            min_lr=0.000001, cooldown=3)"
      ],
      "id": "T7IJHevMUO5A",
      "execution_count": null,
      "outputs": []
    },
    {
      "cell_type": "code",
      "metadata": {
        "colab": {
          "base_uri": "https://localhost:8080/"
        },
        "id": "PCOpPinVUZRw",
        "outputId": "0e5f5d84-17d3-44ee-b056-79bb79959d3b"
      },
      "source": [
        "batch_size = 64\n",
        "epochs = 30\n",
        "history1 = model1.fit(train_datagen.flow(X_train,Y_train, batch_size=batch_size),\n",
        "                              epochs = epochs, validation_data = val_datagen.flow(X_val, Y_val),\n",
        "                              verbose = 1, steps_per_epoch=(X_train.shape[0] // batch_size),\n",
        "                              validation_steps=(X_val.shape[0] // batch_size), callbacks=[learning_rate_reduction])"
      ],
      "id": "PCOpPinVUZRw",
      "execution_count": null,
      "outputs": [
        {
          "output_type": "stream",
          "text": [
            "Epoch 1/30\n",
            "33/33 [==============================] - 33s 905ms/step - loss: 0.9116 - acc: 0.6396 - val_loss: 0.7616 - val_acc: 0.6451\n",
            "Epoch 2/30\n",
            "33/33 [==============================] - 29s 892ms/step - loss: 0.6738 - acc: 0.6949 - val_loss: 0.7123 - val_acc: 0.6987\n",
            "Epoch 3/30\n",
            "33/33 [==============================] - 29s 889ms/step - loss: 0.5830 - acc: 0.7465 - val_loss: 0.8109 - val_acc: 0.6228\n",
            "Epoch 4/30\n",
            "33/33 [==============================] - 30s 899ms/step - loss: 0.5652 - acc: 0.7449 - val_loss: 0.6834 - val_acc: 0.7031\n",
            "Epoch 5/30\n",
            "33/33 [==============================] - 29s 887ms/step - loss: 0.5101 - acc: 0.7821 - val_loss: 0.7996 - val_acc: 0.6786\n",
            "Epoch 6/30\n",
            "33/33 [==============================] - 29s 891ms/step - loss: 0.4776 - acc: 0.7863 - val_loss: 0.6307 - val_acc: 0.7522\n",
            "Epoch 7/30\n",
            "33/33 [==============================] - 29s 887ms/step - loss: 0.4574 - acc: 0.8078 - val_loss: 0.6076 - val_acc: 0.7098\n",
            "Epoch 8/30\n",
            "33/33 [==============================] - 29s 891ms/step - loss: 0.4029 - acc: 0.8277 - val_loss: 0.7002 - val_acc: 0.7388\n",
            "Epoch 9/30\n",
            "33/33 [==============================] - 29s 890ms/step - loss: 0.3848 - acc: 0.8392 - val_loss: 0.7714 - val_acc: 0.7076\n",
            "\n",
            "Epoch 00009: ReduceLROnPlateau reducing learning rate to 4.999999873689376e-05.\n",
            "Epoch 10/30\n",
            "33/33 [==============================] - 29s 889ms/step - loss: 0.3077 - acc: 0.8799 - val_loss: 0.7093 - val_acc: 0.7522\n",
            "Epoch 11/30\n",
            "33/33 [==============================] - 29s 887ms/step - loss: 0.2564 - acc: 0.8996 - val_loss: 0.7129 - val_acc: 0.7366\n",
            "Epoch 12/30\n",
            "33/33 [==============================] - 29s 884ms/step - loss: 0.2342 - acc: 0.8977 - val_loss: 0.7178 - val_acc: 0.7723\n",
            "Epoch 13/30\n",
            "33/33 [==============================] - 29s 887ms/step - loss: 0.2298 - acc: 0.9098 - val_loss: 0.8071 - val_acc: 0.7210\n",
            "Epoch 14/30\n",
            "33/33 [==============================] - 29s 884ms/step - loss: 0.2006 - acc: 0.9256 - val_loss: 0.7256 - val_acc: 0.7746\n",
            "Epoch 15/30\n",
            "33/33 [==============================] - 29s 887ms/step - loss: 0.2367 - acc: 0.9102 - val_loss: 0.6486 - val_acc: 0.7723\n",
            "Epoch 16/30\n",
            "33/33 [==============================] - 29s 886ms/step - loss: 0.1973 - acc: 0.9212 - val_loss: 0.7938 - val_acc: 0.7522\n",
            "Epoch 17/30\n",
            "33/33 [==============================] - 29s 885ms/step - loss: 0.1867 - acc: 0.9245 - val_loss: 0.9466 - val_acc: 0.7321\n",
            "\n",
            "Epoch 00017: ReduceLROnPlateau reducing learning rate to 2.499999936844688e-05.\n",
            "Epoch 18/30\n",
            "33/33 [==============================] - 29s 885ms/step - loss: 0.1909 - acc: 0.9322 - val_loss: 0.6445 - val_acc: 0.7924\n",
            "Epoch 19/30\n",
            "33/33 [==============================] - 29s 883ms/step - loss: 0.1095 - acc: 0.9654 - val_loss: 0.7865 - val_acc: 0.7723\n",
            "Epoch 20/30\n",
            "33/33 [==============================] - 29s 885ms/step - loss: 0.1092 - acc: 0.9575 - val_loss: 0.8439 - val_acc: 0.7969\n",
            "Epoch 21/30\n",
            "33/33 [==============================] - 29s 877ms/step - loss: 0.1152 - acc: 0.9597 - val_loss: 0.8994 - val_acc: 0.7701\n",
            "Epoch 22/30\n",
            "33/33 [==============================] - 29s 887ms/step - loss: 0.1228 - acc: 0.9541 - val_loss: 0.8920 - val_acc: 0.7656\n",
            "Epoch 23/30\n",
            "33/33 [==============================] - 29s 885ms/step - loss: 0.0953 - acc: 0.9640 - val_loss: 0.9711 - val_acc: 0.7723\n",
            "\n",
            "Epoch 00023: ReduceLROnPlateau reducing learning rate to 1.249999968422344e-05.\n",
            "Epoch 24/30\n",
            "33/33 [==============================] - 29s 882ms/step - loss: 0.0846 - acc: 0.9719 - val_loss: 0.9568 - val_acc: 0.7656\n",
            "Epoch 25/30\n",
            "33/33 [==============================] - 29s 886ms/step - loss: 0.0723 - acc: 0.9721 - val_loss: 0.9139 - val_acc: 0.7723\n",
            "Epoch 26/30\n",
            "33/33 [==============================] - 29s 884ms/step - loss: 0.0911 - acc: 0.9682 - val_loss: 0.7602 - val_acc: 0.7857\n",
            "Epoch 27/30\n",
            "33/33 [==============================] - 29s 891ms/step - loss: 0.0817 - acc: 0.9694 - val_loss: 0.8301 - val_acc: 0.7790\n",
            "Epoch 28/30\n",
            "33/33 [==============================] - 29s 886ms/step - loss: 0.0669 - acc: 0.9786 - val_loss: 0.9371 - val_acc: 0.7835\n",
            "\n",
            "Epoch 00028: ReduceLROnPlateau reducing learning rate to 6.24999984211172e-06.\n",
            "Epoch 29/30\n",
            "33/33 [==============================] - 29s 885ms/step - loss: 0.0578 - acc: 0.9759 - val_loss: 0.9365 - val_acc: 0.7969\n",
            "Epoch 30/30\n",
            "33/33 [==============================] - 29s 889ms/step - loss: 0.0624 - acc: 0.9805 - val_loss: 0.9613 - val_acc: 0.7857\n"
          ],
          "name": "stdout"
        }
      ]
    },
    {
      "cell_type": "code",
      "metadata": {
        "colab": {
          "base_uri": "https://localhost:8080/"
        },
        "id": "ukqaa2m3RajB",
        "outputId": "88942115-ca10-4647-e72c-67d903afacb3"
      },
      "source": [
        "loss_val, acc_val = model1.evaluate(X_val, Y_val, verbose=1)\n",
        "print(\"Validation: accuracy = %f  ;  loss_v = %f\" % (acc_val, loss_val))"
      ],
      "id": "ukqaa2m3RajB",
      "execution_count": null,
      "outputs": [
        {
          "output_type": "stream",
          "text": [
            "30/30 [==============================] - 5s 162ms/step - loss: 0.9937 - acc: 0.8228\n",
            "Validation: accuracy = 0.822771  ;  loss_v = 0.993703\n"
          ],
          "name": "stdout"
        }
      ]
    },
    {
      "cell_type": "code",
      "metadata": {
        "id": "iTiw8ymyNfct"
      },
      "source": [
        "np.save('his1_VGG16.npy',history1.history)"
      ],
      "id": "iTiw8ymyNfct",
      "execution_count": null,
      "outputs": []
    },
    {
      "cell_type": "markdown",
      "metadata": {
        "id": "4r8uQdfZRtsA"
      },
      "source": [
        "TESTING1\n"
      ],
      "id": "4r8uQdfZRtsA"
    },
    {
      "cell_type": "code",
      "metadata": {
        "colab": {
          "base_uri": "https://localhost:8080/"
        },
        "id": "vT8XWX1IRx3X",
        "outputId": "5e7462df-f614-4558-a666-804b14257d59"
      },
      "source": [
        "loss_test, acc_test = model1.evaluate(X_test, Y_test, verbose=1)\n",
        "print(\"Test: accuracy = %f  ;  loss = %f\" % (acc_test, loss_test))"
      ],
      "id": "vT8XWX1IRx3X",
      "execution_count": null,
      "outputs": [
        {
          "output_type": "stream",
          "text": [
            "25/25 [==============================] - 5s 216ms/step - loss: 1.1251 - acc: 0.7786\n",
            "Test: accuracy = 0.778636  ;  loss = 1.125085\n"
          ],
          "name": "stdout"
        }
      ]
    },
    {
      "cell_type": "code",
      "metadata": {
        "id": "w0kTVsvrNrPa",
        "colab": {
          "base_uri": "https://localhost:8080/",
          "height": 311
        },
        "outputId": "f731362f-ba87-418c-bef6-3b3a5d1ce38e"
      },
      "source": [
        "from sklearn.metrics import confusion_matrix\n",
        "import itertools\n",
        "def plot_confusion_matrix(cm, classes,\n",
        "                          normalize=False,\n",
        "                          title='Confusion matrix of VGG1',\n",
        "                          cmap=plt.cm.Blues):\n",
        "    \"\"\"\n",
        "    This function prints and plots the confusion matrix.\n",
        "    Normalization can be applied by setting `normalize=True`.\n",
        "    \"\"\"\n",
        "    plt.imshow(cm, interpolation='nearest', cmap=cmap)\n",
        "    plt.title(title)\n",
        "    plt.colorbar()\n",
        "    tick_marks = np.arange(len(classes))\n",
        "    plt.xticks(tick_marks, classes, rotation=45)\n",
        "    plt.yticks(tick_marks, classes)\n",
        "\n",
        "    if normalize:\n",
        "        cm = cm.astype('float') / cm.sum(axis=1)[:, np.newaxis]\n",
        "\n",
        "    thresh = cm.max() / 2.\n",
        "    for i, j in itertools.product(range(cm.shape[0]), range(cm.shape[1])):\n",
        "        plt.text(j, i, cm[i, j],\n",
        "                 horizontalalignment=\"center\",\n",
        "                 color=\"white\" if cm[i, j] > thresh else \"black\")\n",
        "\n",
        "    plt.tight_layout()\n",
        "    plt.ylabel('True label')\n",
        "    plt.xlabel('Predicted label')\n",
        "\n",
        "# Predict the values from the validation dataset\n",
        "y_pred = model1.predict(X_test)\n",
        "# Convert predictions classes to one hot vectors \n",
        "y_pred_classes = np.argmax(y_pred,axis = 1) \n",
        "# Convert validation observations to one hot vectors\n",
        "y_true = np.argmax(Y_test,axis = 1) \n",
        "# compute the confusion matrix\n",
        "confusion_mtx = confusion_matrix(y_true, y_pred_classes) \n",
        "# plot the confusion matrix\n",
        "plot_confusion_matrix(confusion_mtx, classes = range(3))"
      ],
      "id": "w0kTVsvrNrPa",
      "execution_count": null,
      "outputs": [
        {
          "output_type": "display_data",
          "data": {
            "image/png": "[encoded data removed]",
            "text/plain": [
              "<Figure size 432x288 with 2 Axes>"
            ]
          },
          "metadata": {
            "tags": [],
            "needs_background": "light"
          }
        }
      ]
    },
    {
      "cell_type": "code",
      "metadata": {
        "colab": {
          "base_uri": "https://localhost:8080/",
          "height": 561
        },
        "id": "GKjkUk6qR0sQ",
        "outputId": "8ebcbb48-522b-4184-c45c-6b67ff75b0dd"
      },
      "source": [
        "# Retrieve a list of accuracy results on training and test data\n",
        "# sets for each training epoch\n",
        "acc = history1.history['acc']\n",
        "val_acc = history1.history['val_acc']\n",
        "\n",
        "# Retrieve a list of list results on training and test data\n",
        "# sets for each training epoch\n",
        "loss = history1.history['loss']\n",
        "val_loss = history1.history['val_loss']\n",
        "\n",
        "# Get number of epochs\n",
        "epochs = range(len(acc))\n",
        "\n",
        "# Plot training and validation accuracy per epoch\n",
        "plt.plot(epochs, acc, label = \"training\")\n",
        "plt.plot(epochs, val_acc, label = \"validation\")\n",
        "plt.legend(loc=\"upper left\")\n",
        "plt.title('Training and validation accuracy')\n",
        "\n",
        "plt.figure()\n",
        "\n",
        "# Plot training and validation loss per epoch\n",
        "plt.plot(epochs, loss, label = \"training\")\n",
        "plt.plot(epochs, val_loss, label = \"validation\")\n",
        "plt.legend(loc=\"upper right\")\n",
        "plt.title('Training and validation loss')"
      ],
      "id": "GKjkUk6qR0sQ",
      "execution_count": null,
      "outputs": [
        {
          "output_type": "execute_result",
          "data": {
            "text/plain": [
              "Text(0.5, 1.0, 'Training and validation loss')"
            ]
          },
          "metadata": {
            "tags": []
          },
          "execution_count": 28
        },
        {
          "output_type": "display_data",
          "data": {
            "image/png": "[encoded data removed]",
            "text/plain": [
              "<Figure size 432x288 with 1 Axes>"
            ]
          },
          "metadata": {
            "tags": [],
            "needs_background": "light"
          }
        },
        {
          "output_type": "display_data",
          "data": {
            "image/png": "[encoded data removed]",
            "text/plain": [
              "<Figure size 432x288 with 1 Axes>"
            ]
          },
          "metadata": {
            "tags": [],
            "needs_background": "light"
          }
        }
      ]
    },
    {
      "cell_type": "code",
      "metadata": {
        "id": "gtFijyo0aJ-8"
      },
      "source": [
        "model1.save(\"MODEL1VGG16.h5\")"
      ],
      "id": "gtFijyo0aJ-8",
      "execution_count": null,
      "outputs": []
    }
  ]
}