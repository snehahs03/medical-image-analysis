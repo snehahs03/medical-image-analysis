{
  "nbformat": 4,
  "nbformat_minor": 5,
  "metadata": {
    "kernelspec": {
      "name": "python3",
      "display_name": "Python 3"
    },
    "colab": {
      "name": "MODEL2Vgg16.ipynb",
      "provenance": [],
      "collapsed_sections": [],
      "include_colab_link": true
    },
    "accelerator": "GPU",
    "language_info": {
      "name": "python"
    }
  },
  "cells": [
    {
      "cell_type": "markdown",
      "metadata": {
        "id": "view-in-github",
        "colab_type": "text"
      },
      "source": [
        "<a href=\"https://colab.research.google.com/github/snehahs03/medical-image-analysis/blob/main/MODEL2Vgg16.ipynb\" target=\"_parent\"><img src=\"https://colab.research.google.com/assets/colab-badge.svg\" alt=\"Open In Colab\"/></a>"
      ]
    },
    {
      "cell_type": "code",
      "metadata": {
        "colab": {
          "base_uri": "https://localhost:8080/"
        },
        "id": "H-lDRiiwQavC",
        "outputId": "ab990e11-f8ae-4188-db3e-6a753f18c701"
      },
      "source": [
        "!git clone https://github.com/snehahs03/medical-image-analysis.git"
      ],
      "id": "H-lDRiiwQavC",
      "execution_count": null,
      "outputs": [
        {
          "output_type": "stream",
          "text": [
            "Cloning into 'medical-image-analysis'...\n",
            "remote: Enumerating objects: 3825, done.\u001b[K\n",
            "remote: Counting objects: 100% (62/62), done.\u001b[K\n",
            "remote: Compressing objects: 100% (61/61), done.\u001b[K\n",
            "remote: Total 3825 (delta 32), reused 0 (delta 0), pack-reused 3763\u001b[K\n",
            "Receiving objects: 100% (3825/3825), 337.41 MiB | 40.53 MiB/s, done.\n",
            "Resolving deltas: 100% (43/43), done.\n",
            "Checking out files: 100% (3894/3894), done.\n"
          ],
          "name": "stdout"
        }
      ]
    },
    {
      "cell_type": "code",
      "metadata": {
        "id": "97cfb9c4"
      },
      "source": [
        "import json\n",
        "import math\n",
        "import os\n",
        "import cv2\n",
        "from PIL import Image\n",
        "import numpy as np\n",
        "from keras import layers\n",
        "from keras.callbacks import Callback, ModelCheckpoint, ReduceLROnPlateau, TensorBoard\n",
        "from keras.models import Model\n",
        "from keras.preprocessing.image import ImageDataGenerator\n",
        "from keras.utils.np_utils import to_categorical\n",
        "from keras.models import Sequential\n",
        "from keras.optimizers import Adam\n",
        "import matplotlib.pyplot as plt\n",
        "import pandas as pd\n",
        "from sklearn.model_selection import train_test_split\n",
        "from sklearn.metrics import cohen_kappa_score, accuracy_score\n",
        "import scipy\n",
        "import tensorflow as tf\n",
        "from keras import backend as K\n",
        "import gc\n",
        "from functools import partial\n",
        "from tqdm import tqdm\n",
        "from sklearn import metrics\n",
        "from collections import Counter\n",
        "import itertools\n",
        "from keras.applications.vgg16 import VGG16, preprocess_input\n",
        "from keras.callbacks import ModelCheckpoint, EarlyStopping\n",
        "from keras.layers import Dense, Dropout, Flatten\n",
        "from keras.layers import Input, Lambda, Dense, Flatten\n",
        "from keras.preprocessing import image\n",
        "from glob import glob"
      ],
      "id": "97cfb9c4",
      "execution_count": null,
      "outputs": []
    },
    {
      "cell_type": "code",
      "metadata": {
        "id": "53fc4864"
      },
      "source": [
        "def Dataset_loader(DIR, RESIZE, sigmaX=10):\n",
        "    IMG = []\n",
        "    read = lambda imname: np.asarray(Image.open(imname).convert(\"RGB\"))\n",
        "    for IMAGE_NAME in tqdm(os.listdir(DIR)):\n",
        "        PATH = os.path.join(DIR,IMAGE_NAME)\n",
        "        _, ftype = os.path.splitext(PATH)\n",
        "        if ftype == \".jpg\":\n",
        "            img = read(PATH)\n",
        "           \n",
        "            img = cv2.resize(img, (RESIZE,RESIZE))\n",
        "           \n",
        "            IMG.append(np.array(img))\n",
        "    return IMG"
      ],
      "id": "53fc4864",
      "execution_count": null,
      "outputs": []
    },
    {
      "cell_type": "code",
      "metadata": {
        "colab": {
          "base_uri": "https://localhost:8080/"
        },
        "id": "675f14ba",
        "outputId": "91066484-9378-4166-db09-835fb6e20b69"
      },
      "source": [
        "eczema_train = np.array(Dataset_loader(\"/content/medical-image-analysis/train/Eczema Photos\", 224))\n",
        "melanoma_train = np.array(Dataset_loader(\"/content/medical-image-analysis/train/Melanoma Skin Cancer Nevi and Moles\",224))\n",
        "psoriasis_train = np.array(Dataset_loader(\"/content/medical-image-analysis/train/Psoriasis pictures Lichen Planus and related diseases\",224))\n",
        "eczema_test = np.array(Dataset_loader(\"/content/medical-image-analysis/test/Eczema Photos\",224))\n",
        "melonoma_test = np.array(Dataset_loader(\"/content/medical-image-analysis/test/Melanoma Skin Cancer Nevi and Moles\",224))\n",
        "psoriasis_test = np.array(Dataset_loader(\"/content/medical-image-analysis/test/Psoriasis pictures Lichen Planus and related diseases\", 224))\n"
      ],
      "id": "675f14ba",
      "execution_count": null,
      "outputs": [
        {
          "output_type": "stream",
          "text": [
            "100%|██████████| 1235/1235 [00:07<00:00, 158.29it/s]\n",
            "100%|██████████| 463/463 [00:02<00:00, 158.24it/s]\n",
            "100%|██████████| 1405/1405 [00:08<00:00, 158.22it/s]\n",
            "100%|██████████| 309/309 [00:02<00:00, 153.84it/s]\n",
            "100%|██████████| 116/116 [00:00<00:00, 154.75it/s]\n",
            "100%|██████████| 352/352 [00:02<00:00, 158.86it/s]\n"
          ],
          "name": "stderr"
        }
      ]
    },
    {
      "cell_type": "code",
      "metadata": {
        "id": "e38c2004"
      },
      "source": [
        "#labelling \n",
        "eczema_train_label = np.full(len(eczema_train),0)\n",
        "melonoma_train_label = np.full(len(melanoma_train),1)\n",
        "psoriasis_train_label = np.full(len(psoriasis_train),2)\n",
        "eczema_test_label = np.full(len(eczema_test),0)\n",
        "melonoma_test_label = np.full(len(melonoma_test),1)\n",
        "psoriasis_test_label = np.full(len(psoriasis_test),2)"
      ],
      "id": "e38c2004",
      "execution_count": null,
      "outputs": []
    },
    {
      "cell_type": "code",
      "metadata": {
        "colab": {
          "base_uri": "https://localhost:8080/"
        },
        "id": "2e4abed4",
        "outputId": "60992a52-ca27-47ec-89a7-5600386f86dc"
      },
      "source": [
        "X_train = np.concatenate((eczema_train, melanoma_train, psoriasis_train), axis=0)\n",
        "Y_train = np.concatenate((eczema_train_label, melonoma_train_label, psoriasis_train_label), axis=0)\n",
        "X_test = np.concatenate((eczema_test, melonoma_test, psoriasis_test), axis=0)\n",
        "Y_test = np.concatenate((eczema_test_label, melonoma_test_label, psoriasis_test_label), axis = 0)\n",
        "print(Y_test.shape)\n",
        "print(X_test.shape)"
      ],
      "id": "2e4abed4",
      "execution_count": null,
      "outputs": [
        {
          "output_type": "stream",
          "text": [
            "(777,)\n",
            "(777, 224, 224, 3)\n"
          ],
          "name": "stdout"
        }
      ]
    },
    {
      "cell_type": "code",
      "metadata": {
        "id": "e40a3bc5"
      },
      "source": [
        "s = np.arange(X_train.shape[0])\n",
        "np.random.shuffle(s)\n",
        "X_train = X_train[s]\n",
        "Y_train = Y_train[s]\n",
        "\n",
        "s = np.arange(X_test.shape[0])\n",
        "np.random.shuffle(s)\n",
        "X_test = X_test[s]\n",
        "Y_test = Y_test[s]\n",
        "\n",
        "Y_train = to_categorical(Y_train, num_classes= 3)\n",
        "Y_test = to_categorical(Y_test, num_classes= 3)\n",
        "\n",
        "#train and evaluation split\n",
        "X_train, X_val, Y_train, Y_val = train_test_split(\n",
        "    X_train, Y_train, \n",
        "    test_size=0.3, \n",
        "    random_state=5\n",
        ")"
      ],
      "id": "e40a3bc5",
      "execution_count": null,
      "outputs": []
    },
    {
      "cell_type": "code",
      "metadata": {
        "colab": {
          "base_uri": "https://localhost:8080/"
        },
        "id": "3e475dfb",
        "outputId": "2e9b4f8e-067e-4e83-91f6-63f4c02b5353"
      },
      "source": [
        "X_train.shape, Y_train.shape"
      ],
      "id": "3e475dfb",
      "execution_count": null,
      "outputs": [
        {
          "output_type": "execute_result",
          "data": {
            "text/plain": [
              "((2172, 224, 224, 3), (2172, 3))"
            ]
          },
          "metadata": {
            "tags": []
          },
          "execution_count": 8
        }
      ]
    },
    {
      "cell_type": "code",
      "metadata": {
        "colab": {
          "base_uri": "https://localhost:8080/"
        },
        "id": "258c8f7f",
        "outputId": "90844a89-d039-46f7-cd84-a559f7b5debc"
      },
      "source": [
        "X_val.shape, Y_val.shape"
      ],
      "id": "258c8f7f",
      "execution_count": null,
      "outputs": [
        {
          "output_type": "execute_result",
          "data": {
            "text/plain": [
              "((931, 224, 224, 3), (931, 3))"
            ]
          },
          "metadata": {
            "tags": []
          },
          "execution_count": 9
        }
      ]
    },
    {
      "cell_type": "code",
      "metadata": {
        "colab": {
          "base_uri": "https://localhost:8080/"
        },
        "id": "8n0EgaD3WWAE",
        "outputId": "f7229d09-c49a-444c-85da-5f9b3e176f6c"
      },
      "source": [
        "X_test.shape, Y_test.shape"
      ],
      "id": "8n0EgaD3WWAE",
      "execution_count": null,
      "outputs": [
        {
          "output_type": "execute_result",
          "data": {
            "text/plain": [
              "((777, 224, 224, 3), (777, 3))"
            ]
          },
          "metadata": {
            "tags": []
          },
          "execution_count": 10
        }
      ]
    },
    {
      "cell_type": "code",
      "metadata": {
        "id": "a67f35b1",
        "colab": {
          "base_uri": "https://localhost:8080/"
        },
        "outputId": "6ea797a0-02c1-462c-f433-a3bfd91cdb41"
      },
      "source": [
        "#load in pretrained model\n",
        "vgg = VGG16(input_shape=(224,224,3), weights='imagenet', include_top=False)\n",
        "for layer in vgg.layers:\n",
        "  print(layer.name)\n",
        "  layer.trainable = False\n",
        "print(len(vgg.layers))"
      ],
      "id": "a67f35b1",
      "execution_count": null,
      "outputs": [
        {
          "output_type": "stream",
          "text": [
            "Downloading data from https://storage.googleapis.com/tensorflow/keras-applications/vgg16/vgg16_weights_tf_dim_ordering_tf_kernels_notop.h5\n",
            "58892288/58889256 [==============================] - 0s 0us/step\n",
            "58900480/58889256 [==============================] - 0s 0us/step\n",
            "input_1\n",
            "block1_conv1\n",
            "block1_conv2\n",
            "block1_pool\n",
            "block2_conv1\n",
            "block2_conv2\n",
            "block2_pool\n",
            "block3_conv1\n",
            "block3_conv2\n",
            "block3_conv3\n",
            "block3_pool\n",
            "block4_conv1\n",
            "block4_conv2\n",
            "block4_conv3\n",
            "block4_pool\n",
            "block5_conv1\n",
            "block5_conv2\n",
            "block5_conv3\n",
            "block5_pool\n",
            "19\n"
          ],
          "name": "stdout"
        }
      ]
    },
    {
      "cell_type": "code",
      "metadata": {
        "id": "a476c740"
      },
      "source": [
        "#adding output layer\n",
        "top_model = vgg.output\n",
        "top_model = Flatten(name=\"flatten\")(top_model)\n",
        "top_model = Dense(4096, activation='relu')(top_model)\n",
        "top_model = Dense(1072, activation='relu')(top_model)\n",
        "top_model = Dropout(0.2)(top_model)\n",
        "output_layer = Dense(3, activation='softmax')(top_model)"
      ],
      "id": "a476c740",
      "execution_count": null,
      "outputs": []
    },
    {
      "cell_type": "code",
      "metadata": {
        "id": "36dbd445"
      },
      "source": [
        "#create a model object\n",
        "model2 = Model(inputs=vgg.input, outputs=output_layer)\n",
        "optimizer = Adam(learning_rate=0.0001, beta_1=0.9, beta_2=0.999, epsilon=None, decay=0.0, amsgrad=True)\n",
        "model2.compile(loss='categorical_crossentropy',\n",
        "              optimizer=optimizer,\n",
        "              metrics=['accuracy'])"
      ],
      "id": "36dbd445",
      "execution_count": null,
      "outputs": []
    },
    {
      "cell_type": "code",
      "metadata": {
        "id": "e6cfee67"
      },
      "source": [
        "#Feature extraction\n",
        "train_datagen = ImageDataGenerator(rotation_range=70, width_shift_range=0.2, height_shift_range=0.2,\n",
        "                                   shear_range=0.2, zoom_range=0.25, fill_mode='nearest')\n",
        "\n",
        "train_datagen.fit(X_train)\n",
        "\n",
        "val_datagen = ImageDataGenerator(rotation_range=70, width_shift_range=0.2, height_shift_range=0.2,\n",
        "                                   shear_range=0.2, zoom_range=0.25, fill_mode='nearest')\n",
        "val_datagen.fit(X_val)"
      ],
      "id": "e6cfee67",
      "execution_count": null,
      "outputs": []
    },
    {
      "cell_type": "code",
      "metadata": {
        "colab": {
          "base_uri": "https://localhost:8080/"
        },
        "id": "ff25ec59",
        "outputId": "409de64e-87db-4bab-b1ae-18208d961fd0"
      },
      "source": [
        "batch_size = 64\n",
        "epochs = 10\n",
        "history = model2.fit(train_datagen.flow(X_train,Y_train, batch_size=batch_size),\n",
        "                              epochs = epochs, validation_data = val_datagen.flow(X_val, Y_val),\n",
        "                              verbose = 1, steps_per_epoch=(X_train.shape[0] // batch_size), \n",
        "                              validation_steps=(X_val.shape[0] // batch_size))"
      ],
      "id": "ff25ec59",
      "execution_count": null,
      "outputs": [
        {
          "output_type": "stream",
          "text": [
            "Epoch 1/10\n",
            "33/33 [==============================] - 92s 1s/step - loss: 14.8126 - accuracy: 0.4253 - val_loss: 1.8656 - val_accuracy: 0.5558\n",
            "Epoch 2/10\n",
            "33/33 [==============================] - 26s 796ms/step - loss: 1.5768 - accuracy: 0.5710 - val_loss: 1.0797 - val_accuracy: 0.5580\n",
            "Epoch 3/10\n",
            "33/33 [==============================] - 26s 791ms/step - loss: 1.0017 - accuracy: 0.5933 - val_loss: 0.9532 - val_accuracy: 0.6205\n",
            "Epoch 4/10\n",
            "33/33 [==============================] - 26s 792ms/step - loss: 0.8436 - accuracy: 0.6271 - val_loss: 0.9410 - val_accuracy: 0.5692\n",
            "Epoch 5/10\n",
            "33/33 [==============================] - 26s 800ms/step - loss: 0.7696 - accuracy: 0.6485 - val_loss: 0.8121 - val_accuracy: 0.6071\n",
            "Epoch 6/10\n",
            "33/33 [==============================] - 26s 798ms/step - loss: 0.7694 - accuracy: 0.6434 - val_loss: 0.8119 - val_accuracy: 0.6183\n",
            "Epoch 7/10\n",
            "33/33 [==============================] - 26s 793ms/step - loss: 0.7173 - accuracy: 0.6552 - val_loss: 0.8229 - val_accuracy: 0.6406\n",
            "Epoch 8/10\n",
            "33/33 [==============================] - 26s 800ms/step - loss: 0.7089 - accuracy: 0.6794 - val_loss: 0.8111 - val_accuracy: 0.6406\n",
            "Epoch 9/10\n",
            "33/33 [==============================] - 26s 798ms/step - loss: 0.6981 - accuracy: 0.6775 - val_loss: 0.8302 - val_accuracy: 0.6406\n",
            "Epoch 10/10\n",
            "33/33 [==============================] - 26s 798ms/step - loss: 0.6478 - accuracy: 0.7156 - val_loss: 0.7652 - val_accuracy: 0.6406\n"
          ],
          "name": "stdout"
        }
      ]
    },
    {
      "cell_type": "code",
      "metadata": {
        "id": "QsOkx6SEUHc6"
      },
      "source": [
        "#Fine-Tuning \n",
        "for layer in model2.layers[14:]:\n",
        "    layer.trainable = True"
      ],
      "id": "QsOkx6SEUHc6",
      "execution_count": null,
      "outputs": []
    },
    {
      "cell_type": "code",
      "metadata": {
        "id": "T7IJHevMUO5A"
      },
      "source": [
        "optimizer = Adam(learning_rate=0.0001, beta_1=0.9, beta_2=0.999, epsilon=None, decay=0.0, amsgrad=False)\n",
        "model2.compile(loss='categorical_crossentropy',\n",
        "              optimizer=optimizer,\n",
        "              metrics=['acc'])\n",
        "learning_rate_reduction = ReduceLROnPlateau(monitor='val_acc', patience=3, verbose=1, factor=0.5, \n",
        "                                            min_lr=0.000001, cooldown=3)"
      ],
      "id": "T7IJHevMUO5A",
      "execution_count": null,
      "outputs": []
    },
    {
      "cell_type": "code",
      "metadata": {
        "colab": {
          "base_uri": "https://localhost:8080/"
        },
        "id": "PCOpPinVUZRw",
        "outputId": "7bbe8cde-f19f-4b61-a9c4-241861977417"
      },
      "source": [
        "batch_size = 64\n",
        "epochs = 30\n",
        "history2 = model2.fit(train_datagen.flow(X_train,Y_train, batch_size=batch_size),\n",
        "                              epochs = epochs, validation_data = val_datagen.flow(X_val, Y_val),\n",
        "                              verbose = 1, steps_per_epoch=(X_train.shape[0] // batch_size),\n",
        "                              validation_steps=(X_val.shape[0] // batch_size), callbacks=[learning_rate_reduction])"
      ],
      "id": "PCOpPinVUZRw",
      "execution_count": null,
      "outputs": [
        {
          "output_type": "stream",
          "text": [
            "Epoch 1/30\n",
            "33/33 [==============================] - 31s 845ms/step - loss: 1.0108 - acc: 0.5555 - val_loss: 0.8961 - val_acc: 0.5826\n",
            "Epoch 2/30\n",
            "33/33 [==============================] - 27s 813ms/step - loss: 0.7535 - acc: 0.6380 - val_loss: 0.7849 - val_acc: 0.6161\n",
            "Epoch 3/30\n",
            "33/33 [==============================] - 27s 814ms/step - loss: 0.7099 - acc: 0.6610 - val_loss: 0.8222 - val_acc: 0.6116\n",
            "Epoch 4/30\n",
            "33/33 [==============================] - 27s 809ms/step - loss: 0.6936 - acc: 0.6797 - val_loss: 0.7501 - val_acc: 0.6629\n",
            "Epoch 5/30\n",
            "33/33 [==============================] - 27s 811ms/step - loss: 0.6117 - acc: 0.7284 - val_loss: 0.6648 - val_acc: 0.6942\n",
            "Epoch 6/30\n",
            "33/33 [==============================] - 27s 805ms/step - loss: 0.5560 - acc: 0.7433 - val_loss: 0.6928 - val_acc: 0.6897\n",
            "Epoch 7/30\n",
            "33/33 [==============================] - 27s 807ms/step - loss: 0.5535 - acc: 0.7523 - val_loss: 0.6880 - val_acc: 0.7009\n",
            "Epoch 8/30\n",
            "33/33 [==============================] - 27s 808ms/step - loss: 0.4952 - acc: 0.7738 - val_loss: 0.6781 - val_acc: 0.7165\n",
            "Epoch 9/30\n",
            "33/33 [==============================] - 27s 805ms/step - loss: 0.4730 - acc: 0.7982 - val_loss: 0.6066 - val_acc: 0.7411\n",
            "Epoch 10/30\n",
            "33/33 [==============================] - 27s 813ms/step - loss: 0.4342 - acc: 0.8217 - val_loss: 0.8250 - val_acc: 0.6674\n",
            "Epoch 11/30\n",
            "33/33 [==============================] - 27s 811ms/step - loss: 0.4382 - acc: 0.8042 - val_loss: 0.6347 - val_acc: 0.7299\n",
            "Epoch 12/30\n",
            "33/33 [==============================] - 27s 816ms/step - loss: 0.4255 - acc: 0.8214 - val_loss: 0.7147 - val_acc: 0.7054\n",
            "\n",
            "Epoch 00012: ReduceLROnPlateau reducing learning rate to 4.999999873689376e-05.\n",
            "Epoch 13/30\n",
            "33/33 [==============================] - 27s 810ms/step - loss: 0.3413 - acc: 0.8637 - val_loss: 0.6165 - val_acc: 0.7679\n",
            "Epoch 14/30\n",
            "33/33 [==============================] - 27s 815ms/step - loss: 0.3105 - acc: 0.8659 - val_loss: 0.6233 - val_acc: 0.7411\n",
            "Epoch 15/30\n",
            "33/33 [==============================] - 27s 815ms/step - loss: 0.2455 - acc: 0.9000 - val_loss: 0.7414 - val_acc: 0.7188\n",
            "Epoch 16/30\n",
            "33/33 [==============================] - 27s 805ms/step - loss: 0.2480 - acc: 0.8978 - val_loss: 0.6636 - val_acc: 0.7857\n",
            "Epoch 17/30\n",
            "33/33 [==============================] - 27s 812ms/step - loss: 0.2182 - acc: 0.9125 - val_loss: 0.6560 - val_acc: 0.7589\n",
            "Epoch 18/30\n",
            "33/33 [==============================] - 27s 802ms/step - loss: 0.2145 - acc: 0.9075 - val_loss: 0.7876 - val_acc: 0.6964\n",
            "Epoch 19/30\n",
            "33/33 [==============================] - 27s 814ms/step - loss: 0.2474 - acc: 0.9065 - val_loss: 0.7544 - val_acc: 0.7522\n",
            "\n",
            "Epoch 00019: ReduceLROnPlateau reducing learning rate to 2.499999936844688e-05.\n",
            "Epoch 20/30\n",
            "33/33 [==============================] - 27s 808ms/step - loss: 0.2062 - acc: 0.9148 - val_loss: 0.6380 - val_acc: 0.7634\n",
            "Epoch 21/30\n",
            "33/33 [==============================] - 27s 807ms/step - loss: 0.2102 - acc: 0.9183 - val_loss: 0.6124 - val_acc: 0.7812\n",
            "Epoch 22/30\n",
            "33/33 [==============================] - 27s 805ms/step - loss: 0.1583 - acc: 0.9339 - val_loss: 0.7024 - val_acc: 0.7946\n",
            "Epoch 23/30\n",
            "33/33 [==============================] - 27s 806ms/step - loss: 0.1522 - acc: 0.9404 - val_loss: 0.6784 - val_acc: 0.7790\n",
            "Epoch 24/30\n",
            "33/33 [==============================] - 27s 810ms/step - loss: 0.1587 - acc: 0.9343 - val_loss: 0.6442 - val_acc: 0.8036\n",
            "Epoch 25/30\n",
            "33/33 [==============================] - 27s 803ms/step - loss: 0.1393 - acc: 0.9386 - val_loss: 0.6879 - val_acc: 0.7634\n",
            "Epoch 26/30\n",
            "33/33 [==============================] - 27s 809ms/step - loss: 0.1155 - acc: 0.9598 - val_loss: 0.7764 - val_acc: 0.7879\n",
            "Epoch 27/30\n",
            "33/33 [==============================] - 26s 800ms/step - loss: 0.1173 - acc: 0.9533 - val_loss: 0.8043 - val_acc: 0.7522\n",
            "\n",
            "Epoch 00027: ReduceLROnPlateau reducing learning rate to 1.249999968422344e-05.\n",
            "Epoch 28/30\n",
            "33/33 [==============================] - 27s 806ms/step - loss: 0.0954 - acc: 0.9570 - val_loss: 0.9290 - val_acc: 0.7679\n",
            "Epoch 29/30\n",
            "33/33 [==============================] - 27s 805ms/step - loss: 0.1059 - acc: 0.9668 - val_loss: 0.7565 - val_acc: 0.7612\n",
            "Epoch 30/30\n",
            "33/33 [==============================] - 26s 797ms/step - loss: 0.1044 - acc: 0.9605 - val_loss: 0.7849 - val_acc: 0.7746\n"
          ],
          "name": "stdout"
        }
      ]
    },
    {
      "cell_type": "code",
      "metadata": {
        "colab": {
          "base_uri": "https://localhost:8080/"
        },
        "id": "ukqaa2m3RajB",
        "outputId": "c0d10340-1cb6-4e8f-a1c2-8975cdaac97a"
      },
      "source": [
        "loss_val, acc_val = model2.evaluate(X_val, Y_val, verbose=1)\n",
        "print(\"Validation: accuracy = %f  ;  loss_v = %f\" % (acc_val, loss_val))"
      ],
      "id": "ukqaa2m3RajB",
      "execution_count": null,
      "outputs": [
        {
          "output_type": "stream",
          "text": [
            "30/30 [==============================] - 6s 169ms/step - loss: 0.9061 - acc: 0.7895\n",
            "Validation: accuracy = 0.789474  ;  loss_v = 0.906142\n"
          ],
          "name": "stdout"
        }
      ]
    },
    {
      "cell_type": "code",
      "metadata": {
        "colab": {
          "base_uri": "https://localhost:8080/"
        },
        "id": "QGBbAEIwK8Ll",
        "outputId": "a6f6605c-8efc-4a91-8b6e-cc8ed6ceb405"
      },
      "source": [
        "from google.colab import drive\n",
        "drive.mount('/content/drive')"
      ],
      "id": "QGBbAEIwK8Ll",
      "execution_count": null,
      "outputs": [
        {
          "output_type": "stream",
          "text": [
            "Mounted at /content/drive\n"
          ],
          "name": "stdout"
        }
      ]
    },
    {
      "cell_type": "code",
      "metadata": {
        "id": "ob3WHaSPZbCg",
        "colab": {
          "base_uri": "https://localhost:8080/"
        },
        "outputId": "0428a527-d1a7-42f0-fd3c-10ccb92dd206"
      },
      "source": [
        "%cd drive"
      ],
      "id": "ob3WHaSPZbCg",
      "execution_count": null,
      "outputs": [
        {
          "output_type": "stream",
          "text": [
            "/content/drive\n"
          ],
          "name": "stdout"
        }
      ]
    },
    {
      "cell_type": "code",
      "metadata": {
        "id": "EX5b_tcKZfv4",
        "colab": {
          "base_uri": "https://localhost:8080/"
        },
        "outputId": "87282dbc-1513-4637-8c3b-455e29c2d5cc"
      },
      "source": [
        "%cd MyDrive"
      ],
      "id": "EX5b_tcKZfv4",
      "execution_count": null,
      "outputs": [
        {
          "output_type": "stream",
          "text": [
            "/content/drive/MyDrive\n"
          ],
          "name": "stdout"
        }
      ]
    },
    {
      "cell_type": "code",
      "metadata": {
        "id": "qJq6NsCQZjCQ",
        "colab": {
          "base_uri": "https://localhost:8080/"
        },
        "outputId": "72dd64cd-519a-4978-e5b3-614386b7fce6"
      },
      "source": [
        "%cd medical-image-analysis"
      ],
      "id": "qJq6NsCQZjCQ",
      "execution_count": null,
      "outputs": [
        {
          "output_type": "stream",
          "text": [
            "/content/drive/MyDrive/medical-image-analysis\n"
          ],
          "name": "stdout"
        }
      ]
    },
    {
      "cell_type": "code",
      "metadata": {
        "id": "vlcUJWYsY8qA"
      },
      "source": [
        "np.save('his2_VGG16.npy',history2.history)"
      ],
      "id": "vlcUJWYsY8qA",
      "execution_count": null,
      "outputs": []
    },
    {
      "cell_type": "markdown",
      "metadata": {
        "id": "4r8uQdfZRtsA"
      },
      "source": [
        "TESTING1\n"
      ],
      "id": "4r8uQdfZRtsA"
    },
    {
      "cell_type": "code",
      "metadata": {
        "colab": {
          "base_uri": "https://localhost:8080/"
        },
        "id": "vT8XWX1IRx3X",
        "outputId": "964f6642-7e3d-47a8-c41b-97ba06c4a68f"
      },
      "source": [
        "loss_test, acc_test = model2.evaluate(X_test, Y_test, verbose=1)\n",
        "print(\"Test: accuracy = %f  ;  loss = %f\" % (acc_test, loss_test))"
      ],
      "id": "vT8XWX1IRx3X",
      "execution_count": null,
      "outputs": [
        {
          "output_type": "stream",
          "text": [
            "25/25 [==============================] - 5s 217ms/step - loss: 0.8308 - acc: 0.8108\n",
            "Test: accuracy = 0.810811  ;  loss = 0.830809\n"
          ],
          "name": "stdout"
        }
      ]
    },
    {
      "cell_type": "code",
      "metadata": {
        "id": "90pTvIqEYJRJ",
        "colab": {
          "base_uri": "https://localhost:8080/",
          "height": 311
        },
        "outputId": "7fa449a9-03fb-452d-8ba0-9244e4be54f4"
      },
      "source": [
        "from sklearn.metrics import confusion_matrix\n",
        "import itertools\n",
        "def plot_confusion_matrix(cm, classes,\n",
        "                          normalize=False,\n",
        "                          title='Confusion matrix of VGG2',\n",
        "                          cmap=plt.cm.Blues):\n",
        "    \"\"\"\n",
        "    This function prints and plots the confusion matrix.\n",
        "    Normalization can be applied by setting `normalize=True`.\n",
        "    \"\"\"\n",
        "    plt.imshow(cm, interpolation='nearest', cmap=cmap)\n",
        "    plt.title(title)\n",
        "    plt.colorbar()\n",
        "    tick_marks = np.arange(len(classes))\n",
        "    plt.xticks(tick_marks, classes, rotation=45)\n",
        "    plt.yticks(tick_marks, classes)\n",
        "\n",
        "    if normalize:\n",
        "        cm = cm.astype('float') / cm.sum(axis=1)[:, np.newaxis]\n",
        "\n",
        "    thresh = cm.max() / 2.\n",
        "    for i, j in itertools.product(range(cm.shape[0]), range(cm.shape[1])):\n",
        "        plt.text(j, i, cm[i, j],\n",
        "                 horizontalalignment=\"center\",\n",
        "                 color=\"white\" if cm[i, j] > thresh else \"black\")\n",
        "\n",
        "    plt.tight_layout()\n",
        "    plt.ylabel('True label')\n",
        "    plt.xlabel('Predicted label')\n",
        "\n",
        "# Predict the values from the validation dataset\n",
        "y_pred = model2.predict(X_test)\n",
        "# Convert predictions classes to one hot vectors \n",
        "y_pred_classes = np.argmax(y_pred,axis = 1) \n",
        "# Convert validation observations to one hot vectors\n",
        "y_true = np.argmax(Y_test,axis = 1) \n",
        "# compute the confusion matrix\n",
        "confusion_mtx = confusion_matrix(y_true, y_pred_classes) \n",
        "# plot the confusion matrix\n",
        "plot_confusion_matrix(confusion_mtx, classes = range(3))"
      ],
      "id": "90pTvIqEYJRJ",
      "execution_count": null,
      "outputs": [
        {
          "output_type": "display_data",
          "data": {
            "image/png": "[encoded data removed]",
            "text/plain": [
              "<Figure size 432x288 with 2 Axes>"
            ]
          },
          "metadata": {
            "tags": [],
            "needs_background": "light"
          }
        }
      ]
    },
    {
      "cell_type": "code",
      "metadata": {
        "colab": {
          "base_uri": "https://localhost:8080/",
          "height": 561
        },
        "id": "GKjkUk6qR0sQ",
        "outputId": "4ad69dc0-9df0-4065-c913-643b581e0beb"
      },
      "source": [
        "# Retrieve a list of accuracy results on training and test data\n",
        "# sets for each training epoch\n",
        "acc = history2.history['acc']\n",
        "val_acc = history2.history['val_acc']\n",
        "\n",
        "# Retrieve a list of list results on training and test data\n",
        "# sets for each training epoch\n",
        "loss = history2.history['loss']\n",
        "val_loss = history2.history['val_loss']\n",
        "\n",
        "# Get number of epochs\n",
        "epochs = range(len(acc))\n",
        "\n",
        "# Plot training and validation accuracy per epoch\n",
        "plt.plot(epochs, acc, label = \"training\")\n",
        "plt.plot(epochs, val_acc, label = \"validation\")\n",
        "plt.legend(loc=\"upper left\")\n",
        "plt.title('Training and validation accuracy')\n",
        "\n",
        "plt.figure()\n",
        "\n",
        "# Plot training and validation loss per epoch\n",
        "plt.plot(epochs, loss, label = \"training\")\n",
        "plt.plot(epochs, val_loss, label = \"validation\")\n",
        "plt.legend(loc=\"upper right\")\n",
        "plt.title('Training and validation loss')"
      ],
      "id": "GKjkUk6qR0sQ",
      "execution_count": null,
      "outputs": [
        {
          "output_type": "execute_result",
          "data": {
            "text/plain": [
              "Text(0.5, 1.0, 'Training and validation loss')"
            ]
          },
          "metadata": {
            "tags": []
          },
          "execution_count": 27
        },
        {
          "output_type": "display_data",
          "data": {
            "image/png": "[encoded data removed]",
            "text/plain": [
              "<Figure size 432x288 with 1 Axes>"
            ]
          },
          "metadata": {
            "tags": [],
            "needs_background": "light"
          }
        },
        {
          "output_type": "display_data",
          "data": {
            "image/png": "[encoded data removed]",
            "text/plain": [
              "<Figure size 432x288 with 1 Axes>"
            ]
          },
          "metadata": {
            "tags": [],
            "needs_background": "light"
          }
        }
      ]
    },
    {
      "cell_type": "code",
      "metadata": {
        "id": "YfSKt0QWTeFC"
      },
      "source": [
        "model2.save(\"MODEL2VGG16.h5\")"
      ],
      "id": "YfSKt0QWTeFC",
      "execution_count": null,
      "outputs": []
    }
  ]
}