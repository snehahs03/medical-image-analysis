{
  "nbformat": 4,
  "nbformat_minor": 5,
  "metadata": {
    "kernelspec": {
      "name": "python3",
      "display_name": "Python 3"
    },
    "colab": {
      "name": "MODEL3Vgg16.ipynb",
      "provenance": [],
      "collapsed_sections": [],
      "include_colab_link": true
    },
    "accelerator": "GPU",
    "language_info": {
      "name": "python"
    }
  },
  "cells": [
    {
      "cell_type": "markdown",
      "metadata": {
        "id": "view-in-github",
        "colab_type": "text"
      },
      "source": [
        "<a href=\"https://colab.research.google.com/github/snehahs03/medical-image-analysis/blob/main/MODEL3Vgg16.ipynb\" target=\"_parent\"><img src=\"https://colab.research.google.com/assets/colab-badge.svg\" alt=\"Open In Colab\"/></a>"
      ]
    },
    {
      "cell_type": "code",
      "metadata": {
        "colab": {
          "base_uri": "https://localhost:8080/"
        },
        "id": "H-lDRiiwQavC",
        "outputId": "7f4c4fa8-3167-4d24-fb31-b6cf2859806c"
      },
      "source": [
        "!git clone https://github.com/snehahs03/medical-image-analysis.git"
      ],
      "id": "H-lDRiiwQavC",
      "execution_count": 1,
      "outputs": [
        {
          "output_type": "stream",
          "text": [
            "Cloning into 'medical-image-analysis'...\n",
            "remote: Enumerating objects: 3831, done.\u001b[K\n",
            "remote: Counting objects: 100% (68/68), done.\u001b[K\n",
            "remote: Compressing objects: 100% (67/67), done.\u001b[K\n",
            "remote: Total 3831 (delta 36), reused 0 (delta 0), pack-reused 3763\u001b[K\n",
            "Receiving objects: 100% (3831/3831), 337.47 MiB | 41.13 MiB/s, done.\n",
            "Resolving deltas: 100% (47/47), done.\n",
            "Checking out files: 100% (3896/3896), done.\n"
          ],
          "name": "stdout"
        }
      ]
    },
    {
      "cell_type": "code",
      "metadata": {
        "id": "97cfb9c4"
      },
      "source": [
        "import json\n",
        "import math\n",
        "import os\n",
        "import cv2\n",
        "from PIL import Image\n",
        "import numpy as np\n",
        "from keras import layers\n",
        "from keras.callbacks import Callback, ModelCheckpoint, ReduceLROnPlateau, TensorBoard\n",
        "from keras.models import Model\n",
        "from keras.preprocessing.image import ImageDataGenerator\n",
        "from keras.utils.np_utils import to_categorical\n",
        "from keras.models import Sequential\n",
        "from keras.optimizers import Adam\n",
        "import matplotlib.pyplot as plt\n",
        "import pandas as pd\n",
        "from sklearn.model_selection import train_test_split\n",
        "from sklearn.metrics import cohen_kappa_score, accuracy_score\n",
        "import scipy\n",
        "import tensorflow as tf\n",
        "from keras import backend as K\n",
        "import gc\n",
        "from functools import partial\n",
        "from tqdm import tqdm\n",
        "from sklearn import metrics\n",
        "from collections import Counter\n",
        "import itertools\n",
        "from keras.applications.vgg16 import VGG16, preprocess_input\n",
        "from keras.callbacks import ModelCheckpoint, EarlyStopping\n",
        "from keras.layers import Dense, Dropout, Flatten\n",
        "from keras.layers import Input, Lambda, Dense, Flatten\n",
        "from keras.preprocessing import image\n",
        "from glob import glob"
      ],
      "id": "97cfb9c4",
      "execution_count": 2,
      "outputs": []
    },
    {
      "cell_type": "code",
      "metadata": {
        "id": "53fc4864"
      },
      "source": [
        "def Dataset_loader(DIR, RESIZE, sigmaX=10):\n",
        "    IMG = []\n",
        "    read = lambda imname: np.asarray(Image.open(imname).convert(\"RGB\"))\n",
        "    for IMAGE_NAME in tqdm(os.listdir(DIR)):\n",
        "        PATH = os.path.join(DIR,IMAGE_NAME)\n",
        "        _, ftype = os.path.splitext(PATH)\n",
        "        if ftype == \".jpg\":\n",
        "            img = read(PATH)\n",
        "           \n",
        "            img = cv2.resize(img, (RESIZE,RESIZE))\n",
        "           \n",
        "            IMG.append(np.array(img))\n",
        "    return IMG"
      ],
      "id": "53fc4864",
      "execution_count": 3,
      "outputs": []
    },
    {
      "cell_type": "code",
      "metadata": {
        "colab": {
          "base_uri": "https://localhost:8080/"
        },
        "id": "675f14ba",
        "outputId": "4a3951b3-3ef4-4af8-b0a7-97b896592a28"
      },
      "source": [
        "eczema_train = np.array(Dataset_loader(\"/content/medical-image-analysis/train/Eczema Photos\", 224))\n",
        "melanoma_train = np.array(Dataset_loader(\"/content/medical-image-analysis/train/Melanoma Skin Cancer Nevi and Moles\",224))\n",
        "psoriasis_train = np.array(Dataset_loader(\"/content/medical-image-analysis/train/Psoriasis pictures Lichen Planus and related diseases\",224))\n",
        "eczema_test = np.array(Dataset_loader(\"/content/medical-image-analysis/test/Eczema Photos\",224))\n",
        "melonoma_test = np.array(Dataset_loader(\"/content/medical-image-analysis/test/Melanoma Skin Cancer Nevi and Moles\",224))\n",
        "psoriasis_test = np.array(Dataset_loader(\"/content/medical-image-analysis/test/Psoriasis pictures Lichen Planus and related diseases\", 224))\n"
      ],
      "id": "675f14ba",
      "execution_count": 4,
      "outputs": [
        {
          "output_type": "stream",
          "text": [
            "100%|██████████| 1235/1235 [00:08<00:00, 145.08it/s]\n",
            "100%|██████████| 463/463 [00:03<00:00, 144.38it/s]\n",
            "100%|██████████| 1405/1405 [00:09<00:00, 145.14it/s]\n",
            "100%|██████████| 309/309 [00:02<00:00, 146.35it/s]\n",
            "100%|██████████| 116/116 [00:00<00:00, 146.39it/s]\n",
            "100%|██████████| 352/352 [00:02<00:00, 149.80it/s]\n"
          ],
          "name": "stderr"
        }
      ]
    },
    {
      "cell_type": "code",
      "metadata": {
        "id": "e38c2004"
      },
      "source": [
        "#labelling \n",
        "eczema_train_label = np.full(len(eczema_train),0)\n",
        "melonoma_train_label = np.full(len(melanoma_train),1)\n",
        "psoriasis_train_label = np.full(len(psoriasis_train),2)\n",
        "eczema_test_label = np.full(len(eczema_test),0)\n",
        "melonoma_test_label = np.full(len(melonoma_test),1)\n",
        "psoriasis_test_label = np.full(len(psoriasis_test),2)"
      ],
      "id": "e38c2004",
      "execution_count": 5,
      "outputs": []
    },
    {
      "cell_type": "code",
      "metadata": {
        "colab": {
          "base_uri": "https://localhost:8080/"
        },
        "id": "2e4abed4",
        "outputId": "8896e4b4-6e2b-4864-9986-52c155a2c34d"
      },
      "source": [
        "X_train = np.concatenate((eczema_train, melanoma_train, psoriasis_train), axis=0)\n",
        "Y_train = np.concatenate((eczema_train_label, melonoma_train_label, psoriasis_train_label), axis=0)\n",
        "X_test = np.concatenate((eczema_test, melonoma_test, psoriasis_test), axis=0)\n",
        "Y_test = np.concatenate((eczema_test_label, melonoma_test_label, psoriasis_test_label), axis = 0)\n",
        "print(Y_test.shape)\n",
        "print(X_test.shape)"
      ],
      "id": "2e4abed4",
      "execution_count": 6,
      "outputs": [
        {
          "output_type": "stream",
          "text": [
            "(777,)\n",
            "(777, 224, 224, 3)\n"
          ],
          "name": "stdout"
        }
      ]
    },
    {
      "cell_type": "code",
      "metadata": {
        "id": "e40a3bc5"
      },
      "source": [
        "s = np.arange(X_train.shape[0])\n",
        "np.random.shuffle(s)\n",
        "X_train = X_train[s]\n",
        "Y_train = Y_train[s]\n",
        "\n",
        "s = np.arange(X_test.shape[0])\n",
        "np.random.shuffle(s)\n",
        "X_test = X_test[s]\n",
        "Y_test = Y_test[s]\n",
        "\n",
        "Y_train = to_categorical(Y_train, num_classes= 3)\n",
        "Y_test = to_categorical(Y_test, num_classes= 3)\n",
        "\n",
        "#train and evaluation split\n",
        "X_train, X_val, Y_train, Y_val = train_test_split(\n",
        "    X_train, Y_train, \n",
        "    test_size=0.3, \n",
        "    random_state=5\n",
        ")"
      ],
      "id": "e40a3bc5",
      "execution_count": 7,
      "outputs": []
    },
    {
      "cell_type": "code",
      "metadata": {
        "colab": {
          "base_uri": "https://localhost:8080/"
        },
        "id": "3e475dfb",
        "outputId": "29ea6a77-2b02-47b7-dd19-5a65e72b0154"
      },
      "source": [
        "X_train.shape, Y_train.shape"
      ],
      "id": "3e475dfb",
      "execution_count": 8,
      "outputs": [
        {
          "output_type": "execute_result",
          "data": {
            "text/plain": [
              "((2172, 224, 224, 3), (2172, 3))"
            ]
          },
          "metadata": {
            "tags": []
          },
          "execution_count": 8
        }
      ]
    },
    {
      "cell_type": "code",
      "metadata": {
        "colab": {
          "base_uri": "https://localhost:8080/"
        },
        "id": "258c8f7f",
        "outputId": "338c5a3c-6f83-4bd9-9775-4453b03c1685"
      },
      "source": [
        "X_val.shape, Y_val.shape"
      ],
      "id": "258c8f7f",
      "execution_count": 9,
      "outputs": [
        {
          "output_type": "execute_result",
          "data": {
            "text/plain": [
              "((931, 224, 224, 3), (931, 3))"
            ]
          },
          "metadata": {
            "tags": []
          },
          "execution_count": 9
        }
      ]
    },
    {
      "cell_type": "code",
      "metadata": {
        "colab": {
          "base_uri": "https://localhost:8080/"
        },
        "id": "8n0EgaD3WWAE",
        "outputId": "d3b99578-2d8c-4e56-bc1c-5bc0128f2b9f"
      },
      "source": [
        "X_test.shape, Y_test.shape"
      ],
      "id": "8n0EgaD3WWAE",
      "execution_count": 10,
      "outputs": [
        {
          "output_type": "execute_result",
          "data": {
            "text/plain": [
              "((777, 224, 224, 3), (777, 3))"
            ]
          },
          "metadata": {
            "tags": []
          },
          "execution_count": 10
        }
      ]
    },
    {
      "cell_type": "code",
      "metadata": {
        "id": "a67f35b1",
        "colab": {
          "base_uri": "https://localhost:8080/"
        },
        "outputId": "aa5e6f25-9584-4f0a-b9a5-afdf6f396931"
      },
      "source": [
        "#load in pretrained model\n",
        "vgg = VGG16(input_shape=(224,224,3), weights='imagenet', include_top=False)\n",
        "for layer in vgg.layers:\n",
        "  print(layer.name)\n",
        "  layer.trainable = False\n",
        "print(len(vgg.layers))"
      ],
      "id": "a67f35b1",
      "execution_count": 11,
      "outputs": [
        {
          "output_type": "stream",
          "text": [
            "Downloading data from https://storage.googleapis.com/tensorflow/keras-applications/vgg16/vgg16_weights_tf_dim_ordering_tf_kernels_notop.h5\n",
            "58892288/58889256 [==============================] - 0s 0us/step\n",
            "58900480/58889256 [==============================] - 0s 0us/step\n",
            "input_1\n",
            "block1_conv1\n",
            "block1_conv2\n",
            "block1_pool\n",
            "block2_conv1\n",
            "block2_conv2\n",
            "block2_pool\n",
            "block3_conv1\n",
            "block3_conv2\n",
            "block3_conv3\n",
            "block3_pool\n",
            "block4_conv1\n",
            "block4_conv2\n",
            "block4_conv3\n",
            "block4_pool\n",
            "block5_conv1\n",
            "block5_conv2\n",
            "block5_conv3\n",
            "block5_pool\n",
            "19\n"
          ],
          "name": "stdout"
        }
      ]
    },
    {
      "cell_type": "code",
      "metadata": {
        "id": "a476c740"
      },
      "source": [
        "#adding output layer\n",
        "top_model = vgg.output\n",
        "top_model = Flatten(name=\"flatten\")(top_model)\n",
        "top_model = Dense(4096, activation='relu')(top_model)\n",
        "top_model = Dense(1072, activation='relu')(top_model)\n",
        "top_model = Dropout(0.2)(top_model)\n",
        "output_layer = Dense(3, activation='softmax')(top_model)"
      ],
      "id": "a476c740",
      "execution_count": 12,
      "outputs": []
    },
    {
      "cell_type": "code",
      "metadata": {
        "id": "36dbd445"
      },
      "source": [
        "#create a model object\n",
        "model3 = Model(inputs=vgg.input, outputs=output_layer)\n",
        "optimizer = Adam(learning_rate=0.0001, beta_1=0.9, beta_2=0.999, epsilon=None, decay=0.0, amsgrad=True)\n",
        "model3.compile(loss='categorical_crossentropy',\n",
        "              optimizer=optimizer,\n",
        "              metrics=['accuracy'])"
      ],
      "id": "36dbd445",
      "execution_count": 13,
      "outputs": []
    },
    {
      "cell_type": "code",
      "metadata": {
        "id": "e6cfee67"
      },
      "source": [
        "#Feature extraction\n",
        "train_datagen = ImageDataGenerator(rotation_range=70, width_shift_range=0.2, height_shift_range=0.2,\n",
        "                                   shear_range=0.2, zoom_range=0.25, fill_mode='nearest')\n",
        "\n",
        "train_datagen.fit(X_train)\n",
        "\n",
        "val_datagen = ImageDataGenerator(rotation_range=70, width_shift_range=0.2, height_shift_range=0.2,\n",
        "                                   shear_range=0.2, zoom_range=0.25, fill_mode='nearest')\n",
        "val_datagen.fit(X_val)"
      ],
      "id": "e6cfee67",
      "execution_count": 14,
      "outputs": []
    },
    {
      "cell_type": "code",
      "metadata": {
        "colab": {
          "base_uri": "https://localhost:8080/"
        },
        "id": "ff25ec59",
        "outputId": "90f8c170-f6ec-4f68-b08a-2e4bd41b05a2"
      },
      "source": [
        "batch_size = 64\n",
        "epochs = 30\n",
        "history0 = model3.fit(train_datagen.flow(X_train,Y_train, batch_size=batch_size),\n",
        "                              epochs = epochs, validation_data = val_datagen.flow(X_val, Y_val),\n",
        "                              verbose = 1, steps_per_epoch=(X_train.shape[0] // batch_size), \n",
        "                              validation_steps=(X_val.shape[0] // batch_size))"
      ],
      "id": "ff25ec59",
      "execution_count": 15,
      "outputs": [
        {
          "output_type": "stream",
          "text": [
            "Epoch 1/30\n",
            "33/33 [==============================] - 93s 1s/step - loss: 8.1113 - accuracy: 0.4661 - val_loss: 2.9510 - val_accuracy: 0.5112\n",
            "Epoch 2/30\n",
            "33/33 [==============================] - 26s 800ms/step - loss: 2.3969 - accuracy: 0.5798 - val_loss: 1.5191 - val_accuracy: 0.5804\n",
            "Epoch 3/30\n",
            "33/33 [==============================] - 27s 803ms/step - loss: 1.5909 - accuracy: 0.5740 - val_loss: 1.1949 - val_accuracy: 0.5871\n",
            "Epoch 4/30\n",
            "33/33 [==============================] - 27s 808ms/step - loss: 1.0186 - accuracy: 0.6159 - val_loss: 1.0157 - val_accuracy: 0.5692\n",
            "Epoch 5/30\n",
            "33/33 [==============================] - 26s 796ms/step - loss: 0.8878 - accuracy: 0.6146 - val_loss: 0.8316 - val_accuracy: 0.6406\n",
            "Epoch 6/30\n",
            "33/33 [==============================] - 26s 798ms/step - loss: 0.8327 - accuracy: 0.6386 - val_loss: 0.8409 - val_accuracy: 0.6071\n",
            "Epoch 7/30\n",
            "33/33 [==============================] - 26s 799ms/step - loss: 0.7669 - accuracy: 0.6561 - val_loss: 0.9280 - val_accuracy: 0.6071\n",
            "Epoch 8/30\n",
            "33/33 [==============================] - 26s 796ms/step - loss: 0.7374 - accuracy: 0.6593 - val_loss: 0.7694 - val_accuracy: 0.6317\n",
            "Epoch 9/30\n",
            "33/33 [==============================] - 26s 799ms/step - loss: 0.6927 - accuracy: 0.6889 - val_loss: 0.8449 - val_accuracy: 0.6138\n",
            "Epoch 10/30\n",
            "33/33 [==============================] - 26s 798ms/step - loss: 0.6659 - accuracy: 0.7031 - val_loss: 0.8294 - val_accuracy: 0.6339\n",
            "Epoch 11/30\n",
            "33/33 [==============================] - 26s 794ms/step - loss: 0.6673 - accuracy: 0.7076 - val_loss: 0.9150 - val_accuracy: 0.5938\n",
            "Epoch 12/30\n",
            "33/33 [==============================] - 26s 802ms/step - loss: 0.6485 - accuracy: 0.7040 - val_loss: 0.8072 - val_accuracy: 0.6674\n",
            "Epoch 13/30\n",
            "33/33 [==============================] - 26s 799ms/step - loss: 0.6479 - accuracy: 0.7040 - val_loss: 0.8632 - val_accuracy: 0.6094\n",
            "Epoch 14/30\n",
            "33/33 [==============================] - 26s 797ms/step - loss: 0.6617 - accuracy: 0.7047 - val_loss: 0.8621 - val_accuracy: 0.6272\n",
            "Epoch 15/30\n",
            "33/33 [==============================] - 27s 804ms/step - loss: 0.6115 - accuracy: 0.7220 - val_loss: 0.7683 - val_accuracy: 0.6496\n",
            "Epoch 16/30\n",
            "33/33 [==============================] - 26s 799ms/step - loss: 0.5909 - accuracy: 0.7418 - val_loss: 0.7093 - val_accuracy: 0.7076\n",
            "Epoch 17/30\n",
            "33/33 [==============================] - 27s 804ms/step - loss: 0.6270 - accuracy: 0.7225 - val_loss: 0.8670 - val_accuracy: 0.6161\n",
            "Epoch 18/30\n",
            "33/33 [==============================] - 26s 798ms/step - loss: 0.6013 - accuracy: 0.7379 - val_loss: 0.7943 - val_accuracy: 0.6607\n",
            "Epoch 19/30\n",
            "33/33 [==============================] - 26s 797ms/step - loss: 0.6063 - accuracy: 0.7435 - val_loss: 0.7912 - val_accuracy: 0.6540\n",
            "Epoch 20/30\n",
            "33/33 [==============================] - 26s 794ms/step - loss: 0.5745 - accuracy: 0.7513 - val_loss: 0.8980 - val_accuracy: 0.6473\n",
            "Epoch 21/30\n",
            "33/33 [==============================] - 26s 794ms/step - loss: 0.5914 - accuracy: 0.7534 - val_loss: 0.7721 - val_accuracy: 0.6451\n",
            "Epoch 22/30\n",
            "33/33 [==============================] - 26s 794ms/step - loss: 0.5251 - accuracy: 0.7720 - val_loss: 0.8274 - val_accuracy: 0.6875\n",
            "Epoch 23/30\n",
            "33/33 [==============================] - 26s 798ms/step - loss: 0.5671 - accuracy: 0.7539 - val_loss: 0.7575 - val_accuracy: 0.6830\n",
            "Epoch 24/30\n",
            "33/33 [==============================] - 26s 802ms/step - loss: 0.5253 - accuracy: 0.7736 - val_loss: 0.7910 - val_accuracy: 0.6741\n",
            "Epoch 25/30\n",
            "33/33 [==============================] - 26s 798ms/step - loss: 0.5394 - accuracy: 0.7561 - val_loss: 0.7559 - val_accuracy: 0.6942\n",
            "Epoch 26/30\n",
            "33/33 [==============================] - 26s 793ms/step - loss: 0.5340 - accuracy: 0.7666 - val_loss: 0.8158 - val_accuracy: 0.6853\n",
            "Epoch 27/30\n",
            "33/33 [==============================] - 26s 797ms/step - loss: 0.4899 - accuracy: 0.7904 - val_loss: 0.8267 - val_accuracy: 0.6830\n",
            "Epoch 28/30\n",
            "33/33 [==============================] - 26s 795ms/step - loss: 0.4977 - accuracy: 0.7782 - val_loss: 0.8214 - val_accuracy: 0.6808\n",
            "Epoch 29/30\n",
            "33/33 [==============================] - 26s 792ms/step - loss: 0.4806 - accuracy: 0.7956 - val_loss: 0.7375 - val_accuracy: 0.6808\n",
            "Epoch 30/30\n",
            "33/33 [==============================] - 26s 791ms/step - loss: 0.4607 - accuracy: 0.7825 - val_loss: 0.8797 - val_accuracy: 0.6741\n"
          ],
          "name": "stdout"
        }
      ]
    },
    {
      "cell_type": "code",
      "metadata": {
        "colab": {
          "base_uri": "https://localhost:8080/"
        },
        "id": "QGBbAEIwK8Ll",
        "outputId": "0c209269-55d8-491b-a6d0-3a283e7ea0a6"
      },
      "source": [
        "from google.colab import drive\n",
        "drive.mount('/content/drive')"
      ],
      "id": "QGBbAEIwK8Ll",
      "execution_count": 16,
      "outputs": [
        {
          "output_type": "stream",
          "text": [
            "Mounted at /content/drive\n"
          ],
          "name": "stdout"
        }
      ]
    },
    {
      "cell_type": "code",
      "metadata": {
        "id": "ob3WHaSPZbCg",
        "colab": {
          "base_uri": "https://localhost:8080/"
        },
        "outputId": "0f3083a6-262f-4bbc-8aca-76ee6c8cd936"
      },
      "source": [
        "%cd drive"
      ],
      "id": "ob3WHaSPZbCg",
      "execution_count": 17,
      "outputs": [
        {
          "output_type": "stream",
          "text": [
            "/content/drive\n"
          ],
          "name": "stdout"
        }
      ]
    },
    {
      "cell_type": "code",
      "metadata": {
        "id": "EX5b_tcKZfv4",
        "colab": {
          "base_uri": "https://localhost:8080/"
        },
        "outputId": "e126bde8-6613-48c6-b5d2-394948c8c0e0"
      },
      "source": [
        "%cd MyDrive"
      ],
      "id": "EX5b_tcKZfv4",
      "execution_count": 18,
      "outputs": [
        {
          "output_type": "stream",
          "text": [
            "/content/drive/MyDrive\n"
          ],
          "name": "stdout"
        }
      ]
    },
    {
      "cell_type": "code",
      "metadata": {
        "id": "qJq6NsCQZjCQ",
        "colab": {
          "base_uri": "https://localhost:8080/"
        },
        "outputId": "e8b6d532-8eae-4caf-d527-58d6b7e4ae5d"
      },
      "source": [
        "%cd medical-image-analysis"
      ],
      "id": "qJq6NsCQZjCQ",
      "execution_count": 19,
      "outputs": [
        {
          "output_type": "stream",
          "text": [
            "/content/drive/MyDrive/medical-image-analysis\n"
          ],
          "name": "stdout"
        }
      ]
    },
    {
      "cell_type": "code",
      "metadata": {
        "id": "b0M0imJNo3Ij"
      },
      "source": [
        "np.save('his0_VGG16.npy',history0.history)"
      ],
      "id": "b0M0imJNo3Ij",
      "execution_count": 20,
      "outputs": []
    },
    {
      "cell_type": "code",
      "metadata": {
        "id": "QsOkx6SEUHc6"
      },
      "source": [
        "#Fine-Tuning \n",
        "for layer in model3.layers[13:]:\n",
        "    layer.trainable = True"
      ],
      "id": "QsOkx6SEUHc6",
      "execution_count": 21,
      "outputs": []
    },
    {
      "cell_type": "code",
      "metadata": {
        "id": "T7IJHevMUO5A"
      },
      "source": [
        "optimizer = Adam(learning_rate=0.0001, beta_1=0.9, beta_2=0.999, epsilon=None, decay=0.0, amsgrad=False)\n",
        "model3.compile(loss='categorical_crossentropy',\n",
        "              optimizer=optimizer,\n",
        "              metrics=['acc'])\n",
        "learning_rate_reduction = ReduceLROnPlateau(monitor='val_acc', patience=3, verbose=1, factor=0.5, \n",
        "                                            min_lr=0.000001, cooldown=3)"
      ],
      "id": "T7IJHevMUO5A",
      "execution_count": 22,
      "outputs": []
    },
    {
      "cell_type": "code",
      "metadata": {
        "colab": {
          "base_uri": "https://localhost:8080/"
        },
        "id": "PCOpPinVUZRw",
        "outputId": "b29d9f5e-59ca-4a60-de88-380604f7414c"
      },
      "source": [
        "batch_size = 64\n",
        "epochs = 30\n",
        "history3 = model3.fit(train_datagen.flow(X_train,Y_train, batch_size=batch_size),\n",
        "                              epochs = epochs, validation_data = val_datagen.flow(X_val, Y_val),\n",
        "                              verbose = 1, steps_per_epoch=(X_train.shape[0] // batch_size),\n",
        "                              validation_steps=(X_val.shape[0] // batch_size), callbacks=[learning_rate_reduction])"
      ],
      "id": "PCOpPinVUZRw",
      "execution_count": 23,
      "outputs": [
        {
          "output_type": "stream",
          "text": [
            "Epoch 1/30\n",
            "33/33 [==============================] - 31s 842ms/step - loss: 0.8900 - acc: 0.6454 - val_loss: 0.7588 - val_acc: 0.6384\n",
            "Epoch 2/30\n",
            "33/33 [==============================] - 27s 822ms/step - loss: 0.7749 - acc: 0.6441 - val_loss: 0.7961 - val_acc: 0.6228\n",
            "Epoch 3/30\n",
            "33/33 [==============================] - 27s 815ms/step - loss: 0.6788 - acc: 0.6992 - val_loss: 0.8234 - val_acc: 0.6473\n",
            "Epoch 4/30\n",
            "33/33 [==============================] - 27s 813ms/step - loss: 0.5696 - acc: 0.7363 - val_loss: 0.7554 - val_acc: 0.6741\n",
            "Epoch 5/30\n",
            "33/33 [==============================] - 27s 814ms/step - loss: 0.5157 - acc: 0.7795 - val_loss: 0.7515 - val_acc: 0.6540\n",
            "Epoch 6/30\n",
            "33/33 [==============================] - 27s 815ms/step - loss: 0.5250 - acc: 0.7822 - val_loss: 0.6914 - val_acc: 0.6875\n",
            "Epoch 7/30\n",
            "33/33 [==============================] - 27s 814ms/step - loss: 0.4532 - acc: 0.8096 - val_loss: 0.7019 - val_acc: 0.7009\n",
            "Epoch 8/30\n",
            "33/33 [==============================] - 27s 818ms/step - loss: 0.4947 - acc: 0.7832 - val_loss: 0.7029 - val_acc: 0.7455\n",
            "Epoch 9/30\n",
            "33/33 [==============================] - 27s 817ms/step - loss: 0.3797 - acc: 0.8370 - val_loss: 0.5977 - val_acc: 0.7790\n",
            "Epoch 10/30\n",
            "33/33 [==============================] - 27s 819ms/step - loss: 0.3628 - acc: 0.8452 - val_loss: 0.7682 - val_acc: 0.7121\n",
            "Epoch 11/30\n",
            "33/33 [==============================] - 27s 819ms/step - loss: 0.3537 - acc: 0.8545 - val_loss: 0.7575 - val_acc: 0.6964\n",
            "Epoch 12/30\n",
            "33/33 [==============================] - 27s 820ms/step - loss: 0.4009 - acc: 0.8273 - val_loss: 0.7223 - val_acc: 0.7210\n",
            "\n",
            "Epoch 00012: ReduceLROnPlateau reducing learning rate to 4.999999873689376e-05.\n",
            "Epoch 13/30\n",
            "33/33 [==============================] - 27s 817ms/step - loss: 0.2918 - acc: 0.8862 - val_loss: 0.6471 - val_acc: 0.7790\n",
            "Epoch 14/30\n",
            "33/33 [==============================] - 27s 820ms/step - loss: 0.2179 - acc: 0.9088 - val_loss: 0.8085 - val_acc: 0.7545\n",
            "Epoch 15/30\n",
            "33/33 [==============================] - 27s 811ms/step - loss: 0.1895 - acc: 0.9249 - val_loss: 0.6387 - val_acc: 0.7656\n",
            "Epoch 16/30\n",
            "33/33 [==============================] - 27s 818ms/step - loss: 0.1809 - acc: 0.9334 - val_loss: 0.8873 - val_acc: 0.7388\n",
            "Epoch 17/30\n",
            "33/33 [==============================] - 27s 816ms/step - loss: 0.1671 - acc: 0.9371 - val_loss: 0.6435 - val_acc: 0.8125\n",
            "Epoch 18/30\n",
            "33/33 [==============================] - 27s 818ms/step - loss: 0.1667 - acc: 0.9333 - val_loss: 0.8133 - val_acc: 0.7902\n",
            "Epoch 19/30\n",
            "33/33 [==============================] - 27s 816ms/step - loss: 0.1321 - acc: 0.9475 - val_loss: 0.6772 - val_acc: 0.8192\n",
            "Epoch 20/30\n",
            "33/33 [==============================] - 27s 813ms/step - loss: 0.1502 - acc: 0.9339 - val_loss: 0.9441 - val_acc: 0.7455\n",
            "Epoch 21/30\n",
            "33/33 [==============================] - 27s 810ms/step - loss: 0.1566 - acc: 0.9452 - val_loss: 0.7441 - val_acc: 0.7924\n",
            "Epoch 22/30\n",
            "33/33 [==============================] - 27s 818ms/step - loss: 0.1075 - acc: 0.9608 - val_loss: 0.6160 - val_acc: 0.8281\n",
            "Epoch 23/30\n",
            "33/33 [==============================] - 27s 816ms/step - loss: 0.1451 - acc: 0.9471 - val_loss: 0.7513 - val_acc: 0.7746\n",
            "Epoch 24/30\n",
            "33/33 [==============================] - 27s 815ms/step - loss: 0.1070 - acc: 0.9608 - val_loss: 0.9339 - val_acc: 0.7812\n",
            "Epoch 25/30\n",
            "33/33 [==============================] - 27s 810ms/step - loss: 0.1530 - acc: 0.9436 - val_loss: 0.6286 - val_acc: 0.7857\n",
            "\n",
            "Epoch 00025: ReduceLROnPlateau reducing learning rate to 2.499999936844688e-05.\n",
            "Epoch 26/30\n",
            "33/33 [==============================] - 27s 808ms/step - loss: 0.0814 - acc: 0.9739 - val_loss: 0.9205 - val_acc: 0.7768\n",
            "Epoch 27/30\n",
            "33/33 [==============================] - 27s 806ms/step - loss: 0.0800 - acc: 0.9757 - val_loss: 0.9646 - val_acc: 0.7969\n",
            "Epoch 28/30\n",
            "33/33 [==============================] - 27s 811ms/step - loss: 0.0713 - acc: 0.9749 - val_loss: 0.9431 - val_acc: 0.7812\n",
            "Epoch 29/30\n",
            "33/33 [==============================] - 27s 811ms/step - loss: 0.0640 - acc: 0.9743 - val_loss: 0.8000 - val_acc: 0.8192\n",
            "Epoch 30/30\n",
            "33/33 [==============================] - 27s 809ms/step - loss: 0.0571 - acc: 0.9822 - val_loss: 0.9190 - val_acc: 0.8147\n",
            "\n",
            "Epoch 00030: ReduceLROnPlateau reducing learning rate to 1.249999968422344e-05.\n"
          ],
          "name": "stdout"
        }
      ]
    },
    {
      "cell_type": "code",
      "metadata": {
        "colab": {
          "base_uri": "https://localhost:8080/"
        },
        "id": "ukqaa2m3RajB",
        "outputId": "6bfac783-0be0-4fa0-d6b0-8e1e4d820fb4"
      },
      "source": [
        "loss_val, acc_val = model3.evaluate(X_val, Y_val, verbose=1)\n",
        "print(\"Validation: accuracy = %f  ;  loss_v = %f\" % (acc_val, loss_val))"
      ],
      "id": "ukqaa2m3RajB",
      "execution_count": 25,
      "outputs": [
        {
          "output_type": "stream",
          "text": [
            "30/30 [==============================] - 5s 159ms/step - loss: 0.9666 - acc: 0.8292\n",
            "Validation: accuracy = 0.829216  ;  loss_v = 0.966561\n"
          ],
          "name": "stdout"
        }
      ]
    },
    {
      "cell_type": "code",
      "metadata": {
        "id": "qZ8na_cxuQZa"
      },
      "source": [
        "np.save('his3_VGG16.npy',history3.history)"
      ],
      "id": "qZ8na_cxuQZa",
      "execution_count": 26,
      "outputs": []
    },
    {
      "cell_type": "markdown",
      "metadata": {
        "id": "4r8uQdfZRtsA"
      },
      "source": [
        "TESTING1\n"
      ],
      "id": "4r8uQdfZRtsA"
    },
    {
      "cell_type": "code",
      "metadata": {
        "colab": {
          "base_uri": "https://localhost:8080/"
        },
        "id": "vT8XWX1IRx3X",
        "outputId": "ced4808f-98ba-40c3-d031-cdea4aa64455"
      },
      "source": [
        "loss_test, acc_test = model3.evaluate(X_test, Y_test, verbose=1)\n",
        "print(\"Test: accuracy = %f  ;  loss = %f\" % (acc_test, loss_test))"
      ],
      "id": "vT8XWX1IRx3X",
      "execution_count": 27,
      "outputs": [
        {
          "output_type": "stream",
          "text": [
            "25/25 [==============================] - 5s 210ms/step - loss: 0.8899 - acc: 0.8134\n",
            "Test: accuracy = 0.813385  ;  loss = 0.889932\n"
          ],
          "name": "stdout"
        }
      ]
    },
    {
      "cell_type": "code",
      "metadata": {
        "id": "90pTvIqEYJRJ",
        "colab": {
          "base_uri": "https://localhost:8080/",
          "height": 311
        },
        "outputId": "e03ec058-aff5-4ad2-ff03-3bc6b7059cba"
      },
      "source": [
        "from sklearn.metrics import confusion_matrix\n",
        "import itertools\n",
        "def plot_confusion_matrix(cm, classes,\n",
        "                          normalize=False,\n",
        "                          title='Confusion matrix of VGG3',\n",
        "                          cmap=plt.cm.Blues):\n",
        "    \"\"\"\n",
        "    This function prints and plots the confusion matrix.\n",
        "    Normalization can be applied by setting `normalize=True`.\n",
        "    \"\"\"\n",
        "    plt.imshow(cm, interpolation='nearest', cmap=cmap)\n",
        "    plt.title(title)\n",
        "    plt.colorbar()\n",
        "    tick_marks = np.arange(len(classes))\n",
        "    plt.xticks(tick_marks, classes, rotation=45)\n",
        "    plt.yticks(tick_marks, classes)\n",
        "\n",
        "    if normalize:\n",
        "        cm = cm.astype('float') / cm.sum(axis=1)[:, np.newaxis]\n",
        "\n",
        "    thresh = cm.max() / 2.\n",
        "    for i, j in itertools.product(range(cm.shape[0]), range(cm.shape[1])):\n",
        "        plt.text(j, i, cm[i, j],\n",
        "                 horizontalalignment=\"center\",\n",
        "                 color=\"white\" if cm[i, j] > thresh else \"black\")\n",
        "\n",
        "    plt.tight_layout()\n",
        "    plt.ylabel('True label')\n",
        "    plt.xlabel('Predicted label')\n",
        "\n",
        "# Predict the values from the validation dataset\n",
        "y_pred = model3.predict(X_test)\n",
        "# Convert predictions classes to one hot vectors \n",
        "y_pred_classes = np.argmax(y_pred,axis = 1) \n",
        "# Convert validation observations to one hot vectors\n",
        "y_true = np.argmax(Y_test,axis = 1) \n",
        "# compute the confusion matrix\n",
        "confusion_mtx = confusion_matrix(y_true, y_pred_classes) \n",
        "# plot the confusion matrix\n",
        "plot_confusion_matrix(confusion_mtx, classes = range(3))"
      ],
      "id": "90pTvIqEYJRJ",
      "execution_count": 28,
      "outputs": [
        {
          "output_type": "display_data",
          "data": {
            "image/png": "[encoded data removed]",
            "text/plain": [
              "<Figure size 432x288 with 2 Axes>"
            ]
          },
          "metadata": {
            "tags": [],
            "needs_background": "light"
          }
        }
      ]
    },
    {
      "cell_type": "code",
      "metadata": {
        "colab": {
          "base_uri": "https://localhost:8080/",
          "height": 561
        },
        "id": "GKjkUk6qR0sQ",
        "outputId": "e57a9f56-fa18-468c-e5c8-8f14e9280486"
      },
      "source": [
        "# Retrieve a list of accuracy results on training and test data\n",
        "# sets for each training epoch\n",
        "acc = history3.history['acc']\n",
        "val_acc = history3.history['val_acc']\n",
        "\n",
        "# Retrieve a list of list results on training and test data\n",
        "# sets for each training epoch\n",
        "loss = history3.history['loss']\n",
        "val_loss = history3.history['val_loss']\n",
        "\n",
        "# Get number of epochs\n",
        "epochs = range(len(acc))\n",
        "\n",
        "# Plot training and validation accuracy per epoch\n",
        "plt.plot(epochs, acc, label = \"training\")\n",
        "plt.plot(epochs, val_acc, label = \"validation\")\n",
        "plt.legend(loc=\"upper left\")\n",
        "plt.title('Training and validation accuracy')\n",
        "\n",
        "plt.figure()\n",
        "\n",
        "# Plot training and validation loss per epoch\n",
        "plt.plot(epochs, loss, label = \"training\")\n",
        "plt.plot(epochs, val_loss, label = \"validation\")\n",
        "plt.legend(loc=\"upper right\")\n",
        "plt.title('Training and validation loss')"
      ],
      "id": "GKjkUk6qR0sQ",
      "execution_count": 29,
      "outputs": [
        {
          "output_type": "execute_result",
          "data": {
            "text/plain": [
              "Text(0.5, 1.0, 'Training and validation loss')"
            ]
          },
          "metadata": {
            "tags": []
          },
          "execution_count": 29
        },
        {
          "output_type": "display_data",
          "data": {
            "image/png": "[encoded data removed]",
            "text/plain": [
              "<Figure size 432x288 with 1 Axes>"
            ]
          },
          "metadata": {
            "tags": [],
            "needs_background": "light"
          }
        },
        {
          "output_type": "display_data",
          "data": {
            "image/png": "[encoded data removed]",
            "text/plain": [
              "<Figure size 432x288 with 1 Axes>"
            ]
          },
          "metadata": {
            "tags": [],
            "needs_background": "light"
          }
        }
      ]
    },
    {
      "cell_type": "code",
      "metadata": {
        "id": "YfSKt0QWTeFC"
      },
      "source": [
        "model3.save(\"MODEL3VGG16.h5\")"
      ],
      "id": "YfSKt0QWTeFC",
      "execution_count": 30,
      "outputs": []
    }
  ]
}