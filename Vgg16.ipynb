{
  "nbformat": 4,
  "nbformat_minor": 5,
  "metadata": {
    "kernelspec": {
      "name": "python3",
      "display_name": "Python 3"
    },
    "colab": {
      "name": "Vgg16.ipynb",
      "provenance": [],
      "collapsed_sections": [],
      "include_colab_link": true
    },
    "accelerator": "GPU",
    "language_info": {
      "name": "python"
    }
  },
  "cells": [
    {
      "cell_type": "markdown",
      "metadata": {
        "id": "view-in-github",
        "colab_type": "text"
      },
      "source": [
        "<a href=\"https://colab.research.google.com/github/snehahs03/medical-image-analysis/blob/main/Vgg16.ipynb\" target=\"_parent\"><img src=\"https://colab.research.google.com/assets/colab-badge.svg\" alt=\"Open In Colab\"/></a>"
      ]
    },
    {
      "cell_type": "code",
      "metadata": {
        "colab": {
          "base_uri": "https://localhost:8080/"
        },
        "id": "H-lDRiiwQavC",
        "outputId": "75791d15-5d7f-4e2f-d7dc-15d10b11e6cf"
      },
      "source": [
        "!git clone https://github.com/snehahs03/medical-image-analysis.git"
      ],
      "id": "H-lDRiiwQavC",
      "execution_count": null,
      "outputs": [
        {
          "output_type": "stream",
          "text": [
            "Cloning into 'medical-image-analysis'...\n",
            "remote: Enumerating objects: 3763, done.\u001b[K\n",
            "remote: Total 3763 (delta 0), reused 0 (delta 0), pack-reused 3763\u001b[K\n",
            "Receiving objects: 100% (3763/3763), 336.87 MiB | 37.47 MiB/s, done.\n",
            "Resolving deltas: 100% (11/11), done.\n",
            "Checking out files: 100% (3889/3889), done.\n"
          ],
          "name": "stdout"
        }
      ]
    },
    {
      "cell_type": "code",
      "metadata": {
        "id": "97cfb9c4"
      },
      "source": [
        "import json\n",
        "import math\n",
        "import os\n",
        "import cv2\n",
        "from PIL import Image\n",
        "import numpy as np\n",
        "from keras import layers\n",
        "from keras.callbacks import Callback, ModelCheckpoint, ReduceLROnPlateau, TensorBoard\n",
        "from keras.models import Model\n",
        "from keras.applications.vgg16 import VGG16, preprocess_input\n",
        "from keras.preprocessing.image import ImageDataGenerator\n",
        "from keras.utils.np_utils import to_categorical\n",
        "from keras.models import Sequential\n",
        "from keras.optimizers import Adam\n",
        "import matplotlib.pyplot as plt\n",
        "import pandas as pd\n",
        "from sklearn.model_selection import train_test_split\n",
        "from sklearn.metrics import cohen_kappa_score, accuracy_score\n",
        "import scipy\n",
        "import tensorflow as tf\n",
        "from keras import backend as K\n",
        "import gc\n",
        "from functools import partial\n",
        "from tqdm import tqdm\n",
        "from sklearn import metrics\n",
        "from collections import Counter\n",
        "import json\n",
        "import itertools\n",
        "from keras.optimizers import Adam\n",
        "from keras.applications.vgg16 import VGG16, preprocess_input\n",
        "from keras.preprocessing.image import ImageDataGenerator\n",
        "from keras.callbacks import ModelCheckpoint, EarlyStopping\n",
        "from keras.layers import Dense, Dropout, Flatten"
      ],
      "id": "97cfb9c4",
      "execution_count": null,
      "outputs": []
    },
    {
      "cell_type": "code",
      "metadata": {
        "id": "53fc4864"
      },
      "source": [
        "def Dataset_loader(DIR, RESIZE, sigmaX=10):\n",
        "    IMG = []\n",
        "    read = lambda imname: np.asarray(Image.open(imname).convert(\"RGB\"))\n",
        "    for IMAGE_NAME in tqdm(os.listdir(DIR)):\n",
        "        PATH = os.path.join(DIR,IMAGE_NAME)\n",
        "        _, ftype = os.path.splitext(PATH)\n",
        "        if ftype == \".jpg\":\n",
        "            img = read(PATH)\n",
        "           \n",
        "            img = cv2.resize(img, (RESIZE,RESIZE))\n",
        "           \n",
        "            IMG.append(np.array(img))\n",
        "    return IMG"
      ],
      "id": "53fc4864",
      "execution_count": null,
      "outputs": []
    },
    {
      "cell_type": "code",
      "metadata": {
        "colab": {
          "base_uri": "https://localhost:8080/"
        },
        "id": "675f14ba",
        "outputId": "95e738b7-3073-4716-d316-3bd5fb7cf796"
      },
      "source": [
        "eczema_train = np.array(Dataset_loader(\"/content/medical-image-analysis/train/Eczema Photos\", 224))\n",
        "melanoma_train = np.array(Dataset_loader(\"/content/medical-image-analysis/train/Melanoma Skin Cancer Nevi and Moles\",224))\n",
        "psoriasis_train = np.array(Dataset_loader(\"/content/medical-image-analysis/train/Psoriasis pictures Lichen Planus and related diseases\",224))\n",
        "eczema_test = np.array(Dataset_loader(\"/content/medical-image-analysis/test/Eczema Photos\",224))\n",
        "melonoma_test = np.array(Dataset_loader(\"/content/medical-image-analysis/test/Melanoma Skin Cancer Nevi and Moles\",224))\n",
        "psoriasis_test = np.array(Dataset_loader(\"/content/medical-image-analysis/test/Psoriasis pictures Lichen Planus and related diseases\", 224))\n"
      ],
      "id": "675f14ba",
      "execution_count": null,
      "outputs": [
        {
          "output_type": "stream",
          "text": [
            "100%|██████████| 1235/1235 [00:07<00:00, 159.43it/s]\n",
            "100%|██████████| 463/463 [00:02<00:00, 159.55it/s]\n",
            "100%|██████████| 1405/1405 [00:08<00:00, 159.24it/s]\n",
            "100%|██████████| 309/309 [00:01<00:00, 158.68it/s]\n",
            "100%|██████████| 116/116 [00:00<00:00, 160.18it/s]\n",
            "100%|██████████| 352/352 [00:02<00:00, 163.71it/s]\n"
          ],
          "name": "stderr"
        }
      ]
    },
    {
      "cell_type": "code",
      "metadata": {
        "id": "e38c2004"
      },
      "source": [
        "#labelling \n",
        "eczema_train_label = np.full(len(eczema_train),0)\n",
        "melonoma_train_label = np.full(len(melanoma_train),1)\n",
        "psoriasis_train_label = np.full(len(psoriasis_train),2)\n",
        "eczema_test_label = np.full(len(eczema_test),0)\n",
        "melonoma_test_label = np.full(len(melonoma_test),1)\n",
        "psoriasis_test_label = np.full(len(psoriasis_test),2)"
      ],
      "id": "e38c2004",
      "execution_count": null,
      "outputs": []
    },
    {
      "cell_type": "code",
      "metadata": {
        "colab": {
          "base_uri": "https://localhost:8080/"
        },
        "id": "2e4abed4",
        "outputId": "9524a4d4-3376-4139-dff4-e94419fa19c5"
      },
      "source": [
        "X_train = np.concatenate((eczema_train, melanoma_train, psoriasis_train), axis=0)\n",
        "Y_train = np.concatenate((eczema_train_label, melonoma_train_label, psoriasis_train_label), axis=0)\n",
        "X_test = np.concatenate((eczema_test, melonoma_test, psoriasis_test), axis=0)\n",
        "Y_test = np.concatenate((eczema_test_label, melonoma_test_label, psoriasis_test_label), axis = 0)\n",
        "print(Y_test.shape)\n",
        "print(X_test.shape)"
      ],
      "id": "2e4abed4",
      "execution_count": null,
      "outputs": [
        {
          "output_type": "stream",
          "text": [
            "(777,)\n",
            "(777, 224, 224, 3)\n"
          ],
          "name": "stdout"
        }
      ]
    },
    {
      "cell_type": "code",
      "metadata": {
        "id": "e40a3bc5"
      },
      "source": [
        "s = np.arange(X_train.shape[0])\n",
        "np.random.shuffle(s)\n",
        "X_train = X_train[s]\n",
        "Y_train = Y_train[s]\n",
        "\n",
        "s = np.arange(X_test.shape[0])\n",
        "np.random.shuffle(s)\n",
        "X_test = X_test[s]\n",
        "Y_test = Y_test[s]\n"
      ],
      "id": "e40a3bc5",
      "execution_count": null,
      "outputs": []
    },
    {
      "cell_type": "code",
      "metadata": {
        "id": "fd29074b"
      },
      "source": [
        "Y_train = to_categorical(Y_train, num_classes= 3)\n",
        "Y_test = to_categorical(Y_test, num_classes= 3)\n",
        "\n",
        "#train and evaluation split\n",
        "X_train, X_val, Y_train, Y_val = train_test_split(\n",
        "    X_train, Y_train, \n",
        "    test_size=0.3, \n",
        "    random_state=5\n",
        ")"
      ],
      "id": "fd29074b",
      "execution_count": null,
      "outputs": []
    },
    {
      "cell_type": "code",
      "metadata": {
        "colab": {
          "base_uri": "https://localhost:8080/"
        },
        "id": "3e475dfb",
        "outputId": "cb638897-fc43-4d7f-a464-896a4debf73a"
      },
      "source": [
        "X_train.shape, Y_train.shape"
      ],
      "id": "3e475dfb",
      "execution_count": null,
      "outputs": [
        {
          "output_type": "execute_result",
          "data": {
            "text/plain": [
              "((2172, 224, 224, 3), (2172, 3))"
            ]
          },
          "metadata": {
            "tags": []
          },
          "execution_count": 9
        }
      ]
    },
    {
      "cell_type": "code",
      "metadata": {
        "colab": {
          "base_uri": "https://localhost:8080/"
        },
        "id": "258c8f7f",
        "outputId": "cad48e33-6239-4a61-fdda-e5b81545c733"
      },
      "source": [
        "X_val.shape, Y_val.shape"
      ],
      "id": "258c8f7f",
      "execution_count": null,
      "outputs": [
        {
          "output_type": "execute_result",
          "data": {
            "text/plain": [
              "((931, 224, 224, 3), (931, 3))"
            ]
          },
          "metadata": {
            "tags": []
          },
          "execution_count": 10
        }
      ]
    },
    {
      "cell_type": "code",
      "metadata": {
        "colab": {
          "base_uri": "https://localhost:8080/"
        },
        "id": "8n0EgaD3WWAE",
        "outputId": "34a6e9ed-5d09-4989-ce18-0f8737989eeb"
      },
      "source": [
        "X_test.shape, Y_test.shape"
      ],
      "id": "8n0EgaD3WWAE",
      "execution_count": null,
      "outputs": [
        {
          "output_type": "execute_result",
          "data": {
            "text/plain": [
              "((777, 224, 224, 3), (777, 3))"
            ]
          },
          "metadata": {
            "tags": []
          },
          "execution_count": 11
        }
      ]
    },
    {
      "cell_type": "code",
      "metadata": {
        "id": "d2e35a7d"
      },
      "source": [
        "from keras.layers import Input, Lambda, Dense, Flatten\n",
        "from keras.applications.vgg16 import VGG16\n",
        "from keras.applications.vgg16 import preprocess_input\n",
        "from keras.preprocessing import image\n",
        "from keras.preprocessing.image import ImageDataGenerator\n",
        "from keras.models import Sequential\n",
        "from glob import glob\n",
        "import matplotlib.pyplot as plt"
      ],
      "id": "d2e35a7d",
      "execution_count": null,
      "outputs": []
    },
    {
      "cell_type": "code",
      "metadata": {
        "id": "a67f35b1",
        "colab": {
          "base_uri": "https://localhost:8080/"
        },
        "outputId": "834b7db2-8841-40cb-a05e-433679f68fab"
      },
      "source": [
        "#load in pretrained model\n",
        "vgg = VGG16(input_shape=(224,224,3), weights='imagenet', include_top=False)"
      ],
      "id": "a67f35b1",
      "execution_count": null,
      "outputs": [
        {
          "output_type": "stream",
          "text": [
            "Downloading data from https://storage.googleapis.com/tensorflow/keras-applications/vgg16/vgg16_weights_tf_dim_ordering_tf_kernels_notop.h5\n",
            "58892288/58889256 [==============================] - 1s 0us/step\n",
            "58900480/58889256 [==============================] - 1s 0us/step\n"
          ],
          "name": "stdout"
        }
      ]
    },
    {
      "cell_type": "code",
      "metadata": {
        "id": "e6020401"
      },
      "source": [
        "for layer in vgg.layers:\n",
        "  layer.trainable = False"
      ],
      "id": "e6020401",
      "execution_count": null,
      "outputs": []
    },
    {
      "cell_type": "code",
      "metadata": {
        "id": "a476c740"
      },
      "source": [
        "#adding output layer\n",
        "top_model = vgg.output\n",
        "top_model = Flatten(name=\"flatten\")(top_model)\n",
        "top_model = Dense(4096, activation='relu')(top_model)\n",
        "top_model = Dense(1072, activation='relu')(top_model)\n",
        "top_model = Dropout(0.2)(top_model)\n",
        "output_layer = Dense(3, activation='softmax')(top_model)"
      ],
      "id": "a476c740",
      "execution_count": null,
      "outputs": []
    },
    {
      "cell_type": "code",
      "metadata": {
        "id": "36dbd445"
      },
      "source": [
        "#create a model object\n",
        "model = Model(inputs=vgg.input, outputs=output_layer)"
      ],
      "id": "36dbd445",
      "execution_count": null,
      "outputs": []
    },
    {
      "cell_type": "code",
      "metadata": {
        "id": "8ac353a6"
      },
      "source": [
        "optimizer = Adam(learning_rate=0.0001, beta_1=0.9, beta_2=0.999, epsilon=None, decay=0.0, amsgrad=True)\n",
        "model.compile(loss='categorical_crossentropy',\n",
        "              optimizer=optimizer,\n",
        "              metrics=['accuracy'])"
      ],
      "id": "8ac353a6",
      "execution_count": null,
      "outputs": []
    },
    {
      "cell_type": "code",
      "metadata": {
        "colab": {
          "base_uri": "https://localhost:8080/"
        },
        "id": "37ecff1a",
        "outputId": "44776f71-a240-46ad-affe-1e51ecfc4a43"
      },
      "source": [
        "model.summary()"
      ],
      "id": "37ecff1a",
      "execution_count": null,
      "outputs": [
        {
          "output_type": "stream",
          "text": [
            "Model: \"model\"\n",
            "_________________________________________________________________\n",
            "Layer (type)                 Output Shape              Param #   \n",
            "=================================================================\n",
            "input_1 (InputLayer)         [(None, 224, 224, 3)]     0         \n",
            "_________________________________________________________________\n",
            "block1_conv1 (Conv2D)        (None, 224, 224, 64)      1792      \n",
            "_________________________________________________________________\n",
            "block1_conv2 (Conv2D)        (None, 224, 224, 64)      36928     \n",
            "_________________________________________________________________\n",
            "block1_pool (MaxPooling2D)   (None, 112, 112, 64)      0         \n",
            "_________________________________________________________________\n",
            "block2_conv1 (Conv2D)        (None, 112, 112, 128)     73856     \n",
            "_________________________________________________________________\n",
            "block2_conv2 (Conv2D)        (None, 112, 112, 128)     147584    \n",
            "_________________________________________________________________\n",
            "block2_pool (MaxPooling2D)   (None, 56, 56, 128)       0         \n",
            "_________________________________________________________________\n",
            "block3_conv1 (Conv2D)        (None, 56, 56, 256)       295168    \n",
            "_________________________________________________________________\n",
            "block3_conv2 (Conv2D)        (None, 56, 56, 256)       590080    \n",
            "_________________________________________________________________\n",
            "block3_conv3 (Conv2D)        (None, 56, 56, 256)       590080    \n",
            "_________________________________________________________________\n",
            "block3_pool (MaxPooling2D)   (None, 28, 28, 256)       0         \n",
            "_________________________________________________________________\n",
            "block4_conv1 (Conv2D)        (None, 28, 28, 512)       1180160   \n",
            "_________________________________________________________________\n",
            "block4_conv2 (Conv2D)        (None, 28, 28, 512)       2359808   \n",
            "_________________________________________________________________\n",
            "block4_conv3 (Conv2D)        (None, 28, 28, 512)       2359808   \n",
            "_________________________________________________________________\n",
            "block4_pool (MaxPooling2D)   (None, 14, 14, 512)       0         \n",
            "_________________________________________________________________\n",
            "block5_conv1 (Conv2D)        (None, 14, 14, 512)       2359808   \n",
            "_________________________________________________________________\n",
            "block5_conv2 (Conv2D)        (None, 14, 14, 512)       2359808   \n",
            "_________________________________________________________________\n",
            "block5_conv3 (Conv2D)        (None, 14, 14, 512)       2359808   \n",
            "_________________________________________________________________\n",
            "block5_pool (MaxPooling2D)   (None, 7, 7, 512)         0         \n",
            "_________________________________________________________________\n",
            "flatten (Flatten)            (None, 25088)             0         \n",
            "_________________________________________________________________\n",
            "dense (Dense)                (None, 4096)              102764544 \n",
            "_________________________________________________________________\n",
            "dense_1 (Dense)              (None, 1072)              4391984   \n",
            "_________________________________________________________________\n",
            "dropout (Dropout)            (None, 1072)              0         \n",
            "_________________________________________________________________\n",
            "dense_2 (Dense)              (None, 3)                 3219      \n",
            "=================================================================\n",
            "Total params: 121,874,435\n",
            "Trainable params: 107,159,747\n",
            "Non-trainable params: 14,714,688\n",
            "_________________________________________________________________\n"
          ],
          "name": "stdout"
        }
      ]
    },
    {
      "cell_type": "code",
      "metadata": {
        "id": "e6cfee67"
      },
      "source": [
        "#Feature extraction\n",
        "train_datagen = ImageDataGenerator(rotation_range=60, width_shift_range=0.2, height_shift_range=0.2,\n",
        "                                   shear_range=0.2, zoom_range=0.2, fill_mode='nearest')\n",
        "\n",
        "train_datagen.fit(X_train)\n",
        "\n",
        "val_datagen = ImageDataGenerator(rotation_range=60, width_shift_range=0.2, height_shift_range=0.2,\n",
        "                                   shear_range=0.2, zoom_range=0.2, fill_mode='nearest')\n",
        "val_datagen.fit(X_val)\n"
      ],
      "id": "e6cfee67",
      "execution_count": null,
      "outputs": []
    },
    {
      "cell_type": "code",
      "metadata": {
        "colab": {
          "base_uri": "https://localhost:8080/"
        },
        "id": "ff25ec59",
        "outputId": "9303d56a-279d-4f3d-d3d1-24741e146dcc"
      },
      "source": [
        "batch_size = 64\n",
        "epochs = 5\n",
        "history = model.fit_generator(train_datagen.flow(X_train,Y_train, batch_size=batch_size),\n",
        "                              epochs = epochs, validation_data = val_datagen.flow(X_val, Y_val),\n",
        "                              verbose = 1, steps_per_epoch=(X_train.shape[0] // batch_size), \n",
        "                              validation_steps=(X_val.shape[0] // batch_size))\n"
      ],
      "id": "ff25ec59",
      "execution_count": null,
      "outputs": [
        {
          "output_type": "stream",
          "text": [
            "/usr/local/lib/python3.7/dist-packages/keras/engine/training.py:1915: UserWarning: `Model.fit_generator` is deprecated and will be removed in a future version. Please use `Model.fit`, which supports generators.\n",
            "  warnings.warn('`Model.fit_generator` is deprecated and '\n"
          ],
          "name": "stderr"
        },
        {
          "output_type": "stream",
          "text": [
            "Epoch 1/5\n",
            "67/67 [==============================] - 84s 552ms/step - loss: 12.3420 - accuracy: 0.4475 - val_loss: 1.7911 - val_accuracy: 0.5851\n",
            "Epoch 2/5\n",
            "67/67 [==============================] - 31s 462ms/step - loss: 1.8260 - accuracy: 0.5507 - val_loss: 1.0383 - val_accuracy: 0.5991\n",
            "Epoch 3/5\n",
            "67/67 [==============================] - 32s 471ms/step - loss: 1.1429 - accuracy: 0.5987 - val_loss: 0.8806 - val_accuracy: 0.6002\n",
            "Epoch 4/5\n",
            "67/67 [==============================] - 31s 462ms/step - loss: 0.8231 - accuracy: 0.6286 - val_loss: 0.8045 - val_accuracy: 0.6412\n",
            "Epoch 5/5\n",
            "67/67 [==============================] - 32s 472ms/step - loss: 0.8179 - accuracy: 0.6282 - val_loss: 0.8316 - val_accuracy: 0.6078\n"
          ],
          "name": "stdout"
        }
      ]
    },
    {
      "cell_type": "code",
      "metadata": {
        "id": "QsOkx6SEUHc6"
      },
      "source": [
        "#Fine-Tuning \n",
        "\n",
        "for layer in model.layers[:5]:\n",
        "    layer.trainable = False\n",
        "\n",
        "for layer in model.layers[5:]:\n",
        "    layer.trainable = True"
      ],
      "id": "QsOkx6SEUHc6",
      "execution_count": null,
      "outputs": []
    },
    {
      "cell_type": "code",
      "metadata": {
        "id": "T7IJHevMUO5A"
      },
      "source": [
        "optimizer = Adam(learning_rate=0.0001, beta_1=0.9, beta_2=0.999, epsilon=None, decay=0.0, amsgrad=False)\n",
        "model.compile(loss='categorical_crossentropy',\n",
        "              optimizer=optimizer,\n",
        "              metrics=['acc'])"
      ],
      "id": "T7IJHevMUO5A",
      "execution_count": null,
      "outputs": []
    },
    {
      "cell_type": "code",
      "metadata": {
        "colab": {
          "base_uri": "https://localhost:8080/"
        },
        "id": "8Qe1Hfy9USwY",
        "outputId": "9a7990bf-423d-4948-a087-1c25146ee6f4"
      },
      "source": [
        "model.summary()"
      ],
      "id": "8Qe1Hfy9USwY",
      "execution_count": null,
      "outputs": [
        {
          "output_type": "stream",
          "text": [
            "Model: \"model\"\n",
            "_________________________________________________________________\n",
            "Layer (type)                 Output Shape              Param #   \n",
            "=================================================================\n",
            "input_1 (InputLayer)         [(None, 224, 224, 3)]     0         \n",
            "_________________________________________________________________\n",
            "block1_conv1 (Conv2D)        (None, 224, 224, 64)      1792      \n",
            "_________________________________________________________________\n",
            "block1_conv2 (Conv2D)        (None, 224, 224, 64)      36928     \n",
            "_________________________________________________________________\n",
            "block1_pool (MaxPooling2D)   (None, 112, 112, 64)      0         \n",
            "_________________________________________________________________\n",
            "block2_conv1 (Conv2D)        (None, 112, 112, 128)     73856     \n",
            "_________________________________________________________________\n",
            "block2_conv2 (Conv2D)        (None, 112, 112, 128)     147584    \n",
            "_________________________________________________________________\n",
            "block2_pool (MaxPooling2D)   (None, 56, 56, 128)       0         \n",
            "_________________________________________________________________\n",
            "block3_conv1 (Conv2D)        (None, 56, 56, 256)       295168    \n",
            "_________________________________________________________________\n",
            "block3_conv2 (Conv2D)        (None, 56, 56, 256)       590080    \n",
            "_________________________________________________________________\n",
            "block3_conv3 (Conv2D)        (None, 56, 56, 256)       590080    \n",
            "_________________________________________________________________\n",
            "block3_pool (MaxPooling2D)   (None, 28, 28, 256)       0         \n",
            "_________________________________________________________________\n",
            "block4_conv1 (Conv2D)        (None, 28, 28, 512)       1180160   \n",
            "_________________________________________________________________\n",
            "block4_conv2 (Conv2D)        (None, 28, 28, 512)       2359808   \n",
            "_________________________________________________________________\n",
            "block4_conv3 (Conv2D)        (None, 28, 28, 512)       2359808   \n",
            "_________________________________________________________________\n",
            "block4_pool (MaxPooling2D)   (None, 14, 14, 512)       0         \n",
            "_________________________________________________________________\n",
            "block5_conv1 (Conv2D)        (None, 14, 14, 512)       2359808   \n",
            "_________________________________________________________________\n",
            "block5_conv2 (Conv2D)        (None, 14, 14, 512)       2359808   \n",
            "_________________________________________________________________\n",
            "block5_conv3 (Conv2D)        (None, 14, 14, 512)       2359808   \n",
            "_________________________________________________________________\n",
            "block5_pool (MaxPooling2D)   (None, 7, 7, 512)         0         \n",
            "_________________________________________________________________\n",
            "flatten (Flatten)            (None, 25088)             0         \n",
            "_________________________________________________________________\n",
            "dense (Dense)                (None, 4096)              102764544 \n",
            "_________________________________________________________________\n",
            "dense_1 (Dense)              (None, 1072)              4391984   \n",
            "_________________________________________________________________\n",
            "dropout (Dropout)            (None, 1072)              0         \n",
            "_________________________________________________________________\n",
            "dense_2 (Dense)              (None, 3)                 3219      \n",
            "=================================================================\n",
            "Total params: 121,874,435\n",
            "Trainable params: 121,761,859\n",
            "Non-trainable params: 112,576\n",
            "_________________________________________________________________\n"
          ],
          "name": "stdout"
        }
      ]
    },
    {
      "cell_type": "code",
      "metadata": {
        "id": "7npr06b5UWMQ"
      },
      "source": [
        "learning_rate_reduction = ReduceLROnPlateau(monitor='val_acc', patience=3, verbose=1, factor=0.5, \n",
        "                                            min_lr=0.000001, cooldown=3)"
      ],
      "id": "7npr06b5UWMQ",
      "execution_count": null,
      "outputs": []
    },
    {
      "cell_type": "code",
      "metadata": {
        "colab": {
          "base_uri": "https://localhost:8080/"
        },
        "id": "PCOpPinVUZRw",
        "outputId": "8088ac8a-a001-40b8-cf50-b103a301738e"
      },
      "source": [
        "batch_size = 64\n",
        "epochs = 20\n",
        "history = model.fit(train_datagen.flow(X_train,Y_train, batch_size=batch_size),\n",
        "                              epochs = epochs, validation_data = val_datagen.flow(X_val, Y_val),\n",
        "                              verbose = 1, steps_per_epoch=(X_train.shape[0] // batch_size),\n",
        "                              validation_steps=(X_val.shape[0] // batch_size), callbacks=[learning_rate_reduction])"
      ],
      "id": "PCOpPinVUZRw",
      "execution_count": null,
      "outputs": [
        {
          "output_type": "stream",
          "text": [
            "Epoch 1/20\n",
            "33/33 [==============================] - 62s 1s/step - loss: 1.0632 - acc: 0.4961 - val_loss: 0.9479 - val_acc: 0.4643\n",
            "Epoch 2/20\n",
            "33/33 [==============================] - 30s 901ms/step - loss: 0.9281 - acc: 0.5121 - val_loss: 0.8690 - val_acc: 0.5536\n",
            "Epoch 3/20\n",
            "33/33 [==============================] - 30s 907ms/step - loss: 0.8854 - acc: 0.5538 - val_loss: 0.8191 - val_acc: 0.6049\n",
            "Epoch 4/20\n",
            "33/33 [==============================] - 30s 901ms/step - loss: 0.8345 - acc: 0.6003 - val_loss: 0.8174 - val_acc: 0.5982\n",
            "Epoch 5/20\n",
            "33/33 [==============================] - 30s 907ms/step - loss: 0.7870 - acc: 0.6115 - val_loss: 0.7450 - val_acc: 0.6362\n",
            "Epoch 6/20\n",
            "33/33 [==============================] - 30s 902ms/step - loss: 0.7489 - acc: 0.6363 - val_loss: 0.7669 - val_acc: 0.6362\n",
            "Epoch 7/20\n",
            "33/33 [==============================] - 30s 903ms/step - loss: 0.7025 - acc: 0.6709 - val_loss: 0.7239 - val_acc: 0.6451\n",
            "Epoch 8/20\n",
            "33/33 [==============================] - 30s 909ms/step - loss: 0.6827 - acc: 0.6803 - val_loss: 0.7558 - val_acc: 0.6585\n",
            "Epoch 9/20\n",
            "33/33 [==============================] - 30s 900ms/step - loss: 0.7190 - acc: 0.6345 - val_loss: 0.6338 - val_acc: 0.6652\n",
            "Epoch 10/20\n",
            "33/33 [==============================] - 30s 905ms/step - loss: 0.6284 - acc: 0.6970 - val_loss: 0.7315 - val_acc: 0.6562\n",
            "Epoch 11/20\n",
            "33/33 [==============================] - 30s 905ms/step - loss: 0.6701 - acc: 0.6670 - val_loss: 0.6091 - val_acc: 0.7121\n",
            "Epoch 12/20\n",
            "33/33 [==============================] - 30s 911ms/step - loss: 0.6048 - acc: 0.7179 - val_loss: 0.6471 - val_acc: 0.7165\n",
            "Epoch 13/20\n",
            "33/33 [==============================] - 30s 904ms/step - loss: 0.6123 - acc: 0.7182 - val_loss: 0.6211 - val_acc: 0.7009\n",
            "Epoch 14/20\n",
            "33/33 [==============================] - 30s 900ms/step - loss: 0.5485 - acc: 0.7512 - val_loss: 0.8043 - val_acc: 0.6607\n",
            "Epoch 15/20\n",
            "33/33 [==============================] - 30s 904ms/step - loss: 0.6028 - acc: 0.7425 - val_loss: 0.6905 - val_acc: 0.6741\n",
            "\n",
            "Epoch 00015: ReduceLROnPlateau reducing learning rate to 4.999999873689376e-05.\n",
            "Epoch 16/20\n",
            "33/33 [==============================] - 30s 903ms/step - loss: 0.5608 - acc: 0.7470 - val_loss: 0.6230 - val_acc: 0.7031\n",
            "Epoch 17/20\n",
            "33/33 [==============================] - 30s 901ms/step - loss: 0.4457 - acc: 0.8032 - val_loss: 0.5783 - val_acc: 0.7500\n",
            "Epoch 18/20\n",
            "33/33 [==============================] - 30s 903ms/step - loss: 0.4137 - acc: 0.8215 - val_loss: 0.5686 - val_acc: 0.7344\n",
            "Epoch 19/20\n",
            "33/33 [==============================] - 30s 909ms/step - loss: 0.4224 - acc: 0.8199 - val_loss: 0.5789 - val_acc: 0.7567\n",
            "Epoch 20/20\n",
            "33/33 [==============================] - 30s 898ms/step - loss: 0.3707 - acc: 0.8361 - val_loss: 0.5533 - val_acc: 0.7589\n"
          ],
          "name": "stdout"
        }
      ]
    },
    {
      "cell_type": "code",
      "metadata": {
        "colab": {
          "base_uri": "https://localhost:8080/"
        },
        "id": "ukqaa2m3RajB",
        "outputId": "611cd094-a331-4ba2-f1d1-e087164ce074"
      },
      "source": [
        "loss_val, acc_val = model.evaluate(X_val, Y_val, verbose=1)\n",
        "print(\"Validation: accuracy = %f  ;  loss_v = %f\" % (acc_val, loss_val))"
      ],
      "id": "ukqaa2m3RajB",
      "execution_count": null,
      "outputs": [
        {
          "output_type": "stream",
          "text": [
            "30/30 [==============================] - 5s 160ms/step - loss: 0.6626 - acc: 0.7368\n",
            "Validation: accuracy = 0.736842  ;  loss_v = 0.662637\n"
          ],
          "name": "stdout"
        }
      ]
    },
    {
      "cell_type": "code",
      "metadata": {
        "colab": {
          "base_uri": "https://localhost:8080/",
          "height": 311
        },
        "id": "2e94a28c",
        "outputId": "85da2fb2-3c6b-41d8-d542-043889c6cd22"
      },
      "source": [
        "from sklearn.metrics import confusion_matrix\n",
        "import itertools\n",
        "def plot_confusion_matrix(cm, classes,\n",
        "                          normalize=False,\n",
        "                          title='Confusion matrix',\n",
        "                          cmap=plt.cm.Blues):\n",
        "    \"\"\"\n",
        "    This function prints and plots the confusion matrix.\n",
        "    Normalization can be applied by setting `normalize=True`.\n",
        "    \"\"\"\n",
        "    plt.imshow(cm, interpolation='nearest', cmap=cmap)\n",
        "    plt.title(title)\n",
        "    plt.colorbar()\n",
        "    tick_marks = np.arange(len(classes))\n",
        "    plt.xticks(tick_marks, classes, rotation=45)\n",
        "    plt.yticks(tick_marks, classes)\n",
        "\n",
        "    if normalize:\n",
        "        cm = cm.astype('float') / cm.sum(axis=1)[:, np.newaxis]\n",
        "\n",
        "    thresh = cm.max() / 2.\n",
        "    for i, j in itertools.product(range(cm.shape[0]), range(cm.shape[1])):\n",
        "        plt.text(j, i, cm[i, j],\n",
        "                 horizontalalignment=\"center\",\n",
        "                 color=\"white\" if cm[i, j] > thresh else \"black\")\n",
        "\n",
        "    plt.tight_layout()\n",
        "    plt.ylabel('True label')\n",
        "    plt.xlabel('Predicted label')\n",
        "\n",
        "# Predict the values from the validation dataset\n",
        "y_pred = model.predict(X_val)\n",
        "# Convert predictions classes to one hot vectors \n",
        "y_pred_classes = np.argmax(y_pred,axis = 1) \n",
        "# Convert validation observations to one hot vectors\n",
        "y_true = np.argmax(Y_val,axis = 1) \n",
        "# compute the confusion matrix\n",
        "confusion_mtx = confusion_matrix(y_true, y_pred_classes) \n",
        "# plot the confusion matrix\n",
        "plot_confusion_matrix(confusion_mtx, classes = range(3))"
      ],
      "id": "2e94a28c",
      "execution_count": null,
      "outputs": [
        {
          "output_type": "display_data",
          "data": {
            "image/png": "[encoded data removed]",
            "text/plain": [
              "<Figure size 432x288 with 2 Axes>"
            ]
          },
          "metadata": {
            "tags": [],
            "needs_background": "light"
          }
        }
      ]
    },
    {
      "cell_type": "markdown",
      "metadata": {
        "id": "4r8uQdfZRtsA"
      },
      "source": [
        "TESTING\n"
      ],
      "id": "4r8uQdfZRtsA"
    },
    {
      "cell_type": "code",
      "metadata": {
        "colab": {
          "base_uri": "https://localhost:8080/"
        },
        "id": "vT8XWX1IRx3X",
        "outputId": "e4b78b12-64a7-4c8b-a8c7-f00b53a01956"
      },
      "source": [
        "loss_test, acc_test = model.evaluate(X_test, Y_test, verbose=1)\n",
        "print(\"Test: accuracy = %f  ;  loss = %f\" % (acc_test, loss_test))"
      ],
      "id": "vT8XWX1IRx3X",
      "execution_count": null,
      "outputs": [
        {
          "output_type": "stream",
          "text": [
            "25/25 [==============================] - 5s 218ms/step - loss: 0.6342 - acc: 0.7465\n",
            "Test: accuracy = 0.746461  ;  loss = 0.634228\n"
          ],
          "name": "stdout"
        }
      ]
    },
    {
      "cell_type": "code",
      "metadata": {
        "colab": {
          "base_uri": "https://localhost:8080/",
          "height": 561
        },
        "id": "GKjkUk6qR0sQ",
        "outputId": "0d34dfe3-b918-49e4-ce5c-1c36238b57c3"
      },
      "source": [
        "# Retrieve a list of accuracy results on training and test data\n",
        "# sets for each training epoch\n",
        "acc = history.history['acc']\n",
        "val_acc = history.history['val_acc']\n",
        "\n",
        "# Retrieve a list of list results on training and test data\n",
        "# sets for each training epoch\n",
        "loss = history.history['loss']\n",
        "val_loss = history.history['val_loss']\n",
        "\n",
        "# Get number of epochs\n",
        "epochs = range(len(acc))\n",
        "\n",
        "# Plot training and validation accuracy per epoch\n",
        "plt.plot(epochs, acc, label = \"training\")\n",
        "plt.plot(epochs, val_acc, label = \"validation\")\n",
        "plt.legend(loc=\"upper left\")\n",
        "plt.title('Training and validation accuracy')\n",
        "\n",
        "plt.figure()\n",
        "\n",
        "# Plot training and validation loss per epoch\n",
        "plt.plot(epochs, loss, label = \"training\")\n",
        "plt.plot(epochs, val_loss, label = \"validation\")\n",
        "plt.legend(loc=\"upper right\")\n",
        "plt.title('Training and validation loss')"
      ],
      "id": "GKjkUk6qR0sQ",
      "execution_count": null,
      "outputs": [
        {
          "output_type": "execute_result",
          "data": {
            "text/plain": [
              "Text(0.5, 1.0, 'Training and validation loss')"
            ]
          },
          "metadata": {
            "tags": []
          },
          "execution_count": 31
        },
        {
          "output_type": "display_data",
          "data": {
            "image/png": "[encoded data removed]",
            "text/plain": [
              "<Figure size 432x288 with 1 Axes>"
            ]
          },
          "metadata": {
            "tags": [],
            "needs_background": "light"
          }
        },
        {
          "output_type": "display_data",
          "data": {
            "image/png": "[encoded data removed]",
            "text/plain": [
              "<Figure size 432x288 with 1 Axes>"
            ]
          },
          "metadata": {
            "tags": [],
            "needs_background": "light"
          }
        }
      ]
    },
    {
      "cell_type": "code",
      "metadata": {
        "colab": {
          "base_uri": "https://localhost:8080/",
          "height": 311
        },
        "id": "DdEs3KASR5MQ",
        "outputId": "a1d4b5f9-f088-4bf6-aa99-b2d8c0f813f0"
      },
      "source": [
        "from sklearn.metrics import confusion_matrix\n",
        "import itertools\n",
        "def plot_confusion_matrix(cm, classes,\n",
        "                          normalize=False,\n",
        "                          title='Confusion matrix',\n",
        "                          cmap=plt.cm.Blues):\n",
        "    \"\"\"\n",
        "    This function prints and plots the confusion matrix.\n",
        "    Normalization can be applied by setting `normalize=True`.\n",
        "    \"\"\"\n",
        "    plt.imshow(cm, interpolation='nearest', cmap=cmap)\n",
        "    plt.title(title)\n",
        "    plt.colorbar()\n",
        "    tick_marks = np.arange(len(classes))\n",
        "    plt.xticks(tick_marks, classes, rotation=45)\n",
        "    plt.yticks(tick_marks, classes)\n",
        "\n",
        "    if normalize:\n",
        "        cm = cm.astype('float') / cm.sum(axis=1)[:, np.newaxis]\n",
        "\n",
        "    thresh = cm.max() / 2.\n",
        "    for i, j in itertools.product(range(cm.shape[0]), range(cm.shape[1])):\n",
        "        plt.text(j, i, cm[i, j],\n",
        "                 horizontalalignment=\"center\",\n",
        "                 color=\"white\" if cm[i, j] > thresh else \"black\")\n",
        "\n",
        "    plt.tight_layout()\n",
        "    plt.ylabel('True label')\n",
        "    plt.xlabel('Predicted label')\n",
        "\n",
        "# Predict the values from the validation dataset\n",
        "y_pred = model.predict(X_test)\n",
        "# Convert predictions classes to one hot vectors \n",
        "y_pred_classes = np.argmax(y_pred,axis = 1) \n",
        "# Convert validation observations to one hot vectors\n",
        "y_true = np.argmax(Y_test,axis = 1) \n",
        "# compute the confusion matrix\n",
        "confusion_mtx = confusion_matrix(y_true, y_pred_classes) \n",
        "# plot the confusion matrix\n",
        "plot_confusion_matrix(confusion_mtx, classes = range(3))"
      ],
      "id": "DdEs3KASR5MQ",
      "execution_count": null,
      "outputs": [
        {
          "output_type": "display_data",
          "data": {
            "image/png": "[encoded data removed]",
            "text/plain": [
              "<Figure size 432x288 with 2 Axes>"
            ]
          },
          "metadata": {
            "tags": [],
            "needs_background": "light"
          }
        }
      ]
    }
  ]
}