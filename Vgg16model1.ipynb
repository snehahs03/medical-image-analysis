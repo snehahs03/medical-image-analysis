{
  "nbformat": 4,
  "nbformat_minor": 5,
  "metadata": {
    "kernelspec": {
      "name": "python3",
      "display_name": "Python 3"
    },
    "colab": {
      "name": "Vgg16model1.ipynb",
      "provenance": [],
      "collapsed_sections": [],
      "include_colab_link": true
    },
    "accelerator": "GPU",
    "language_info": {
      "name": "python"
    }
  },
  "cells": [
    {
      "cell_type": "markdown",
      "metadata": {
        "id": "view-in-github",
        "colab_type": "text"
      },
      "source": [
        "<a href=\"https://colab.research.google.com/github/snehahs03/medical-image-analysis/blob/main/Vgg16model1.ipynb\" target=\"_parent\"><img src=\"https://colab.research.google.com/assets/colab-badge.svg\" alt=\"Open In Colab\"/></a>"
      ]
    },
    {
      "cell_type": "code",
      "metadata": {
        "id": "JBmYtoV2Z3f8",
        "outputId": "674bec81-98c7-4513-d05f-0b9b048975d7",
        "colab": {
          "base_uri": "https://localhost:8080/"
        }
      },
      "source": [
        "from google.colab import drive\n",
        "drive.mount('/content/drive')"
      ],
      "id": "JBmYtoV2Z3f8",
      "execution_count": 24,
      "outputs": [
        {
          "output_type": "stream",
          "text": [
            "Mounted at /content/drive\n"
          ],
          "name": "stdout"
        }
      ]
    },
    {
      "cell_type": "code",
      "metadata": {
        "id": "tShbFmqmZ47r",
        "outputId": "2534054f-b1f2-48f1-91d8-2ed82582d618",
        "colab": {
          "base_uri": "https://localhost:8080/"
        }
      },
      "source": [
        "%cd drive"
      ],
      "id": "tShbFmqmZ47r",
      "execution_count": 25,
      "outputs": [
        {
          "output_type": "stream",
          "text": [
            "/content/drive\n"
          ],
          "name": "stdout"
        }
      ]
    },
    {
      "cell_type": "code",
      "metadata": {
        "id": "NBW-CMYQaCW6",
        "outputId": "81ab1868-4795-4e3c-e748-938452c0d9d2",
        "colab": {
          "base_uri": "https://localhost:8080/"
        }
      },
      "source": [
        "%cd MyDrive"
      ],
      "id": "NBW-CMYQaCW6",
      "execution_count": 26,
      "outputs": [
        {
          "output_type": "stream",
          "text": [
            "/content/drive/MyDrive\n"
          ],
          "name": "stdout"
        }
      ]
    },
    {
      "cell_type": "code",
      "metadata": {
        "id": "tZD4gttbaFK9",
        "outputId": "f079e0c5-3aca-47df-a3bb-568c41d6537d",
        "colab": {
          "base_uri": "https://localhost:8080/"
        }
      },
      "source": [
        "%cd medical-image-analysis"
      ],
      "id": "tZD4gttbaFK9",
      "execution_count": 27,
      "outputs": [
        {
          "output_type": "stream",
          "text": [
            "/content/drive/MyDrive/medical-image-analysis\n"
          ],
          "name": "stdout"
        }
      ]
    },
    {
      "cell_type": "code",
      "metadata": {
        "colab": {
          "base_uri": "https://localhost:8080/"
        },
        "id": "H-lDRiiwQavC",
        "outputId": "1ffd0559-b4d3-42d0-e8c6-a46cbf3c75e6"
      },
      "source": [
        "!git clone https://github.com/snehahs03/medical-image-analysis.git"
      ],
      "id": "H-lDRiiwQavC",
      "execution_count": 1,
      "outputs": [
        {
          "output_type": "stream",
          "text": [
            "Cloning into 'medical-image-analysis'...\n",
            "remote: Enumerating objects: 3805, done.\u001b[K\n",
            "remote: Counting objects: 100% (42/42), done.\u001b[K\n",
            "remote: Compressing objects: 100% (41/41), done.\u001b[K\n",
            "remote: Total 3805 (delta 21), reused 0 (delta 0), pack-reused 3763\u001b[K\n",
            "Receiving objects: 100% (3805/3805), 337.21 MiB | 42.85 MiB/s, done.\n",
            "Resolving deltas: 100% (32/32), done.\n",
            "Checking out files: 100% (3890/3890), done.\n"
          ],
          "name": "stdout"
        }
      ]
    },
    {
      "cell_type": "code",
      "metadata": {
        "id": "97cfb9c4"
      },
      "source": [
        "import json\n",
        "import math\n",
        "import os\n",
        "import cv2\n",
        "from PIL import Image\n",
        "import numpy as np\n",
        "from keras import layers\n",
        "from keras.callbacks import Callback, ModelCheckpoint, ReduceLROnPlateau, TensorBoard\n",
        "from keras.models import Model\n",
        "from keras.preprocessing.image import ImageDataGenerator\n",
        "from keras.utils.np_utils import to_categorical\n",
        "from keras.models import Sequential\n",
        "from keras.optimizers import Adam\n",
        "import matplotlib.pyplot as plt\n",
        "import pandas as pd\n",
        "from sklearn.model_selection import train_test_split\n",
        "from sklearn.metrics import cohen_kappa_score, accuracy_score\n",
        "import scipy\n",
        "import tensorflow as tf\n",
        "from keras import backend as K\n",
        "import gc\n",
        "from functools import partial\n",
        "from tqdm import tqdm\n",
        "from sklearn import metrics\n",
        "from collections import Counter\n",
        "import itertools\n",
        "from keras.applications.vgg16 import VGG16, preprocess_input\n",
        "from keras.callbacks import ModelCheckpoint, EarlyStopping\n",
        "from keras.layers import Dense, Dropout, Flatten\n",
        "from keras.layers import Input, Lambda, Dense, Flatten\n",
        "from keras.preprocessing import image\n",
        "from glob import glob"
      ],
      "id": "97cfb9c4",
      "execution_count": 2,
      "outputs": []
    },
    {
      "cell_type": "code",
      "metadata": {
        "id": "53fc4864"
      },
      "source": [
        "def Dataset_loader(DIR, RESIZE, sigmaX=10):\n",
        "    IMG = []\n",
        "    read = lambda imname: np.asarray(Image.open(imname).convert(\"RGB\"))\n",
        "    for IMAGE_NAME in tqdm(os.listdir(DIR)):\n",
        "        PATH = os.path.join(DIR,IMAGE_NAME)\n",
        "        _, ftype = os.path.splitext(PATH)\n",
        "        if ftype == \".jpg\":\n",
        "            img = read(PATH)\n",
        "           \n",
        "            img = cv2.resize(img, (RESIZE,RESIZE))\n",
        "           \n",
        "            IMG.append(np.array(img))\n",
        "    return IMG"
      ],
      "id": "53fc4864",
      "execution_count": 3,
      "outputs": []
    },
    {
      "cell_type": "code",
      "metadata": {
        "colab": {
          "base_uri": "https://localhost:8080/"
        },
        "id": "675f14ba",
        "outputId": "79b35ddd-d0de-4c4a-b52e-e7f74959926a"
      },
      "source": [
        "eczema_train = np.array(Dataset_loader(\"/content/medical-image-analysis/train/Eczema Photos\", 224))\n",
        "melanoma_train = np.array(Dataset_loader(\"/content/medical-image-analysis/train/Melanoma Skin Cancer Nevi and Moles\",224))\n",
        "psoriasis_train = np.array(Dataset_loader(\"/content/medical-image-analysis/train/Psoriasis pictures Lichen Planus and related diseases\",224))\n",
        "eczema_test = np.array(Dataset_loader(\"/content/medical-image-analysis/test/Eczema Photos\",224))\n",
        "melonoma_test = np.array(Dataset_loader(\"/content/medical-image-analysis/test/Melanoma Skin Cancer Nevi and Moles\",224))\n",
        "psoriasis_test = np.array(Dataset_loader(\"/content/medical-image-analysis/test/Psoriasis pictures Lichen Planus and related diseases\", 224))\n"
      ],
      "id": "675f14ba",
      "execution_count": 4,
      "outputs": [
        {
          "output_type": "stream",
          "text": [
            "100%|██████████| 1235/1235 [00:07<00:00, 158.29it/s]\n",
            "100%|██████████| 463/463 [00:02<00:00, 156.50it/s]\n",
            "100%|██████████| 1405/1405 [00:08<00:00, 156.72it/s]\n",
            "100%|██████████| 309/309 [00:02<00:00, 154.38it/s]\n",
            "100%|██████████| 116/116 [00:00<00:00, 151.87it/s]\n",
            "100%|██████████| 352/352 [00:02<00:00, 161.14it/s]\n"
          ],
          "name": "stderr"
        }
      ]
    },
    {
      "cell_type": "code",
      "metadata": {
        "id": "e38c2004"
      },
      "source": [
        "#labelling \n",
        "eczema_train_label = np.full(len(eczema_train),0)\n",
        "melonoma_train_label = np.full(len(melanoma_train),1)\n",
        "psoriasis_train_label = np.full(len(psoriasis_train),2)\n",
        "eczema_test_label = np.full(len(eczema_test),0)\n",
        "melonoma_test_label = np.full(len(melonoma_test),1)\n",
        "psoriasis_test_label = np.full(len(psoriasis_test),2)"
      ],
      "id": "e38c2004",
      "execution_count": 5,
      "outputs": []
    },
    {
      "cell_type": "code",
      "metadata": {
        "colab": {
          "base_uri": "https://localhost:8080/"
        },
        "id": "2e4abed4",
        "outputId": "f9a0f5fd-002d-46c3-f143-613832748111"
      },
      "source": [
        "X_train = np.concatenate((eczema_train, melanoma_train, psoriasis_train), axis=0)\n",
        "Y_train = np.concatenate((eczema_train_label, melonoma_train_label, psoriasis_train_label), axis=0)\n",
        "X_test = np.concatenate((eczema_test, melonoma_test, psoriasis_test), axis=0)\n",
        "Y_test = np.concatenate((eczema_test_label, melonoma_test_label, psoriasis_test_label), axis = 0)\n",
        "print(Y_test.shape)\n",
        "print(X_test.shape)"
      ],
      "id": "2e4abed4",
      "execution_count": 6,
      "outputs": [
        {
          "output_type": "stream",
          "text": [
            "(777,)\n",
            "(777, 224, 224, 3)\n"
          ],
          "name": "stdout"
        }
      ]
    },
    {
      "cell_type": "code",
      "metadata": {
        "id": "e40a3bc5"
      },
      "source": [
        "s = np.arange(X_train.shape[0])\n",
        "np.random.shuffle(s)\n",
        "X_train = X_train[s]\n",
        "Y_train = Y_train[s]\n",
        "\n",
        "s = np.arange(X_test.shape[0])\n",
        "np.random.shuffle(s)\n",
        "X_test = X_test[s]\n",
        "Y_test = Y_test[s]\n",
        "\n",
        "Y_train = to_categorical(Y_train, num_classes= 3)\n",
        "Y_test = to_categorical(Y_test, num_classes= 3)\n",
        "\n",
        "#train and evaluation split\n",
        "X_train, X_val, Y_train, Y_val = train_test_split(\n",
        "    X_train, Y_train, \n",
        "    test_size=0.3, \n",
        "    random_state=5\n",
        ")"
      ],
      "id": "e40a3bc5",
      "execution_count": 7,
      "outputs": []
    },
    {
      "cell_type": "code",
      "metadata": {
        "colab": {
          "base_uri": "https://localhost:8080/"
        },
        "id": "3e475dfb",
        "outputId": "f4a70c6a-8dfe-450e-8b62-6dfe0a940e02"
      },
      "source": [
        "X_train.shape, Y_train.shape"
      ],
      "id": "3e475dfb",
      "execution_count": 8,
      "outputs": [
        {
          "output_type": "execute_result",
          "data": {
            "text/plain": [
              "((2172, 224, 224, 3), (2172, 3))"
            ]
          },
          "metadata": {
            "tags": []
          },
          "execution_count": 8
        }
      ]
    },
    {
      "cell_type": "code",
      "metadata": {
        "colab": {
          "base_uri": "https://localhost:8080/"
        },
        "id": "258c8f7f",
        "outputId": "7bbe7ed2-55cc-47d8-e390-e766d06c9fa3"
      },
      "source": [
        "X_val.shape, Y_val.shape"
      ],
      "id": "258c8f7f",
      "execution_count": 9,
      "outputs": [
        {
          "output_type": "execute_result",
          "data": {
            "text/plain": [
              "((931, 224, 224, 3), (931, 3))"
            ]
          },
          "metadata": {
            "tags": []
          },
          "execution_count": 9
        }
      ]
    },
    {
      "cell_type": "code",
      "metadata": {
        "colab": {
          "base_uri": "https://localhost:8080/"
        },
        "id": "8n0EgaD3WWAE",
        "outputId": "824216c2-bbc6-475b-a216-79a9c5fc64ed"
      },
      "source": [
        "X_test.shape, Y_test.shape"
      ],
      "id": "8n0EgaD3WWAE",
      "execution_count": 10,
      "outputs": [
        {
          "output_type": "execute_result",
          "data": {
            "text/plain": [
              "((777, 224, 224, 3), (777, 3))"
            ]
          },
          "metadata": {
            "tags": []
          },
          "execution_count": 10
        }
      ]
    },
    {
      "cell_type": "code",
      "metadata": {
        "id": "a67f35b1",
        "outputId": "b42180bf-c064-4ea6-e470-3e26673e3569",
        "colab": {
          "base_uri": "https://localhost:8080/"
        }
      },
      "source": [
        "#load in pretrained model\n",
        "vgg = VGG16(input_shape=(224,224,3), weights='imagenet', include_top=False)\n",
        "for layer in vgg.layers:\n",
        "  print(layer.name)\n",
        "  layer.trainable = False\n",
        "print(len(vgg.layers))"
      ],
      "id": "a67f35b1",
      "execution_count": 11,
      "outputs": [
        {
          "output_type": "stream",
          "text": [
            "Downloading data from https://storage.googleapis.com/tensorflow/keras-applications/vgg16/vgg16_weights_tf_dim_ordering_tf_kernels_notop.h5\n",
            "58892288/58889256 [==============================] - 0s 0us/step\n",
            "58900480/58889256 [==============================] - 0s 0us/step\n",
            "input_1\n",
            "block1_conv1\n",
            "block1_conv2\n",
            "block1_pool\n",
            "block2_conv1\n",
            "block2_conv2\n",
            "block2_pool\n",
            "block3_conv1\n",
            "block3_conv2\n",
            "block3_conv3\n",
            "block3_pool\n",
            "block4_conv1\n",
            "block4_conv2\n",
            "block4_conv3\n",
            "block4_pool\n",
            "block5_conv1\n",
            "block5_conv2\n",
            "block5_conv3\n",
            "block5_pool\n",
            "19\n"
          ],
          "name": "stdout"
        }
      ]
    },
    {
      "cell_type": "code",
      "metadata": {
        "id": "a476c740"
      },
      "source": [
        "#adding output layer\n",
        "top_model = vgg.output\n",
        "top_model = Flatten(name=\"flatten\")(top_model)\n",
        "top_model = Dense(4096, activation='relu')(top_model)\n",
        "top_model = Dense(1072, activation='relu')(top_model)\n",
        "top_model = Dropout(0.2)(top_model)\n",
        "output_layer = Dense(3, activation='softmax')(top_model)"
      ],
      "id": "a476c740",
      "execution_count": 12,
      "outputs": []
    },
    {
      "cell_type": "code",
      "metadata": {
        "id": "36dbd445"
      },
      "source": [
        "#create a model object\n",
        "model1 = Model(inputs=vgg.input, outputs=output_layer)\n",
        "optimizer = Adam(learning_rate=0.0001, beta_1=0.9, beta_2=0.999, epsilon=None, decay=0.0, amsgrad=True)\n",
        "model1.compile(loss='categorical_crossentropy',\n",
        "              optimizer=optimizer,\n",
        "              metrics=['accuracy'])"
      ],
      "id": "36dbd445",
      "execution_count": 13,
      "outputs": []
    },
    {
      "cell_type": "code",
      "metadata": {
        "id": "e6cfee67"
      },
      "source": [
        "#Feature extraction\n",
        "train_datagen = ImageDataGenerator(rotation_range=60, width_shift_range=0.2, height_shift_range=0.2,\n",
        "                                   shear_range=0.2, zoom_range=0.2, fill_mode='nearest')\n",
        "\n",
        "train_datagen.fit(X_train)\n",
        "\n",
        "val_datagen = ImageDataGenerator(rotation_range=60, width_shift_range=0.2, height_shift_range=0.2,\n",
        "                                   shear_range=0.2, zoom_range=0.2, fill_mode='nearest')\n",
        "val_datagen.fit(X_val)\n"
      ],
      "id": "e6cfee67",
      "execution_count": 14,
      "outputs": []
    },
    {
      "cell_type": "code",
      "metadata": {
        "colab": {
          "base_uri": "https://localhost:8080/"
        },
        "id": "ff25ec59",
        "outputId": "16f74ad4-430d-44ae-a076-6a5e24f89366"
      },
      "source": [
        "batch_size = 64\n",
        "epochs = 10\n",
        "history = model1.fit(train_datagen.flow(X_train,Y_train, batch_size=batch_size),\n",
        "                              epochs = epochs, validation_data = val_datagen.flow(X_val, Y_val),\n",
        "                              verbose = 1, steps_per_epoch=(X_train.shape[0] // batch_size), \n",
        "                              validation_steps=(X_val.shape[0] // batch_size))\n"
      ],
      "id": "ff25ec59",
      "execution_count": 15,
      "outputs": [
        {
          "output_type": "stream",
          "text": [
            "Epoch 1/10\n",
            "33/33 [==============================] - 91s 1s/step - loss: 11.6325 - accuracy: 0.4749 - val_loss: 2.1485 - val_accuracy: 0.5625\n",
            "Epoch 2/10\n",
            "33/33 [==============================] - 25s 771ms/step - loss: 1.9917 - accuracy: 0.5715 - val_loss: 1.1852 - val_accuracy: 0.5513\n",
            "Epoch 3/10\n",
            "33/33 [==============================] - 25s 772ms/step - loss: 1.1276 - accuracy: 0.6159 - val_loss: 0.9004 - val_accuracy: 0.6027\n",
            "Epoch 4/10\n",
            "33/33 [==============================] - 26s 771ms/step - loss: 0.9297 - accuracy: 0.6189 - val_loss: 0.9206 - val_accuracy: 0.5737\n",
            "Epoch 5/10\n",
            "33/33 [==============================] - 26s 785ms/step - loss: 0.8404 - accuracy: 0.6461 - val_loss: 0.7974 - val_accuracy: 0.6317\n",
            "Epoch 6/10\n",
            "33/33 [==============================] - 26s 779ms/step - loss: 0.7173 - accuracy: 0.6775 - val_loss: 0.9175 - val_accuracy: 0.5826\n",
            "Epoch 7/10\n",
            "33/33 [==============================] - 25s 772ms/step - loss: 0.7312 - accuracy: 0.6703 - val_loss: 0.8266 - val_accuracy: 0.6161\n",
            "Epoch 8/10\n",
            "33/33 [==============================] - 25s 771ms/step - loss: 0.6984 - accuracy: 0.6851 - val_loss: 0.8281 - val_accuracy: 0.6451\n",
            "Epoch 9/10\n",
            "33/33 [==============================] - 25s 764ms/step - loss: 0.6617 - accuracy: 0.7212 - val_loss: 0.7796 - val_accuracy: 0.6384\n",
            "Epoch 10/10\n",
            "33/33 [==============================] - 25s 767ms/step - loss: 0.6444 - accuracy: 0.7078 - val_loss: 0.7785 - val_accuracy: 0.6451\n"
          ],
          "name": "stdout"
        }
      ]
    },
    {
      "cell_type": "code",
      "metadata": {
        "id": "QsOkx6SEUHc6"
      },
      "source": [
        "#Fine-Tuning \n",
        "for layer in model1.layers[14:]:\n",
        "    layer.trainable = True"
      ],
      "id": "QsOkx6SEUHc6",
      "execution_count": 16,
      "outputs": []
    },
    {
      "cell_type": "code",
      "metadata": {
        "id": "T7IJHevMUO5A"
      },
      "source": [
        "optimizer = Adam(learning_rate=0.0001, beta_1=0.9, beta_2=0.999, epsilon=None, decay=0.0, amsgrad=False)\n",
        "model1.compile(loss='categorical_crossentropy',\n",
        "              optimizer=optimizer,\n",
        "              metrics=['acc'])\n",
        "learning_rate_reduction = ReduceLROnPlateau(monitor='val_acc', patience=3, verbose=1, factor=0.5, \n",
        "                                            min_lr=0.000001, cooldown=3)"
      ],
      "id": "T7IJHevMUO5A",
      "execution_count": 17,
      "outputs": []
    },
    {
      "cell_type": "code",
      "metadata": {
        "colab": {
          "base_uri": "https://localhost:8080/"
        },
        "id": "PCOpPinVUZRw",
        "outputId": "5b098ebb-f7b8-4651-a6c8-72f46c1c6b8d"
      },
      "source": [
        "batch_size = 64\n",
        "epochs = 30\n",
        "history = model1.fit(train_datagen.flow(X_train,Y_train, batch_size=batch_size),\n",
        "                              epochs = epochs, validation_data = val_datagen.flow(X_val, Y_val),\n",
        "                              verbose = 1, steps_per_epoch=(X_train.shape[0] // batch_size),\n",
        "                              validation_steps=(X_val.shape[0] // batch_size), callbacks=[learning_rate_reduction])"
      ],
      "id": "PCOpPinVUZRw",
      "execution_count": 18,
      "outputs": [
        {
          "output_type": "stream",
          "text": [
            "Epoch 1/30\n",
            "33/33 [==============================] - 30s 809ms/step - loss: 0.8921 - acc: 0.6206 - val_loss: 0.8054 - val_acc: 0.5938\n",
            "Epoch 2/30\n",
            "33/33 [==============================] - 26s 792ms/step - loss: 0.7598 - acc: 0.6448 - val_loss: 0.7599 - val_acc: 0.6562\n",
            "Epoch 3/30\n",
            "33/33 [==============================] - 26s 791ms/step - loss: 0.7037 - acc: 0.6726 - val_loss: 0.7735 - val_acc: 0.6629\n",
            "Epoch 4/30\n",
            "33/33 [==============================] - 26s 791ms/step - loss: 0.6406 - acc: 0.7087 - val_loss: 0.7174 - val_acc: 0.6741\n",
            "Epoch 5/30\n",
            "33/33 [==============================] - 27s 800ms/step - loss: 0.5802 - acc: 0.7362 - val_loss: 0.7710 - val_acc: 0.6696\n",
            "Epoch 6/30\n",
            "33/33 [==============================] - 26s 791ms/step - loss: 0.5019 - acc: 0.7693 - val_loss: 0.7416 - val_acc: 0.7009\n",
            "Epoch 7/30\n",
            "33/33 [==============================] - 26s 791ms/step - loss: 0.5108 - acc: 0.7773 - val_loss: 0.6485 - val_acc: 0.7121\n",
            "Epoch 8/30\n",
            "33/33 [==============================] - 26s 795ms/step - loss: 0.4715 - acc: 0.7893 - val_loss: 0.7551 - val_acc: 0.7321\n",
            "Epoch 9/30\n",
            "33/33 [==============================] - 26s 791ms/step - loss: 0.4210 - acc: 0.8090 - val_loss: 0.7379 - val_acc: 0.7210\n",
            "Epoch 10/30\n",
            "33/33 [==============================] - 26s 788ms/step - loss: 0.4163 - acc: 0.8303 - val_loss: 0.6095 - val_acc: 0.7455\n",
            "Epoch 11/30\n",
            "33/33 [==============================] - 26s 792ms/step - loss: 0.3794 - acc: 0.8419 - val_loss: 0.7989 - val_acc: 0.7254\n",
            "Epoch 12/30\n",
            "33/33 [==============================] - 27s 807ms/step - loss: 0.3794 - acc: 0.8443 - val_loss: 0.6474 - val_acc: 0.7589\n",
            "Epoch 13/30\n",
            "33/33 [==============================] - 26s 796ms/step - loss: 0.3078 - acc: 0.8649 - val_loss: 0.6488 - val_acc: 0.7433\n",
            "Epoch 14/30\n",
            "33/33 [==============================] - 27s 810ms/step - loss: 0.2766 - acc: 0.8866 - val_loss: 0.7793 - val_acc: 0.7344\n",
            "Epoch 15/30\n",
            "33/33 [==============================] - 26s 798ms/step - loss: 0.2665 - acc: 0.8954 - val_loss: 0.6854 - val_acc: 0.7746\n",
            "Epoch 16/30\n",
            "33/33 [==============================] - 27s 800ms/step - loss: 0.2303 - acc: 0.9111 - val_loss: 0.6247 - val_acc: 0.7656\n",
            "Epoch 17/30\n",
            "33/33 [==============================] - 27s 802ms/step - loss: 0.2393 - acc: 0.9035 - val_loss: 0.6937 - val_acc: 0.7701\n",
            "Epoch 18/30\n",
            "33/33 [==============================] - 26s 798ms/step - loss: 0.2383 - acc: 0.8962 - val_loss: 0.7637 - val_acc: 0.7411\n",
            "\n",
            "Epoch 00018: ReduceLROnPlateau reducing learning rate to 4.999999873689376e-05.\n",
            "Epoch 19/30\n",
            "33/33 [==============================] - 26s 785ms/step - loss: 0.2227 - acc: 0.9140 - val_loss: 0.6816 - val_acc: 0.7634\n",
            "Epoch 20/30\n",
            "33/33 [==============================] - 26s 796ms/step - loss: 0.1546 - acc: 0.9461 - val_loss: 0.7139 - val_acc: 0.7835\n",
            "Epoch 21/30\n",
            "33/33 [==============================] - 26s 796ms/step - loss: 0.1355 - acc: 0.9434 - val_loss: 0.8394 - val_acc: 0.7679\n",
            "Epoch 22/30\n",
            "33/33 [==============================] - 26s 794ms/step - loss: 0.1264 - acc: 0.9536 - val_loss: 0.7808 - val_acc: 0.8058\n",
            "Epoch 23/30\n",
            "33/33 [==============================] - 26s 795ms/step - loss: 0.1075 - acc: 0.9627 - val_loss: 0.7540 - val_acc: 0.7879\n",
            "Epoch 24/30\n",
            "33/33 [==============================] - 26s 796ms/step - loss: 0.1108 - acc: 0.9492 - val_loss: 0.7391 - val_acc: 0.7991\n",
            "Epoch 25/30\n",
            "33/33 [==============================] - 26s 798ms/step - loss: 0.1051 - acc: 0.9614 - val_loss: 1.1420 - val_acc: 0.7567\n",
            "\n",
            "Epoch 00025: ReduceLROnPlateau reducing learning rate to 2.499999936844688e-05.\n",
            "Epoch 26/30\n",
            "33/33 [==============================] - 26s 793ms/step - loss: 0.1175 - acc: 0.9548 - val_loss: 0.8362 - val_acc: 0.7969\n",
            "Epoch 27/30\n",
            "33/33 [==============================] - 27s 808ms/step - loss: 0.0636 - acc: 0.9761 - val_loss: 0.9143 - val_acc: 0.7701\n",
            "Epoch 28/30\n",
            "33/33 [==============================] - 26s 797ms/step - loss: 0.0823 - acc: 0.9731 - val_loss: 0.6614 - val_acc: 0.8170\n",
            "Epoch 29/30\n",
            "33/33 [==============================] - 26s 788ms/step - loss: 0.0618 - acc: 0.9817 - val_loss: 0.9321 - val_acc: 0.7835\n",
            "Epoch 30/30\n",
            "33/33 [==============================] - 26s 790ms/step - loss: 0.0634 - acc: 0.9839 - val_loss: 0.8962 - val_acc: 0.7991\n"
          ],
          "name": "stdout"
        }
      ]
    },
    {
      "cell_type": "code",
      "metadata": {
        "colab": {
          "base_uri": "https://localhost:8080/"
        },
        "id": "ukqaa2m3RajB",
        "outputId": "9e0ff0fb-c01e-4960-d05f-af383205c2f3"
      },
      "source": [
        "loss_val, acc_val = model1.evaluate(X_val, Y_val, verbose=1)\n",
        "print(\"Validation: accuracy = %f  ;  loss_v = %f\" % (acc_val, loss_val))"
      ],
      "id": "ukqaa2m3RajB",
      "execution_count": 19,
      "outputs": [
        {
          "output_type": "stream",
          "text": [
            "30/30 [==============================] - 5s 155ms/step - loss: 0.9494 - acc: 0.8206\n",
            "Validation: accuracy = 0.820623  ;  loss_v = 0.949396\n"
          ],
          "name": "stdout"
        }
      ]
    },
    {
      "cell_type": "code",
      "metadata": {
        "colab": {
          "base_uri": "https://localhost:8080/",
          "height": 311
        },
        "id": "2e94a28c",
        "outputId": "1b1cad2f-4b89-400e-caa6-b407b6cba760"
      },
      "source": [
        "from sklearn.metrics import confusion_matrix\n",
        "import itertools\n",
        "def plot_confusion_matrix(cm, classes,\n",
        "                          normalize=False,\n",
        "                          title='Confusion matrix',\n",
        "                          cmap=plt.cm.Blues):\n",
        "    \"\"\"\n",
        "    This function prints and plots the confusion matrix.\n",
        "    Normalization can be applied by setting `normalize=True`.\n",
        "    \"\"\"\n",
        "    plt.imshow(cm, interpolation='nearest', cmap=cmap)\n",
        "    plt.title(title)\n",
        "    plt.colorbar()\n",
        "    tick_marks = np.arange(len(classes))\n",
        "    plt.xticks(tick_marks, classes, rotation=45)\n",
        "    plt.yticks(tick_marks, classes)\n",
        "\n",
        "    if normalize:\n",
        "        cm = cm.astype('float') / cm.sum(axis=1)[:, np.newaxis]\n",
        "\n",
        "    thresh = cm.max() / 2.\n",
        "    for i, j in itertools.product(range(cm.shape[0]), range(cm.shape[1])):\n",
        "        plt.text(j, i, cm[i, j],\n",
        "                 horizontalalignment=\"center\",\n",
        "                 color=\"white\" if cm[i, j] > thresh else \"black\")\n",
        "\n",
        "    plt.tight_layout()\n",
        "    plt.ylabel('True label')\n",
        "    plt.xlabel('Predicted label')\n",
        "\n",
        "# Predict the values from the validation dataset\n",
        "y_pred = model1.predict(X_val)\n",
        "# Convert predictions classes to one hot vectors \n",
        "y_pred_classes = np.argmax(y_pred,axis = 1) \n",
        "# Convert validation observations to one hot vectors\n",
        "y_true = np.argmax(Y_val,axis = 1) \n",
        "# compute the confusion matrix\n",
        "confusion_mtx = confusion_matrix(y_true, y_pred_classes) \n",
        "# plot the confusion matrix\n",
        "plot_confusion_matrix(confusion_mtx, classes = range(3))"
      ],
      "id": "2e94a28c",
      "execution_count": 20,
      "outputs": [
        {
          "output_type": "display_data",
          "data": {
            "image/png": "[encoded data removed]",
            "text/plain": [
              "<Figure size 432x288 with 2 Axes>"
            ]
          },
          "metadata": {
            "tags": [],
            "needs_background": "light"
          }
        }
      ]
    },
    {
      "cell_type": "markdown",
      "metadata": {
        "id": "4r8uQdfZRtsA"
      },
      "source": [
        "TESTING1\n"
      ],
      "id": "4r8uQdfZRtsA"
    },
    {
      "cell_type": "code",
      "metadata": {
        "colab": {
          "base_uri": "https://localhost:8080/"
        },
        "id": "vT8XWX1IRx3X",
        "outputId": "f6e3a21c-9750-42ad-8c09-f24c2f53eab8"
      },
      "source": [
        "loss_test, acc_test = model1.evaluate(X_test, Y_test, verbose=1)\n",
        "print(\"Test: accuracy = %f  ;  loss = %f\" % (acc_test, loss_test))"
      ],
      "id": "vT8XWX1IRx3X",
      "execution_count": 21,
      "outputs": [
        {
          "output_type": "stream",
          "text": [
            "25/25 [==============================] - 5s 206ms/step - loss: 1.0122 - acc: 0.8018\n",
            "Test: accuracy = 0.801802  ;  loss = 1.012165\n"
          ],
          "name": "stdout"
        }
      ]
    },
    {
      "cell_type": "code",
      "metadata": {
        "colab": {
          "base_uri": "https://localhost:8080/",
          "height": 561
        },
        "id": "GKjkUk6qR0sQ",
        "outputId": "abe9b8dd-1094-4b7b-cc4c-d5f54b5f2e13"
      },
      "source": [
        "# Retrieve a list of accuracy results on training and test data\n",
        "# sets for each training epoch\n",
        "acc = history.history['acc']\n",
        "val_acc = history.history['val_acc']\n",
        "\n",
        "# Retrieve a list of list results on training and test data\n",
        "# sets for each training epoch\n",
        "loss = history.history['loss']\n",
        "val_loss = history.history['val_loss']\n",
        "\n",
        "# Get number of epochs\n",
        "epochs = range(len(acc))\n",
        "\n",
        "# Plot training and validation accuracy per epoch\n",
        "plt.plot(epochs, acc, label = \"training\")\n",
        "plt.plot(epochs, val_acc, label = \"validation\")\n",
        "plt.legend(loc=\"upper left\")\n",
        "plt.title('Training and validation accuracy')\n",
        "\n",
        "plt.figure()\n",
        "\n",
        "# Plot training and validation loss per epoch\n",
        "plt.plot(epochs, loss, label = \"training\")\n",
        "plt.plot(epochs, val_loss, label = \"validation\")\n",
        "plt.legend(loc=\"upper right\")\n",
        "plt.title('Training and validation loss')"
      ],
      "id": "GKjkUk6qR0sQ",
      "execution_count": 22,
      "outputs": [
        {
          "output_type": "execute_result",
          "data": {
            "text/plain": [
              "Text(0.5, 1.0, 'Training and validation loss')"
            ]
          },
          "metadata": {
            "tags": []
          },
          "execution_count": 22
        },
        {
          "output_type": "display_data",
          "data": {
            "image/png": "[encoded data removed]",
            "text/plain": [
              "<Figure size 432x288 with 1 Axes>"
            ]
          },
          "metadata": {
            "tags": [],
            "needs_background": "light"
          }
        },
        {
          "output_type": "display_data",
          "data": {
            "image/png": "[encoded data removed]",
            "text/plain": [
              "<Figure size 432x288 with 1 Axes>"
            ]
          },
          "metadata": {
            "tags": [],
            "needs_background": "light"
          }
        }
      ]
    },
    {
      "cell_type": "code",
      "metadata": {
        "id": "gtFijyo0aJ-8"
      },
      "source": [
        "model1.save(\"VGG16model1.h5\")"
      ],
      "id": "gtFijyo0aJ-8",
      "execution_count": 28,
      "outputs": []
    }
  ]
}