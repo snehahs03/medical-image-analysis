{
  "nbformat": 4,
  "nbformat_minor": 5,
  "metadata": {
    "kernelspec": {
      "name": "python3",
      "display_name": "Python 3"
    },
    "colab": {
      "name": "Vgg16model1.ipynb",
      "provenance": [],
      "collapsed_sections": [],
      "include_colab_link": true
    },
    "accelerator": "GPU",
    "language_info": {
      "name": "python"
    }
  },
  "cells": [
    {
      "cell_type": "markdown",
      "metadata": {
        "id": "view-in-github",
        "colab_type": "text"
      },
      "source": [
        "<a href=\"https://colab.research.google.com/github/snehahs03/medical-image-analysis/blob/main/Vgg16model1.ipynb\" target=\"_parent\"><img src=\"https://colab.research.google.com/assets/colab-badge.svg\" alt=\"Open In Colab\"/></a>"
      ]
    },
    {
      "cell_type": "code",
      "metadata": {
        "colab": {
          "base_uri": "https://localhost:8080/"
        },
        "id": "H-lDRiiwQavC",
        "outputId": "29aed89e-718e-4b61-95b9-c99c8b49e8cf"
      },
      "source": [
        "!git clone https://github.com/snehahs03/medical-image-analysis.git"
      ],
      "id": "H-lDRiiwQavC",
      "execution_count": null,
      "outputs": [
        {
          "output_type": "stream",
          "text": [
            "fatal: destination path 'medical-image-analysis' already exists and is not an empty directory.\n"
          ],
          "name": "stdout"
        }
      ]
    },
    {
      "cell_type": "code",
      "metadata": {
        "id": "97cfb9c4"
      },
      "source": [
        "import json\n",
        "import math\n",
        "import os\n",
        "import cv2\n",
        "from PIL import Image\n",
        "import numpy as np\n",
        "from keras import layers\n",
        "from keras.callbacks import Callback, ModelCheckpoint, ReduceLROnPlateau, TensorBoard\n",
        "from keras.models import Model\n",
        "from keras.preprocessing.image import ImageDataGenerator\n",
        "from keras.utils.np_utils import to_categorical\n",
        "from keras.models import Sequential\n",
        "from keras.optimizers import Adam\n",
        "import matplotlib.pyplot as plt\n",
        "import pandas as pd\n",
        "from sklearn.model_selection import train_test_split\n",
        "from sklearn.metrics import cohen_kappa_score, accuracy_score\n",
        "import scipy\n",
        "import tensorflow as tf\n",
        "from keras import backend as K\n",
        "import gc\n",
        "from functools import partial\n",
        "from tqdm import tqdm\n",
        "from sklearn import metrics\n",
        "from collections import Counter\n",
        "import itertools\n",
        "from keras.applications.vgg16 import VGG16, preprocess_input\n",
        "from keras.callbacks import ModelCheckpoint, EarlyStopping\n",
        "from keras.layers import Dense, Dropout, Flatten\n",
        "from keras.layers import Input, Lambda, Dense, Flatten\n",
        "from keras.preprocessing import image\n",
        "from glob import glob"
      ],
      "id": "97cfb9c4",
      "execution_count": null,
      "outputs": []
    },
    {
      "cell_type": "code",
      "metadata": {
        "id": "53fc4864"
      },
      "source": [
        "def Dataset_loader(DIR, RESIZE, sigmaX=10):\n",
        "    IMG = []\n",
        "    read = lambda imname: np.asarray(Image.open(imname).convert(\"RGB\"))\n",
        "    for IMAGE_NAME in tqdm(os.listdir(DIR)):\n",
        "        PATH = os.path.join(DIR,IMAGE_NAME)\n",
        "        _, ftype = os.path.splitext(PATH)\n",
        "        if ftype == \".jpg\":\n",
        "            img = read(PATH)\n",
        "           \n",
        "            img = cv2.resize(img, (RESIZE,RESIZE))\n",
        "           \n",
        "            IMG.append(np.array(img))\n",
        "    return IMG"
      ],
      "id": "53fc4864",
      "execution_count": null,
      "outputs": []
    },
    {
      "cell_type": "code",
      "metadata": {
        "colab": {
          "base_uri": "https://localhost:8080/"
        },
        "id": "675f14ba",
        "outputId": "caa957e7-c37d-42a8-bf2d-1f6819367ba6"
      },
      "source": [
        "eczema_train = np.array(Dataset_loader(\"/content/medical-image-analysis/train/Eczema Photos\", 224))\n",
        "melanoma_train = np.array(Dataset_loader(\"/content/medical-image-analysis/train/Melanoma Skin Cancer Nevi and Moles\",224))\n",
        "psoriasis_train = np.array(Dataset_loader(\"/content/medical-image-analysis/train/Psoriasis pictures Lichen Planus and related diseases\",224))\n",
        "eczema_test = np.array(Dataset_loader(\"/content/medical-image-analysis/test/Eczema Photos\",224))\n",
        "melonoma_test = np.array(Dataset_loader(\"/content/medical-image-analysis/test/Melanoma Skin Cancer Nevi and Moles\",224))\n",
        "psoriasis_test = np.array(Dataset_loader(\"/content/medical-image-analysis/test/Psoriasis pictures Lichen Planus and related diseases\", 224))\n"
      ],
      "id": "675f14ba",
      "execution_count": null,
      "outputs": [
        {
          "output_type": "stream",
          "text": [
            "100%|██████████| 1235/1235 [00:09<00:00, 132.34it/s]\n",
            "100%|██████████| 463/463 [00:03<00:00, 131.89it/s]\n",
            "100%|██████████| 1405/1405 [00:10<00:00, 138.78it/s]\n",
            "100%|██████████| 309/309 [00:02<00:00, 152.23it/s]\n",
            "100%|██████████| 116/116 [00:00<00:00, 148.30it/s]\n",
            "100%|██████████| 352/352 [00:02<00:00, 150.56it/s]\n"
          ],
          "name": "stderr"
        }
      ]
    },
    {
      "cell_type": "code",
      "metadata": {
        "id": "e38c2004"
      },
      "source": [
        "#labelling \n",
        "eczema_train_label = np.full(len(eczema_train),0)\n",
        "melonoma_train_label = np.full(len(melanoma_train),1)\n",
        "psoriasis_train_label = np.full(len(psoriasis_train),2)\n",
        "eczema_test_label = np.full(len(eczema_test),0)\n",
        "melonoma_test_label = np.full(len(melonoma_test),1)\n",
        "psoriasis_test_label = np.full(len(psoriasis_test),2)"
      ],
      "id": "e38c2004",
      "execution_count": null,
      "outputs": []
    },
    {
      "cell_type": "code",
      "metadata": {
        "colab": {
          "base_uri": "https://localhost:8080/"
        },
        "id": "2e4abed4",
        "outputId": "f82ff293-e2d3-44f6-930f-d839a2ef0111"
      },
      "source": [
        "X_train = np.concatenate((eczema_train, melanoma_train, psoriasis_train), axis=0)\n",
        "Y_train = np.concatenate((eczema_train_label, melonoma_train_label, psoriasis_train_label), axis=0)\n",
        "X_test = np.concatenate((eczema_test, melonoma_test, psoriasis_test), axis=0)\n",
        "Y_test = np.concatenate((eczema_test_label, melonoma_test_label, psoriasis_test_label), axis = 0)\n",
        "print(Y_test.shape)\n",
        "print(X_test.shape)"
      ],
      "id": "2e4abed4",
      "execution_count": null,
      "outputs": [
        {
          "output_type": "stream",
          "text": [
            "(777,)\n",
            "(777, 224, 224, 3)\n"
          ],
          "name": "stdout"
        }
      ]
    },
    {
      "cell_type": "code",
      "metadata": {
        "id": "e40a3bc5"
      },
      "source": [
        "s = np.arange(X_train.shape[0])\n",
        "np.random.shuffle(s)\n",
        "X_train = X_train[s]\n",
        "Y_train = Y_train[s]\n",
        "\n",
        "s = np.arange(X_test.shape[0])\n",
        "np.random.shuffle(s)\n",
        "X_test = X_test[s]\n",
        "Y_test = Y_test[s]\n",
        "\n",
        "Y_train = to_categorical(Y_train, num_classes= 3)\n",
        "Y_test = to_categorical(Y_test, num_classes= 3)\n",
        "\n",
        "#train and evaluation split\n",
        "X_train, X_val, Y_train, Y_val = train_test_split(\n",
        "    X_train, Y_train, \n",
        "    test_size=0.3, \n",
        "    random_state=5\n",
        ")"
      ],
      "id": "e40a3bc5",
      "execution_count": null,
      "outputs": []
    },
    {
      "cell_type": "code",
      "metadata": {
        "colab": {
          "base_uri": "https://localhost:8080/"
        },
        "id": "3e475dfb",
        "outputId": "5bdddace-1c8a-4d7f-d048-dbd1a43b7039"
      },
      "source": [
        "X_train.shape, Y_train.shape"
      ],
      "id": "3e475dfb",
      "execution_count": null,
      "outputs": [
        {
          "output_type": "execute_result",
          "data": {
            "text/plain": [
              "((2172, 224, 224, 3), (2172, 3))"
            ]
          },
          "metadata": {
            "tags": []
          },
          "execution_count": 10
        }
      ]
    },
    {
      "cell_type": "code",
      "metadata": {
        "colab": {
          "base_uri": "https://localhost:8080/"
        },
        "id": "258c8f7f",
        "outputId": "81bd0a2c-b189-4d7a-b5d0-160afcc458da"
      },
      "source": [
        "X_val.shape, Y_val.shape"
      ],
      "id": "258c8f7f",
      "execution_count": null,
      "outputs": [
        {
          "output_type": "execute_result",
          "data": {
            "text/plain": [
              "((931, 224, 224, 3), (931, 3))"
            ]
          },
          "metadata": {
            "tags": []
          },
          "execution_count": 11
        }
      ]
    },
    {
      "cell_type": "code",
      "metadata": {
        "colab": {
          "base_uri": "https://localhost:8080/"
        },
        "id": "8n0EgaD3WWAE",
        "outputId": "c69f928d-b2c2-4e08-b81f-4c04abfc1237"
      },
      "source": [
        "X_test.shape, Y_test.shape"
      ],
      "id": "8n0EgaD3WWAE",
      "execution_count": null,
      "outputs": [
        {
          "output_type": "execute_result",
          "data": {
            "text/plain": [
              "((777, 224, 224, 3), (777, 3))"
            ]
          },
          "metadata": {
            "tags": []
          },
          "execution_count": 12
        }
      ]
    },
    {
      "cell_type": "code",
      "metadata": {
        "id": "a67f35b1"
      },
      "source": [
        "#load in pretrained model\n",
        "vgg = VGG16(input_shape=(224,224,3), weights='imagenet', include_top=False)\n",
        "for layer in vgg.layers:\n",
        "  layer.trainable = False"
      ],
      "id": "a67f35b1",
      "execution_count": null,
      "outputs": []
    },
    {
      "cell_type": "code",
      "metadata": {
        "id": "a476c740"
      },
      "source": [
        "#adding output layer\n",
        "top_model = vgg.output\n",
        "top_model = Flatten(name=\"flatten\")(top_model)\n",
        "top_model = Dense(4096, activation='relu')(top_model)\n",
        "top_model = Dense(1072, activation='relu')(top_model)\n",
        "top_model = Dropout(0.2)(top_model)\n",
        "output_layer = Dense(3, activation='softmax')(top_model)"
      ],
      "id": "a476c740",
      "execution_count": null,
      "outputs": []
    },
    {
      "cell_type": "code",
      "metadata": {
        "id": "36dbd445"
      },
      "source": [
        "#create a model object\n",
        "model1 = Model(inputs=vgg.input, outputs=output_layer)\n",
        "optimizer = Adam(learning_rate=0.0001, beta_1=0.9, beta_2=0.999, epsilon=None, decay=0.0, amsgrad=True)\n",
        "model1.compile(loss='categorical_crossentropy',\n",
        "              optimizer=optimizer,\n",
        "              metrics=['accuracy'])"
      ],
      "id": "36dbd445",
      "execution_count": null,
      "outputs": []
    },
    {
      "cell_type": "code",
      "metadata": {
        "id": "e6cfee67"
      },
      "source": [
        "#Feature extraction\n",
        "train_datagen = ImageDataGenerator(rotation_range=60, width_shift_range=0.2, height_shift_range=0.2,\n",
        "                                   shear_range=0.2, zoom_range=0.2, fill_mode='nearest')\n",
        "\n",
        "train_datagen.fit(X_train)\n",
        "\n",
        "val_datagen = ImageDataGenerator(rotation_range=60, width_shift_range=0.2, height_shift_range=0.2,\n",
        "                                   shear_range=0.2, zoom_range=0.2, fill_mode='nearest')\n",
        "val_datagen.fit(X_val)\n"
      ],
      "id": "e6cfee67",
      "execution_count": null,
      "outputs": []
    },
    {
      "cell_type": "code",
      "metadata": {
        "colab": {
          "base_uri": "https://localhost:8080/"
        },
        "id": "ff25ec59",
        "outputId": "f855cb92-79ab-405b-fecb-38d3605f38d9"
      },
      "source": [
        "batch_size = 64\n",
        "epochs = 10\n",
        "history = model1.fit(train_datagen.flow(X_train,Y_train, batch_size=batch_size),\n",
        "                              epochs = epochs, validation_data = val_datagen.flow(X_val, Y_val),\n",
        "                              verbose = 1, steps_per_epoch=(X_train.shape[0] // batch_size), \n",
        "                              validation_steps=(X_val.shape[0] // batch_size))\n"
      ],
      "id": "ff25ec59",
      "execution_count": null,
      "outputs": [
        {
          "output_type": "stream",
          "text": [
            "Epoch 1/10\n",
            "33/33 [==============================] - 84s 1s/step - loss: 13.4374 - accuracy: 0.4410 - val_loss: 1.4763 - val_accuracy: 0.5670\n",
            "Epoch 2/10\n",
            "33/33 [==============================] - 35s 1s/step - loss: 1.5872 - accuracy: 0.5877 - val_loss: 1.1264 - val_accuracy: 0.5781\n",
            "Epoch 3/10\n",
            "33/33 [==============================] - 26s 799ms/step - loss: 1.0740 - accuracy: 0.5939 - val_loss: 0.8843 - val_accuracy: 0.5915\n",
            "Epoch 4/10\n",
            "33/33 [==============================] - 26s 802ms/step - loss: 0.9109 - accuracy: 0.6148 - val_loss: 0.9542 - val_accuracy: 0.6183\n",
            "Epoch 5/10\n",
            "33/33 [==============================] - 27s 803ms/step - loss: 0.8654 - accuracy: 0.6185 - val_loss: 0.8192 - val_accuracy: 0.5982\n",
            "Epoch 6/10\n",
            "33/33 [==============================] - 26s 800ms/step - loss: 0.7622 - accuracy: 0.6512 - val_loss: 0.7909 - val_accuracy: 0.6585\n",
            "Epoch 7/10\n",
            "33/33 [==============================] - 27s 804ms/step - loss: 0.7381 - accuracy: 0.6765 - val_loss: 0.7549 - val_accuracy: 0.6786\n",
            "Epoch 8/10\n",
            "33/33 [==============================] - 26s 800ms/step - loss: 0.6951 - accuracy: 0.6910 - val_loss: 0.7605 - val_accuracy: 0.6696\n",
            "Epoch 9/10\n",
            "33/33 [==============================] - 26s 801ms/step - loss: 0.6955 - accuracy: 0.6922 - val_loss: 0.7833 - val_accuracy: 0.6339\n",
            "Epoch 10/10\n",
            "33/33 [==============================] - 26s 802ms/step - loss: 0.6828 - accuracy: 0.6838 - val_loss: 0.7928 - val_accuracy: 0.6250\n"
          ],
          "name": "stdout"
        }
      ]
    },
    {
      "cell_type": "code",
      "metadata": {
        "id": "QsOkx6SEUHc6"
      },
      "source": [
        "#Fine-Tuning \n",
        "for layer in model1.layers[14:]:\n",
        "    layer.trainable = True"
      ],
      "id": "QsOkx6SEUHc6",
      "execution_count": null,
      "outputs": []
    },
    {
      "cell_type": "code",
      "metadata": {
        "id": "T7IJHevMUO5A"
      },
      "source": [
        "optimizer = Adam(learning_rate=0.0001, beta_1=0.9, beta_2=0.999, epsilon=None, decay=0.0, amsgrad=False)\n",
        "model1.compile(loss='categorical_crossentropy',\n",
        "              optimizer=optimizer,\n",
        "              metrics=['acc'])\n",
        "learning_rate_reduction = ReduceLROnPlateau(monitor='val_acc', patience=3, verbose=1, factor=0.5, \n",
        "                                            min_lr=0.000001, cooldown=3)"
      ],
      "id": "T7IJHevMUO5A",
      "execution_count": null,
      "outputs": []
    },
    {
      "cell_type": "code",
      "metadata": {
        "colab": {
          "base_uri": "https://localhost:8080/"
        },
        "id": "PCOpPinVUZRw",
        "outputId": "ad452f5c-de67-47c0-df26-acdb5d9f88d6"
      },
      "source": [
        "batch_size = 64\n",
        "epochs = 30\n",
        "history = model1.fit(train_datagen.flow(X_train,Y_train, batch_size=batch_size),\n",
        "                              epochs = epochs, validation_data = val_datagen.flow(X_val, Y_val),\n",
        "                              verbose = 1, steps_per_epoch=(X_train.shape[0] // batch_size),\n",
        "                              validation_steps=(X_val.shape[0] // batch_size), callbacks=[learning_rate_reduction])"
      ],
      "id": "PCOpPinVUZRw",
      "execution_count": null,
      "outputs": [
        {
          "output_type": "stream",
          "text": [
            "Epoch 1/30\n",
            "33/33 [==============================] - 31s 840ms/step - loss: 0.8048 - acc: 0.6470 - val_loss: 0.8712 - val_acc: 0.5804\n",
            "Epoch 2/30\n",
            "33/33 [==============================] - 27s 822ms/step - loss: 0.7594 - acc: 0.6503 - val_loss: 0.7570 - val_acc: 0.6317\n",
            "Epoch 3/30\n",
            "33/33 [==============================] - 27s 827ms/step - loss: 0.6633 - acc: 0.7025 - val_loss: 0.7086 - val_acc: 0.6786\n",
            "Epoch 4/30\n",
            "33/33 [==============================] - 27s 824ms/step - loss: 0.6121 - acc: 0.7372 - val_loss: 0.6741 - val_acc: 0.7054\n",
            "Epoch 5/30\n",
            "33/33 [==============================] - 27s 821ms/step - loss: 0.5961 - acc: 0.7496 - val_loss: 0.6914 - val_acc: 0.6920\n",
            "Epoch 6/30\n",
            "33/33 [==============================] - 27s 816ms/step - loss: 0.5730 - acc: 0.7642 - val_loss: 0.7257 - val_acc: 0.6719\n",
            "Epoch 7/30\n",
            "33/33 [==============================] - 27s 824ms/step - loss: 0.5049 - acc: 0.7738 - val_loss: 0.7422 - val_acc: 0.7188\n",
            "Epoch 8/30\n",
            "33/33 [==============================] - 27s 823ms/step - loss: 0.4367 - acc: 0.8083 - val_loss: 0.7851 - val_acc: 0.6897\n",
            "Epoch 9/30\n",
            "33/33 [==============================] - 27s 823ms/step - loss: 0.3808 - acc: 0.8518 - val_loss: 0.6269 - val_acc: 0.7366\n",
            "Epoch 10/30\n",
            "33/33 [==============================] - 27s 822ms/step - loss: 0.4155 - acc: 0.8210 - val_loss: 0.6264 - val_acc: 0.7433\n",
            "Epoch 11/30\n",
            "33/33 [==============================] - 27s 823ms/step - loss: 0.3573 - acc: 0.8493 - val_loss: 0.7924 - val_acc: 0.7411\n",
            "Epoch 12/30\n",
            "33/33 [==============================] - 27s 825ms/step - loss: 0.3800 - acc: 0.8584 - val_loss: 0.6844 - val_acc: 0.7366\n",
            "Epoch 13/30\n",
            "33/33 [==============================] - 27s 815ms/step - loss: 0.3045 - acc: 0.8814 - val_loss: 0.6167 - val_acc: 0.7656\n",
            "Epoch 14/30\n",
            "33/33 [==============================] - 27s 815ms/step - loss: 0.2497 - acc: 0.8948 - val_loss: 0.7629 - val_acc: 0.7411\n",
            "Epoch 15/30\n",
            "33/33 [==============================] - 27s 814ms/step - loss: 0.3212 - acc: 0.8860 - val_loss: 0.7453 - val_acc: 0.7388\n",
            "Epoch 16/30\n",
            "33/33 [==============================] - 27s 814ms/step - loss: 0.2786 - acc: 0.8981 - val_loss: 0.7455 - val_acc: 0.7232\n",
            "\n",
            "Epoch 00016: ReduceLROnPlateau reducing learning rate to 4.999999873689376e-05.\n",
            "Epoch 17/30\n",
            "33/33 [==============================] - 27s 818ms/step - loss: 0.2110 - acc: 0.9236 - val_loss: 0.7235 - val_acc: 0.7656\n",
            "Epoch 18/30\n",
            "33/33 [==============================] - 27s 824ms/step - loss: 0.1511 - acc: 0.9416 - val_loss: 0.6005 - val_acc: 0.7991\n",
            "Epoch 19/30\n",
            "33/33 [==============================] - 27s 808ms/step - loss: 0.1501 - acc: 0.9503 - val_loss: 0.8653 - val_acc: 0.7812\n",
            "Epoch 20/30\n",
            "33/33 [==============================] - 27s 825ms/step - loss: 0.1767 - acc: 0.9363 - val_loss: 0.7997 - val_acc: 0.7902\n",
            "Epoch 21/30\n",
            "33/33 [==============================] - 27s 811ms/step - loss: 0.1165 - acc: 0.9519 - val_loss: 0.6767 - val_acc: 0.8013\n",
            "Epoch 22/30\n",
            "33/33 [==============================] - 27s 809ms/step - loss: 0.1414 - acc: 0.9418 - val_loss: 0.7444 - val_acc: 0.8013\n",
            "Epoch 23/30\n",
            "33/33 [==============================] - 27s 813ms/step - loss: 0.1146 - acc: 0.9532 - val_loss: 0.7888 - val_acc: 0.7924\n",
            "Epoch 24/30\n",
            "33/33 [==============================] - 27s 808ms/step - loss: 0.1023 - acc: 0.9611 - val_loss: 0.9566 - val_acc: 0.7746\n",
            "\n",
            "Epoch 00024: ReduceLROnPlateau reducing learning rate to 2.499999936844688e-05.\n",
            "Epoch 25/30\n",
            "33/33 [==============================] - 27s 804ms/step - loss: 0.0888 - acc: 0.9665 - val_loss: 0.5984 - val_acc: 0.8281\n",
            "Epoch 26/30\n",
            "33/33 [==============================] - 27s 807ms/step - loss: 0.0639 - acc: 0.9783 - val_loss: 0.7525 - val_acc: 0.8013\n",
            "Epoch 27/30\n",
            "33/33 [==============================] - 27s 806ms/step - loss: 0.0687 - acc: 0.9772 - val_loss: 0.8652 - val_acc: 0.7812\n",
            "Epoch 28/30\n",
            "33/33 [==============================] - 27s 808ms/step - loss: 0.0489 - acc: 0.9806 - val_loss: 0.8035 - val_acc: 0.8259\n",
            "Epoch 29/30\n",
            "33/33 [==============================] - 27s 802ms/step - loss: 0.0710 - acc: 0.9679 - val_loss: 0.7856 - val_acc: 0.8125\n",
            "\n",
            "Epoch 00029: ReduceLROnPlateau reducing learning rate to 1.249999968422344e-05.\n",
            "Epoch 30/30\n",
            "33/33 [==============================] - 27s 809ms/step - loss: 0.0695 - acc: 0.9793 - val_loss: 0.8292 - val_acc: 0.8170\n"
          ],
          "name": "stdout"
        }
      ]
    },
    {
      "cell_type": "code",
      "metadata": {
        "colab": {
          "base_uri": "https://localhost:8080/"
        },
        "id": "ukqaa2m3RajB",
        "outputId": "12104984-e0c6-43c7-d32f-ef08ef033960"
      },
      "source": [
        "loss_val, acc_val = model1.evaluate(X_val, Y_val, verbose=1)\n",
        "print(\"Validation: accuracy = %f  ;  loss_v = %f\" % (acc_val, loss_val))"
      ],
      "id": "ukqaa2m3RajB",
      "execution_count": null,
      "outputs": [
        {
          "output_type": "stream",
          "text": [
            "30/30 [==============================] - 5s 162ms/step - loss: 1.0017 - acc: 0.8120\n",
            "Validation: accuracy = 0.812030  ;  loss_v = 1.001725\n"
          ],
          "name": "stdout"
        }
      ]
    },
    {
      "cell_type": "code",
      "metadata": {
        "colab": {
          "base_uri": "https://localhost:8080/",
          "height": 311
        },
        "id": "2e94a28c",
        "outputId": "d24c3047-6cef-4b50-fea2-4b727ca69ad6"
      },
      "source": [
        "from sklearn.metrics import confusion_matrix\n",
        "import itertools\n",
        "def plot_confusion_matrix(cm, classes,\n",
        "                          normalize=False,\n",
        "                          title='Confusion matrix',\n",
        "                          cmap=plt.cm.Blues):\n",
        "    \"\"\"\n",
        "    This function prints and plots the confusion matrix.\n",
        "    Normalization can be applied by setting `normalize=True`.\n",
        "    \"\"\"\n",
        "    plt.imshow(cm, interpolation='nearest', cmap=cmap)\n",
        "    plt.title(title)\n",
        "    plt.colorbar()\n",
        "    tick_marks = np.arange(len(classes))\n",
        "    plt.xticks(tick_marks, classes, rotation=45)\n",
        "    plt.yticks(tick_marks, classes)\n",
        "\n",
        "    if normalize:\n",
        "        cm = cm.astype('float') / cm.sum(axis=1)[:, np.newaxis]\n",
        "\n",
        "    thresh = cm.max() / 2.\n",
        "    for i, j in itertools.product(range(cm.shape[0]), range(cm.shape[1])):\n",
        "        plt.text(j, i, cm[i, j],\n",
        "                 horizontalalignment=\"center\",\n",
        "                 color=\"white\" if cm[i, j] > thresh else \"black\")\n",
        "\n",
        "    plt.tight_layout()\n",
        "    plt.ylabel('True label')\n",
        "    plt.xlabel('Predicted label')\n",
        "\n",
        "# Predict the values from the validation dataset\n",
        "y_pred = model1.predict(X_val)\n",
        "# Convert predictions classes to one hot vectors \n",
        "y_pred_classes = np.argmax(y_pred,axis = 1) \n",
        "# Convert validation observations to one hot vectors\n",
        "y_true = np.argmax(Y_val,axis = 1) \n",
        "# compute the confusion matrix\n",
        "confusion_mtx = confusion_matrix(y_true, y_pred_classes) \n",
        "# plot the confusion matrix\n",
        "plot_confusion_matrix(confusion_mtx, classes = range(3))"
      ],
      "id": "2e94a28c",
      "execution_count": null,
      "outputs": [
        {
          "output_type": "display_data",
          "data": {
            "image/png": "[encoded data removed]",
            "text/plain": [
              "<Figure size 432x288 with 2 Axes>"
            ]
          },
          "metadata": {
            "tags": [],
            "needs_background": "light"
          }
        }
      ]
    },
    {
      "cell_type": "markdown",
      "metadata": {
        "id": "4r8uQdfZRtsA"
      },
      "source": [
        "TESTING1\n"
      ],
      "id": "4r8uQdfZRtsA"
    },
    {
      "cell_type": "code",
      "metadata": {
        "colab": {
          "base_uri": "https://localhost:8080/"
        },
        "id": "vT8XWX1IRx3X",
        "outputId": "85945f7b-4a5a-46a9-8136-dd9fc22300a7"
      },
      "source": [
        "loss_test, acc_test = model1.evaluate(X_test, Y_test, verbose=1)\n",
        "print(\"Test: accuracy = %f  ;  loss = %f\" % (acc_test, loss_test))"
      ],
      "id": "vT8XWX1IRx3X",
      "execution_count": null,
      "outputs": [
        {
          "output_type": "stream",
          "text": [
            "25/25 [==============================] - 5s 216ms/step - loss: 0.9559 - acc: 0.8108\n",
            "Test: accuracy = 0.810811  ;  loss = 0.955907\n"
          ],
          "name": "stdout"
        }
      ]
    },
    {
      "cell_type": "code",
      "metadata": {
        "colab": {
          "base_uri": "https://localhost:8080/",
          "height": 561
        },
        "id": "GKjkUk6qR0sQ",
        "outputId": "0dc061a8-7237-4080-b52f-fd1cdeb9eaa2"
      },
      "source": [
        "# Retrieve a list of accuracy results on training and test data\n",
        "# sets for each training epoch\n",
        "acc = history.history['acc']\n",
        "val_acc = history.history['val_acc']\n",
        "\n",
        "# Retrieve a list of list results on training and test data\n",
        "# sets for each training epoch\n",
        "loss = history.history['loss']\n",
        "val_loss = history.history['val_loss']\n",
        "\n",
        "# Get number of epochs\n",
        "epochs = range(len(acc))\n",
        "\n",
        "# Plot training and validation accuracy per epoch\n",
        "plt.plot(epochs, acc, label = \"training\")\n",
        "plt.plot(epochs, val_acc, label = \"validation\")\n",
        "plt.legend(loc=\"upper left\")\n",
        "plt.title('Training and validation accuracy')\n",
        "\n",
        "plt.figure()\n",
        "\n",
        "# Plot training and validation loss per epoch\n",
        "plt.plot(epochs, loss, label = \"training\")\n",
        "plt.plot(epochs, val_loss, label = \"validation\")\n",
        "plt.legend(loc=\"upper right\")\n",
        "plt.title('Training and validation loss')"
      ],
      "id": "GKjkUk6qR0sQ",
      "execution_count": null,
      "outputs": [
        {
          "output_type": "execute_result",
          "data": {
            "text/plain": [
              "Text(0.5, 1.0, 'Training and validation loss')"
            ]
          },
          "metadata": {
            "tags": []
          },
          "execution_count": 26
        },
        {
          "output_type": "display_data",
          "data": {
            "image/png": "[encoded data removed]",
            "text/plain": [
              "<Figure size 432x288 with 1 Axes>"
            ]
          },
          "metadata": {
            "tags": [],
            "needs_background": "light"
          }
        },
        {
          "output_type": "display_data",
          "data": {
            "image/png": "[encoded data removed]",
            "text/plain": [
              "<Figure size 432x288 with 1 Axes>"
            ]
          },
          "metadata": {
            "tags": [],
            "needs_background": "light"
          }
        }
      ]
    }
  ]
}