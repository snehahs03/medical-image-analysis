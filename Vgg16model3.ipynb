{
  "nbformat": 4,
  "nbformat_minor": 5,
  "metadata": {
    "kernelspec": {
      "name": "python3",
      "display_name": "Python 3"
    },
    "colab": {
      "name": "Vgg16model3.ipynb",
      "provenance": [],
      "collapsed_sections": [],
      "include_colab_link": true
    },
    "accelerator": "GPU",
    "language_info": {
      "name": "python"
    }
  },
  "cells": [
    {
      "cell_type": "markdown",
      "metadata": {
        "id": "view-in-github",
        "colab_type": "text"
      },
      "source": [
        "<a href=\"https://colab.research.google.com/github/snehahs03/medical-image-analysis/blob/main/Vgg16model3.ipynb\" target=\"_parent\"><img src=\"https://colab.research.google.com/assets/colab-badge.svg\" alt=\"Open In Colab\"/></a>"
      ]
    },
    {
      "cell_type": "code",
      "metadata": {
        "colab": {
          "base_uri": "https://localhost:8080/"
        },
        "id": "1Fz2n3MAjFC-",
        "outputId": "ca925275-1741-4e9e-f8d8-732ed5fab4fa"
      },
      "source": [
        "from google.colab import drive\n",
        "drive.mount('/content/drive')"
      ],
      "id": "1Fz2n3MAjFC-",
      "execution_count": 27,
      "outputs": [
        {
          "output_type": "stream",
          "text": [
            "Mounted at /content/drive\n"
          ],
          "name": "stdout"
        }
      ]
    },
    {
      "cell_type": "code",
      "metadata": {
        "colab": {
          "base_uri": "https://localhost:8080/"
        },
        "id": "ZH9WlueNjO_l",
        "outputId": "cfee19e1-3202-4e77-9c55-ff0a90c3879c"
      },
      "source": [
        "%cd drive"
      ],
      "id": "ZH9WlueNjO_l",
      "execution_count": 28,
      "outputs": [
        {
          "output_type": "stream",
          "text": [
            "/content/drive\n"
          ],
          "name": "stdout"
        }
      ]
    },
    {
      "cell_type": "code",
      "metadata": {
        "colab": {
          "base_uri": "https://localhost:8080/"
        },
        "id": "MVOtcnAfjTPo",
        "outputId": "de2ff23e-8664-4fd3-dce7-96bf8522c796"
      },
      "source": [
        "%cd MyDrive"
      ],
      "id": "MVOtcnAfjTPo",
      "execution_count": 29,
      "outputs": [
        {
          "output_type": "stream",
          "text": [
            "/content/drive/MyDrive\n"
          ],
          "name": "stdout"
        }
      ]
    },
    {
      "cell_type": "code",
      "metadata": {
        "colab": {
          "base_uri": "https://localhost:8080/"
        },
        "id": "5BzrNH1XjYYP",
        "outputId": "0c1962dd-b0e1-40a0-e8c0-6d55eb8b8177"
      },
      "source": [
        "%cd medical-image-analysis"
      ],
      "id": "5BzrNH1XjYYP",
      "execution_count": 30,
      "outputs": [
        {
          "output_type": "stream",
          "text": [
            "/content/drive/My Drive/medical-image-analysis\n"
          ],
          "name": "stdout"
        }
      ]
    },
    {
      "cell_type": "code",
      "metadata": {
        "colab": {
          "base_uri": "https://localhost:8080/"
        },
        "id": "H-lDRiiwQavC",
        "outputId": "644d3f6d-888d-4ef6-c968-eed14ab1a76e"
      },
      "source": [
        "!git clone https://github.com/snehahs03/medical-image-analysis.git"
      ],
      "id": "H-lDRiiwQavC",
      "execution_count": 2,
      "outputs": [
        {
          "output_type": "stream",
          "text": [
            "fatal: destination path 'medical-image-analysis' already exists and is not an empty directory.\n"
          ],
          "name": "stdout"
        }
      ]
    },
    {
      "cell_type": "code",
      "metadata": {
        "id": "97cfb9c4"
      },
      "source": [
        "import json\n",
        "import math\n",
        "import os\n",
        "import cv2\n",
        "from PIL import Image\n",
        "import numpy as np\n",
        "from keras import layers\n",
        "from keras.callbacks import Callback, ModelCheckpoint, ReduceLROnPlateau, TensorBoard\n",
        "from keras.models import Model\n",
        "from keras.preprocessing.image import ImageDataGenerator\n",
        "from keras.utils.np_utils import to_categorical\n",
        "from keras.models import Sequential\n",
        "from keras.optimizers import Adam\n",
        "import matplotlib.pyplot as plt\n",
        "import pandas as pd\n",
        "from sklearn.model_selection import train_test_split\n",
        "from sklearn.metrics import cohen_kappa_score, accuracy_score\n",
        "import scipy\n",
        "import tensorflow as tf\n",
        "from keras import backend as K\n",
        "import gc\n",
        "from functools import partial\n",
        "from tqdm import tqdm\n",
        "from sklearn import metrics\n",
        "from collections import Counter\n",
        "import itertools\n",
        "from keras.applications.vgg16 import VGG16, preprocess_input\n",
        "from keras.callbacks import ModelCheckpoint, EarlyStopping\n",
        "from keras.layers import Dense, Dropout, Flatten\n",
        "from keras.layers import Input, Lambda, Dense, Flatten\n",
        "from keras.preprocessing import image\n",
        "from glob import glob"
      ],
      "id": "97cfb9c4",
      "execution_count": 3,
      "outputs": []
    },
    {
      "cell_type": "code",
      "metadata": {
        "id": "53fc4864"
      },
      "source": [
        "def Dataset_loader(DIR, RESIZE, sigmaX=10):\n",
        "    IMG = []\n",
        "    read = lambda imname: np.asarray(Image.open(imname).convert(\"RGB\"))\n",
        "    for IMAGE_NAME in tqdm(os.listdir(DIR)):\n",
        "        PATH = os.path.join(DIR,IMAGE_NAME)\n",
        "        _, ftype = os.path.splitext(PATH)\n",
        "        if ftype == \".jpg\":\n",
        "            img = read(PATH)\n",
        "           \n",
        "            img = cv2.resize(img, (RESIZE,RESIZE))\n",
        "           \n",
        "            IMG.append(np.array(img))\n",
        "    return IMG"
      ],
      "id": "53fc4864",
      "execution_count": 4,
      "outputs": []
    },
    {
      "cell_type": "code",
      "metadata": {
        "colab": {
          "base_uri": "https://localhost:8080/"
        },
        "id": "675f14ba",
        "outputId": "3a05d4d4-3feb-4857-b161-d737b5ea17d2"
      },
      "source": [
        "eczema_train = np.array(Dataset_loader(\"/content/medical-image-analysis/train/Eczema Photos\", 224))\n",
        "melanoma_train = np.array(Dataset_loader(\"/content/medical-image-analysis/train/Melanoma Skin Cancer Nevi and Moles\",224))\n",
        "psoriasis_train = np.array(Dataset_loader(\"/content/medical-image-analysis/train/Psoriasis pictures Lichen Planus and related diseases\",224))\n",
        "eczema_test = np.array(Dataset_loader(\"/content/medical-image-analysis/test/Eczema Photos\",224))\n",
        "melonoma_test = np.array(Dataset_loader(\"/content/medical-image-analysis/test/Melanoma Skin Cancer Nevi and Moles\",224))\n",
        "psoriasis_test = np.array(Dataset_loader(\"/content/medical-image-analysis/test/Psoriasis pictures Lichen Planus and related diseases\", 224))\n"
      ],
      "id": "675f14ba",
      "execution_count": 5,
      "outputs": [
        {
          "output_type": "stream",
          "text": [
            "100%|██████████| 1235/1235 [00:07<00:00, 158.21it/s]\n",
            "100%|██████████| 463/463 [00:02<00:00, 155.34it/s]\n",
            "100%|██████████| 1405/1405 [00:08<00:00, 156.80it/s]\n",
            "100%|██████████| 309/309 [00:01<00:00, 157.23it/s]\n",
            "100%|██████████| 116/116 [00:00<00:00, 156.23it/s]\n",
            "100%|██████████| 352/352 [00:02<00:00, 158.32it/s]\n"
          ],
          "name": "stderr"
        }
      ]
    },
    {
      "cell_type": "code",
      "metadata": {
        "id": "e38c2004"
      },
      "source": [
        "#labelling \n",
        "eczema_train_label = np.full(len(eczema_train),0)\n",
        "melonoma_train_label = np.full(len(melanoma_train),1)\n",
        "psoriasis_train_label = np.full(len(psoriasis_train),2)\n",
        "eczema_test_label = np.full(len(eczema_test),0)\n",
        "melonoma_test_label = np.full(len(melonoma_test),1)\n",
        "psoriasis_test_label = np.full(len(psoriasis_test),2)"
      ],
      "id": "e38c2004",
      "execution_count": 6,
      "outputs": []
    },
    {
      "cell_type": "code",
      "metadata": {
        "colab": {
          "base_uri": "https://localhost:8080/"
        },
        "id": "2e4abed4",
        "outputId": "3a656a9c-4e5f-4f66-c01a-77133d57c1c6"
      },
      "source": [
        "X_train = np.concatenate((eczema_train, melanoma_train, psoriasis_train), axis=0)\n",
        "Y_train = np.concatenate((eczema_train_label, melonoma_train_label, psoriasis_train_label), axis=0)\n",
        "X_test = np.concatenate((eczema_test, melonoma_test, psoriasis_test), axis=0)\n",
        "Y_test = np.concatenate((eczema_test_label, melonoma_test_label, psoriasis_test_label), axis = 0)\n",
        "print(Y_test.shape)\n",
        "print(X_test.shape)"
      ],
      "id": "2e4abed4",
      "execution_count": 7,
      "outputs": [
        {
          "output_type": "stream",
          "text": [
            "(777,)\n",
            "(777, 224, 224, 3)\n"
          ],
          "name": "stdout"
        }
      ]
    },
    {
      "cell_type": "code",
      "metadata": {
        "id": "e40a3bc5"
      },
      "source": [
        "s = np.arange(X_train.shape[0])\n",
        "np.random.shuffle(s)\n",
        "X_train = X_train[s]\n",
        "Y_train = Y_train[s]\n",
        "\n",
        "s = np.arange(X_test.shape[0])\n",
        "np.random.shuffle(s)\n",
        "X_test = X_test[s]\n",
        "Y_test = Y_test[s]\n",
        "\n",
        "Y_train = to_categorical(Y_train, num_classes= 3)\n",
        "Y_test = to_categorical(Y_test, num_classes= 3)\n",
        "\n",
        "#train and evaluation split\n",
        "X_train, X_val, Y_train, Y_val = train_test_split(\n",
        "    X_train, Y_train, \n",
        "    test_size=0.3, \n",
        "    random_state=5\n",
        ")"
      ],
      "id": "e40a3bc5",
      "execution_count": 8,
      "outputs": []
    },
    {
      "cell_type": "code",
      "metadata": {
        "colab": {
          "base_uri": "https://localhost:8080/"
        },
        "id": "3e475dfb",
        "outputId": "c2b28c71-bdb4-429e-8a7c-751eed782cd2"
      },
      "source": [
        "X_train.shape, Y_train.shape"
      ],
      "id": "3e475dfb",
      "execution_count": 9,
      "outputs": [
        {
          "output_type": "execute_result",
          "data": {
            "text/plain": [
              "((2172, 224, 224, 3), (2172, 3))"
            ]
          },
          "metadata": {
            "tags": []
          },
          "execution_count": 9
        }
      ]
    },
    {
      "cell_type": "code",
      "metadata": {
        "colab": {
          "base_uri": "https://localhost:8080/"
        },
        "id": "258c8f7f",
        "outputId": "e17228cc-6327-4e05-f769-2955a95acfa5"
      },
      "source": [
        "X_val.shape, Y_val.shape"
      ],
      "id": "258c8f7f",
      "execution_count": 10,
      "outputs": [
        {
          "output_type": "execute_result",
          "data": {
            "text/plain": [
              "((931, 224, 224, 3), (931, 3))"
            ]
          },
          "metadata": {
            "tags": []
          },
          "execution_count": 10
        }
      ]
    },
    {
      "cell_type": "code",
      "metadata": {
        "colab": {
          "base_uri": "https://localhost:8080/"
        },
        "id": "8n0EgaD3WWAE",
        "outputId": "7961351e-0c84-4717-e162-0df9b005be5d"
      },
      "source": [
        "X_test.shape, Y_test.shape"
      ],
      "id": "8n0EgaD3WWAE",
      "execution_count": 11,
      "outputs": [
        {
          "output_type": "execute_result",
          "data": {
            "text/plain": [
              "((777, 224, 224, 3), (777, 3))"
            ]
          },
          "metadata": {
            "tags": []
          },
          "execution_count": 11
        }
      ]
    },
    {
      "cell_type": "code",
      "metadata": {
        "id": "a67f35b1",
        "colab": {
          "base_uri": "https://localhost:8080/"
        },
        "outputId": "1aa0aebb-6ed9-4bf4-e5cf-41963e349b8a"
      },
      "source": [
        "#load in pretrained model\n",
        "vgg = VGG16(input_shape=(224,224,3), weights='imagenet', include_top=False)\n",
        "for layer in vgg.layers:\n",
        "  layer.trainable = False"
      ],
      "id": "a67f35b1",
      "execution_count": 12,
      "outputs": [
        {
          "output_type": "stream",
          "text": [
            "Downloading data from https://storage.googleapis.com/tensorflow/keras-applications/vgg16/vgg16_weights_tf_dim_ordering_tf_kernels_notop.h5\n",
            "58892288/58889256 [==============================] - 1s 0us/step\n",
            "58900480/58889256 [==============================] - 1s 0us/step\n"
          ],
          "name": "stdout"
        }
      ]
    },
    {
      "cell_type": "code",
      "metadata": {
        "id": "a476c740"
      },
      "source": [
        "#adding output layer\n",
        "top_model = vgg.output\n",
        "top_model = Flatten(name=\"flatten\")(top_model)\n",
        "top_model = Dense(4096, activation='relu')(top_model)\n",
        "top_model = Dense(1072, activation='relu')(top_model)\n",
        "top_model = Dropout(0.2)(top_model)\n",
        "output_layer = Dense(3, activation='softmax')(top_model)"
      ],
      "id": "a476c740",
      "execution_count": 13,
      "outputs": []
    },
    {
      "cell_type": "code",
      "metadata": {
        "id": "36dbd445"
      },
      "source": [
        "#create a model object\n",
        "model3 = Model(inputs=vgg.input, outputs=output_layer)\n",
        "optimizer = Adam(learning_rate=0.0001, beta_1=0.9, beta_2=0.999, epsilon=None, decay=0.0, amsgrad=True)\n",
        "model3.compile(loss='categorical_crossentropy',\n",
        "              optimizer=optimizer,\n",
        "              metrics=['accuracy'])"
      ],
      "id": "36dbd445",
      "execution_count": 14,
      "outputs": []
    },
    {
      "cell_type": "code",
      "metadata": {
        "id": "e6cfee67"
      },
      "source": [
        "#Feature extraction\n",
        "train_datagen = ImageDataGenerator(rotation_range=60, width_shift_range=0.2, height_shift_range=0.2,\n",
        "                                   shear_range=0.2, zoom_range=0.2, fill_mode='nearest')\n",
        "\n",
        "train_datagen.fit(X_train)\n",
        "\n",
        "val_datagen = ImageDataGenerator(rotation_range=60, width_shift_range=0.2, height_shift_range=0.2,\n",
        "                                   shear_range=0.2, zoom_range=0.2, fill_mode='nearest')\n",
        "val_datagen.fit(X_val)\n"
      ],
      "id": "e6cfee67",
      "execution_count": 15,
      "outputs": []
    },
    {
      "cell_type": "code",
      "metadata": {
        "colab": {
          "base_uri": "https://localhost:8080/"
        },
        "id": "ff25ec59",
        "outputId": "bf4b6f2d-7d25-43fd-8a4f-255d9415f99e"
      },
      "source": [
        "batch_size = 64\n",
        "epochs = 10\n",
        "history3 = model3.fit(train_datagen.flow(X_train,Y_train, batch_size=batch_size),\n",
        "                              epochs = epochs, validation_data = val_datagen.flow(X_val, Y_val),\n",
        "                              verbose = 1, steps_per_epoch=(X_train.shape[0] // batch_size), \n",
        "                              validation_steps=(X_val.shape[0] // batch_size))\n"
      ],
      "id": "ff25ec59",
      "execution_count": 16,
      "outputs": [
        {
          "output_type": "stream",
          "text": [
            "Epoch 1/10\n",
            "33/33 [==============================] - 95s 1s/step - loss: 13.1375 - accuracy: 0.4676 - val_loss: 1.4582 - val_accuracy: 0.5513\n",
            "Epoch 2/10\n",
            "33/33 [==============================] - 29s 876ms/step - loss: 1.7409 - accuracy: 0.5596 - val_loss: 1.1577 - val_accuracy: 0.5759\n",
            "Epoch 3/10\n",
            "33/33 [==============================] - 29s 870ms/step - loss: 1.1127 - accuracy: 0.6093 - val_loss: 1.0920 - val_accuracy: 0.5469\n",
            "Epoch 4/10\n",
            "33/33 [==============================] - 29s 873ms/step - loss: 0.8988 - accuracy: 0.6259 - val_loss: 0.8021 - val_accuracy: 0.6138\n",
            "Epoch 5/10\n",
            "33/33 [==============================] - 29s 870ms/step - loss: 0.7714 - accuracy: 0.6488 - val_loss: 0.8456 - val_accuracy: 0.6250\n",
            "Epoch 6/10\n",
            "33/33 [==============================] - 29s 866ms/step - loss: 0.7558 - accuracy: 0.6621 - val_loss: 0.8266 - val_accuracy: 0.6027\n",
            "Epoch 7/10\n",
            "33/33 [==============================] - 29s 870ms/step - loss: 0.7315 - accuracy: 0.6794 - val_loss: 0.8682 - val_accuracy: 0.6027\n",
            "Epoch 8/10\n",
            "33/33 [==============================] - 29s 869ms/step - loss: 0.7103 - accuracy: 0.6624 - val_loss: 0.7682 - val_accuracy: 0.6674\n",
            "Epoch 9/10\n",
            "33/33 [==============================] - 29s 871ms/step - loss: 0.7015 - accuracy: 0.6741 - val_loss: 0.7249 - val_accuracy: 0.6674\n",
            "Epoch 10/10\n",
            "33/33 [==============================] - 29s 878ms/step - loss: 0.6902 - accuracy: 0.6967 - val_loss: 0.7838 - val_accuracy: 0.6607\n"
          ],
          "name": "stdout"
        }
      ]
    },
    {
      "cell_type": "code",
      "metadata": {
        "id": "QsOkx6SEUHc6"
      },
      "source": [
        "#Fine-Tuning \n",
        "for layer in model3.layers[16:]:\n",
        "    layer.trainable = True"
      ],
      "id": "QsOkx6SEUHc6",
      "execution_count": 18,
      "outputs": []
    },
    {
      "cell_type": "code",
      "metadata": {
        "id": "T7IJHevMUO5A"
      },
      "source": [
        "optimizer = Adam(learning_rate=0.0001, beta_1=0.9, beta_2=0.999, epsilon=None, decay=0.0, amsgrad=False)\n",
        "model3.compile(loss='categorical_crossentropy',\n",
        "              optimizer=optimizer,\n",
        "              metrics=['acc'])\n",
        "learning_rate_reduction = ReduceLROnPlateau(monitor='val_acc', patience=3, verbose=1, factor=0.5, \n",
        "                                            min_lr=0.000001, cooldown=3)"
      ],
      "id": "T7IJHevMUO5A",
      "execution_count": 19,
      "outputs": []
    },
    {
      "cell_type": "code",
      "metadata": {
        "colab": {
          "base_uri": "https://localhost:8080/"
        },
        "id": "PCOpPinVUZRw",
        "outputId": "ac4ac059-b188-457e-ea5f-02dd21fee9fc"
      },
      "source": [
        "batch_size = 64\n",
        "epochs = 30\n",
        "history3 = model3.fit(train_datagen.flow(X_train,Y_train, batch_size=batch_size),\n",
        "                              epochs = epochs, validation_data = val_datagen.flow(X_val, Y_val),\n",
        "                              verbose = 1, steps_per_epoch=(X_train.shape[0] // batch_size),\n",
        "                              validation_steps=(X_val.shape[0] // batch_size), callbacks=[learning_rate_reduction])"
      ],
      "id": "PCOpPinVUZRw",
      "execution_count": 20,
      "outputs": [
        {
          "output_type": "stream",
          "text": [
            "Epoch 1/30\n",
            "33/33 [==============================] - 33s 903ms/step - loss: 0.7725 - acc: 0.6483 - val_loss: 0.8863 - val_acc: 0.5938\n",
            "Epoch 2/30\n",
            "33/33 [==============================] - 29s 881ms/step - loss: 0.7260 - acc: 0.6832 - val_loss: 0.7534 - val_acc: 0.6674\n",
            "Epoch 3/30\n",
            "33/33 [==============================] - 29s 880ms/step - loss: 0.6251 - acc: 0.7180 - val_loss: 0.7413 - val_acc: 0.6875\n",
            "Epoch 4/30\n",
            "33/33 [==============================] - 29s 885ms/step - loss: 0.5914 - acc: 0.7507 - val_loss: 0.7686 - val_acc: 0.6585\n",
            "Epoch 5/30\n",
            "33/33 [==============================] - 29s 882ms/step - loss: 0.5604 - acc: 0.7550 - val_loss: 0.8023 - val_acc: 0.6830\n",
            "Epoch 6/30\n",
            "33/33 [==============================] - 29s 885ms/step - loss: 0.4962 - acc: 0.7901 - val_loss: 0.7008 - val_acc: 0.6964\n",
            "Epoch 7/30\n",
            "33/33 [==============================] - 29s 888ms/step - loss: 0.4598 - acc: 0.8119 - val_loss: 0.7451 - val_acc: 0.7210\n",
            "Epoch 8/30\n",
            "33/33 [==============================] - 29s 887ms/step - loss: 0.4470 - acc: 0.8197 - val_loss: 0.8109 - val_acc: 0.7031\n",
            "Epoch 9/30\n",
            "33/33 [==============================] - 29s 884ms/step - loss: 0.4058 - acc: 0.8316 - val_loss: 0.6887 - val_acc: 0.6942\n",
            "Epoch 10/30\n",
            "33/33 [==============================] - 29s 884ms/step - loss: 0.4340 - acc: 0.8177 - val_loss: 0.6851 - val_acc: 0.7232\n",
            "Epoch 11/30\n",
            "33/33 [==============================] - 29s 888ms/step - loss: 0.3646 - acc: 0.8554 - val_loss: 0.7514 - val_acc: 0.7344\n",
            "Epoch 12/30\n",
            "33/33 [==============================] - 29s 884ms/step - loss: 0.3286 - acc: 0.8696 - val_loss: 0.7841 - val_acc: 0.7188\n",
            "Epoch 13/30\n",
            "33/33 [==============================] - 29s 886ms/step - loss: 0.4081 - acc: 0.8452 - val_loss: 0.7157 - val_acc: 0.7366\n",
            "Epoch 14/30\n",
            "33/33 [==============================] - 29s 879ms/step - loss: 0.3169 - acc: 0.8624 - val_loss: 0.6647 - val_acc: 0.7701\n",
            "Epoch 15/30\n",
            "33/33 [==============================] - 29s 887ms/step - loss: 0.2783 - acc: 0.8839 - val_loss: 0.8579 - val_acc: 0.7098\n",
            "Epoch 16/30\n",
            "33/33 [==============================] - 29s 881ms/step - loss: 0.2618 - acc: 0.8999 - val_loss: 0.6780 - val_acc: 0.7232\n",
            "Epoch 17/30\n",
            "33/33 [==============================] - 29s 883ms/step - loss: 0.2730 - acc: 0.8922 - val_loss: 0.8153 - val_acc: 0.7433\n",
            "\n",
            "Epoch 00017: ReduceLROnPlateau reducing learning rate to 4.999999873689376e-05.\n",
            "Epoch 18/30\n",
            "33/33 [==============================] - 29s 887ms/step - loss: 0.2206 - acc: 0.9122 - val_loss: 0.6492 - val_acc: 0.7500\n",
            "Epoch 19/30\n",
            "33/33 [==============================] - 29s 878ms/step - loss: 0.2249 - acc: 0.9211 - val_loss: 0.8019 - val_acc: 0.7478\n",
            "Epoch 20/30\n",
            "33/33 [==============================] - 29s 888ms/step - loss: 0.1787 - acc: 0.9296 - val_loss: 0.8105 - val_acc: 0.7612\n",
            "Epoch 21/30\n",
            "33/33 [==============================] - 29s 879ms/step - loss: 0.1631 - acc: 0.9423 - val_loss: 0.8823 - val_acc: 0.7388\n",
            "Epoch 22/30\n",
            "33/33 [==============================] - 29s 884ms/step - loss: 0.1657 - acc: 0.9302 - val_loss: 0.7525 - val_acc: 0.7545\n",
            "\n",
            "Epoch 00022: ReduceLROnPlateau reducing learning rate to 2.499999936844688e-05.\n",
            "Epoch 23/30\n",
            "33/33 [==============================] - 29s 883ms/step - loss: 0.1198 - acc: 0.9509 - val_loss: 0.7435 - val_acc: 0.7746\n",
            "Epoch 24/30\n",
            "33/33 [==============================] - 29s 886ms/step - loss: 0.1274 - acc: 0.9511 - val_loss: 0.7794 - val_acc: 0.7790\n",
            "Epoch 25/30\n",
            "33/33 [==============================] - 30s 894ms/step - loss: 0.1337 - acc: 0.9529 - val_loss: 0.7608 - val_acc: 0.7946\n",
            "Epoch 26/30\n",
            "33/33 [==============================] - 29s 881ms/step - loss: 0.0982 - acc: 0.9634 - val_loss: 0.8263 - val_acc: 0.7835\n",
            "Epoch 27/30\n",
            "33/33 [==============================] - 29s 884ms/step - loss: 0.0930 - acc: 0.9669 - val_loss: 0.9517 - val_acc: 0.7545\n",
            "Epoch 28/30\n",
            "33/33 [==============================] - 29s 879ms/step - loss: 0.0910 - acc: 0.9652 - val_loss: 0.8670 - val_acc: 0.7879\n",
            "\n",
            "Epoch 00028: ReduceLROnPlateau reducing learning rate to 1.249999968422344e-05.\n",
            "Epoch 29/30\n",
            "33/33 [==============================] - 29s 877ms/step - loss: 0.1053 - acc: 0.9589 - val_loss: 0.7933 - val_acc: 0.7902\n",
            "Epoch 30/30\n",
            "33/33 [==============================] - 29s 882ms/step - loss: 0.0828 - acc: 0.9676 - val_loss: 0.8184 - val_acc: 0.7701\n"
          ],
          "name": "stdout"
        }
      ]
    },
    {
      "cell_type": "code",
      "metadata": {
        "colab": {
          "base_uri": "https://localhost:8080/"
        },
        "id": "ukqaa2m3RajB",
        "outputId": "f8ae9f4b-731f-4fcf-df89-6d11a7d2b477"
      },
      "source": [
        "loss_val, acc_val = model3.evaluate(X_val, Y_val, verbose=1)\n",
        "print(\"Validation: accuracy = %f  ;  loss_v = %f\" % (acc_val, loss_val))"
      ],
      "id": "ukqaa2m3RajB",
      "execution_count": 21,
      "outputs": [
        {
          "output_type": "stream",
          "text": [
            "30/30 [==============================] - 6s 172ms/step - loss: 1.1131 - acc: 0.7723\n",
            "Validation: accuracy = 0.772288  ;  loss_v = 1.113061\n"
          ],
          "name": "stdout"
        }
      ]
    },
    {
      "cell_type": "code",
      "metadata": {
        "colab": {
          "base_uri": "https://localhost:8080/",
          "height": 311
        },
        "id": "2e94a28c",
        "outputId": "4b8dd3c2-4b42-4974-ab67-24a2cd960541"
      },
      "source": [
        "from sklearn.metrics import confusion_matrix\n",
        "import itertools\n",
        "def plot_confusion_matrix(cm, classes,\n",
        "                          normalize=False,\n",
        "                          title='Confusion matrix',\n",
        "                          cmap=plt.cm.Blues):\n",
        "    \"\"\"\n",
        "    This function prints and plots the confusion matrix.\n",
        "    Normalization can be applied by setting `normalize=True`.\n",
        "    \"\"\"\n",
        "    plt.imshow(cm, interpolation='nearest', cmap=cmap)\n",
        "    plt.title(title)\n",
        "    plt.colorbar()\n",
        "    tick_marks = np.arange(len(classes))\n",
        "    plt.xticks(tick_marks, classes, rotation=45)\n",
        "    plt.yticks(tick_marks, classes)\n",
        "\n",
        "    if normalize:\n",
        "        cm = cm.astype('float') / cm.sum(axis=1)[:, np.newaxis]\n",
        "\n",
        "    thresh = cm.max() / 2.\n",
        "    for i, j in itertools.product(range(cm.shape[0]), range(cm.shape[1])):\n",
        "        plt.text(j, i, cm[i, j],\n",
        "                 horizontalalignment=\"center\",\n",
        "                 color=\"white\" if cm[i, j] > thresh else \"black\")\n",
        "\n",
        "    plt.tight_layout()\n",
        "    plt.ylabel('True label')\n",
        "    plt.xlabel('Predicted label')\n",
        "\n",
        "# Predict the values from the validation dataset\n",
        "y_pred = model3.predict(X_val)\n",
        "# Convert predictions classes to one hot vectors \n",
        "y_pred_classes = np.argmax(y_pred,axis = 1) \n",
        "# Convert validation observations to one hot vectors\n",
        "y_true = np.argmax(Y_val,axis = 1) \n",
        "# compute the confusion matrix\n",
        "confusion_mtx = confusion_matrix(y_true, y_pred_classes) \n",
        "# plot the confusion matrix\n",
        "plot_confusion_matrix(confusion_mtx, classes = range(3))"
      ],
      "id": "2e94a28c",
      "execution_count": 22,
      "outputs": [
        {
          "output_type": "display_data",
          "data": {
            "image/png": "[encoded data removed]",
            "text/plain": [
              "<Figure size 432x288 with 2 Axes>"
            ]
          },
          "metadata": {
            "tags": [],
            "needs_background": "light"
          }
        }
      ]
    },
    {
      "cell_type": "markdown",
      "metadata": {
        "id": "4r8uQdfZRtsA"
      },
      "source": [
        "TESTING1\n"
      ],
      "id": "4r8uQdfZRtsA"
    },
    {
      "cell_type": "code",
      "metadata": {
        "colab": {
          "base_uri": "https://localhost:8080/"
        },
        "id": "vT8XWX1IRx3X",
        "outputId": "1bd4889d-309c-40e0-e37d-2fe047dd6247"
      },
      "source": [
        "loss_test, acc_test = model3.evaluate(X_test, Y_test, verbose=1)\n",
        "print(\"Test: accuracy = %f  ;  loss = %f\" % (acc_test, loss_test))"
      ],
      "id": "vT8XWX1IRx3X",
      "execution_count": 23,
      "outputs": [
        {
          "output_type": "stream",
          "text": [
            "25/25 [==============================] - 6s 234ms/step - loss: 0.9434 - acc: 0.8031\n",
            "Test: accuracy = 0.803089  ;  loss = 0.943450\n"
          ],
          "name": "stdout"
        }
      ]
    },
    {
      "cell_type": "code",
      "metadata": {
        "colab": {
          "base_uri": "https://localhost:8080/",
          "height": 561
        },
        "id": "GKjkUk6qR0sQ",
        "outputId": "e2899b24-843e-4173-bf94-faed844c5a8a"
      },
      "source": [
        "# Retrieve a list of accuracy results on training and test data\n",
        "# sets for each training epoch\n",
        "acc = history3.history['acc']\n",
        "val_acc = history3.history['val_acc']\n",
        "\n",
        "# Retrieve a list of list results on training and test data\n",
        "# sets for each training epoch\n",
        "loss = history3.history['loss']\n",
        "val_loss = history3.history['val_loss']\n",
        "\n",
        "# Get number of epochs\n",
        "epochs = range(len(acc))\n",
        "\n",
        "# Plot training and validation accuracy per epoch\n",
        "plt.plot(epochs, acc, label = \"training\")\n",
        "plt.plot(epochs, val_acc, label = \"validation\")\n",
        "plt.legend(loc=\"upper left\")\n",
        "plt.title('Training and validation accuracy')\n",
        "\n",
        "plt.figure()\n",
        "\n",
        "# Plot training and validation loss per epoch\n",
        "plt.plot(epochs, loss, label = \"training\")\n",
        "plt.plot(epochs, val_loss, label = \"validation\")\n",
        "plt.legend(loc=\"upper right\")\n",
        "plt.title('Training and validation loss')"
      ],
      "id": "GKjkUk6qR0sQ",
      "execution_count": 26,
      "outputs": [
        {
          "output_type": "execute_result",
          "data": {
            "text/plain": [
              "Text(0.5, 1.0, 'Training and validation loss')"
            ]
          },
          "metadata": {
            "tags": []
          },
          "execution_count": 26
        },
        {
          "output_type": "display_data",
          "data": {
            "image/png": "[encoded data removed]",
            "text/plain": [
              "<Figure size 432x288 with 1 Axes>"
            ]
          },
          "metadata": {
            "tags": [],
            "needs_background": "light"
          }
        },
        {
          "output_type": "display_data",
          "data": {
            "image/png": "[encoded data removed]",
            "text/plain": [
              "<Figure size 432x288 with 1 Axes>"
            ]
          },
          "metadata": {
            "tags": [],
            "needs_background": "light"
          }
        }
      ]
    },
    {
      "cell_type": "code",
      "metadata": {
        "id": "-NTY_p4wcP2v"
      },
      "source": [
        "model3.save(\"VGG16model3.h5\")"
      ],
      "id": "-NTY_p4wcP2v",
      "execution_count": 31,
      "outputs": []
    }
  ]
}