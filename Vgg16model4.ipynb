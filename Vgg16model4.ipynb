{
  "nbformat": 4,
  "nbformat_minor": 5,
  "metadata": {
    "kernelspec": {
      "name": "python3",
      "display_name": "Python 3"
    },
    "colab": {
      "name": "Vgg16model4.ipynb",
      "provenance": [],
      "collapsed_sections": [],
      "include_colab_link": true
    },
    "accelerator": "GPU",
    "language_info": {
      "name": "python"
    }
  },
  "cells": [
    {
      "cell_type": "markdown",
      "metadata": {
        "id": "view-in-github",
        "colab_type": "text"
      },
      "source": [
        "<a href=\"https://colab.research.google.com/github/snehahs03/medical-image-analysis/blob/main/Vgg16model4.ipynb\" target=\"_parent\"><img src=\"https://colab.research.google.com/assets/colab-badge.svg\" alt=\"Open In Colab\"/></a>"
      ]
    },
    {
      "cell_type": "code",
      "metadata": {
        "id": "60Zq2pVkvpvY",
        "colab": {
          "base_uri": "https://localhost:8080/"
        },
        "outputId": "af70603e-afd1-4260-959a-a6e098a440ae"
      },
      "source": [
        "from google.colab import drive\n",
        "drive.mount('/content/drive')"
      ],
      "id": "60Zq2pVkvpvY",
      "execution_count": null,
      "outputs": [
        {
          "output_type": "stream",
          "text": [
            "Mounted at /content/drive\n"
          ],
          "name": "stdout"
        }
      ]
    },
    {
      "cell_type": "code",
      "metadata": {
        "id": "Ik-4Pd22vwka",
        "colab": {
          "base_uri": "https://localhost:8080/"
        },
        "outputId": "702917b2-f604-4bb6-c9b6-e158c1977358"
      },
      "source": [
        "%cd drive"
      ],
      "id": "Ik-4Pd22vwka",
      "execution_count": null,
      "outputs": [
        {
          "output_type": "stream",
          "text": [
            "/content/drive\n"
          ],
          "name": "stdout"
        }
      ]
    },
    {
      "cell_type": "code",
      "metadata": {
        "id": "-qSKbHvAv03A",
        "colab": {
          "base_uri": "https://localhost:8080/"
        },
        "outputId": "322747f6-88bd-44bb-8f3c-945cb3598ffb"
      },
      "source": [
        "%cd MyDrive"
      ],
      "id": "-qSKbHvAv03A",
      "execution_count": null,
      "outputs": [
        {
          "output_type": "stream",
          "text": [
            "/content/drive/MyDrive\n"
          ],
          "name": "stdout"
        }
      ]
    },
    {
      "cell_type": "code",
      "metadata": {
        "id": "e7BSXmziv4Ap",
        "colab": {
          "base_uri": "https://localhost:8080/"
        },
        "outputId": "c7a263af-b79d-4c12-bfcb-94e741bc2960"
      },
      "source": [
        "%cd medical-image-analysis"
      ],
      "id": "e7BSXmziv4Ap",
      "execution_count": null,
      "outputs": [
        {
          "output_type": "stream",
          "text": [
            "/content/drive/MyDrive/medical-image-analysis\n"
          ],
          "name": "stdout"
        }
      ]
    },
    {
      "cell_type": "code",
      "metadata": {
        "colab": {
          "base_uri": "https://localhost:8080/"
        },
        "id": "H-lDRiiwQavC",
        "outputId": "1fde8fe2-191e-43ea-c282-761192a98d16"
      },
      "source": [
        "!git clone https://github.com/snehahs03/medical-image-analysis.git"
      ],
      "id": "H-lDRiiwQavC",
      "execution_count": null,
      "outputs": [
        {
          "output_type": "stream",
          "text": [
            "Cloning into 'medical-image-analysis'...\n",
            "remote: Enumerating objects: 3802, done.\u001b[K\n",
            "remote: Counting objects: 100% (39/39), done.\u001b[K\n",
            "remote: Compressing objects: 100% (38/38), done.\u001b[K\n",
            "remote: Total 3802 (delta 19), reused 0 (delta 0), pack-reused 3763\u001b[K\n",
            "Receiving objects: 100% (3802/3802), 337.16 MiB | 20.76 MiB/s, done.\n",
            "Resolving deltas: 100% (30/30), done.\n",
            "Checking out files: 100% (3889/3889), done.\n"
          ],
          "name": "stdout"
        }
      ]
    },
    {
      "cell_type": "code",
      "metadata": {
        "id": "97cfb9c4"
      },
      "source": [
        "import json\n",
        "import math\n",
        "import os\n",
        "import cv2\n",
        "from PIL import Image\n",
        "import numpy as np\n",
        "from keras import layers\n",
        "from keras.callbacks import Callback, ModelCheckpoint, ReduceLROnPlateau, TensorBoard\n",
        "from keras.models import Model\n",
        "from keras.preprocessing.image import ImageDataGenerator\n",
        "from keras.utils.np_utils import to_categorical\n",
        "from keras.models import Sequential\n",
        "from keras.optimizers import Adam\n",
        "import matplotlib.pyplot as plt\n",
        "import pandas as pd\n",
        "from sklearn.model_selection import train_test_split\n",
        "from sklearn.metrics import cohen_kappa_score, accuracy_score\n",
        "import scipy\n",
        "import tensorflow as tf\n",
        "from keras import backend as K\n",
        "import gc\n",
        "from functools import partial\n",
        "from tqdm import tqdm\n",
        "from sklearn import metrics\n",
        "from collections import Counter\n",
        "import itertools\n",
        "from keras.applications.vgg16 import VGG16, preprocess_input\n",
        "from keras.callbacks import ModelCheckpoint, EarlyStopping\n",
        "from keras.layers import Dense, Dropout, Flatten\n",
        "from keras.layers import Input, Lambda, Dense, Flatten\n",
        "from keras.preprocessing import image\n",
        "from glob import glob"
      ],
      "id": "97cfb9c4",
      "execution_count": null,
      "outputs": []
    },
    {
      "cell_type": "code",
      "metadata": {
        "id": "53fc4864"
      },
      "source": [
        "def Dataset_loader(DIR, RESIZE, sigmaX=10):\n",
        "    IMG = []\n",
        "    read = lambda imname: np.asarray(Image.open(imname).convert(\"RGB\"))\n",
        "    for IMAGE_NAME in tqdm(os.listdir(DIR)):\n",
        "        PATH = os.path.join(DIR,IMAGE_NAME)\n",
        "        _, ftype = os.path.splitext(PATH)\n",
        "        if ftype == \".jpg\":\n",
        "            img = read(PATH)\n",
        "           \n",
        "            img = cv2.resize(img, (RESIZE,RESIZE))\n",
        "           \n",
        "            IMG.append(np.array(img))\n",
        "    return IMG"
      ],
      "id": "53fc4864",
      "execution_count": null,
      "outputs": []
    },
    {
      "cell_type": "code",
      "metadata": {
        "colab": {
          "base_uri": "https://localhost:8080/"
        },
        "id": "675f14ba",
        "outputId": "9444d4f7-6546-4106-df81-fe92d5cc748a"
      },
      "source": [
        "eczema_train = np.array(Dataset_loader(\"/content/medical-image-analysis/train/Eczema Photos\", 224))\n",
        "melanoma_train = np.array(Dataset_loader(\"/content/medical-image-analysis/train/Melanoma Skin Cancer Nevi and Moles\",224))\n",
        "psoriasis_train = np.array(Dataset_loader(\"/content/medical-image-analysis/train/Psoriasis pictures Lichen Planus and related diseases\",224))\n",
        "eczema_test = np.array(Dataset_loader(\"/content/medical-image-analysis/test/Eczema Photos\",224))\n",
        "melonoma_test = np.array(Dataset_loader(\"/content/medical-image-analysis/test/Melanoma Skin Cancer Nevi and Moles\",224))\n",
        "psoriasis_test = np.array(Dataset_loader(\"/content/medical-image-analysis/test/Psoriasis pictures Lichen Planus and related diseases\", 224))\n"
      ],
      "id": "675f14ba",
      "execution_count": null,
      "outputs": [
        {
          "output_type": "stream",
          "text": [
            "100%|██████████| 1235/1235 [00:08<00:00, 137.29it/s]\n",
            "100%|██████████| 463/463 [00:03<00:00, 144.00it/s]\n",
            "100%|██████████| 1405/1405 [00:09<00:00, 144.89it/s]\n",
            "100%|██████████| 309/309 [00:02<00:00, 147.63it/s]\n",
            "100%|██████████| 116/116 [00:00<00:00, 139.16it/s]\n",
            "100%|██████████| 352/352 [00:02<00:00, 142.63it/s]\n"
          ],
          "name": "stderr"
        }
      ]
    },
    {
      "cell_type": "code",
      "metadata": {
        "id": "e38c2004"
      },
      "source": [
        "#labelling \n",
        "eczema_train_label = np.full(len(eczema_train),0)\n",
        "melonoma_train_label = np.full(len(melanoma_train),1)\n",
        "psoriasis_train_label = np.full(len(psoriasis_train),2)\n",
        "eczema_test_label = np.full(len(eczema_test),0)\n",
        "melonoma_test_label = np.full(len(melonoma_test),1)\n",
        "psoriasis_test_label = np.full(len(psoriasis_test),2)"
      ],
      "id": "e38c2004",
      "execution_count": null,
      "outputs": []
    },
    {
      "cell_type": "code",
      "metadata": {
        "colab": {
          "base_uri": "https://localhost:8080/"
        },
        "id": "2e4abed4",
        "outputId": "a96a5eec-8b0d-47f5-9bd0-23f71a73773e"
      },
      "source": [
        "X_train = np.concatenate((eczema_train, melanoma_train, psoriasis_train), axis=0)\n",
        "Y_train = np.concatenate((eczema_train_label, melonoma_train_label, psoriasis_train_label), axis=0)\n",
        "X_test = np.concatenate((eczema_test, melonoma_test, psoriasis_test), axis=0)\n",
        "Y_test = np.concatenate((eczema_test_label, melonoma_test_label, psoriasis_test_label), axis = 0)\n",
        "print(Y_test.shape)\n",
        "print(X_test.shape)"
      ],
      "id": "2e4abed4",
      "execution_count": null,
      "outputs": [
        {
          "output_type": "stream",
          "text": [
            "(777,)\n",
            "(777, 224, 224, 3)\n"
          ],
          "name": "stdout"
        }
      ]
    },
    {
      "cell_type": "code",
      "metadata": {
        "id": "e40a3bc5"
      },
      "source": [
        "s = np.arange(X_train.shape[0])\n",
        "np.random.shuffle(s)\n",
        "X_train = X_train[s]\n",
        "Y_train = Y_train[s]\n",
        "\n",
        "s = np.arange(X_test.shape[0])\n",
        "np.random.shuffle(s)\n",
        "X_test = X_test[s]\n",
        "Y_test = Y_test[s]\n",
        "\n",
        "Y_train = to_categorical(Y_train, num_classes= 3)\n",
        "Y_test = to_categorical(Y_test, num_classes= 3)\n",
        "\n",
        "#train and evaluation split\n",
        "X_train, X_val, Y_train, Y_val = train_test_split(\n",
        "    X_train, Y_train, \n",
        "    test_size=0.3, \n",
        "    random_state=5\n",
        ")"
      ],
      "id": "e40a3bc5",
      "execution_count": null,
      "outputs": []
    },
    {
      "cell_type": "code",
      "metadata": {
        "colab": {
          "base_uri": "https://localhost:8080/"
        },
        "id": "3e475dfb",
        "outputId": "3f813f71-8fc6-465b-c1de-57e625becb2f"
      },
      "source": [
        "X_train.shape, Y_train.shape"
      ],
      "id": "3e475dfb",
      "execution_count": null,
      "outputs": [
        {
          "output_type": "execute_result",
          "data": {
            "text/plain": [
              "((2172, 224, 224, 3), (2172, 3))"
            ]
          },
          "metadata": {
            "tags": []
          },
          "execution_count": 8
        }
      ]
    },
    {
      "cell_type": "code",
      "metadata": {
        "colab": {
          "base_uri": "https://localhost:8080/"
        },
        "id": "258c8f7f",
        "outputId": "2ecd59d6-f052-421c-9064-3f3cdea1d5aa"
      },
      "source": [
        "X_val.shape, Y_val.shape"
      ],
      "id": "258c8f7f",
      "execution_count": null,
      "outputs": [
        {
          "output_type": "execute_result",
          "data": {
            "text/plain": [
              "((931, 224, 224, 3), (931, 3))"
            ]
          },
          "metadata": {
            "tags": []
          },
          "execution_count": 9
        }
      ]
    },
    {
      "cell_type": "code",
      "metadata": {
        "colab": {
          "base_uri": "https://localhost:8080/"
        },
        "id": "8n0EgaD3WWAE",
        "outputId": "75553711-db61-4d91-b331-214350f1c43c"
      },
      "source": [
        "X_test.shape, Y_test.shape"
      ],
      "id": "8n0EgaD3WWAE",
      "execution_count": null,
      "outputs": [
        {
          "output_type": "execute_result",
          "data": {
            "text/plain": [
              "((777, 224, 224, 3), (777, 3))"
            ]
          },
          "metadata": {
            "tags": []
          },
          "execution_count": 10
        }
      ]
    },
    {
      "cell_type": "code",
      "metadata": {
        "id": "a67f35b1",
        "colab": {
          "base_uri": "https://localhost:8080/"
        },
        "outputId": "d2f62566-d73b-482b-ddf2-579b82f43eb7"
      },
      "source": [
        "#load in pretrained model\n",
        "vgg = VGG16(input_shape=(224,224,3), weights='imagenet', include_top=False)\n",
        "for layer in vgg.layers:\n",
        "  layer.trainable = False"
      ],
      "id": "a67f35b1",
      "execution_count": null,
      "outputs": [
        {
          "output_type": "stream",
          "text": [
            "Downloading data from https://storage.googleapis.com/tensorflow/keras-applications/vgg16/vgg16_weights_tf_dim_ordering_tf_kernels_notop.h5\n",
            "58892288/58889256 [==============================] - 1s 0us/step\n",
            "58900480/58889256 [==============================] - 1s 0us/step\n"
          ],
          "name": "stdout"
        }
      ]
    },
    {
      "cell_type": "code",
      "metadata": {
        "id": "a476c740"
      },
      "source": [
        "#adding output layer\n",
        "top_model = vgg.output\n",
        "top_model = Flatten(name=\"flatten\")(top_model)\n",
        "top_model = Dense(4096, activation='relu')(top_model)\n",
        "top_model = Dense(1072, activation='relu')(top_model)\n",
        "top_model = Dropout(0.2)(top_model)\n",
        "output_layer = Dense(3, activation='softmax')(top_model)"
      ],
      "id": "a476c740",
      "execution_count": null,
      "outputs": []
    },
    {
      "cell_type": "code",
      "metadata": {
        "id": "36dbd445"
      },
      "source": [
        "#create a model object\n",
        "model4 = Model(inputs=vgg.input, outputs=output_layer)\n",
        "optimizer = Adam(learning_rate=0.0001, beta_1=0.9, beta_2=0.999, epsilon=None, decay=0.0, amsgrad=True)\n",
        "model4.compile(loss='categorical_crossentropy',\n",
        "              optimizer=optimizer,\n",
        "              metrics=['accuracy'])"
      ],
      "id": "36dbd445",
      "execution_count": null,
      "outputs": []
    },
    {
      "cell_type": "code",
      "metadata": {
        "id": "e6cfee67"
      },
      "source": [
        "#Feature extraction\n",
        "train_datagen = ImageDataGenerator(rotation_range=90, width_shift_range=0.3, height_shift_range=0.3,\n",
        "                                   shear_range=0.3, zoom_range=0.3, fill_mode='nearest')\n",
        "\n",
        "train_datagen.fit(X_train)\n",
        "\n",
        "val_datagen = ImageDataGenerator(rotation_range=90, width_shift_range=0.3, height_shift_range=0.3,\n",
        "                                   shear_range=0.3, zoom_range=0.3, fill_mode='nearest')\n",
        "val_datagen.fit(X_val)\n"
      ],
      "id": "e6cfee67",
      "execution_count": null,
      "outputs": []
    },
    {
      "cell_type": "code",
      "metadata": {
        "colab": {
          "base_uri": "https://localhost:8080/"
        },
        "id": "ff25ec59",
        "outputId": "9e5c75dd-0d09-4f74-ed6e-f6c57930b4ca"
      },
      "source": [
        "batch_size = 64\n",
        "epochs = 10\n",
        "history4 = model4.fit(train_datagen.flow(X_train,Y_train, batch_size=batch_size),\n",
        "                              epochs = epochs, validation_data = val_datagen.flow(X_val, Y_val),\n",
        "                              verbose = 1, steps_per_epoch=(X_train.shape[0] // batch_size), \n",
        "                              validation_steps=(X_val.shape[0] // batch_size))\n"
      ],
      "id": "ff25ec59",
      "execution_count": null,
      "outputs": [
        {
          "output_type": "stream",
          "text": [
            "Epoch 1/10\n",
            "33/33 [==============================] - 99s 1s/step - loss: 11.1735 - accuracy: 0.4569 - val_loss: 2.0677 - val_accuracy: 0.5134\n",
            "Epoch 2/10\n",
            "33/33 [==============================] - 31s 937ms/step - loss: 1.9342 - accuracy: 0.5197 - val_loss: 1.4034 - val_accuracy: 0.5491\n",
            "Epoch 3/10\n",
            "33/33 [==============================] - 31s 935ms/step - loss: 1.2627 - accuracy: 0.5435 - val_loss: 1.0148 - val_accuracy: 0.5692\n",
            "Epoch 4/10\n",
            "33/33 [==============================] - 31s 934ms/step - loss: 1.0019 - accuracy: 0.5679 - val_loss: 0.8769 - val_accuracy: 0.5871\n",
            "Epoch 5/10\n",
            "33/33 [==============================] - 31s 935ms/step - loss: 0.8753 - accuracy: 0.5993 - val_loss: 0.9201 - val_accuracy: 0.5536\n",
            "Epoch 6/10\n",
            "33/33 [==============================] - 31s 932ms/step - loss: 0.8435 - accuracy: 0.6109 - val_loss: 0.8018 - val_accuracy: 0.5781\n",
            "Epoch 7/10\n",
            "33/33 [==============================] - 31s 937ms/step - loss: 0.7926 - accuracy: 0.6239 - val_loss: 0.8780 - val_accuracy: 0.6071\n",
            "Epoch 8/10\n",
            "33/33 [==============================] - 31s 934ms/step - loss: 0.7740 - accuracy: 0.6309 - val_loss: 0.8521 - val_accuracy: 0.5938\n",
            "Epoch 9/10\n",
            "33/33 [==============================] - 31s 925ms/step - loss: 0.8163 - accuracy: 0.6112 - val_loss: 0.8406 - val_accuracy: 0.6317\n",
            "Epoch 10/10\n",
            "33/33 [==============================] - 31s 929ms/step - loss: 0.8156 - accuracy: 0.6027 - val_loss: 0.7905 - val_accuracy: 0.6540\n"
          ],
          "name": "stdout"
        }
      ]
    },
    {
      "cell_type": "code",
      "metadata": {
        "id": "QsOkx6SEUHc6"
      },
      "source": [
        "#Fine-Tuning \n",
        "for layer in model4.layers[13:]:\n",
        "    layer.trainable = True"
      ],
      "id": "QsOkx6SEUHc6",
      "execution_count": null,
      "outputs": []
    },
    {
      "cell_type": "code",
      "metadata": {
        "id": "T7IJHevMUO5A"
      },
      "source": [
        "optimizer = Adam(learning_rate=0.0001, beta_1=0.9, beta_2=0.999, epsilon=None, decay=0.0, amsgrad=False)\n",
        "model4.compile(loss='categorical_crossentropy',\n",
        "              optimizer=optimizer,\n",
        "              metrics=['acc'])\n",
        "learning_rate_reduction = ReduceLROnPlateau(monitor='val_acc', patience=3, verbose=1, factor=0.5, \n",
        "                                            min_lr=0.000001, cooldown=3)"
      ],
      "id": "T7IJHevMUO5A",
      "execution_count": null,
      "outputs": []
    },
    {
      "cell_type": "code",
      "metadata": {
        "colab": {
          "base_uri": "https://localhost:8080/"
        },
        "id": "PCOpPinVUZRw",
        "outputId": "45714c9f-d4ab-4490-c72a-7aa53617eacb"
      },
      "source": [
        "batch_size = 64\n",
        "epochs = 30\n",
        "history = model4.fit(train_datagen.flow(X_train,Y_train, batch_size=batch_size),\n",
        "                              epochs = epochs, validation_data = val_datagen.flow(X_val, Y_val),\n",
        "                              verbose = 1, steps_per_epoch=(X_train.shape[0] // batch_size),\n",
        "                              validation_steps=(X_val.shape[0] // batch_size), callbacks=[learning_rate_reduction])"
      ],
      "id": "PCOpPinVUZRw",
      "execution_count": null,
      "outputs": [
        {
          "output_type": "stream",
          "text": [
            "Epoch 1/30\n",
            "33/33 [==============================] - 36s 988ms/step - loss: 0.9014 - acc: 0.5873 - val_loss: 0.8130 - val_acc: 0.6116\n",
            "Epoch 2/30\n",
            "33/33 [==============================] - 32s 956ms/step - loss: 0.8354 - acc: 0.5818 - val_loss: 0.8287 - val_acc: 0.5804\n",
            "Epoch 3/30\n",
            "33/33 [==============================] - 32s 960ms/step - loss: 0.7708 - acc: 0.6065 - val_loss: 0.8775 - val_acc: 0.5625\n",
            "Epoch 4/30\n",
            "33/33 [==============================] - 32s 958ms/step - loss: 0.7660 - acc: 0.6355 - val_loss: 0.7597 - val_acc: 0.6429\n",
            "Epoch 5/30\n",
            "33/33 [==============================] - 32s 958ms/step - loss: 0.7431 - acc: 0.6577 - val_loss: 0.7547 - val_acc: 0.6272\n",
            "Epoch 6/30\n",
            "33/33 [==============================] - 32s 963ms/step - loss: 0.7312 - acc: 0.6520 - val_loss: 0.7508 - val_acc: 0.6763\n",
            "Epoch 7/30\n",
            "33/33 [==============================] - 32s 963ms/step - loss: 0.6751 - acc: 0.6961 - val_loss: 0.6894 - val_acc: 0.7054\n",
            "Epoch 8/30\n",
            "33/33 [==============================] - 32s 971ms/step - loss: 0.6013 - acc: 0.7249 - val_loss: 0.6794 - val_acc: 0.6964\n",
            "Epoch 9/30\n",
            "33/33 [==============================] - 32s 959ms/step - loss: 0.6184 - acc: 0.7193 - val_loss: 0.7334 - val_acc: 0.6607\n",
            "Epoch 10/30\n",
            "33/33 [==============================] - 32s 958ms/step - loss: 0.5962 - acc: 0.7368 - val_loss: 0.6541 - val_acc: 0.6786\n",
            "\n",
            "Epoch 00010: ReduceLROnPlateau reducing learning rate to 4.999999873689376e-05.\n",
            "Epoch 11/30\n",
            "33/33 [==============================] - 32s 960ms/step - loss: 0.5273 - acc: 0.7577 - val_loss: 0.6913 - val_acc: 0.6808\n",
            "Epoch 12/30\n",
            "33/33 [==============================] - 32s 954ms/step - loss: 0.5107 - acc: 0.7722 - val_loss: 0.6117 - val_acc: 0.7366\n",
            "Epoch 13/30\n",
            "33/33 [==============================] - 32s 962ms/step - loss: 0.4779 - acc: 0.7949 - val_loss: 0.6633 - val_acc: 0.7232\n",
            "Epoch 14/30\n",
            "33/33 [==============================] - 32s 962ms/step - loss: 0.4431 - acc: 0.8034 - val_loss: 0.6503 - val_acc: 0.7254\n",
            "Epoch 15/30\n",
            "33/33 [==============================] - 32s 954ms/step - loss: 0.4208 - acc: 0.8166 - val_loss: 0.6219 - val_acc: 0.7388\n",
            "Epoch 16/30\n",
            "33/33 [==============================] - 32s 956ms/step - loss: 0.4140 - acc: 0.8265 - val_loss: 0.6674 - val_acc: 0.7321\n",
            "Epoch 17/30\n",
            "33/33 [==============================] - 32s 956ms/step - loss: 0.3821 - acc: 0.8431 - val_loss: 0.5865 - val_acc: 0.7545\n",
            "Epoch 18/30\n",
            "33/33 [==============================] - 32s 954ms/step - loss: 0.3878 - acc: 0.8345 - val_loss: 0.5336 - val_acc: 0.7768\n",
            "Epoch 19/30\n",
            "33/33 [==============================] - 32s 959ms/step - loss: 0.3706 - acc: 0.8430 - val_loss: 0.5860 - val_acc: 0.7589\n",
            "Epoch 20/30\n",
            "33/33 [==============================] - 31s 952ms/step - loss: 0.3301 - acc: 0.8462 - val_loss: 0.5952 - val_acc: 0.7746\n",
            "Epoch 21/30\n",
            "33/33 [==============================] - 32s 956ms/step - loss: 0.3796 - acc: 0.8319 - val_loss: 0.6105 - val_acc: 0.7522\n",
            "\n",
            "Epoch 00021: ReduceLROnPlateau reducing learning rate to 2.499999936844688e-05.\n",
            "Epoch 22/30\n",
            "33/33 [==============================] - 31s 953ms/step - loss: 0.3226 - acc: 0.8606 - val_loss: 0.6598 - val_acc: 0.7366\n",
            "Epoch 23/30\n",
            "33/33 [==============================] - 32s 956ms/step - loss: 0.2915 - acc: 0.8751 - val_loss: 0.7000 - val_acc: 0.7656\n",
            "Epoch 24/30\n",
            "33/33 [==============================] - 32s 955ms/step - loss: 0.2651 - acc: 0.8832 - val_loss: 0.5475 - val_acc: 0.7589\n",
            "Epoch 25/30\n",
            "33/33 [==============================] - 31s 946ms/step - loss: 0.2452 - acc: 0.9008 - val_loss: 0.7604 - val_acc: 0.7522\n",
            "Epoch 26/30\n",
            "33/33 [==============================] - 31s 942ms/step - loss: 0.2294 - acc: 0.9073 - val_loss: 0.7564 - val_acc: 0.7344\n",
            "\n",
            "Epoch 00026: ReduceLROnPlateau reducing learning rate to 1.249999968422344e-05.\n",
            "Epoch 27/30\n",
            "33/33 [==============================] - 31s 949ms/step - loss: 0.2157 - acc: 0.9147 - val_loss: 0.6477 - val_acc: 0.7812\n",
            "Epoch 28/30\n",
            "33/33 [==============================] - 31s 952ms/step - loss: 0.2071 - acc: 0.9220 - val_loss: 0.6074 - val_acc: 0.7500\n",
            "Epoch 29/30\n",
            "33/33 [==============================] - 31s 952ms/step - loss: 0.1868 - acc: 0.9301 - val_loss: 0.6643 - val_acc: 0.7746\n",
            "Epoch 30/30\n",
            "33/33 [==============================] - 31s 948ms/step - loss: 0.2010 - acc: 0.9190 - val_loss: 0.6546 - val_acc: 0.7612\n"
          ],
          "name": "stdout"
        }
      ]
    },
    {
      "cell_type": "code",
      "metadata": {
        "colab": {
          "base_uri": "https://localhost:8080/"
        },
        "id": "ukqaa2m3RajB",
        "outputId": "78292dbd-66e4-4376-e5f8-3d50ffc04d72"
      },
      "source": [
        "loss_val, acc_val = model4.evaluate(X_val, Y_val, verbose=1)\n",
        "print(\"Validation: accuracy = %f  ;  loss_v = %f\" % (acc_val, loss_val))"
      ],
      "id": "ukqaa2m3RajB",
      "execution_count": null,
      "outputs": [
        {
          "output_type": "stream",
          "text": [
            "30/30 [==============================] - 6s 176ms/step - loss: 0.7960 - acc: 0.7830\n",
            "Validation: accuracy = 0.783029  ;  loss_v = 0.795988\n"
          ],
          "name": "stdout"
        }
      ]
    },
    {
      "cell_type": "code",
      "metadata": {
        "colab": {
          "base_uri": "https://localhost:8080/",
          "height": 311
        },
        "id": "2e94a28c",
        "outputId": "74def89a-cb6a-48a6-b523-682b79abc574"
      },
      "source": [
        "from sklearn.metrics import confusion_matrix\n",
        "import itertools\n",
        "def plot_confusion_matrix(cm, classes,\n",
        "                          normalize=False,\n",
        "                          title='Confusion matrix',\n",
        "                          cmap=plt.cm.Blues):\n",
        "    \"\"\"\n",
        "    This function prints and plots the confusion matrix.\n",
        "    Normalization can be applied by setting `normalize=True`.\n",
        "    \"\"\"\n",
        "    plt.imshow(cm, interpolation='nearest', cmap=cmap)\n",
        "    plt.title(title)\n",
        "    plt.colorbar()\n",
        "    tick_marks = np.arange(len(classes))\n",
        "    plt.xticks(tick_marks, classes, rotation=45)\n",
        "    plt.yticks(tick_marks, classes)\n",
        "\n",
        "    if normalize:\n",
        "        cm = cm.astype('float') / cm.sum(axis=1)[:, np.newaxis]\n",
        "\n",
        "    thresh = cm.max() / 2.\n",
        "    for i, j in itertools.product(range(cm.shape[0]), range(cm.shape[1])):\n",
        "        plt.text(j, i, cm[i, j],\n",
        "                 horizontalalignment=\"center\",\n",
        "                 color=\"white\" if cm[i, j] > thresh else \"black\")\n",
        "\n",
        "    plt.tight_layout()\n",
        "    plt.ylabel('True label')\n",
        "    plt.xlabel('Predicted label')\n",
        "\n",
        "# Predict the values from the validation dataset\n",
        "y_pred = model4.predict(X_val)\n",
        "# Convert predictions classes to one hot vectors \n",
        "y_pred_classes = np.argmax(y_pred,axis = 1) \n",
        "# Convert validation observations to one hot vectors\n",
        "y_true = np.argmax(Y_val,axis = 1) \n",
        "# compute the confusion matrix\n",
        "confusion_mtx = confusion_matrix(y_true, y_pred_classes) \n",
        "# plot the confusion matrix\n",
        "plot_confusion_matrix(confusion_mtx, classes = range(3))"
      ],
      "id": "2e94a28c",
      "execution_count": null,
      "outputs": [
        {
          "output_type": "display_data",
          "data": {
            "image/png": "[encoded data removed]",
            "text/plain": [
              "<Figure size 432x288 with 2 Axes>"
            ]
          },
          "metadata": {
            "tags": [],
            "needs_background": "light"
          }
        }
      ]
    },
    {
      "cell_type": "markdown",
      "metadata": {
        "id": "4r8uQdfZRtsA"
      },
      "source": [
        "TESTING4\n"
      ],
      "id": "4r8uQdfZRtsA"
    },
    {
      "cell_type": "code",
      "metadata": {
        "colab": {
          "base_uri": "https://localhost:8080/"
        },
        "id": "vT8XWX1IRx3X",
        "outputId": "c4b038a0-8d3a-4174-de75-1ac0ae9ea83c"
      },
      "source": [
        "loss_test, acc_test = model4.evaluate(X_test, Y_test, verbose=1)\n",
        "print(\"Test: accuracy = %f  ;  loss = %f\" % (acc_test, loss_test))"
      ],
      "id": "vT8XWX1IRx3X",
      "execution_count": null,
      "outputs": [
        {
          "output_type": "stream",
          "text": [
            "25/25 [==============================] - 6s 231ms/step - loss: 0.7847 - acc: 0.7786\n",
            "Test: accuracy = 0.778636  ;  loss = 0.784712\n"
          ],
          "name": "stdout"
        }
      ]
    },
    {
      "cell_type": "code",
      "metadata": {
        "colab": {
          "base_uri": "https://localhost:8080/",
          "height": 561
        },
        "id": "GKjkUk6qR0sQ",
        "outputId": "259e2483-f696-455c-8e50-a453a046e555"
      },
      "source": [
        "# Retrieve a list of accuracy results on training and test data\n",
        "# sets for each training epoch\n",
        "acc = history.history['acc']\n",
        "val_acc = history.history['val_acc']\n",
        "\n",
        "# Retrieve a list of list results on training and test data\n",
        "# sets for each training epoch\n",
        "loss = history.history['loss']\n",
        "val_loss = history.history['val_loss']\n",
        "\n",
        "# Get number of epochs\n",
        "epochs = range(len(acc))\n",
        "\n",
        "# Plot training and validation accuracy per epoch\n",
        "plt.plot(epochs, acc, label = \"training\")\n",
        "plt.plot(epochs, val_acc, label = \"validation\")\n",
        "plt.legend(loc=\"upper left\")\n",
        "plt.title('Training and validation accuracy')\n",
        "\n",
        "plt.figure()\n",
        "\n",
        "# Plot training and validation loss per epoch\n",
        "plt.plot(epochs, loss, label = \"training\")\n",
        "plt.plot(epochs, val_loss, label = \"validation\")\n",
        "plt.legend(loc=\"upper right\")\n",
        "plt.title('Training and validation loss')"
      ],
      "id": "GKjkUk6qR0sQ",
      "execution_count": null,
      "outputs": [
        {
          "output_type": "execute_result",
          "data": {
            "text/plain": [
              "Text(0.5, 1.0, 'Training and validation loss')"
            ]
          },
          "metadata": {
            "tags": []
          },
          "execution_count": 24
        },
        {
          "output_type": "display_data",
          "data": {
            "image/png": "[encoded data removed]",
            "text/plain": [
              "<Figure size 432x288 with 1 Axes>"
            ]
          },
          "metadata": {
            "tags": [],
            "needs_background": "light"
          }
        },
        {
          "output_type": "display_data",
          "data": {
            "image/png": "[encoded data removed]",
            "text/plain": [
              "<Figure size 432x288 with 1 Axes>"
            ]
          },
          "metadata": {
            "tags": [],
            "needs_background": "light"
          }
        }
      ]
    },
    {
      "cell_type": "code",
      "metadata": {
        "id": "TYp7kEsevgt5"
      },
      "source": [
        "model4.save(\"VGG16model4.h5\")"
      ],
      "id": "TYp7kEsevgt5",
      "execution_count": null,
      "outputs": []
    }
  ]
}