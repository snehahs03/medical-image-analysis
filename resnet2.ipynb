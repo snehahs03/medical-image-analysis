{
  "nbformat": 4,
  "nbformat_minor": 0,
  "metadata": {
    "colab": {
      "name": "resnet2.ipynb",
      "provenance": [],
      "collapsed_sections": [],
      "include_colab_link": true
    },
    "kernelspec": {
      "display_name": "Python 3",
      "name": "python3"
    },
    "language_info": {
      "name": "python"
    },
    "accelerator": "GPU"
  },
  "cells": [
    {
      "cell_type": "markdown",
      "metadata": {
        "id": "view-in-github",
        "colab_type": "text"
      },
      "source": [
        "<a href=\"https://colab.research.google.com/github/snehahs03/medical-image-analysis/blob/main/resnet2.ipynb\" target=\"_parent\"><img src=\"https://colab.research.google.com/assets/colab-badge.svg\" alt=\"Open In Colab\"/></a>"
      ]
    },
    {
      "cell_type": "code",
      "metadata": {
        "id": "V-lUnQtQa1kd",
        "colab": {
          "base_uri": "https://localhost:8080/"
        },
        "outputId": "483bddc3-a7e2-48fe-b13a-814db6872293"
      },
      "source": [
        "!pwd"
      ],
      "execution_count": 1,
      "outputs": [
        {
          "output_type": "stream",
          "text": [
            "/content\n"
          ],
          "name": "stdout"
        }
      ]
    },
    {
      "cell_type": "code",
      "metadata": {
        "colab": {
          "base_uri": "https://localhost:8080/"
        },
        "id": "gtL75wHma2bt",
        "outputId": "4743d989-adf1-4427-e96f-629d9e2b787a"
      },
      "source": [
        "from google.colab import drive\n",
        "drive.mount('/content/drive')"
      ],
      "execution_count": null,
      "outputs": [
        {
          "output_type": "stream",
          "text": [
            "Drive already mounted at /content/drive; to attempt to forcibly remount, call drive.mount(\"/content/drive\", force_remount=True).\n"
          ],
          "name": "stdout"
        }
      ]
    },
    {
      "cell_type": "code",
      "metadata": {
        "colab": {
          "base_uri": "https://localhost:8080/"
        },
        "id": "ahCB7vL0a1gy",
        "outputId": "1522382e-b3d6-475f-b771-58604a70ef84"
      },
      "source": [
        "%cd /content/drive/MyDrive"
      ],
      "execution_count": 2,
      "outputs": [
        {
          "output_type": "stream",
          "text": [
            "/content/drive/MyDrive\n"
          ],
          "name": "stdout"
        }
      ]
    },
    {
      "cell_type": "code",
      "metadata": {
        "colab": {
          "base_uri": "https://localhost:8080/"
        },
        "id": "fnIVnB6T-tqh",
        "outputId": "5826e18a-ba92-405d-934d-ed764a4792ae"
      },
      "source": [
        "!git clone https://github.com/snehahs03/medical-image-analysis.git"
      ],
      "execution_count": null,
      "outputs": [
        {
          "output_type": "stream",
          "text": [
            "Cloning into 'medical-image-analysis'...\n",
            "remote: Enumerating objects: 3810, done.\u001b[K\n",
            "remote: Counting objects: 100% (47/47), done.\u001b[K\n",
            "remote: Compressing objects: 100% (46/46), done.\u001b[K\n",
            "remote: Total 3810 (delta 24), reused 0 (delta 0), pack-reused 3763\u001b[K\n",
            "Receiving objects: 100% (3810/3810), 337.26 MiB | 22.13 MiB/s, done.\n",
            "Resolving deltas: 100% (35/35), done.\n",
            "Checking out files: 100% (3890/3890), done.\n"
          ],
          "name": "stdout"
        }
      ]
    },
    {
      "cell_type": "code",
      "metadata": {
        "colab": {
          "base_uri": "https://localhost:8080/"
        },
        "id": "3HlPTmKabKuU",
        "outputId": "f11ad9f3-548e-490e-e126-df71cfb6f48a"
      },
      "source": [
        "%cd /content/drive/MyDrive/medical-image-analysis"
      ],
      "execution_count": 3,
      "outputs": [
        {
          "output_type": "stream",
          "text": [
            "/content/drive/MyDrive/medical-image-analysis\n"
          ],
          "name": "stdout"
        }
      ]
    },
    {
      "cell_type": "code",
      "metadata": {
        "id": "jb19RMs1-_cu"
      },
      "source": [
        "import json\n",
        "import math\n",
        "import os\n",
        "import cv2\n",
        "from PIL import Image\n",
        "import numpy as np\n",
        "import tensorflow\n",
        "from tensorflow.keras import layers\n",
        "from tensorflow.keras.callbacks import Callback, ModelCheckpoint, ReduceLROnPlateau, TensorBoard, EarlyStopping\n",
        "from tensorflow.keras.models import Model\n",
        "from tensorflow.keras.preprocessing.image import ImageDataGenerator\n",
        "from keras.utils.np_utils import to_categorical\n",
        "from tensorflow.keras.models import Sequential\n",
        "from tensorflow.keras.optimizers import Adam\n",
        "import matplotlib.pyplot as plt\n",
        "import pandas as pd\n",
        "from sklearn.model_selection import train_test_split\n",
        "from sklearn.metrics import cohen_kappa_score, accuracy_score\n",
        "import scipy\n",
        "from tensorflow.keras import backend as K\n",
        "import gc\n",
        "from functools import partial\n",
        "from tqdm import tqdm\n",
        "from sklearn import metrics\n",
        "from collections import Counter\n",
        "import json\n",
        "import itertools\n",
        "from keras.layers import Dense, Dropout, Flatten, Conv2D, MaxPool2D,GlobalAveragePooling2D \n",
        "from keras.layers import Input, Lambda, Dense, Flatten\n",
        "from keras.preprocessing import image\n",
        "from glob import glob"
      ],
      "execution_count": 4,
      "outputs": []
    },
    {
      "cell_type": "code",
      "metadata": {
        "id": "G2YXrT4J_Mer"
      },
      "source": [
        "def Dataset_loader(DIR, RESIZE, sigmaX=10):\n",
        "    IMG = []\n",
        "    read = lambda imname: np.asarray(Image.open(imname).convert(\"RGB\"))\n",
        "    for IMAGE_NAME in tqdm(os.listdir(DIR)):\n",
        "        PATH = os.path.join(DIR,IMAGE_NAME)\n",
        "        _, ftype = os.path.splitext(PATH)\n",
        "        if ftype == \".jpg\":\n",
        "            img = read(PATH)\n",
        "           \n",
        "            img = cv2.resize(img, (RESIZE,RESIZE))\n",
        "           \n",
        "            IMG.append(np.array(img))\n",
        "    return IMG"
      ],
      "execution_count": 5,
      "outputs": []
    },
    {
      "cell_type": "code",
      "metadata": {
        "colab": {
          "base_uri": "https://localhost:8080/"
        },
        "id": "yAoAK-7l_ULL",
        "outputId": "ce0f4520-5e18-4e23-86a7-24ed5f209d7e"
      },
      "source": [
        "eczema_train = np.array(Dataset_loader(\"/content/drive/MyDrive/medical-image-analysis/test/Eczema Photos\", 224))\n",
        "melanoma_train = np.array(Dataset_loader(\"/content/drive/MyDrive/medical-image-analysis/train/Melanoma Skin Cancer Nevi and Moles\",224))\n",
        "psoriasis_train = np.array(Dataset_loader(\"/content/drive/MyDrive/medical-image-analysis/train/Psoriasis pictures Lichen Planus and related diseases\",224))\n",
        "eczema_test = np.array(Dataset_loader(\"/content/drive/MyDrive/medical-image-analysis/test/Eczema Photos\",224))\n",
        "melonoma_test = np.array(Dataset_loader(\"/content/drive/MyDrive/medical-image-analysis/test/Melanoma Skin Cancer Nevi and Moles\",224))\n",
        "psoriasis_test = np.array(Dataset_loader(\"/content/drive/MyDrive/medical-image-analysis/test/Psoriasis pictures Lichen Planus and related diseases\", 224))\n"
      ],
      "execution_count": 6,
      "outputs": [
        {
          "output_type": "stream",
          "text": [
            "100%|██████████| 309/309 [00:02<00:00, 134.38it/s]\n",
            "100%|██████████| 463/463 [00:03<00:00, 129.69it/s]\n",
            "100%|██████████| 1405/1405 [00:10<00:00, 134.50it/s]\n",
            "100%|██████████| 309/309 [00:02<00:00, 139.20it/s]\n",
            "100%|██████████| 116/116 [00:00<00:00, 128.41it/s]\n",
            "100%|██████████| 352/352 [00:02<00:00, 132.22it/s]\n"
          ],
          "name": "stderr"
        }
      ]
    },
    {
      "cell_type": "code",
      "metadata": {
        "id": "UOFq80Gi_XID"
      },
      "source": [
        "#labelling \n",
        "eczema_train_label = np.full(len(eczema_train),0)\n",
        "melonoma_train_label = np.full(len(melanoma_train),1)\n",
        "psoriasis_train_label = np.full(len(psoriasis_train),2)\n",
        "eczema_test_label = np.full(len(eczema_test),0)\n",
        "melonoma_test_label = np.full(len(melonoma_test),1)\n",
        "psoriasis_test_label = np.full(len(psoriasis_test),2)"
      ],
      "execution_count": 7,
      "outputs": []
    },
    {
      "cell_type": "code",
      "metadata": {
        "colab": {
          "base_uri": "https://localhost:8080/"
        },
        "id": "nuibS0Ab_lTC",
        "outputId": "eec41e32-5618-42d0-dc5b-6efab1da26dd"
      },
      "source": [
        "X_train = np.concatenate((eczema_train, melanoma_train, psoriasis_train), axis=0)\n",
        "Y_train = np.concatenate((eczema_train_label, melonoma_train_label, psoriasis_train_label), axis=0)\n",
        "X_test = np.concatenate((eczema_test, melonoma_test, psoriasis_test), axis=0)\n",
        "Y_test = np.concatenate((eczema_test_label, melonoma_test_label, psoriasis_test_label), axis = 0)\n",
        "print(Y_test.shape)\n",
        "print(X_test.shape)"
      ],
      "execution_count": 8,
      "outputs": [
        {
          "output_type": "stream",
          "text": [
            "(777,)\n",
            "(777, 224, 224, 3)\n"
          ],
          "name": "stdout"
        }
      ]
    },
    {
      "cell_type": "code",
      "metadata": {
        "id": "q46ALqdo_oS8"
      },
      "source": [
        "s = np.arange(X_train.shape[0])\n",
        "np.random.shuffle(s)\n",
        "X_train = X_train[s]\n",
        "Y_train = Y_train[s]\n",
        "\n",
        "s = np.arange(X_test.shape[0])\n",
        "np.random.shuffle(s)\n",
        "X_test = X_test[s]\n",
        "Y_test = Y_test[s]\n"
      ],
      "execution_count": 9,
      "outputs": []
    },
    {
      "cell_type": "code",
      "metadata": {
        "id": "02lI6ES2_rGK"
      },
      "source": [
        "Y_train = to_categorical(Y_train, num_classes= 3)\n",
        "Y_test = to_categorical(Y_test, num_classes= 3)\n",
        "\n",
        "#train and evaluation split\n",
        "X_train, X_val, Y_train, Y_val = train_test_split(\n",
        "    X_train, Y_train, \n",
        "    test_size=0.3, \n",
        "    random_state=5\n",
        ")"
      ],
      "execution_count": 10,
      "outputs": []
    },
    {
      "cell_type": "code",
      "metadata": {
        "colab": {
          "base_uri": "https://localhost:8080/"
        },
        "id": "lICf_EbY_uCj",
        "outputId": "5c0f852e-a522-4a0a-9132-c9f6c1635a84"
      },
      "source": [
        "X_train.shape, Y_train.shape"
      ],
      "execution_count": null,
      "outputs": [
        {
          "output_type": "execute_result",
          "data": {
            "text/plain": [
              "((2172, 224, 224, 3), (2172, 3))"
            ]
          },
          "metadata": {
            "tags": []
          },
          "execution_count": 10
        }
      ]
    },
    {
      "cell_type": "code",
      "metadata": {
        "colab": {
          "base_uri": "https://localhost:8080/"
        },
        "id": "vIsOJ0JI_wQL",
        "outputId": "54b63947-0b70-45b9-d3fe-7c3a6e170309"
      },
      "source": [
        "X_val.shape, Y_val.shape"
      ],
      "execution_count": null,
      "outputs": [
        {
          "output_type": "execute_result",
          "data": {
            "text/plain": [
              "((931, 224, 224, 3), (931, 3))"
            ]
          },
          "metadata": {
            "tags": []
          },
          "execution_count": 11
        }
      ]
    },
    {
      "cell_type": "code",
      "metadata": {
        "colab": {
          "base_uri": "https://localhost:8080/"
        },
        "id": "6DE753QA_yXT",
        "outputId": "6201f356-5d04-4de6-80d7-ffdc72535f5c"
      },
      "source": [
        "X_test.shape, Y_test.shape"
      ],
      "execution_count": null,
      "outputs": [
        {
          "output_type": "execute_result",
          "data": {
            "text/plain": [
              "((777, 224, 224, 3), (777, 3))"
            ]
          },
          "metadata": {
            "tags": []
          },
          "execution_count": 14
        }
      ]
    },
    {
      "cell_type": "code",
      "metadata": {
        "id": "3LI5XNMrgVHi"
      },
      "source": [
        "pre_trained_model = tensorflow.keras.applications.ResNet50(input_shape=(224,224, 3), include_top=False, weights=\"imagenet\")"
      ],
      "execution_count": 11,
      "outputs": []
    },
    {
      "cell_type": "code",
      "metadata": {
        "id": "a2LZWem8gAef",
        "colab": {
          "base_uri": "https://localhost:8080/"
        },
        "outputId": "c5997dff-b3a9-4336-b33a-3ff94081a38d"
      },
      "source": [
        "for layer in pre_trained_model.layers:\n",
        "    print(layer.name)\n",
        "    if hasattr(layer, 'moving_mean') and hasattr(layer, 'moving_variance'):\n",
        "        layer.trainable = True\n",
        "        K.eval(K.update(layer.moving_mean, K.zeros_like(layer.moving_mean)))\n",
        "        K.eval(K.update(layer.moving_variance, K.zeros_like(layer.moving_variance)))\n",
        "    else:\n",
        "        layer.trainable = False\n",
        "\n",
        "print(len(pre_trained_model.layers))"
      ],
      "execution_count": 12,
      "outputs": [
        {
          "output_type": "stream",
          "text": [
            "input_1\n",
            "conv1_pad\n",
            "conv1_conv\n",
            "conv1_bn\n",
            "conv1_relu\n",
            "pool1_pad\n",
            "pool1_pool\n",
            "conv2_block1_1_conv\n",
            "conv2_block1_1_bn\n",
            "conv2_block1_1_relu\n",
            "conv2_block1_2_conv\n",
            "conv2_block1_2_bn\n",
            "conv2_block1_2_relu\n",
            "conv2_block1_0_conv\n",
            "conv2_block1_3_conv\n",
            "conv2_block1_0_bn\n",
            "conv2_block1_3_bn\n",
            "conv2_block1_add\n",
            "conv2_block1_out\n",
            "conv2_block2_1_conv\n",
            "conv2_block2_1_bn\n",
            "conv2_block2_1_relu\n",
            "conv2_block2_2_conv\n",
            "conv2_block2_2_bn\n",
            "conv2_block2_2_relu\n",
            "conv2_block2_3_conv\n",
            "conv2_block2_3_bn\n",
            "conv2_block2_add\n",
            "conv2_block2_out\n",
            "conv2_block3_1_conv\n",
            "conv2_block3_1_bn\n",
            "conv2_block3_1_relu\n",
            "conv2_block3_2_conv\n",
            "conv2_block3_2_bn\n",
            "conv2_block3_2_relu\n",
            "conv2_block3_3_conv\n",
            "conv2_block3_3_bn\n",
            "conv2_block3_add\n",
            "conv2_block3_out\n",
            "conv3_block1_1_conv\n",
            "conv3_block1_1_bn\n",
            "conv3_block1_1_relu\n",
            "conv3_block1_2_conv\n",
            "conv3_block1_2_bn\n",
            "conv3_block1_2_relu\n",
            "conv3_block1_0_conv\n",
            "conv3_block1_3_conv\n",
            "conv3_block1_0_bn\n",
            "conv3_block1_3_bn\n",
            "conv3_block1_add\n",
            "conv3_block1_out\n",
            "conv3_block2_1_conv\n",
            "conv3_block2_1_bn\n",
            "conv3_block2_1_relu\n",
            "conv3_block2_2_conv\n",
            "conv3_block2_2_bn\n",
            "conv3_block2_2_relu\n",
            "conv3_block2_3_conv\n",
            "conv3_block2_3_bn\n",
            "conv3_block2_add\n",
            "conv3_block2_out\n",
            "conv3_block3_1_conv\n",
            "conv3_block3_1_bn\n",
            "conv3_block3_1_relu\n",
            "conv3_block3_2_conv\n",
            "conv3_block3_2_bn\n",
            "conv3_block3_2_relu\n",
            "conv3_block3_3_conv\n",
            "conv3_block3_3_bn\n",
            "conv3_block3_add\n",
            "conv3_block3_out\n",
            "conv3_block4_1_conv\n",
            "conv3_block4_1_bn\n",
            "conv3_block4_1_relu\n",
            "conv3_block4_2_conv\n",
            "conv3_block4_2_bn\n",
            "conv3_block4_2_relu\n",
            "conv3_block4_3_conv\n",
            "conv3_block4_3_bn\n",
            "conv3_block4_add\n",
            "conv3_block4_out\n",
            "conv4_block1_1_conv\n",
            "conv4_block1_1_bn\n",
            "conv4_block1_1_relu\n",
            "conv4_block1_2_conv\n",
            "conv4_block1_2_bn\n",
            "conv4_block1_2_relu\n",
            "conv4_block1_0_conv\n",
            "conv4_block1_3_conv\n",
            "conv4_block1_0_bn\n",
            "conv4_block1_3_bn\n",
            "conv4_block1_add\n",
            "conv4_block1_out\n",
            "conv4_block2_1_conv\n",
            "conv4_block2_1_bn\n",
            "conv4_block2_1_relu\n",
            "conv4_block2_2_conv\n",
            "conv4_block2_2_bn\n",
            "conv4_block2_2_relu\n",
            "conv4_block2_3_conv\n",
            "conv4_block2_3_bn\n",
            "conv4_block2_add\n",
            "conv4_block2_out\n",
            "conv4_block3_1_conv\n",
            "conv4_block3_1_bn\n",
            "conv4_block3_1_relu\n",
            "conv4_block3_2_conv\n",
            "conv4_block3_2_bn\n",
            "conv4_block3_2_relu\n",
            "conv4_block3_3_conv\n",
            "conv4_block3_3_bn\n",
            "conv4_block3_add\n",
            "conv4_block3_out\n",
            "conv4_block4_1_conv\n",
            "conv4_block4_1_bn\n",
            "conv4_block4_1_relu\n",
            "conv4_block4_2_conv\n",
            "conv4_block4_2_bn\n",
            "conv4_block4_2_relu\n",
            "conv4_block4_3_conv\n",
            "conv4_block4_3_bn\n",
            "conv4_block4_add\n",
            "conv4_block4_out\n",
            "conv4_block5_1_conv\n",
            "conv4_block5_1_bn\n",
            "conv4_block5_1_relu\n",
            "conv4_block5_2_conv\n",
            "conv4_block5_2_bn\n",
            "conv4_block5_2_relu\n",
            "conv4_block5_3_conv\n",
            "conv4_block5_3_bn\n",
            "conv4_block5_add\n",
            "conv4_block5_out\n",
            "conv4_block6_1_conv\n",
            "conv4_block6_1_bn\n",
            "conv4_block6_1_relu\n",
            "conv4_block6_2_conv\n",
            "conv4_block6_2_bn\n",
            "conv4_block6_2_relu\n",
            "conv4_block6_3_conv\n",
            "conv4_block6_3_bn\n",
            "conv4_block6_add\n",
            "conv4_block6_out\n",
            "conv5_block1_1_conv\n",
            "conv5_block1_1_bn\n",
            "conv5_block1_1_relu\n",
            "conv5_block1_2_conv\n",
            "conv5_block1_2_bn\n",
            "conv5_block1_2_relu\n",
            "conv5_block1_0_conv\n",
            "conv5_block1_3_conv\n",
            "conv5_block1_0_bn\n",
            "conv5_block1_3_bn\n",
            "conv5_block1_add\n",
            "conv5_block1_out\n",
            "conv5_block2_1_conv\n",
            "conv5_block2_1_bn\n",
            "conv5_block2_1_relu\n",
            "conv5_block2_2_conv\n",
            "conv5_block2_2_bn\n",
            "conv5_block2_2_relu\n",
            "conv5_block2_3_conv\n",
            "conv5_block2_3_bn\n",
            "conv5_block2_add\n",
            "conv5_block2_out\n",
            "conv5_block3_1_conv\n",
            "conv5_block3_1_bn\n",
            "conv5_block3_1_relu\n",
            "conv5_block3_2_conv\n",
            "conv5_block3_2_bn\n",
            "conv5_block3_2_relu\n",
            "conv5_block3_3_conv\n",
            "conv5_block3_3_bn\n",
            "conv5_block3_add\n",
            "conv5_block3_out\n",
            "175\n"
          ],
          "name": "stdout"
        }
      ]
    },
    {
      "cell_type": "code",
      "metadata": {
        "colab": {
          "base_uri": "https://localhost:8080/"
        },
        "id": "arThh6CiALfL",
        "outputId": "0b2826af-7a7f-435f-89dd-8a33102b4ed9"
      },
      "source": [
        "last_layer = pre_trained_model.get_layer('conv5_block3_out')\n",
        "print('last layer output shape:', last_layer.output_shape)\n",
        "last_output = last_layer.output"
      ],
      "execution_count": 13,
      "outputs": [
        {
          "output_type": "stream",
          "text": [
            "last layer output shape: (None, 7, 7, 2048)\n"
          ],
          "name": "stdout"
        }
      ]
    },
    {
      "cell_type": "code",
      "metadata": {
        "id": "23NNU55ehETQ"
      },
      "source": [
        "x = tensorflow.keras.layers.Flatten()(last_output)\n",
        "x = tensorflow.keras.layers.Dense(512, activation='relu')(x)\n",
        "x = tensorflow.keras.layers.Dropout(0.5)(x)\n",
        "x = tensorflow.keras.layers.Dense(512, activation='relu')(x)\n",
        "x = tensorflow.keras.layers.Dropout(0.5)(x)\n",
        "x = tensorflow.keras.layers.Dense(3, activation='softmax')(x)\n",
        "\n",
        "#Config and compile model\n",
        "\n",
        "model1 = Model(pre_trained_model.input, x)\n",
        "optimizer = Adam(learning_rate=0.0001, beta_1=0.9, beta_2=0.999, epsilon=None, decay=0.0, amsgrad=True)\n",
        "model1.compile(loss='categorical_crossentropy',\n",
        "              optimizer=optimizer,\n",
        "              metrics=['accuracy'])"
      ],
      "execution_count": 14,
      "outputs": []
    },
    {
      "cell_type": "markdown",
      "metadata": {
        "id": "gyILdlHjAj_k"
      },
      "source": [
        "TRAINING"
      ]
    },
    {
      "cell_type": "code",
      "metadata": {
        "id": "iX5zYiIaAmOL"
      },
      "source": [
        "train_datagen = ImageDataGenerator(rotation_range=60, width_shift_range=0.2, height_shift_range=0.2,\n",
        "                                   shear_range=0.2, zoom_range=0.2, fill_mode='nearest')\n",
        "\n",
        "train_datagen.fit(X_train)\n",
        "\n",
        "val_datagen = ImageDataGenerator()\n",
        "val_datagen.fit(X_val)"
      ],
      "execution_count": 18,
      "outputs": []
    },
    {
      "cell_type": "code",
      "metadata": {
        "colab": {
          "base_uri": "https://localhost:8080/"
        },
        "id": "t0HfvRrmEy_8",
        "outputId": "38c53d6b-921c-4d15-d7f0-c782d77f3b83"
      },
      "source": [
        "batch_size = 64\n",
        "epochs = 30\n",
        "history0 = model1.fit_generator(train_datagen.flow(X_train,Y_train, batch_size=batch_size),\n",
        "                              epochs = epochs, validation_data = val_datagen.flow(X_val, Y_val),\n",
        "                              verbose = 1, steps_per_epoch=(X_train.shape[0] // batch_size), \n",
        "                              validation_steps=(X_val.shape[0] // batch_size))"
      ],
      "execution_count": null,
      "outputs": [
        {
          "output_type": "stream",
          "text": [
            "/usr/local/lib/python3.7/dist-packages/tensorflow/python/keras/engine/training.py:1940: UserWarning: `Model.fit_generator` is deprecated and will be removed in a future version. Please use `Model.fit`, which supports generators.\n",
            "  warnings.warn('`Model.fit_generator` is deprecated and '\n"
          ],
          "name": "stderr"
        },
        {
          "output_type": "stream",
          "text": [
            "Epoch 1/30\n",
            "23/23 [==============================] - 18s 783ms/step - loss: 0.7465 - accuracy: 0.7066 - val_loss: 1.0543 - val_accuracy: 0.5813\n",
            "Epoch 2/30\n",
            "23/23 [==============================] - 18s 778ms/step - loss: 0.7631 - accuracy: 0.7094 - val_loss: 0.7667 - val_accuracy: 0.6938\n",
            "Epoch 3/30\n",
            "23/23 [==============================] - 18s 773ms/step - loss: 0.7229 - accuracy: 0.7224 - val_loss: 0.7298 - val_accuracy: 0.7281\n",
            "Epoch 4/30\n",
            "23/23 [==============================] - 18s 775ms/step - loss: 0.7010 - accuracy: 0.7382 - val_loss: 0.7314 - val_accuracy: 0.7406\n",
            "Epoch 5/30\n",
            "23/23 [==============================] - 18s 770ms/step - loss: 0.7519 - accuracy: 0.7231 - val_loss: 0.6595 - val_accuracy: 0.7625\n",
            "Epoch 6/30\n",
            "23/23 [==============================] - 18s 773ms/step - loss: 0.7228 - accuracy: 0.7224 - val_loss: 0.7150 - val_accuracy: 0.7531\n",
            "Epoch 7/30\n",
            "23/23 [==============================] - 18s 767ms/step - loss: 0.6591 - accuracy: 0.7402 - val_loss: 0.6916 - val_accuracy: 0.7406\n",
            "Epoch 8/30\n",
            "23/23 [==============================] - 18s 773ms/step - loss: 0.6905 - accuracy: 0.7293 - val_loss: 0.6657 - val_accuracy: 0.7406\n",
            "Epoch 9/30\n",
            "23/23 [==============================] - 18s 774ms/step - loss: 0.6722 - accuracy: 0.7539 - val_loss: 0.6220 - val_accuracy: 0.7688\n",
            "Epoch 10/30\n",
            "23/23 [==============================] - 18s 773ms/step - loss: 0.6510 - accuracy: 0.7574 - val_loss: 0.6883 - val_accuracy: 0.7500\n",
            "Epoch 11/30\n",
            "23/23 [==============================] - 18s 769ms/step - loss: 0.6548 - accuracy: 0.7450 - val_loss: 0.6078 - val_accuracy: 0.7563\n",
            "Epoch 12/30\n",
            "23/23 [==============================] - 18s 768ms/step - loss: 0.6354 - accuracy: 0.7533 - val_loss: 0.5488 - val_accuracy: 0.8062\n",
            "Epoch 13/30\n",
            "23/23 [==============================] - 18s 768ms/step - loss: 0.6251 - accuracy: 0.7567 - val_loss: 0.6547 - val_accuracy: 0.7656\n",
            "Epoch 14/30\n",
            "23/23 [==============================] - 18s 770ms/step - loss: 0.6121 - accuracy: 0.7697 - val_loss: 0.4836 - val_accuracy: 0.8094\n",
            "Epoch 15/30\n",
            "23/23 [==============================] - 18s 765ms/step - loss: 0.5797 - accuracy: 0.7807 - val_loss: 0.5215 - val_accuracy: 0.8000\n",
            "Epoch 16/30\n",
            "23/23 [==============================] - 18s 767ms/step - loss: 0.5799 - accuracy: 0.7793 - val_loss: 0.5192 - val_accuracy: 0.8188\n",
            "Epoch 17/30\n",
            "23/23 [==============================] - 18s 765ms/step - loss: 0.6116 - accuracy: 0.7731 - val_loss: 0.5689 - val_accuracy: 0.7969\n",
            "Epoch 18/30\n",
            "23/23 [==============================] - 18s 770ms/step - loss: 0.5668 - accuracy: 0.7958 - val_loss: 0.5689 - val_accuracy: 0.7937\n",
            "Epoch 19/30\n",
            "23/23 [==============================] - 18s 764ms/step - loss: 0.5828 - accuracy: 0.7766 - val_loss: 0.5842 - val_accuracy: 0.7656\n",
            "Epoch 20/30\n",
            "23/23 [==============================] - 18s 768ms/step - loss: 0.5458 - accuracy: 0.7910 - val_loss: 0.5170 - val_accuracy: 0.8094\n",
            "Epoch 21/30\n",
            "23/23 [==============================] - 18s 769ms/step - loss: 0.5532 - accuracy: 0.7944 - val_loss: 0.5632 - val_accuracy: 0.8000\n",
            "Epoch 22/30\n",
            "23/23 [==============================] - 18s 778ms/step - loss: 0.5641 - accuracy: 0.7944 - val_loss: 0.5850 - val_accuracy: 0.7656\n",
            "Epoch 23/30\n",
            "23/23 [==============================] - 18s 768ms/step - loss: 0.5579 - accuracy: 0.7923 - val_loss: 0.5138 - val_accuracy: 0.8062\n",
            "Epoch 24/30\n",
            "23/23 [==============================] - 18s 768ms/step - loss: 0.5315 - accuracy: 0.8026 - val_loss: 0.4956 - val_accuracy: 0.8000\n",
            "Epoch 25/30\n",
            "23/23 [==============================] - 18s 769ms/step - loss: 0.5135 - accuracy: 0.8040 - val_loss: 0.5494 - val_accuracy: 0.7937\n",
            "Epoch 26/30\n",
            "23/23 [==============================] - 18s 772ms/step - loss: 0.5170 - accuracy: 0.7978 - val_loss: 0.5076 - val_accuracy: 0.8031\n",
            "Epoch 27/30\n",
            "23/23 [==============================] - 18s 769ms/step - loss: 0.5269 - accuracy: 0.8136 - val_loss: 0.5697 - val_accuracy: 0.7844\n",
            "Epoch 28/30\n",
            "23/23 [==============================] - 18s 771ms/step - loss: 0.5067 - accuracy: 0.8088 - val_loss: 0.6090 - val_accuracy: 0.7812\n",
            "Epoch 29/30\n",
            "23/23 [==============================] - 18s 766ms/step - loss: 0.5162 - accuracy: 0.7964 - val_loss: 0.5977 - val_accuracy: 0.7719\n",
            "Epoch 30/30\n",
            "23/23 [==============================] - 18s 770ms/step - loss: 0.5063 - accuracy: 0.8081 - val_loss: 0.4954 - val_accuracy: 0.8281\n"
          ],
          "name": "stdout"
        }
      ]
    },
    {
      "cell_type": "code",
      "metadata": {
        "id": "VY3wtqDJd3Wf"
      },
      "source": [
        "np.save('his0_resnet.npy',history0.history)"
      ],
      "execution_count": null,
      "outputs": []
    },
    {
      "cell_type": "code",
      "metadata": {
        "id": "HvkTV5YLm58D"
      },
      "source": [
        "history1=np.load('his0_resnet.npy',allow_pickle='TRUE').item()"
      ],
      "execution_count": null,
      "outputs": []
    },
    {
      "cell_type": "code",
      "metadata": {
        "colab": {
          "base_uri": "https://localhost:8080/"
        },
        "id": "7tn992kKnATO",
        "outputId": "37aa69ea-15c6-440a-b717-bac7e1d1efb0"
      },
      "source": [
        "print(history1)"
      ],
      "execution_count": null,
      "outputs": [
        {
          "output_type": "stream",
          "text": [
            "{'loss': [0.7464589476585388, 0.7631202340126038, 0.7229252457618713, 0.7009748816490173, 0.751876175403595, 0.722750723361969, 0.6591328978538513, 0.6904564499855042, 0.6721515655517578, 0.6509958505630493, 0.6547676920890808, 0.6354244351387024, 0.6250584125518799, 0.6120679974555969, 0.5797476768493652, 0.5799263715744019, 0.6116270422935486, 0.5668333172798157, 0.5827816724777222, 0.5457770824432373, 0.553246259689331, 0.5640941858291626, 0.5578927993774414, 0.5314531922340393, 0.5134668350219727, 0.5170102119445801, 0.5268710255622864, 0.5067263841629028, 0.5162370800971985, 0.506278395652771], 'accuracy': [0.7066484093666077, 0.7093899846076965, 0.7224125862121582, 0.7381768226623535, 0.7230980396270752, 0.7224125862121582, 0.7402330636978149, 0.7292666435241699, 0.7539410591125488, 0.7573680877685547, 0.7450308203697205, 0.7532556653022766, 0.7566826343536377, 0.7697052955627441, 0.7806717157363892, 0.7793008685112, 0.7731322646141052, 0.7957504987716675, 0.7765592932701111, 0.7909526824951172, 0.794379711151123, 0.794379711151123, 0.7923235297203064, 0.8026044964790344, 0.8039753437042236, 0.7978067398071289, 0.8135709166526794, 0.8087731599807739, 0.7964358925819397, 0.8080877065658569], 'val_loss': [1.0543116331100464, 0.7666952610015869, 0.7297845482826233, 0.7314179539680481, 0.6594781875610352, 0.7149596214294434, 0.6916022896766663, 0.6657018065452576, 0.6219501495361328, 0.6882866621017456, 0.6078492999076843, 0.5488419532775879, 0.6546637415885925, 0.48360109329223633, 0.5215235352516174, 0.5191565752029419, 0.5688632726669312, 0.568886399269104, 0.5842317938804626, 0.516960620880127, 0.5631813406944275, 0.5850361585617065, 0.5138058066368103, 0.4956395626068115, 0.5494299530982971, 0.5076068639755249, 0.569678783416748, 0.6089584827423096, 0.5977343320846558, 0.4954022467136383], 'val_accuracy': [0.581250011920929, 0.6937500238418579, 0.7281249761581421, 0.7406250238418579, 0.762499988079071, 0.753125011920929, 0.7406250238418579, 0.7406250238418579, 0.768750011920929, 0.75, 0.7562500238418579, 0.8062499761581421, 0.765625, 0.809374988079071, 0.800000011920929, 0.8187500238418579, 0.796875, 0.793749988079071, 0.765625, 0.809374988079071, 0.800000011920929, 0.765625, 0.8062499761581421, 0.800000011920929, 0.793749988079071, 0.8031250238418579, 0.784375011920929, 0.78125, 0.7718750238418579, 0.828125]}\n"
          ],
          "name": "stdout"
        }
      ]
    },
    {
      "cell_type": "code",
      "metadata": {
        "colab": {
          "base_uri": "https://localhost:8080/"
        },
        "id": "RFo-3ZAikWt9",
        "outputId": "989f7584-a94f-4982-ce08-93497b60b778"
      },
      "source": [
        "model1.save(\"0thModel.h5\")"
      ],
      "execution_count": null,
      "outputs": [
        {
          "output_type": "stream",
          "text": [
            "/usr/local/lib/python3.7/dist-packages/tensorflow/python/keras/utils/generic_utils.py:497: CustomMaskWarning: Custom mask layers require a config and must override get_config. When loading, the custom mask layer must be passed to the custom_objects argument.\n",
            "  category=CustomMaskWarning)\n"
          ],
          "name": "stderr"
        }
      ]
    },
    {
      "cell_type": "code",
      "metadata": {
        "colab": {
          "base_uri": "https://localhost:8080/"
        },
        "id": "geZ-Hdd5m0ya",
        "outputId": "0dd9620d-82d9-45eb-93f5-14e3f2df78a1"
      },
      "source": [
        "type(model1)"
      ],
      "execution_count": null,
      "outputs": [
        {
          "output_type": "execute_result",
          "data": {
            "text/plain": [
              "tensorflow.python.keras.engine.functional.Functional"
            ]
          },
          "metadata": {
            "tags": []
          },
          "execution_count": 22
        }
      ]
    },
    {
      "cell_type": "code",
      "metadata": {
        "colab": {
          "base_uri": "https://localhost:8080/"
        },
        "id": "ZKMc_XEHnB1i",
        "outputId": "5fa28c68-1146-4007-d45a-b777333160e9"
      },
      "source": [
        "print(history0.history.keys())"
      ],
      "execution_count": null,
      "outputs": [
        {
          "output_type": "stream",
          "text": [
            "dict_keys(['loss', 'accuracy', 'val_loss', 'val_accuracy'])\n"
          ],
          "name": "stdout"
        }
      ]
    },
    {
      "cell_type": "code",
      "metadata": {
        "colab": {
          "base_uri": "https://localhost:8080/"
        },
        "id": "wmrWOlMiqSHx",
        "outputId": "3bcb8a37-1004-4bcc-f6fe-00a1bfedcf3d"
      },
      "source": [
        "print(history0.history['val_accuracy'])"
      ],
      "execution_count": null,
      "outputs": [
        {
          "output_type": "stream",
          "text": [
            "[0.4040178656578064, 0.3839285671710968, 0.2946428656578064, 0.546875, 0.6160714030265808]\n"
          ],
          "name": "stdout"
        }
      ]
    },
    {
      "cell_type": "markdown",
      "metadata": {
        "id": "LwKQytXZpVoQ"
      },
      "source": [
        "**FINE TUNING**"
      ]
    },
    {
      "cell_type": "code",
      "metadata": {
        "id": "GTmmbBoxnGNg"
      },
      "source": [
        "for layer in pre_trained_model.layers[5:10]:\n",
        "    layer.trainable = True"
      ],
      "execution_count": 16,
      "outputs": []
    },
    {
      "cell_type": "code",
      "metadata": {
        "colab": {
          "base_uri": "https://localhost:8080/"
        },
        "id": "6FXRdFeNnVfA",
        "outputId": "0f5e95ca-4607-4d2d-83e3-75b6a6b42504"
      },
      "source": [
        "model2 = Model(pre_trained_model.input, x)\n",
        "optimizer = Adam(lr=0.0001, beta_1=0.9, beta_2=0.999, epsilon=None, decay=0.0, amsgrad=False)\n",
        "model2.compile(loss='categorical_crossentropy',\n",
        "              optimizer=optimizer,\n",
        "              metrics=['acc'])"
      ],
      "execution_count": 15,
      "outputs": [
        {
          "output_type": "stream",
          "text": [
            "/usr/local/lib/python3.7/dist-packages/tensorflow/python/keras/optimizer_v2/optimizer_v2.py:375: UserWarning: The `lr` argument is deprecated, use `learning_rate` instead.\n",
            "  \"The `lr` argument is deprecated, use `learning_rate` instead.\")\n"
          ],
          "name": "stderr"
        }
      ]
    },
    {
      "cell_type": "code",
      "metadata": {
        "id": "xBrdwZ_7nZ0Y"
      },
      "source": [
        "learning_rate_reduction = ReduceLROnPlateau(monitor='val_acc', patience=3, verbose=1, factor=0.5, \n",
        "                                            min_lr=0.000001, cooldown=2)"
      ],
      "execution_count": 17,
      "outputs": []
    },
    {
      "cell_type": "code",
      "metadata": {
        "colab": {
          "base_uri": "https://localhost:8080/"
        },
        "id": "i1v1RoX6nhuM",
        "outputId": "f3fa1b4f-4cbd-4e88-f138-03ba82affdb8"
      },
      "source": [
        "batch_size = 64\n",
        "epochs = 30\n",
        "history1 = model2.fit_generator(train_datagen.flow(X_train,Y_train, batch_size=batch_size),\n",
        "                              epochs = epochs, validation_data = val_datagen.flow(X_val, Y_val),\n",
        "                              verbose = 1, steps_per_epoch=(X_train.shape[0] // batch_size),\n",
        "                              validation_steps=(X_val.shape[0] // batch_size),\n",
        "                              callbacks=[learning_rate_reduction])"
      ],
      "execution_count": 19,
      "outputs": [
        {
          "output_type": "stream",
          "text": [
            "/usr/local/lib/python3.7/dist-packages/tensorflow/python/keras/engine/training.py:1940: UserWarning: `Model.fit_generator` is deprecated and will be removed in a future version. Please use `Model.fit`, which supports generators.\n",
            "  warnings.warn('`Model.fit_generator` is deprecated and '\n"
          ],
          "name": "stderr"
        },
        {
          "output_type": "stream",
          "text": [
            "Epoch 1/30\n",
            "23/23 [==============================] - 34s 884ms/step - loss: 2.1927 - acc: 0.5607 - val_loss: 188503113728.0000 - val_acc: 0.6094\n",
            "Epoch 2/30\n",
            "23/23 [==============================] - 18s 751ms/step - loss: 1.2400 - acc: 0.6148 - val_loss: 178841.7812 - val_acc: 0.6469\n",
            "Epoch 3/30\n",
            "23/23 [==============================] - 18s 753ms/step - loss: 0.9595 - acc: 0.6388 - val_loss: 500.6527 - val_acc: 0.6156\n",
            "Epoch 4/30\n",
            "23/23 [==============================] - 18s 753ms/step - loss: 0.8606 - acc: 0.6546 - val_loss: 28.6385 - val_acc: 0.5969\n",
            "Epoch 5/30\n",
            "23/23 [==============================] - 18s 758ms/step - loss: 0.8019 - acc: 0.6881 - val_loss: 2.4067 - val_acc: 0.5750\n",
            "\n",
            "Epoch 00005: ReduceLROnPlateau reducing learning rate to 4.999999873689376e-05.\n",
            "Epoch 6/30\n",
            "23/23 [==============================] - 18s 755ms/step - loss: 0.7485 - acc: 0.6950 - val_loss: 0.9713 - val_acc: 0.6438\n",
            "Epoch 7/30\n",
            "23/23 [==============================] - 18s 759ms/step - loss: 0.7469 - acc: 0.6895 - val_loss: 0.9154 - val_acc: 0.7031\n",
            "Epoch 8/30\n",
            "23/23 [==============================] - 18s 761ms/step - loss: 0.7219 - acc: 0.7114 - val_loss: 0.7458 - val_acc: 0.7156\n",
            "Epoch 9/30\n",
            "23/23 [==============================] - 18s 764ms/step - loss: 0.6951 - acc: 0.7217 - val_loss: 0.6827 - val_acc: 0.7531\n",
            "Epoch 10/30\n",
            "23/23 [==============================] - 18s 756ms/step - loss: 0.6741 - acc: 0.7327 - val_loss: 0.7059 - val_acc: 0.7188\n",
            "Epoch 11/30\n",
            "23/23 [==============================] - 18s 759ms/step - loss: 0.6658 - acc: 0.7347 - val_loss: 0.6430 - val_acc: 0.7656\n",
            "Epoch 12/30\n",
            "23/23 [==============================] - 18s 762ms/step - loss: 0.6674 - acc: 0.7395 - val_loss: 0.5890 - val_acc: 0.7688\n",
            "Epoch 13/30\n",
            "23/23 [==============================] - 18s 755ms/step - loss: 0.6363 - acc: 0.7587 - val_loss: 0.5833 - val_acc: 0.7844\n",
            "Epoch 14/30\n",
            "23/23 [==============================] - 18s 772ms/step - loss: 0.6313 - acc: 0.7615 - val_loss: 0.5731 - val_acc: 0.7937\n",
            "Epoch 15/30\n",
            "23/23 [==============================] - 18s 768ms/step - loss: 0.6355 - acc: 0.7656 - val_loss: 0.5800 - val_acc: 0.7812\n",
            "Epoch 16/30\n",
            "23/23 [==============================] - 18s 759ms/step - loss: 0.5981 - acc: 0.7704 - val_loss: 0.6433 - val_acc: 0.7656\n",
            "Epoch 17/30\n",
            "23/23 [==============================] - 18s 757ms/step - loss: 0.5993 - acc: 0.7608 - val_loss: 0.6001 - val_acc: 0.7937\n",
            "\n",
            "Epoch 00017: ReduceLROnPlateau reducing learning rate to 2.499999936844688e-05.\n",
            "Epoch 18/30\n",
            "23/23 [==============================] - 18s 758ms/step - loss: 0.5900 - acc: 0.7670 - val_loss: 0.6379 - val_acc: 0.7875\n",
            "Epoch 19/30\n",
            "23/23 [==============================] - 18s 753ms/step - loss: 0.5425 - acc: 0.7930 - val_loss: 0.5689 - val_acc: 0.7906\n",
            "Epoch 20/30\n",
            "23/23 [==============================] - 18s 756ms/step - loss: 0.5447 - acc: 0.7772 - val_loss: 0.5832 - val_acc: 0.8000\n",
            "Epoch 21/30\n",
            "23/23 [==============================] - 18s 760ms/step - loss: 0.5543 - acc: 0.7772 - val_loss: 0.6154 - val_acc: 0.7719\n",
            "Epoch 22/30\n",
            "23/23 [==============================] - 18s 752ms/step - loss: 0.5356 - acc: 0.7772 - val_loss: 0.5931 - val_acc: 0.7750\n",
            "Epoch 23/30\n",
            "23/23 [==============================] - 18s 756ms/step - loss: 0.5495 - acc: 0.7779 - val_loss: 0.6460 - val_acc: 0.7781\n",
            "\n",
            "Epoch 00023: ReduceLROnPlateau reducing learning rate to 1.249999968422344e-05.\n",
            "Epoch 24/30\n",
            "23/23 [==============================] - 18s 756ms/step - loss: 0.5419 - acc: 0.7937 - val_loss: 0.5610 - val_acc: 0.8125\n",
            "Epoch 25/30\n",
            "23/23 [==============================] - 18s 757ms/step - loss: 0.5132 - acc: 0.7978 - val_loss: 0.5897 - val_acc: 0.7969\n",
            "Epoch 26/30\n",
            "23/23 [==============================] - 18s 753ms/step - loss: 0.5340 - acc: 0.7800 - val_loss: 0.5566 - val_acc: 0.7937\n",
            "Epoch 27/30\n",
            "23/23 [==============================] - 18s 756ms/step - loss: 0.5259 - acc: 0.7896 - val_loss: 0.5444 - val_acc: 0.8000\n",
            "\n",
            "Epoch 00027: ReduceLROnPlateau reducing learning rate to 6.24999984211172e-06.\n",
            "Epoch 28/30\n",
            "23/23 [==============================] - 18s 754ms/step - loss: 0.5013 - acc: 0.8026 - val_loss: 0.5502 - val_acc: 0.8062\n",
            "Epoch 29/30\n",
            "23/23 [==============================] - 18s 758ms/step - loss: 0.5016 - acc: 0.7992 - val_loss: 0.6119 - val_acc: 0.7844\n",
            "Epoch 30/30\n",
            "23/23 [==============================] - 18s 757ms/step - loss: 0.5059 - acc: 0.7999 - val_loss: 0.6063 - val_acc: 0.8031\n"
          ],
          "name": "stdout"
        }
      ]
    },
    {
      "cell_type": "code",
      "metadata": {
        "id": "ECNQAcebs0g6"
      },
      "source": [
        "np.save('his1_resnet.npy',history1.history)"
      ],
      "execution_count": 28,
      "outputs": []
    },
    {
      "cell_type": "code",
      "metadata": {
        "colab": {
          "base_uri": "https://localhost:8080/"
        },
        "id": "DfkewlEdlPGq",
        "outputId": "e6a8ad12-d393-442e-f2e7-58d4f3a06bb7"
      },
      "source": [
        "model2.save(\"1stModel.h5\")"
      ],
      "execution_count": 29,
      "outputs": [
        {
          "output_type": "stream",
          "text": [
            "/usr/local/lib/python3.7/dist-packages/tensorflow/python/keras/utils/generic_utils.py:497: CustomMaskWarning: Custom mask layers require a config and must override get_config. When loading, the custom mask layer must be passed to the custom_objects argument.\n",
            "  category=CustomMaskWarning)\n"
          ],
          "name": "stderr"
        }
      ]
    },
    {
      "cell_type": "code",
      "metadata": {
        "colab": {
          "base_uri": "https://localhost:8080/"
        },
        "id": "KuUtbb0Xnpi9",
        "outputId": "ad567bae-2640-44aa-a4da-e7f574d6a108"
      },
      "source": [
        "loss_test, acc_test = model2.evaluate(X_test, Y_test, verbose=1)\n",
        "print(\"Test: accuracy = %f  ;  loss = %f\" % (acc_test, loss_test))"
      ],
      "execution_count": 23,
      "outputs": [
        {
          "output_type": "stream",
          "text": [
            "25/25 [==============================] - 4s 112ms/step - loss: 0.7315 - acc: 0.6873\n",
            "Test: accuracy = 0.687259  ;  loss = 0.731535\n"
          ],
          "name": "stdout"
        }
      ]
    },
    {
      "cell_type": "code",
      "metadata": {
        "colab": {
          "base_uri": "https://localhost:8080/",
          "height": 311
        },
        "id": "2e94a28c",
        "outputId": "fd9cf44f-a432-4c6e-e733-1c2831afb5da"
      },
      "source": [
        "from sklearn.metrics import confusion_matrix\n",
        "import itertools\n",
        "def plot_confusion_matrix(cm, classes,\n",
        "                          normalize=False,\n",
        "                          title='Confusion matrix 0f resnet1',\n",
        "                          cmap=plt.cm.Blues):\n",
        "    \"\"\"\n",
        "    This function prints and plots the confusion matrix.\n",
        "    Normalization can be applied by setting `normalize=True`.\n",
        "    \"\"\"\n",
        "    plt.imshow(cm, interpolation='nearest', cmap=cmap)\n",
        "    plt.title(title)\n",
        "    plt.colorbar()\n",
        "    tick_marks = np.arange(len(classes))\n",
        "    plt.xticks(tick_marks, classes, rotation=45)\n",
        "    plt.yticks(tick_marks, classes)\n",
        "\n",
        "    if normalize:\n",
        "        cm = cm.astype('float') / cm.sum(axis=1)[:, np.newaxis]\n",
        "\n",
        "    thresh = cm.max() / 2.\n",
        "    for i, j in itertools.product(range(cm.shape[0]), range(cm.shape[1])):\n",
        "        plt.text(j, i, cm[i, j],\n",
        "                 horizontalalignment=\"center\",\n",
        "                 color=\"white\" if cm[i, j] > thresh else \"black\")\n",
        "\n",
        "    plt.tight_layout()\n",
        "    plt.ylabel('True label')\n",
        "    plt.xlabel('Predicted label')\n",
        "\n",
        "# Predict the values from the validation dataset\n",
        "y_pred = model1.predict(X_test)\n",
        "# Convert predictions classes to one hot vectors \n",
        "y_pred_classes = np.argmax(y_pred,axis = 1) \n",
        "# Convert validation observations to one hot vectors\n",
        "y_true = np.argmax(Y_test,axis = 1) \n",
        "# compute the confusion matrix\n",
        "confusion_mtx = confusion_matrix(y_true, y_pred_classes) \n",
        "# plot the confusion matrix\n",
        "plot_confusion_matrix(confusion_mtx, classes = range(3))"
      ],
      "execution_count": 27,
      "outputs": [
        {
          "output_type": "display_data",
          "data": {
            "image/png": "[encoded data removed]",
            "text/plain": [
              "<Figure size 432x288 with 2 Axes>"
            ]
          },
          "metadata": {
            "tags": [],
            "needs_background": "light"
          }
        }
      ]
    },
    {
      "cell_type": "code",
      "metadata": {
        "colab": {
          "base_uri": "https://localhost:8080/"
        },
        "id": "MpxZk4uRnQfM",
        "outputId": "71716c38-bb24-46b7-a6f3-291148e83cca"
      },
      "source": [
        "print(history1.history.keys())"
      ],
      "execution_count": null,
      "outputs": [
        {
          "output_type": "stream",
          "text": [
            "dict_keys(['loss', 'acc', 'val_loss', 'val_acc', 'lr'])\n"
          ],
          "name": "stdout"
        }
      ]
    },
    {
      "cell_type": "code",
      "metadata": {
        "id": "s-P-D9u4hIKd",
        "colab": {
          "base_uri": "https://localhost:8080/",
          "height": 162
        },
        "outputId": "cf71b79b-a44f-414a-ff88-39912f0b9b60"
      },
      "source": [
        "type(history1)"
      ],
      "execution_count": null,
      "outputs": [
        {
          "output_type": "error",
          "ename": "NameError",
          "evalue": "ignored",
          "traceback": [
            "\u001b[0;31m---------------------------------------------------------------------------\u001b[0m",
            "\u001b[0;31mNameError\u001b[0m                                 Traceback (most recent call last)",
            "\u001b[0;32m<ipython-input-1-d25fc4779100>\u001b[0m in \u001b[0;36m<module>\u001b[0;34m()\u001b[0m\n\u001b[0;32m----> 1\u001b[0;31m \u001b[0mtype\u001b[0m\u001b[0;34m(\u001b[0m\u001b[0mhistory1\u001b[0m\u001b[0;34m)\u001b[0m\u001b[0;34m\u001b[0m\u001b[0;34m\u001b[0m\u001b[0m\n\u001b[0m",
            "\u001b[0;31mNameError\u001b[0m: name 'history1' is not defined"
          ]
        }
      ]
    },
    {
      "cell_type": "code",
      "metadata": {
        "colab": {
          "base_uri": "https://localhost:8080/"
        },
        "id": "t11eYFjbqGyp",
        "outputId": "8d0efef7-3361-4372-8778-a75b20b74d4e"
      },
      "source": [
        "print(history1.history['val_acc'])"
      ],
      "execution_count": null,
      "outputs": [
        {
          "output_type": "stream",
          "text": [
            "[0.6383928656578064, 0.6294642686843872, 0.640625, 0.6741071343421936, 0.6540178656578064]\n"
          ],
          "name": "stdout"
        }
      ]
    },
    {
      "cell_type": "code",
      "metadata": {
        "colab": {
          "base_uri": "https://localhost:8080/",
          "height": 229
        },
        "id": "LTkcONXUPcbg",
        "outputId": "58fe773a-6174-4052-8338-2f7ff0fd9cc4"
      },
      "source": [
        "# Retrieve a list of accuracy results on training and test data\n",
        "# sets for each training epoch\n",
        "acc0 = np.array(history0.history['val_accuracy'])\n",
        "acc1 = np.array(history1.history['val_acc'])\n",
        "\n",
        "# Retrieve a list of list results on training and test data\n",
        "# sets for each training epoch\n",
        "loss0 = history0.history['val_loss']\n",
        "loss1 = history1.history['val_loss']\n",
        "\n",
        "# Get number of epochs\n",
        "epochs = range(len(acc0))\n",
        "\n",
        "# Plot training and validation accuracy per epoch\n",
        "plt.plot(epochs, acc0, label = \"training\")\n",
        "plt.plot(epochs, acc1, label = \"fine_tuning1\")\n",
        "plt.legend(loc=\"upper left\")\n",
        "plt.title('Training and validation accuracy')\n",
        "\n",
        "plt.figure()\n",
        "\n",
        "# Plot training and validation loss per epoch\n",
        "plt.plot(epochs, loss0, label = \"training\")\n",
        "plt.plot(epochs, loss1, label = \"fine_tuning1\")\n",
        "plt.legend(loc=\"upper right\")\n",
        "plt.title('Training and validation loss')"
      ],
      "execution_count": null,
      "outputs": [
        {
          "output_type": "error",
          "ename": "NameError",
          "evalue": "ignored",
          "traceback": [
            "\u001b[0;31m---------------------------------------------------------------------------\u001b[0m",
            "\u001b[0;31mNameError\u001b[0m                                 Traceback (most recent call last)",
            "\u001b[0;32m<ipython-input-25-f12006727ea2>\u001b[0m in \u001b[0;36m<module>\u001b[0;34m()\u001b[0m\n\u001b[1;32m      2\u001b[0m \u001b[0;31m# sets for each training epoch\u001b[0m\u001b[0;34m\u001b[0m\u001b[0;34m\u001b[0m\u001b[0;34m\u001b[0m\u001b[0m\n\u001b[1;32m      3\u001b[0m \u001b[0macc0\u001b[0m \u001b[0;34m=\u001b[0m \u001b[0mnp\u001b[0m\u001b[0;34m.\u001b[0m\u001b[0marray\u001b[0m\u001b[0;34m(\u001b[0m\u001b[0mhistory0\u001b[0m\u001b[0;34m.\u001b[0m\u001b[0mhistory\u001b[0m\u001b[0;34m[\u001b[0m\u001b[0;34m'val_accuracy'\u001b[0m\u001b[0;34m]\u001b[0m\u001b[0;34m)\u001b[0m\u001b[0;34m\u001b[0m\u001b[0;34m\u001b[0m\u001b[0m\n\u001b[0;32m----> 4\u001b[0;31m \u001b[0macc1\u001b[0m \u001b[0;34m=\u001b[0m \u001b[0mnp\u001b[0m\u001b[0;34m.\u001b[0m\u001b[0marray\u001b[0m\u001b[0;34m(\u001b[0m\u001b[0mhistory1\u001b[0m\u001b[0;34m.\u001b[0m\u001b[0mhistory\u001b[0m\u001b[0;34m[\u001b[0m\u001b[0;34m'val_acc'\u001b[0m\u001b[0;34m]\u001b[0m\u001b[0;34m)\u001b[0m\u001b[0;34m\u001b[0m\u001b[0;34m\u001b[0m\u001b[0m\n\u001b[0m\u001b[1;32m      5\u001b[0m \u001b[0;34m\u001b[0m\u001b[0m\n\u001b[1;32m      6\u001b[0m \u001b[0;31m# Retrieve a list of list results on training and test data\u001b[0m\u001b[0;34m\u001b[0m\u001b[0;34m\u001b[0m\u001b[0;34m\u001b[0m\u001b[0m\n",
            "\u001b[0;31mNameError\u001b[0m: name 'history1' is not defined"
          ]
        }
      ]
    },
    {
      "cell_type": "code",
      "metadata": {
        "colab": {
          "base_uri": "https://localhost:8080/"
        },
        "id": "ICr1N3ETscji",
        "outputId": "e05758cf-cfde-4928-8936-288a25978af0"
      },
      "source": [
        "model.save(\"InceptionResNet.h5\")"
      ],
      "execution_count": null,
      "outputs": [
        {
          "output_type": "stream",
          "text": [
            "/usr/local/lib/python3.7/dist-packages/tensorflow/python/keras/utils/generic_utils.py:497: CustomMaskWarning: Custom mask layers require a config and must override get_config. When loading, the custom mask layer must be passed to the custom_objects argument.\n",
            "  category=CustomMaskWarning)\n"
          ],
          "name": "stderr"
        }
      ]
    },
    {
      "cell_type": "code",
      "metadata": {
        "colab": {
          "base_uri": "https://localhost:8080/",
          "height": 236
        },
        "id": "STnWw-KCtvVM",
        "outputId": "33b02100-f37d-4bbf-9f15-ac64375c3adf"
      },
      "source": [
        "# Retrieve a list of accuracy results on training and test data\n",
        "# sets for each training epoch\n",
        "acc = history.history['acc']\n",
        "val_acc = history.history['val_acc']\n",
        "\n",
        "# Retrieve a list of list results on training and test data\n",
        "# sets for each training epoch\n",
        "loss = history.history['loss']\n",
        "val_loss = history.history['val_loss']\n",
        "\n",
        "# Get number of epochs\n",
        "epochs = range(len(acc))\n",
        "\n",
        "# Plot training and validation accuracy per epoch\n",
        "plt.plot(epochs, acc, label = \"training\")\n",
        "plt.plot(epochs, val_acc, label = \"validation\")\n",
        "plt.legend(loc=\"upper left\")\n",
        "plt.title('Training and validation accuracy')\n",
        "\n",
        "plt.figure()\n",
        "\n",
        "# Plot training and validation loss per epoch\n",
        "plt.plot(epochs, loss, label = \"training\")\n",
        "plt.plot(epochs, val_loss, label = \"validation\")\n",
        "plt.legend(loc=\"upper right\")\n",
        "plt.title('Training and validation loss')"
      ],
      "execution_count": null,
      "outputs": [
        {
          "output_type": "error",
          "ename": "NameError",
          "evalue": "ignored",
          "traceback": [
            "\u001b[0;31m---------------------------------------------------------------------------\u001b[0m",
            "\u001b[0;31mNameError\u001b[0m                                 Traceback (most recent call last)",
            "\u001b[0;32m<ipython-input-37-b1f23df1409e>\u001b[0m in \u001b[0;36m<module>\u001b[0;34m()\u001b[0m\n\u001b[1;32m      1\u001b[0m \u001b[0;31m# Retrieve a list of accuracy results on training and test data\u001b[0m\u001b[0;34m\u001b[0m\u001b[0;34m\u001b[0m\u001b[0;34m\u001b[0m\u001b[0m\n\u001b[1;32m      2\u001b[0m \u001b[0;31m# sets for each training epoch\u001b[0m\u001b[0;34m\u001b[0m\u001b[0;34m\u001b[0m\u001b[0;34m\u001b[0m\u001b[0m\n\u001b[0;32m----> 3\u001b[0;31m \u001b[0macc\u001b[0m \u001b[0;34m=\u001b[0m \u001b[0mhistory\u001b[0m\u001b[0;34m.\u001b[0m\u001b[0mhistory\u001b[0m\u001b[0;34m[\u001b[0m\u001b[0;34m'acc'\u001b[0m\u001b[0;34m]\u001b[0m\u001b[0;34m\u001b[0m\u001b[0;34m\u001b[0m\u001b[0m\n\u001b[0m\u001b[1;32m      4\u001b[0m \u001b[0mval_acc\u001b[0m \u001b[0;34m=\u001b[0m \u001b[0mhistory\u001b[0m\u001b[0;34m.\u001b[0m\u001b[0mhistory\u001b[0m\u001b[0;34m[\u001b[0m\u001b[0;34m'val_acc'\u001b[0m\u001b[0;34m]\u001b[0m\u001b[0;34m\u001b[0m\u001b[0;34m\u001b[0m\u001b[0m\n\u001b[1;32m      5\u001b[0m \u001b[0;34m\u001b[0m\u001b[0m\n",
            "\u001b[0;31mNameError\u001b[0m: name 'history' is not defined"
          ]
        }
      ]
    },
    {
      "cell_type": "code",
      "metadata": {
        "id": "yivc4PnFl4RE"
      },
      "source": [
        ""
      ],
      "execution_count": null,
      "outputs": []
    }
  ]
}