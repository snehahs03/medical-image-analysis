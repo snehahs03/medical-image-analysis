{
  "nbformat": 4,
  "nbformat_minor": 0,
  "metadata": {
    "colab": {
      "name": "resnet4.ipynb",
      "provenance": [],
      "collapsed_sections": [],
      "include_colab_link": true
    },
    "kernelspec": {
      "display_name": "Python 3",
      "name": "python3"
    },
    "language_info": {
      "name": "python"
    },
    "accelerator": "GPU"
  },
  "cells": [
    {
      "cell_type": "markdown",
      "metadata": {
        "id": "view-in-github",
        "colab_type": "text"
      },
      "source": [
        "<a href=\"https://colab.research.google.com/github/snehahs03/medical-image-analysis/blob/main/resnet4.ipynb\" target=\"_parent\"><img src=\"https://colab.research.google.com/assets/colab-badge.svg\" alt=\"Open In Colab\"/></a>"
      ]
    },
    {
      "cell_type": "code",
      "metadata": {
        "id": "V-lUnQtQa1kd",
        "colab": {
          "base_uri": "https://localhost:8080/"
        },
        "outputId": "483bddc3-a7e2-48fe-b13a-814db6872293"
      },
      "source": [
        "!pwd"
      ],
      "execution_count": null,
      "outputs": [
        {
          "output_type": "stream",
          "text": [
            "/content\n"
          ],
          "name": "stdout"
        }
      ]
    },
    {
      "cell_type": "code",
      "metadata": {
        "colab": {
          "base_uri": "https://localhost:8080/"
        },
        "id": "gtL75wHma2bt",
        "outputId": "706dd79f-8eb8-420a-a7df-42f6e390b5c4"
      },
      "source": [
        "from google.colab import drive\n",
        "drive.mount('/content/drive')"
      ],
      "execution_count": 1,
      "outputs": [
        {
          "output_type": "stream",
          "text": [
            "Mounted at /content/drive\n"
          ],
          "name": "stdout"
        }
      ]
    },
    {
      "cell_type": "code",
      "metadata": {
        "colab": {
          "base_uri": "https://localhost:8080/"
        },
        "id": "ahCB7vL0a1gy",
        "outputId": "1522382e-b3d6-475f-b771-58604a70ef84"
      },
      "source": [
        "%cd /content/drive/MyDrive"
      ],
      "execution_count": null,
      "outputs": [
        {
          "output_type": "stream",
          "text": [
            "/content/drive/MyDrive\n"
          ],
          "name": "stdout"
        }
      ]
    },
    {
      "cell_type": "code",
      "metadata": {
        "colab": {
          "base_uri": "https://localhost:8080/"
        },
        "id": "fnIVnB6T-tqh",
        "outputId": "5826e18a-ba92-405d-934d-ed764a4792ae"
      },
      "source": [
        "!git clone https://github.com/snehahs03/medical-image-analysis.git"
      ],
      "execution_count": null,
      "outputs": [
        {
          "output_type": "stream",
          "text": [
            "Cloning into 'medical-image-analysis'...\n",
            "remote: Enumerating objects: 3810, done.\u001b[K\n",
            "remote: Counting objects: 100% (47/47), done.\u001b[K\n",
            "remote: Compressing objects: 100% (46/46), done.\u001b[K\n",
            "remote: Total 3810 (delta 24), reused 0 (delta 0), pack-reused 3763\u001b[K\n",
            "Receiving objects: 100% (3810/3810), 337.26 MiB | 22.13 MiB/s, done.\n",
            "Resolving deltas: 100% (35/35), done.\n",
            "Checking out files: 100% (3890/3890), done.\n"
          ],
          "name": "stdout"
        }
      ]
    },
    {
      "cell_type": "code",
      "metadata": {
        "colab": {
          "base_uri": "https://localhost:8080/"
        },
        "id": "3HlPTmKabKuU",
        "outputId": "644526ba-3a70-452a-99ae-53d83d5ff000"
      },
      "source": [
        "%cd /content/drive/MyDrive/medical-image-analysis"
      ],
      "execution_count": 2,
      "outputs": [
        {
          "output_type": "stream",
          "text": [
            "/content/drive/MyDrive/medical-image-analysis\n"
          ],
          "name": "stdout"
        }
      ]
    },
    {
      "cell_type": "code",
      "metadata": {
        "id": "jb19RMs1-_cu"
      },
      "source": [
        "import json\n",
        "import math\n",
        "import os\n",
        "import cv2\n",
        "from PIL import Image\n",
        "import numpy as np\n",
        "import tensorflow\n",
        "from tensorflow.keras import layers\n",
        "from tensorflow.keras.callbacks import Callback, ModelCheckpoint, ReduceLROnPlateau, TensorBoard, EarlyStopping\n",
        "from tensorflow.keras.models import Model\n",
        "from tensorflow.keras.preprocessing.image import ImageDataGenerator\n",
        "from keras.utils.np_utils import to_categorical\n",
        "from tensorflow.keras.models import Sequential\n",
        "from tensorflow.keras.optimizers import Adam\n",
        "import matplotlib.pyplot as plt\n",
        "import pandas as pd\n",
        "from sklearn.model_selection import train_test_split\n",
        "from sklearn.metrics import cohen_kappa_score, accuracy_score\n",
        "import scipy\n",
        "from tensorflow.keras import backend as K\n",
        "import gc\n",
        "from functools import partial\n",
        "from tqdm import tqdm\n",
        "from sklearn import metrics\n",
        "from collections import Counter\n",
        "import json\n",
        "import itertools\n",
        "from keras.layers import Dense, Dropout, Flatten, Conv2D, MaxPool2D,GlobalAveragePooling2D \n",
        "from keras.layers import Input, Lambda, Dense, Flatten\n",
        "from keras.preprocessing import image\n",
        "from glob import glob"
      ],
      "execution_count": 3,
      "outputs": []
    },
    {
      "cell_type": "code",
      "metadata": {
        "id": "G2YXrT4J_Mer"
      },
      "source": [
        "def Dataset_loader(DIR, RESIZE, sigmaX=10):\n",
        "    IMG = []\n",
        "    read = lambda imname: np.asarray(Image.open(imname).convert(\"RGB\"))\n",
        "    for IMAGE_NAME in tqdm(os.listdir(DIR)):\n",
        "        PATH = os.path.join(DIR,IMAGE_NAME)\n",
        "        _, ftype = os.path.splitext(PATH)\n",
        "        if ftype == \".jpg\":\n",
        "            img = read(PATH)\n",
        "           \n",
        "            img = cv2.resize(img, (RESIZE,RESIZE))\n",
        "           \n",
        "            IMG.append(np.array(img))\n",
        "    return IMG"
      ],
      "execution_count": 4,
      "outputs": []
    },
    {
      "cell_type": "code",
      "metadata": {
        "colab": {
          "base_uri": "https://localhost:8080/"
        },
        "id": "yAoAK-7l_ULL",
        "outputId": "6be7de97-0f3e-44f2-c518-58d9b07b93c8"
      },
      "source": [
        "eczema_train = np.array(Dataset_loader(\"/content/drive/MyDrive/medical-image-analysis/test/Eczema Photos\", 224))\n",
        "melanoma_train = np.array(Dataset_loader(\"/content/drive/MyDrive/medical-image-analysis/train/Melanoma Skin Cancer Nevi and Moles\",224))\n",
        "psoriasis_train = np.array(Dataset_loader(\"/content/drive/MyDrive/medical-image-analysis/train/Psoriasis pictures Lichen Planus and related diseases\",224))\n",
        "eczema_test = np.array(Dataset_loader(\"/content/drive/MyDrive/medical-image-analysis/test/Eczema Photos\",224))\n",
        "melonoma_test = np.array(Dataset_loader(\"/content/drive/MyDrive/medical-image-analysis/test/Melanoma Skin Cancer Nevi and Moles\",224))\n",
        "psoriasis_test = np.array(Dataset_loader(\"/content/drive/MyDrive/medical-image-analysis/test/Psoriasis pictures Lichen Planus and related diseases\", 224))\n"
      ],
      "execution_count": 5,
      "outputs": [
        {
          "output_type": "stream",
          "text": [
            "100%|██████████| 309/309 [00:57<00:00,  5.33it/s]\n",
            "100%|██████████| 463/463 [01:31<00:00,  5.07it/s]\n",
            "100%|██████████| 1405/1405 [04:21<00:00,  5.36it/s]\n",
            "100%|██████████| 309/309 [00:02<00:00, 138.68it/s]\n",
            "100%|██████████| 116/116 [00:24<00:00,  4.76it/s]\n",
            "100%|██████████| 352/352 [01:07<00:00,  5.24it/s]\n"
          ],
          "name": "stderr"
        }
      ]
    },
    {
      "cell_type": "code",
      "metadata": {
        "id": "UOFq80Gi_XID"
      },
      "source": [
        "#labelling \n",
        "eczema_train_label = np.full(len(eczema_train),0)\n",
        "melonoma_train_label = np.full(len(melanoma_train),1)\n",
        "psoriasis_train_label = np.full(len(psoriasis_train),2)\n",
        "eczema_test_label = np.full(len(eczema_test),0)\n",
        "melonoma_test_label = np.full(len(melonoma_test),1)\n",
        "psoriasis_test_label = np.full(len(psoriasis_test),2)"
      ],
      "execution_count": 6,
      "outputs": []
    },
    {
      "cell_type": "code",
      "metadata": {
        "id": "nuibS0Ab_lTC"
      },
      "source": [
        "X_train = np.concatenate((eczema_train, melanoma_train, psoriasis_train), axis=0)\n",
        "Y_train = np.concatenate((eczema_train_label, melonoma_train_label, psoriasis_train_label), axis=0)\n",
        "X_test = np.concatenate((eczema_test, melonoma_test, psoriasis_test), axis=0)\n",
        "Y_test = np.concatenate((eczema_test_label, melonoma_test_label, psoriasis_test_label), axis = 0)\n",
        "#print(Y_test.shape)\n",
        "#print(X_test.shape)"
      ],
      "execution_count": 8,
      "outputs": []
    },
    {
      "cell_type": "code",
      "metadata": {
        "id": "q46ALqdo_oS8"
      },
      "source": [
        "s = np.arange(X_train.shape[0])\n",
        "np.random.shuffle(s)\n",
        "X_train = X_train[s]\n",
        "Y_train = Y_train[s]\n",
        "\n",
        "s = np.arange(X_test.shape[0])\n",
        "np.random.shuffle(s)\n",
        "#X_test = X_test[s]\n",
        "#Y_test = Y_test[s]\n"
      ],
      "execution_count": 9,
      "outputs": []
    },
    {
      "cell_type": "code",
      "metadata": {
        "id": "02lI6ES2_rGK"
      },
      "source": [
        "Y_train = to_categorical(Y_train, num_classes= 3)\n",
        "Y_test = to_categorical(Y_test, num_classes= 3)\n",
        "\n",
        "#train and evaluation split\n",
        "X_train, X_val, Y_train, Y_val = train_test_split(\n",
        "    X_train, Y_train, \n",
        "    test_size=0.3, \n",
        "    random_state=5\n",
        ")"
      ],
      "execution_count": 10,
      "outputs": []
    },
    {
      "cell_type": "code",
      "metadata": {
        "id": "3LI5XNMrgVHi",
        "colab": {
          "base_uri": "https://localhost:8080/"
        },
        "outputId": "0f278d73-ffed-4492-998c-a1935960619f"
      },
      "source": [
        "pre_trained_model = tensorflow.keras.applications.ResNet50(input_shape=(224,224, 3), include_top=False, weights=\"imagenet\")"
      ],
      "execution_count": 11,
      "outputs": [
        {
          "output_type": "stream",
          "text": [
            "Downloading data from https://storage.googleapis.com/tensorflow/keras-applications/resnet/resnet50_weights_tf_dim_ordering_tf_kernels_notop.h5\n",
            "94773248/94765736 [==============================] - 0s 0us/step\n"
          ],
          "name": "stdout"
        }
      ]
    },
    {
      "cell_type": "code",
      "metadata": {
        "id": "a2LZWem8gAef",
        "colab": {
          "base_uri": "https://localhost:8080/"
        },
        "outputId": "1d9ae870-01d3-414c-ebf6-02f2496c1986"
      },
      "source": [
        "for layer in pre_trained_model.layers:\n",
        "    #print(layer.name)\n",
        "    if hasattr(layer, 'moving_mean') and hasattr(layer, 'moving_variance'):\n",
        "        layer.trainable = True\n",
        "        K.eval(K.update(layer.moving_mean, K.zeros_like(layer.moving_mean)))\n",
        "        K.eval(K.update(layer.moving_variance, K.zeros_like(layer.moving_variance)))\n",
        "    else:\n",
        "        layer.trainable = False\n",
        "\n",
        "print(len(pre_trained_model.layers))"
      ],
      "execution_count": 12,
      "outputs": [
        {
          "output_type": "stream",
          "text": [
            "175\n"
          ],
          "name": "stdout"
        }
      ]
    },
    {
      "cell_type": "code",
      "metadata": {
        "colab": {
          "base_uri": "https://localhost:8080/"
        },
        "id": "arThh6CiALfL",
        "outputId": "1f4164a0-dea2-44ee-b3f2-b5e841d3d53d"
      },
      "source": [
        "last_layer = pre_trained_model.get_layer('conv5_block3_out')\n",
        "print('last layer output shape:', last_layer.output_shape)\n",
        "last_output = last_layer.output"
      ],
      "execution_count": 13,
      "outputs": [
        {
          "output_type": "stream",
          "text": [
            "last layer output shape: (None, 7, 7, 2048)\n"
          ],
          "name": "stdout"
        }
      ]
    },
    {
      "cell_type": "code",
      "metadata": {
        "id": "23NNU55ehETQ"
      },
      "source": [
        "x = tensorflow.keras.layers.Flatten()(last_output)\n",
        "x = tensorflow.keras.layers.Dense(512, activation='relu')(x)\n",
        "x = tensorflow.keras.layers.Dropout(0.5)(x)\n",
        "x = tensorflow.keras.layers.Dense(512, activation='relu')(x)\n",
        "x = tensorflow.keras.layers.Dropout(0.5)(x)\n",
        "x = tensorflow.keras.layers.Dense(3, activation='softmax')(x)\n",
        "\n",
        "#Config and compile model\n",
        "\n",
        "model1 = Model(pre_trained_model.input, x)\n",
        "optimizer = Adam(learning_rate=0.0001, beta_1=0.9, beta_2=0.999, epsilon=None, decay=0.0, amsgrad=True)\n",
        "model1.compile(loss='categorical_crossentropy',\n",
        "              optimizer=optimizer,\n",
        "              metrics=['accuracy'])"
      ],
      "execution_count": 15,
      "outputs": []
    },
    {
      "cell_type": "markdown",
      "metadata": {
        "id": "gyILdlHjAj_k"
      },
      "source": [
        "TRAINING"
      ]
    },
    {
      "cell_type": "code",
      "metadata": {
        "id": "iX5zYiIaAmOL"
      },
      "source": [
        "train_datagen = ImageDataGenerator(rotation_range=60, width_shift_range=0.2, height_shift_range=0.2,\n",
        "                                   shear_range=0.2, zoom_range=0.2, fill_mode='nearest')\n",
        "\n",
        "train_datagen.fit(X_train)\n",
        "\n",
        "val_datagen = ImageDataGenerator()\n",
        "val_datagen.fit(X_val)"
      ],
      "execution_count": 16,
      "outputs": []
    },
    {
      "cell_type": "code",
      "metadata": {
        "id": "t0HfvRrmEy_8",
        "colab": {
          "base_uri": "https://localhost:8080/"
        },
        "outputId": "467bc794-fcb6-4d1a-b504-f9aa2ffeceaa"
      },
      "source": [
        "batch_size = 64\n",
        "epochs = 30\n",
        "history0 = model1.fit_generator(train_datagen.flow(X_train,Y_train, batch_size=batch_size),\n",
        "                              epochs = epochs, validation_data = val_datagen.flow(X_val, Y_val),\n",
        "                              verbose = 1, steps_per_epoch=(X_train.shape[0] // batch_size), \n",
        "                              validation_steps=(X_val.shape[0] // batch_size))"
      ],
      "execution_count": 17,
      "outputs": [
        {
          "output_type": "stream",
          "text": [
            "/usr/local/lib/python3.7/dist-packages/tensorflow/python/keras/engine/training.py:1940: UserWarning: `Model.fit_generator` is deprecated and will be removed in a future version. Please use `Model.fit`, which supports generators.\n",
            "  warnings.warn('`Model.fit_generator` is deprecated and '\n"
          ],
          "name": "stderr"
        },
        {
          "output_type": "stream",
          "text": [
            "Epoch 1/30\n",
            "23/23 [==============================] - 57s 879ms/step - loss: 2.4235 - accuracy: 0.5469 - val_loss: 54655864832.0000 - val_accuracy: 0.6344\n",
            "Epoch 2/30\n",
            "23/23 [==============================] - 18s 754ms/step - loss: 1.1889 - accuracy: 0.6148 - val_loss: 138144.9688 - val_accuracy: 0.6750\n",
            "Epoch 3/30\n",
            "23/23 [==============================] - 18s 753ms/step - loss: 0.9013 - accuracy: 0.6655 - val_loss: 356.7923 - val_accuracy: 0.3875\n",
            "Epoch 4/30\n",
            "23/23 [==============================] - 18s 752ms/step - loss: 0.8412 - accuracy: 0.6683 - val_loss: 14.0192 - val_accuracy: 0.4656\n",
            "Epoch 5/30\n",
            "23/23 [==============================] - 18s 755ms/step - loss: 0.7976 - accuracy: 0.6902 - val_loss: 2.1213 - val_accuracy: 0.6000\n",
            "Epoch 6/30\n",
            "23/23 [==============================] - 18s 755ms/step - loss: 0.7574 - accuracy: 0.6936 - val_loss: 0.9207 - val_accuracy: 0.6969\n",
            "Epoch 7/30\n",
            "23/23 [==============================] - 18s 754ms/step - loss: 0.7373 - accuracy: 0.7019 - val_loss: 0.7718 - val_accuracy: 0.7000\n",
            "Epoch 8/30\n",
            "23/23 [==============================] - 18s 756ms/step - loss: 0.7112 - accuracy: 0.7149 - val_loss: 0.7390 - val_accuracy: 0.7375\n",
            "Epoch 9/30\n",
            "23/23 [==============================] - 18s 759ms/step - loss: 0.7372 - accuracy: 0.7121 - val_loss: 0.6881 - val_accuracy: 0.7375\n",
            "Epoch 10/30\n",
            "23/23 [==============================] - 18s 756ms/step - loss: 0.7437 - accuracy: 0.7073 - val_loss: 0.6892 - val_accuracy: 0.7188\n",
            "Epoch 11/30\n",
            "23/23 [==============================] - 18s 760ms/step - loss: 0.6963 - accuracy: 0.7334 - val_loss: 0.6647 - val_accuracy: 0.7406\n",
            "Epoch 12/30\n",
            "23/23 [==============================] - 18s 763ms/step - loss: 0.6861 - accuracy: 0.7341 - val_loss: 0.7155 - val_accuracy: 0.7406\n",
            "Epoch 13/30\n",
            "23/23 [==============================] - 18s 753ms/step - loss: 0.6911 - accuracy: 0.7300 - val_loss: 0.6559 - val_accuracy: 0.7750\n",
            "Epoch 14/30\n",
            "23/23 [==============================] - 18s 751ms/step - loss: 0.6269 - accuracy: 0.7574 - val_loss: 0.5948 - val_accuracy: 0.7688\n",
            "Epoch 15/30\n",
            "23/23 [==============================] - 18s 757ms/step - loss: 0.6595 - accuracy: 0.7437 - val_loss: 0.5635 - val_accuracy: 0.7937\n",
            "Epoch 16/30\n",
            "23/23 [==============================] - 18s 766ms/step - loss: 0.6681 - accuracy: 0.7334 - val_loss: 0.5862 - val_accuracy: 0.7781\n",
            "Epoch 17/30\n",
            "23/23 [==============================] - 18s 756ms/step - loss: 0.6687 - accuracy: 0.7416 - val_loss: 0.6099 - val_accuracy: 0.7844\n",
            "Epoch 18/30\n",
            "23/23 [==============================] - 18s 761ms/step - loss: 0.6635 - accuracy: 0.7478 - val_loss: 0.5919 - val_accuracy: 0.7844\n",
            "Epoch 19/30\n",
            "23/23 [==============================] - 18s 758ms/step - loss: 0.6405 - accuracy: 0.7594 - val_loss: 0.5883 - val_accuracy: 0.7844\n",
            "Epoch 20/30\n",
            "23/23 [==============================] - 18s 759ms/step - loss: 0.6325 - accuracy: 0.7560 - val_loss: 0.5255 - val_accuracy: 0.8062\n",
            "Epoch 21/30\n",
            "23/23 [==============================] - 18s 758ms/step - loss: 0.6081 - accuracy: 0.7766 - val_loss: 0.5716 - val_accuracy: 0.7844\n",
            "Epoch 22/30\n",
            "23/23 [==============================] - 18s 764ms/step - loss: 0.5856 - accuracy: 0.7711 - val_loss: 0.5293 - val_accuracy: 0.8031\n",
            "Epoch 23/30\n",
            "23/23 [==============================] - 18s 760ms/step - loss: 0.5592 - accuracy: 0.7766 - val_loss: 0.5298 - val_accuracy: 0.7969\n",
            "Epoch 24/30\n",
            "23/23 [==============================] - 18s 761ms/step - loss: 0.6078 - accuracy: 0.7670 - val_loss: 0.5886 - val_accuracy: 0.7937\n",
            "Epoch 25/30\n",
            "23/23 [==============================] - 18s 757ms/step - loss: 0.5568 - accuracy: 0.7882 - val_loss: 0.6154 - val_accuracy: 0.8250\n",
            "Epoch 26/30\n",
            "23/23 [==============================] - 18s 758ms/step - loss: 0.6008 - accuracy: 0.7766 - val_loss: 0.5506 - val_accuracy: 0.7937\n",
            "Epoch 27/30\n",
            "23/23 [==============================] - 18s 759ms/step - loss: 0.5723 - accuracy: 0.7896 - val_loss: 0.5972 - val_accuracy: 0.7750\n",
            "Epoch 28/30\n",
            "23/23 [==============================] - 18s 758ms/step - loss: 0.5532 - accuracy: 0.7944 - val_loss: 0.5355 - val_accuracy: 0.8031\n",
            "Epoch 29/30\n",
            "23/23 [==============================] - 18s 763ms/step - loss: 0.5178 - accuracy: 0.7964 - val_loss: 0.4627 - val_accuracy: 0.8344\n",
            "Epoch 30/30\n",
            "23/23 [==============================] - 18s 760ms/step - loss: 0.5130 - accuracy: 0.7951 - val_loss: 0.6131 - val_accuracy: 0.8000\n"
          ],
          "name": "stdout"
        }
      ]
    },
    {
      "cell_type": "code",
      "metadata": {
        "id": "VY3wtqDJd3Wf"
      },
      "source": [
        "np.save('his0_resnet.npy',history0.history)"
      ],
      "execution_count": 18,
      "outputs": []
    },
    {
      "cell_type": "code",
      "metadata": {
        "id": "HvkTV5YLm58D"
      },
      "source": [
        "history1=np.load('his0_resnet.npy',allow_pickle='TRUE').item()"
      ],
      "execution_count": 19,
      "outputs": []
    },
    {
      "cell_type": "code",
      "metadata": {
        "id": "7tn992kKnATO"
      },
      "source": [
        "print(history1)"
      ],
      "execution_count": null,
      "outputs": []
    },
    {
      "cell_type": "code",
      "metadata": {
        "id": "RFo-3ZAikWt9",
        "colab": {
          "base_uri": "https://localhost:8080/"
        },
        "outputId": "e746d975-2c03-451d-898b-ff59fe7117a1"
      },
      "source": [
        "model1.save(\"0thModel.h5\")"
      ],
      "execution_count": 20,
      "outputs": [
        {
          "output_type": "stream",
          "text": [
            "/usr/local/lib/python3.7/dist-packages/tensorflow/python/keras/utils/generic_utils.py:497: CustomMaskWarning: Custom mask layers require a config and must override get_config. When loading, the custom mask layer must be passed to the custom_objects argument.\n",
            "  category=CustomMaskWarning)\n"
          ],
          "name": "stderr"
        }
      ]
    },
    {
      "cell_type": "markdown",
      "metadata": {
        "id": "LwKQytXZpVoQ"
      },
      "source": [
        "**FINE TUNING**"
      ]
    },
    {
      "cell_type": "code",
      "metadata": {
        "id": "EaGEwvB94lgf"
      },
      "source": [
        "x = tensorflow.keras.layers.Flatten()(last_output)\n",
        "x = tensorflow.keras.layers.Dense(512, activation='relu')(x)\n",
        "x = tensorflow.keras.layers.Dropout(0.3)(x)\n",
        "x = tensorflow.keras.layers.Dense(3, activation='softmax')(x)"
      ],
      "execution_count": null,
      "outputs": []
    },
    {
      "cell_type": "code",
      "metadata": {
        "colab": {
          "base_uri": "https://localhost:8080/"
        },
        "id": "6FXRdFeNnVfA",
        "outputId": "c3810960-2dbe-43fc-ad35-c82b35fbbaa0"
      },
      "source": [
        "model4 = Model(pre_trained_model.input, x)\n",
        "optimizer = Adam(lr=0.0001, beta_1=0.9, beta_2=0.999, epsilon=None, decay=0.2, amsgrad=False)\n",
        "model4.compile(loss='categorical_crossentropy',\n",
        "              optimizer=optimizer,\n",
        "              metrics=['acc'])"
      ],
      "execution_count": 21,
      "outputs": [
        {
          "output_type": "stream",
          "text": [
            "/usr/local/lib/python3.7/dist-packages/tensorflow/python/keras/optimizer_v2/optimizer_v2.py:375: UserWarning: The `lr` argument is deprecated, use `learning_rate` instead.\n",
            "  \"The `lr` argument is deprecated, use `learning_rate` instead.\")\n"
          ],
          "name": "stderr"
        }
      ]
    },
    {
      "cell_type": "code",
      "metadata": {
        "id": "GTmmbBoxnGNg"
      },
      "source": [
        "for layer in pre_trained_model.layers[::-5]:\n",
        "    layer.trainable = True"
      ],
      "execution_count": 22,
      "outputs": []
    },
    {
      "cell_type": "code",
      "metadata": {
        "id": "xBrdwZ_7nZ0Y"
      },
      "source": [
        "learning_rate_reduction = ReduceLROnPlateau(monitor='val_acc', patience=2, verbose=1, factor=0.5, \n",
        "                                            min_lr=0.000001, cooldown=2)"
      ],
      "execution_count": 23,
      "outputs": []
    },
    {
      "cell_type": "code",
      "metadata": {
        "colab": {
          "base_uri": "https://localhost:8080/"
        },
        "id": "i1v1RoX6nhuM",
        "outputId": "5cc9e549-1495-42d8-daf4-e26e78545769"
      },
      "source": [
        "batch_size = 64\n",
        "epochs = 30\n",
        "history3 = model4.fit_generator(train_datagen.flow(X_train,Y_train, batch_size=batch_size),\n",
        "                              epochs = epochs, validation_data = val_datagen.flow(X_val, Y_val),\n",
        "                              verbose = 1, steps_per_epoch=(X_train.shape[0] // batch_size),\n",
        "                              validation_steps=(X_val.shape[0] // batch_size),\n",
        "                              callbacks=[learning_rate_reduction])"
      ],
      "execution_count": 24,
      "outputs": [
        {
          "output_type": "stream",
          "text": [
            "/usr/local/lib/python3.7/dist-packages/tensorflow/python/keras/engine/training.py:1940: UserWarning: `Model.fit_generator` is deprecated and will be removed in a future version. Please use `Model.fit`, which supports generators.\n",
            "  warnings.warn('`Model.fit_generator` is deprecated and '\n"
          ],
          "name": "stderr"
        },
        {
          "output_type": "stream",
          "text": [
            "Epoch 1/30\n",
            "23/23 [==============================] - 23s 803ms/step - loss: 0.5815 - acc: 0.7999 - val_loss: 0.6129 - val_acc: 0.8062\n",
            "Epoch 2/30\n",
            "23/23 [==============================] - 18s 760ms/step - loss: 0.5112 - acc: 0.8053 - val_loss: 0.6361 - val_acc: 0.7969\n",
            "Epoch 3/30\n",
            "23/23 [==============================] - 18s 760ms/step - loss: 0.4958 - acc: 0.8136 - val_loss: 0.6881 - val_acc: 0.7781\n",
            "\n",
            "Epoch 00003: ReduceLROnPlateau reducing learning rate to 4.999999873689376e-05.\n",
            "Epoch 4/30\n",
            "23/23 [==============================] - 18s 757ms/step - loss: 0.5004 - acc: 0.8129 - val_loss: 0.5167 - val_acc: 0.8062\n",
            "Epoch 5/30\n",
            "23/23 [==============================] - 18s 759ms/step - loss: 0.5121 - acc: 0.8143 - val_loss: 0.6668 - val_acc: 0.8000\n",
            "Epoch 6/30\n",
            "23/23 [==============================] - 18s 763ms/step - loss: 0.5194 - acc: 0.8088 - val_loss: 0.6404 - val_acc: 0.7937\n",
            "\n",
            "Epoch 00006: ReduceLROnPlateau reducing learning rate to 2.499999936844688e-05.\n",
            "Epoch 7/30\n",
            "23/23 [==============================] - 18s 763ms/step - loss: 0.4643 - acc: 0.8177 - val_loss: 0.6331 - val_acc: 0.8031\n",
            "Epoch 8/30\n",
            "23/23 [==============================] - 18s 761ms/step - loss: 0.5065 - acc: 0.8136 - val_loss: 0.6411 - val_acc: 0.7937\n",
            "Epoch 9/30\n",
            "23/23 [==============================] - 18s 759ms/step - loss: 0.4957 - acc: 0.8074 - val_loss: 0.5819 - val_acc: 0.8062\n",
            "\n",
            "Epoch 00009: ReduceLROnPlateau reducing learning rate to 1.249999968422344e-05.\n",
            "Epoch 10/30\n",
            "23/23 [==============================] - 18s 771ms/step - loss: 0.4848 - acc: 0.8197 - val_loss: 0.7334 - val_acc: 0.8062\n",
            "Epoch 11/30\n",
            "23/23 [==============================] - 18s 760ms/step - loss: 0.4650 - acc: 0.8211 - val_loss: 0.7144 - val_acc: 0.7875\n",
            "Epoch 12/30\n",
            "23/23 [==============================] - 18s 760ms/step - loss: 0.4907 - acc: 0.8019 - val_loss: 0.5832 - val_acc: 0.8125\n",
            "Epoch 13/30\n",
            "23/23 [==============================] - 18s 759ms/step - loss: 0.4706 - acc: 0.8177 - val_loss: 0.6537 - val_acc: 0.8000\n",
            "Epoch 14/30\n",
            "23/23 [==============================] - 18s 758ms/step - loss: 0.4684 - acc: 0.8225 - val_loss: 0.5437 - val_acc: 0.8094\n",
            "\n",
            "Epoch 00014: ReduceLROnPlateau reducing learning rate to 6.24999984211172e-06.\n",
            "Epoch 15/30\n",
            "23/23 [==============================] - 18s 764ms/step - loss: 0.4922 - acc: 0.8136 - val_loss: 0.5606 - val_acc: 0.8156\n",
            "Epoch 16/30\n",
            "23/23 [==============================] - 18s 760ms/step - loss: 0.4730 - acc: 0.8191 - val_loss: 0.6354 - val_acc: 0.8125\n",
            "Epoch 17/30\n",
            "23/23 [==============================] - 18s 762ms/step - loss: 0.4948 - acc: 0.8184 - val_loss: 0.6514 - val_acc: 0.7969\n",
            "\n",
            "Epoch 00017: ReduceLROnPlateau reducing learning rate to 3.12499992105586e-06.\n",
            "Epoch 18/30\n",
            "23/23 [==============================] - 18s 761ms/step - loss: 0.4666 - acc: 0.8191 - val_loss: 0.5972 - val_acc: 0.8250\n",
            "Epoch 19/30\n",
            "23/23 [==============================] - 18s 762ms/step - loss: 0.4871 - acc: 0.8129 - val_loss: 0.5672 - val_acc: 0.8219\n",
            "Epoch 20/30\n",
            "23/23 [==============================] - 18s 762ms/step - loss: 0.4714 - acc: 0.8286 - val_loss: 0.5393 - val_acc: 0.8344\n",
            "Epoch 21/30\n",
            "23/23 [==============================] - 18s 760ms/step - loss: 0.4740 - acc: 0.8184 - val_loss: 0.5701 - val_acc: 0.8156\n",
            "Epoch 22/30\n",
            "23/23 [==============================] - 18s 760ms/step - loss: 0.4736 - acc: 0.8252 - val_loss: 0.6556 - val_acc: 0.7906\n",
            "\n",
            "Epoch 00022: ReduceLROnPlateau reducing learning rate to 1.56249996052793e-06.\n",
            "Epoch 23/30\n",
            "23/23 [==============================] - 18s 760ms/step - loss: 0.4479 - acc: 0.8211 - val_loss: 0.6347 - val_acc: 0.8062\n",
            "Epoch 24/30\n",
            "23/23 [==============================] - 18s 764ms/step - loss: 0.4630 - acc: 0.8225 - val_loss: 0.5162 - val_acc: 0.8219\n",
            "Epoch 25/30\n",
            "23/23 [==============================] - 18s 758ms/step - loss: 0.4601 - acc: 0.8259 - val_loss: 0.5683 - val_acc: 0.8125\n",
            "\n",
            "Epoch 00025: ReduceLROnPlateau reducing learning rate to 1e-06.\n",
            "Epoch 26/30\n",
            "23/23 [==============================] - 18s 760ms/step - loss: 0.5024 - acc: 0.8101 - val_loss: 0.6440 - val_acc: 0.8062\n",
            "Epoch 27/30\n",
            "23/23 [==============================] - 18s 762ms/step - loss: 0.4657 - acc: 0.8211 - val_loss: 0.5611 - val_acc: 0.8062\n",
            "Epoch 28/30\n",
            "23/23 [==============================] - 18s 758ms/step - loss: 0.4945 - acc: 0.8108 - val_loss: 0.6670 - val_acc: 0.7875\n",
            "Epoch 29/30\n",
            "23/23 [==============================] - 18s 759ms/step - loss: 0.4949 - acc: 0.8047 - val_loss: 0.5878 - val_acc: 0.8000\n",
            "Epoch 30/30\n",
            "23/23 [==============================] - 18s 764ms/step - loss: 0.4377 - acc: 0.8232 - val_loss: 0.5865 - val_acc: 0.8219\n"
          ],
          "name": "stdout"
        }
      ]
    },
    {
      "cell_type": "code",
      "metadata": {
        "id": "ECNQAcebs0g6"
      },
      "source": [
        "np.save('his3_resnet.npy',history3.history)"
      ],
      "execution_count": 25,
      "outputs": []
    },
    {
      "cell_type": "code",
      "metadata": {
        "colab": {
          "base_uri": "https://localhost:8080/"
        },
        "id": "DfkewlEdlPGq",
        "outputId": "6b5cfde5-2397-4e19-c8e4-41c9e9ebed48"
      },
      "source": [
        "model4.save(\"3rdModel.h5\")"
      ],
      "execution_count": 26,
      "outputs": [
        {
          "output_type": "stream",
          "text": [
            "/usr/local/lib/python3.7/dist-packages/tensorflow/python/keras/utils/generic_utils.py:497: CustomMaskWarning: Custom mask layers require a config and must override get_config. When loading, the custom mask layer must be passed to the custom_objects argument.\n",
            "  category=CustomMaskWarning)\n"
          ],
          "name": "stderr"
        }
      ]
    },
    {
      "cell_type": "code",
      "metadata": {
        "colab": {
          "base_uri": "https://localhost:8080/"
        },
        "id": "KuUtbb0Xnpi9",
        "outputId": "33362357-69a5-474d-a7fa-4675ff7036ae"
      },
      "source": [
        "loss_test, acc_test = model4.evaluate(X_test, Y_test, verbose=1)\n",
        "print(\"Test: accuracy = %f  ;  loss = %f\" % (acc_test, loss_test))"
      ],
      "execution_count": 27,
      "outputs": [
        {
          "output_type": "stream",
          "text": [
            "25/25 [==============================] - 4s 111ms/step - loss: 0.5992 - acc: 0.7490\n",
            "Test: accuracy = 0.749035  ;  loss = 0.599187\n"
          ],
          "name": "stdout"
        }
      ]
    },
    {
      "cell_type": "code",
      "metadata": {
        "colab": {
          "base_uri": "https://localhost:8080/",
          "height": 311
        },
        "id": "2e94a28c",
        "outputId": "29a87183-19ec-48b8-d3f7-e4fa61560ee3"
      },
      "source": [
        "from sklearn.metrics import confusion_matrix\n",
        "import itertools\n",
        "def plot_confusion_matrix(cm, classes,\n",
        "                          normalize=False,\n",
        "                          title='Confusion matrix 0f resnet4',\n",
        "                          cmap=plt.cm.Blues):\n",
        "    \"\"\"\n",
        "    This function prints and plots the confusion matrix.\n",
        "    Normalization can be applied by setting `normalize=True`.\n",
        "    \"\"\"\n",
        "    plt.imshow(cm, interpolation='nearest', cmap=cmap)\n",
        "    plt.title(title)\n",
        "    plt.colorbar()\n",
        "    tick_marks = np.arange(len(classes))\n",
        "    plt.xticks(tick_marks, classes, rotation=45)\n",
        "    plt.yticks(tick_marks, classes)\n",
        "\n",
        "    if normalize:\n",
        "        cm = cm.astype('float') / cm.sum(axis=1)[:, np.newaxis]\n",
        "\n",
        "    thresh = cm.max() / 2.\n",
        "    for i, j in itertools.product(range(cm.shape[0]), range(cm.shape[1])):\n",
        "        plt.text(j, i, cm[i, j],\n",
        "                 horizontalalignment=\"center\",\n",
        "                 color=\"white\" if cm[i, j] > thresh else \"black\")\n",
        "\n",
        "    plt.tight_layout()\n",
        "    plt.ylabel('True label')\n",
        "    plt.xlabel('Predicted label')\n",
        "\n",
        "# Predict the values from the validation dataset\n",
        "y_pred = model4.predict(X_test)\n",
        "# Convert predictions classes to one hot vectors \n",
        "y_pred_classes = np.argmax(y_pred,axis = 1) \n",
        "# Convert validation observations to one hot vectors\n",
        "y_true = np.argmax(Y_test,axis = 1) \n",
        "# compute the confusion matrix\n",
        "confusion_mtx = confusion_matrix(y_true, y_pred_classes) \n",
        "# plot the confusion matrix\n",
        "plot_confusion_matrix(confusion_mtx, classes = range(3))"
      ],
      "execution_count": 28,
      "outputs": [
        {
          "output_type": "display_data",
          "data": {
            "image/png": "[encoded data removed]",
            "text/plain": [
              "<Figure size 432x288 with 2 Axes>"
            ]
          },
          "metadata": {
            "tags": [],
            "needs_background": "light"
          }
        }
      ]
    },
    {
      "cell_type": "code",
      "metadata": {
        "colab": {
          "base_uri": "https://localhost:8080/"
        },
        "id": "MpxZk4uRnQfM",
        "outputId": "71716c38-bb24-46b7-a6f3-291148e83cca"
      },
      "source": [
        "print(history1.history.keys())"
      ],
      "execution_count": null,
      "outputs": [
        {
          "output_type": "stream",
          "text": [
            "dict_keys(['loss', 'acc', 'val_loss', 'val_acc', 'lr'])\n"
          ],
          "name": "stdout"
        }
      ]
    },
    {
      "cell_type": "code",
      "metadata": {
        "id": "s-P-D9u4hIKd",
        "colab": {
          "base_uri": "https://localhost:8080/",
          "height": 162
        },
        "outputId": "cf71b79b-a44f-414a-ff88-39912f0b9b60"
      },
      "source": [
        "type(history1)"
      ],
      "execution_count": null,
      "outputs": [
        {
          "output_type": "error",
          "ename": "NameError",
          "evalue": "ignored",
          "traceback": [
            "\u001b[0;31m---------------------------------------------------------------------------\u001b[0m",
            "\u001b[0;31mNameError\u001b[0m                                 Traceback (most recent call last)",
            "\u001b[0;32m<ipython-input-1-d25fc4779100>\u001b[0m in \u001b[0;36m<module>\u001b[0;34m()\u001b[0m\n\u001b[0;32m----> 1\u001b[0;31m \u001b[0mtype\u001b[0m\u001b[0;34m(\u001b[0m\u001b[0mhistory1\u001b[0m\u001b[0;34m)\u001b[0m\u001b[0;34m\u001b[0m\u001b[0;34m\u001b[0m\u001b[0m\n\u001b[0m",
            "\u001b[0;31mNameError\u001b[0m: name 'history1' is not defined"
          ]
        }
      ]
    },
    {
      "cell_type": "code",
      "metadata": {
        "colab": {
          "base_uri": "https://localhost:8080/"
        },
        "id": "t11eYFjbqGyp",
        "outputId": "8d0efef7-3361-4372-8778-a75b20b74d4e"
      },
      "source": [
        "print(history1.history['val_acc'])"
      ],
      "execution_count": null,
      "outputs": [
        {
          "output_type": "stream",
          "text": [
            "[0.6383928656578064, 0.6294642686843872, 0.640625, 0.6741071343421936, 0.6540178656578064]\n"
          ],
          "name": "stdout"
        }
      ]
    },
    {
      "cell_type": "code",
      "metadata": {
        "colab": {
          "base_uri": "https://localhost:8080/",
          "height": 229
        },
        "id": "LTkcONXUPcbg",
        "outputId": "58fe773a-6174-4052-8338-2f7ff0fd9cc4"
      },
      "source": [
        "# Retrieve a list of accuracy results on training and test data\n",
        "# sets for each training epoch\n",
        "acc0 = np.array(history0.history['val_accuracy'])\n",
        "acc1 = np.array(history1.history['val_acc'])\n",
        "\n",
        "# Retrieve a list of list results on training and test data\n",
        "# sets for each training epoch\n",
        "loss0 = history0.history['val_loss']\n",
        "loss1 = history1.history['val_loss']\n",
        "\n",
        "# Get number of epochs\n",
        "epochs = range(len(acc0))\n",
        "\n",
        "# Plot training and validation accuracy per epoch\n",
        "plt.plot(epochs, acc0, label = \"training\")\n",
        "plt.plot(epochs, acc1, label = \"fine_tuning1\")\n",
        "plt.legend(loc=\"upper left\")\n",
        "plt.title('Training and validation accuracy')\n",
        "\n",
        "plt.figure()\n",
        "\n",
        "# Plot training and validation loss per epoch\n",
        "plt.plot(epochs, loss0, label = \"training\")\n",
        "plt.plot(epochs, loss1, label = \"fine_tuning1\")\n",
        "plt.legend(loc=\"upper right\")\n",
        "plt.title('Training and validation loss')"
      ],
      "execution_count": null,
      "outputs": [
        {
          "output_type": "error",
          "ename": "NameError",
          "evalue": "ignored",
          "traceback": [
            "\u001b[0;31m---------------------------------------------------------------------------\u001b[0m",
            "\u001b[0;31mNameError\u001b[0m                                 Traceback (most recent call last)",
            "\u001b[0;32m<ipython-input-25-f12006727ea2>\u001b[0m in \u001b[0;36m<module>\u001b[0;34m()\u001b[0m\n\u001b[1;32m      2\u001b[0m \u001b[0;31m# sets for each training epoch\u001b[0m\u001b[0;34m\u001b[0m\u001b[0;34m\u001b[0m\u001b[0;34m\u001b[0m\u001b[0m\n\u001b[1;32m      3\u001b[0m \u001b[0macc0\u001b[0m \u001b[0;34m=\u001b[0m \u001b[0mnp\u001b[0m\u001b[0;34m.\u001b[0m\u001b[0marray\u001b[0m\u001b[0;34m(\u001b[0m\u001b[0mhistory0\u001b[0m\u001b[0;34m.\u001b[0m\u001b[0mhistory\u001b[0m\u001b[0;34m[\u001b[0m\u001b[0;34m'val_accuracy'\u001b[0m\u001b[0;34m]\u001b[0m\u001b[0;34m)\u001b[0m\u001b[0;34m\u001b[0m\u001b[0;34m\u001b[0m\u001b[0m\n\u001b[0;32m----> 4\u001b[0;31m \u001b[0macc1\u001b[0m \u001b[0;34m=\u001b[0m \u001b[0mnp\u001b[0m\u001b[0;34m.\u001b[0m\u001b[0marray\u001b[0m\u001b[0;34m(\u001b[0m\u001b[0mhistory1\u001b[0m\u001b[0;34m.\u001b[0m\u001b[0mhistory\u001b[0m\u001b[0;34m[\u001b[0m\u001b[0;34m'val_acc'\u001b[0m\u001b[0;34m]\u001b[0m\u001b[0;34m)\u001b[0m\u001b[0;34m\u001b[0m\u001b[0;34m\u001b[0m\u001b[0m\n\u001b[0m\u001b[1;32m      5\u001b[0m \u001b[0;34m\u001b[0m\u001b[0m\n\u001b[1;32m      6\u001b[0m \u001b[0;31m# Retrieve a list of list results on training and test data\u001b[0m\u001b[0;34m\u001b[0m\u001b[0;34m\u001b[0m\u001b[0;34m\u001b[0m\u001b[0m\n",
            "\u001b[0;31mNameError\u001b[0m: name 'history1' is not defined"
          ]
        }
      ]
    },
    {
      "cell_type": "code",
      "metadata": {
        "colab": {
          "base_uri": "https://localhost:8080/"
        },
        "id": "ICr1N3ETscji",
        "outputId": "e05758cf-cfde-4928-8936-288a25978af0"
      },
      "source": [
        "model.save(\"InceptionResNet.h5\")"
      ],
      "execution_count": null,
      "outputs": [
        {
          "output_type": "stream",
          "text": [
            "/usr/local/lib/python3.7/dist-packages/tensorflow/python/keras/utils/generic_utils.py:497: CustomMaskWarning: Custom mask layers require a config and must override get_config. When loading, the custom mask layer must be passed to the custom_objects argument.\n",
            "  category=CustomMaskWarning)\n"
          ],
          "name": "stderr"
        }
      ]
    },
    {
      "cell_type": "code",
      "metadata": {
        "colab": {
          "base_uri": "https://localhost:8080/",
          "height": 236
        },
        "id": "STnWw-KCtvVM",
        "outputId": "33b02100-f37d-4bbf-9f15-ac64375c3adf"
      },
      "source": [
        "# Retrieve a list of accuracy results on training and test data\n",
        "# sets for each training epoch\n",
        "acc = history.history['acc']\n",
        "val_acc = history.history['val_acc']\n",
        "\n",
        "# Retrieve a list of list results on training and test data\n",
        "# sets for each training epoch\n",
        "loss = history.history['loss']\n",
        "val_loss = history.history['val_loss']\n",
        "\n",
        "# Get number of epochs\n",
        "epochs = range(len(acc))\n",
        "\n",
        "# Plot training and validation accuracy per epoch\n",
        "plt.plot(epochs, acc, label = \"training\")\n",
        "plt.plot(epochs, val_acc, label = \"validation\")\n",
        "plt.legend(loc=\"upper left\")\n",
        "plt.title('Training and validation accuracy')\n",
        "\n",
        "plt.figure()\n",
        "\n",
        "# Plot training and validation loss per epoch\n",
        "plt.plot(epochs, loss, label = \"training\")\n",
        "plt.plot(epochs, val_loss, label = \"validation\")\n",
        "plt.legend(loc=\"upper right\")\n",
        "plt.title('Training and validation loss')"
      ],
      "execution_count": null,
      "outputs": [
        {
          "output_type": "error",
          "ename": "NameError",
          "evalue": "ignored",
          "traceback": [
            "\u001b[0;31m---------------------------------------------------------------------------\u001b[0m",
            "\u001b[0;31mNameError\u001b[0m                                 Traceback (most recent call last)",
            "\u001b[0;32m<ipython-input-37-b1f23df1409e>\u001b[0m in \u001b[0;36m<module>\u001b[0;34m()\u001b[0m\n\u001b[1;32m      1\u001b[0m \u001b[0;31m# Retrieve a list of accuracy results on training and test data\u001b[0m\u001b[0;34m\u001b[0m\u001b[0;34m\u001b[0m\u001b[0;34m\u001b[0m\u001b[0m\n\u001b[1;32m      2\u001b[0m \u001b[0;31m# sets for each training epoch\u001b[0m\u001b[0;34m\u001b[0m\u001b[0;34m\u001b[0m\u001b[0;34m\u001b[0m\u001b[0m\n\u001b[0;32m----> 3\u001b[0;31m \u001b[0macc\u001b[0m \u001b[0;34m=\u001b[0m \u001b[0mhistory\u001b[0m\u001b[0;34m.\u001b[0m\u001b[0mhistory\u001b[0m\u001b[0;34m[\u001b[0m\u001b[0;34m'acc'\u001b[0m\u001b[0;34m]\u001b[0m\u001b[0;34m\u001b[0m\u001b[0;34m\u001b[0m\u001b[0m\n\u001b[0m\u001b[1;32m      4\u001b[0m \u001b[0mval_acc\u001b[0m \u001b[0;34m=\u001b[0m \u001b[0mhistory\u001b[0m\u001b[0;34m.\u001b[0m\u001b[0mhistory\u001b[0m\u001b[0;34m[\u001b[0m\u001b[0;34m'val_acc'\u001b[0m\u001b[0;34m]\u001b[0m\u001b[0;34m\u001b[0m\u001b[0;34m\u001b[0m\u001b[0m\n\u001b[1;32m      5\u001b[0m \u001b[0;34m\u001b[0m\u001b[0m\n",
            "\u001b[0;31mNameError\u001b[0m: name 'history' is not defined"
          ]
        }
      ]
    },
    {
      "cell_type": "code",
      "metadata": {
        "id": "yivc4PnFl4RE"
      },
      "source": [
        ""
      ],
      "execution_count": null,
      "outputs": []
    }
  ]
}