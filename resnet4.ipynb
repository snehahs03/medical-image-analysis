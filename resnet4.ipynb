{
  "nbformat": 4,
  "nbformat_minor": 0,
  "metadata": {
    "colab": {
      "name": "resnet4.ipynb",
      "provenance": [],
      "collapsed_sections": [],
      "include_colab_link": true
    },
    "kernelspec": {
      "display_name": "Python 3",
      "name": "python3"
    },
    "language_info": {
      "name": "python"
    },
    "accelerator": "GPU"
  },
  "cells": [
    {
      "cell_type": "markdown",
      "metadata": {
        "id": "view-in-github",
        "colab_type": "text"
      },
      "source": [
        "<a href=\"https://colab.research.google.com/github/snehahs03/medical-image-analysis/blob/main/resnet4.ipynb\" target=\"_parent\"><img src=\"https://colab.research.google.com/assets/colab-badge.svg\" alt=\"Open In Colab\"/></a>"
      ]
    },
    {
      "cell_type": "code",
      "metadata": {
        "colab": {
          "base_uri": "https://localhost:8080/"
        },
        "id": "INQ4Yk2_Y-rl",
        "outputId": "04760eef-8902-4aa3-d9e4-86740e890280"
      },
      "source": [
        "from google.colab import drive\n",
        "drive.mount('/content/drive')"
      ],
      "execution_count": 2,
      "outputs": [
        {
          "output_type": "stream",
          "text": [
            "Mounted at /content/drive\n"
          ],
          "name": "stdout"
        }
      ]
    },
    {
      "cell_type": "code",
      "metadata": {
        "colab": {
          "base_uri": "https://localhost:8080/"
        },
        "id": "3HlPTmKabKuU",
        "outputId": "2fb23071-e39b-4f50-b836-b7800866d1dd"
      },
      "source": [
        "%cd /content/drive/MyDrive/medical-image-analysis"
      ],
      "execution_count": 3,
      "outputs": [
        {
          "output_type": "stream",
          "text": [
            "/content/drive/MyDrive/medical-image-analysis\n"
          ],
          "name": "stdout"
        }
      ]
    },
    {
      "cell_type": "code",
      "metadata": {
        "id": "jb19RMs1-_cu"
      },
      "source": [
        "import json\n",
        "import math\n",
        "import os\n",
        "import cv2\n",
        "from PIL import Image\n",
        "import numpy as np\n",
        "import tensorflow\n",
        "from tensorflow.keras import layers\n",
        "from tensorflow.keras.callbacks import Callback, ModelCheckpoint, ReduceLROnPlateau, TensorBoard, EarlyStopping\n",
        "from tensorflow.keras.models import Model\n",
        "from tensorflow.keras.preprocessing.image import ImageDataGenerator\n",
        "from keras.utils.np_utils import to_categorical\n",
        "from tensorflow.keras.models import Sequential\n",
        "from tensorflow.keras.optimizers import Adam\n",
        "import matplotlib.pyplot as plt\n",
        "import pandas as pd\n",
        "from sklearn.model_selection import train_test_split\n",
        "from sklearn.metrics import cohen_kappa_score, accuracy_score\n",
        "import scipy\n",
        "from tensorflow.keras import backend as K\n",
        "import gc\n",
        "from functools import partial\n",
        "from tqdm import tqdm\n",
        "from sklearn import metrics\n",
        "from collections import Counter\n",
        "import json\n",
        "import itertools\n",
        "from keras.layers import Dense, Dropout, Flatten, Conv2D, MaxPool2D,GlobalAveragePooling2D \n",
        "from keras.layers import Input, Lambda, Dense, Flatten\n",
        "from keras.preprocessing import image\n",
        "from glob import glob"
      ],
      "execution_count": 4,
      "outputs": []
    },
    {
      "cell_type": "code",
      "metadata": {
        "id": "G2YXrT4J_Mer"
      },
      "source": [
        "def Dataset_loader(DIR, RESIZE, sigmaX=10):\n",
        "    IMG = []\n",
        "    read = lambda imname: np.asarray(Image.open(imname).convert(\"RGB\"))\n",
        "    for IMAGE_NAME in tqdm(os.listdir(DIR)):\n",
        "        PATH = os.path.join(DIR,IMAGE_NAME)\n",
        "        _, ftype = os.path.splitext(PATH)\n",
        "        if ftype == \".jpg\":\n",
        "            img = read(PATH)\n",
        "           \n",
        "            img = cv2.resize(img, (RESIZE,RESIZE))\n",
        "           \n",
        "            IMG.append(np.array(img))\n",
        "    return IMG"
      ],
      "execution_count": 5,
      "outputs": []
    },
    {
      "cell_type": "code",
      "metadata": {
        "id": "yAoAK-7l_ULL",
        "colab": {
          "base_uri": "https://localhost:8080/"
        },
        "outputId": "89cf36da-4f52-4d98-e8c4-96c203e9d2d2"
      },
      "source": [
        "eczema_train = np.array(Dataset_loader(\"/content/drive/MyDrive/medical-image-analysis/train/Eczema Photos\", 224))\n",
        "melanoma_train = np.array(Dataset_loader(\"/content/drive/MyDrive/medical-image-analysis/train/Melanoma Skin Cancer Nevi and Moles\",224))\n",
        "psoriasis_train = np.array(Dataset_loader(\"/content/drive/MyDrive/medical-image-analysis/train/Psoriasis pictures Lichen Planus and related diseases\",224))\n",
        "eczema_test = np.array(Dataset_loader(\"/content/drive/MyDrive/medical-image-analysis/test/Eczema Photos\",224))\n",
        "melonoma_test = np.array(Dataset_loader(\"/content/drive/MyDrive/medical-image-analysis/test/Melanoma Skin Cancer Nevi and Moles\",224))\n",
        "psoriasis_test = np.array(Dataset_loader(\"/content/drive/MyDrive/medical-image-analysis/test/Psoriasis pictures Lichen Planus and related diseases\", 224))\n"
      ],
      "execution_count": 6,
      "outputs": [
        {
          "output_type": "stream",
          "text": [
            "100%|██████████| 1235/1235 [04:06<00:00,  5.02it/s]\n",
            "100%|██████████| 463/463 [01:31<00:00,  5.08it/s]\n",
            "100%|██████████| 1405/1405 [04:50<00:00,  4.84it/s]\n",
            "100%|██████████| 309/309 [01:03<00:00,  4.86it/s]\n",
            "100%|██████████| 318/318 [01:03<00:00,  4.98it/s]\n",
            "100%|██████████| 352/352 [01:18<00:00,  4.48it/s]\n"
          ],
          "name": "stderr"
        }
      ]
    },
    {
      "cell_type": "code",
      "metadata": {
        "id": "UOFq80Gi_XID"
      },
      "source": [
        "#labelling \n",
        "eczema_train_label = np.full(len(eczema_train),0)\n",
        "melonoma_train_label = np.full(len(melanoma_train),1)\n",
        "psoriasis_train_label = np.full(len(psoriasis_train),2)\n",
        "eczema_test_label = np.full(len(eczema_test),0)\n",
        "melonoma_test_label = np.full(len(melonoma_test),1)\n",
        "psoriasis_test_label = np.full(len(psoriasis_test),2)"
      ],
      "execution_count": 7,
      "outputs": []
    },
    {
      "cell_type": "code",
      "metadata": {
        "id": "nuibS0Ab_lTC"
      },
      "source": [
        "X_train = np.concatenate((eczema_train, melanoma_train, psoriasis_train), axis=0)\n",
        "Y_train = np.concatenate((eczema_train_label, melonoma_train_label, psoriasis_train_label), axis=0)\n",
        "X_test = np.concatenate((eczema_test, melonoma_test, psoriasis_test), axis=0)\n",
        "Y_test = np.concatenate((eczema_test_label, melonoma_test_label, psoriasis_test_label), axis = 0)\n",
        "#print(Y_test.shape)\n",
        "#print(X_test.shape)"
      ],
      "execution_count": 8,
      "outputs": []
    },
    {
      "cell_type": "code",
      "metadata": {
        "id": "q46ALqdo_oS8"
      },
      "source": [
        "s = np.arange(X_train.shape[0])\n",
        "np.random.shuffle(s)\n",
        "X_train = X_train[s]\n",
        "Y_train = Y_train[s]\n",
        "\n",
        "s = np.arange(X_test.shape[0])\n",
        "np.random.shuffle(s)\n",
        "#X_test = X_test[s]\n",
        "#Y_test = Y_test[s]\n"
      ],
      "execution_count": 9,
      "outputs": []
    },
    {
      "cell_type": "code",
      "metadata": {
        "id": "02lI6ES2_rGK"
      },
      "source": [
        "Y_train = to_categorical(Y_train, num_classes= 3)\n",
        "Y_test = to_categorical(Y_test, num_classes= 3)\n",
        "\n",
        "#train and evaluation split\n",
        "X_train, X_val, Y_train, Y_val = train_test_split(\n",
        "    X_train, Y_train, \n",
        "    test_size=0.3, \n",
        "    random_state=5\n",
        ")"
      ],
      "execution_count": 10,
      "outputs": []
    },
    {
      "cell_type": "code",
      "metadata": {
        "id": "3LI5XNMrgVHi",
        "colab": {
          "base_uri": "https://localhost:8080/"
        },
        "outputId": "fdf5d19d-a9bb-4d16-cc37-a942806a9505"
      },
      "source": [
        "pre_trained_model = tensorflow.keras.applications.ResNet50(input_shape=(224,224, 3), include_top=False, weights=\"imagenet\")"
      ],
      "execution_count": 11,
      "outputs": [
        {
          "output_type": "stream",
          "text": [
            "Downloading data from https://storage.googleapis.com/tensorflow/keras-applications/resnet/resnet50_weights_tf_dim_ordering_tf_kernels_notop.h5\n",
            "94773248/94765736 [==============================] - 0s 0us/step\n"
          ],
          "name": "stdout"
        }
      ]
    },
    {
      "cell_type": "code",
      "metadata": {
        "id": "a2LZWem8gAef",
        "colab": {
          "base_uri": "https://localhost:8080/"
        },
        "outputId": "e0e8f286-0406-4667-ea02-85d251d8795a"
      },
      "source": [
        "for layer in pre_trained_model.layers:\n",
        "    #print(layer.name)\n",
        "    if hasattr(layer, 'moving_mean') and hasattr(layer, 'moving_variance'):\n",
        "        layer.trainable = True\n",
        "        K.eval(K.update(layer.moving_mean, K.zeros_like(layer.moving_mean)))\n",
        "        K.eval(K.update(layer.moving_variance, K.zeros_like(layer.moving_variance)))\n",
        "    else:\n",
        "        layer.trainable = False\n",
        "\n",
        "print(len(pre_trained_model.layers))"
      ],
      "execution_count": 12,
      "outputs": [
        {
          "output_type": "stream",
          "text": [
            "175\n"
          ],
          "name": "stdout"
        }
      ]
    },
    {
      "cell_type": "code",
      "metadata": {
        "colab": {
          "base_uri": "https://localhost:8080/"
        },
        "id": "arThh6CiALfL",
        "outputId": "4141d91b-9490-4304-eaa4-b66ecdc9a68c"
      },
      "source": [
        "last_layer = pre_trained_model.get_layer('conv5_block3_out')\n",
        "print('last layer output shape:', last_layer.output_shape)\n",
        "last_output = last_layer.output"
      ],
      "execution_count": 13,
      "outputs": [
        {
          "output_type": "stream",
          "text": [
            "last layer output shape: (None, 7, 7, 2048)\n"
          ],
          "name": "stdout"
        }
      ]
    },
    {
      "cell_type": "code",
      "metadata": {
        "id": "23NNU55ehETQ"
      },
      "source": [
        "x = tensorflow.keras.layers.Flatten()(last_output)\n",
        "x = tensorflow.keras.layers.Dense(512, activation='relu')(x)\n",
        "x = tensorflow.keras.layers.Dropout(0.5)(x)\n",
        "x = tensorflow.keras.layers.Dense(512, activation='relu')(x)\n",
        "x = tensorflow.keras.layers.Dropout(0.5)(x)\n",
        "x = tensorflow.keras.layers.Dense(3, activation='softmax')(x)\n",
        "\n",
        "#Config and compile model\n",
        "\n",
        "model1 = Model(pre_trained_model.input, x)\n",
        "optimizer = Adam(learning_rate=0.0001, beta_1=0.9, beta_2=0.999, epsilon=None, decay=0.0, amsgrad=True)\n",
        "model1.compile(loss='categorical_crossentropy',\n",
        "              optimizer=optimizer,\n",
        "              metrics=['accuracy'])"
      ],
      "execution_count": 14,
      "outputs": []
    },
    {
      "cell_type": "markdown",
      "metadata": {
        "id": "gyILdlHjAj_k"
      },
      "source": [
        "TRAINING"
      ]
    },
    {
      "cell_type": "code",
      "metadata": {
        "id": "iX5zYiIaAmOL"
      },
      "source": [
        "train_datagen = ImageDataGenerator(rotation_range=60, width_shift_range=0.2, height_shift_range=0.2,\n",
        "                                   shear_range=0.2, zoom_range=0.2, fill_mode='nearest')\n",
        "\n",
        "train_datagen.fit(X_train)\n",
        "\n",
        "val_datagen = ImageDataGenerator()\n",
        "val_datagen.fit(X_val)"
      ],
      "execution_count": 15,
      "outputs": []
    },
    {
      "cell_type": "code",
      "metadata": {
        "id": "t0HfvRrmEy_8",
        "colab": {
          "base_uri": "https://localhost:8080/"
        },
        "outputId": "80db3a10-5680-4a55-c45d-a651f75b1daf"
      },
      "source": [
        "batch_size = 64\n",
        "epochs = 30\n",
        "history0 = model1.fit_generator(train_datagen.flow(X_train,Y_train, batch_size=batch_size),\n",
        "                              epochs = epochs, validation_data = val_datagen.flow(X_val, Y_val),\n",
        "                              verbose = 1, steps_per_epoch=(X_train.shape[0] // batch_size), \n",
        "                              validation_steps=(X_val.shape[0] // batch_size))"
      ],
      "execution_count": 16,
      "outputs": [
        {
          "output_type": "stream",
          "text": [
            "/usr/local/lib/python3.7/dist-packages/tensorflow/python/keras/engine/training.py:1940: UserWarning: `Model.fit_generator` is deprecated and will be removed in a future version. Please use `Model.fit`, which supports generators.\n",
            "  warnings.warn('`Model.fit_generator` is deprecated and '\n"
          ],
          "name": "stderr"
        },
        {
          "output_type": "stream",
          "text": [
            "Epoch 1/30\n",
            "33/33 [==============================] - 64s 845ms/step - loss: 2.1185 - accuracy: 0.4796 - val_loss: 146820656.0000 - val_accuracy: 0.4866\n",
            "Epoch 2/30\n",
            "33/33 [==============================] - 25s 751ms/step - loss: 1.1631 - accuracy: 0.5057 - val_loss: 397.7205 - val_accuracy: 0.4196\n",
            "Epoch 3/30\n",
            "33/33 [==============================] - 25s 754ms/step - loss: 0.9401 - accuracy: 0.5498 - val_loss: 7.1188 - val_accuracy: 0.3750\n",
            "Epoch 4/30\n",
            "33/33 [==============================] - 25s 754ms/step - loss: 0.9042 - accuracy: 0.5674 - val_loss: 1.0653 - val_accuracy: 0.4821\n",
            "Epoch 5/30\n",
            "33/33 [==============================] - 25s 754ms/step - loss: 0.8927 - accuracy: 0.5740 - val_loss: 0.9781 - val_accuracy: 0.5022\n",
            "Epoch 6/30\n",
            "33/33 [==============================] - 25s 758ms/step - loss: 0.8735 - accuracy: 0.5806 - val_loss: 0.8619 - val_accuracy: 0.6138\n",
            "Epoch 7/30\n",
            "33/33 [==============================] - 25s 760ms/step - loss: 0.8425 - accuracy: 0.5901 - val_loss: 0.7444 - val_accuracy: 0.6719\n",
            "Epoch 8/30\n",
            "33/33 [==============================] - 25s 757ms/step - loss: 0.8452 - accuracy: 0.5996 - val_loss: 0.7354 - val_accuracy: 0.6853\n",
            "Epoch 9/30\n",
            "33/33 [==============================] - 25s 759ms/step - loss: 0.8317 - accuracy: 0.6139 - val_loss: 0.7335 - val_accuracy: 0.6942\n",
            "Epoch 10/30\n",
            "33/33 [==============================] - 25s 753ms/step - loss: 0.8012 - accuracy: 0.6181 - val_loss: 0.7431 - val_accuracy: 0.6808\n",
            "Epoch 11/30\n",
            "33/33 [==============================] - 25s 758ms/step - loss: 0.8030 - accuracy: 0.6162 - val_loss: 0.7162 - val_accuracy: 0.7031\n",
            "Epoch 12/30\n",
            "33/33 [==============================] - 25s 752ms/step - loss: 0.7486 - accuracy: 0.6485 - val_loss: 0.7292 - val_accuracy: 0.6808\n",
            "Epoch 13/30\n",
            "33/33 [==============================] - 25s 758ms/step - loss: 0.7776 - accuracy: 0.6494 - val_loss: 0.6883 - val_accuracy: 0.7031\n",
            "Epoch 14/30\n",
            "33/33 [==============================] - 25s 759ms/step - loss: 0.7594 - accuracy: 0.6380 - val_loss: 0.6693 - val_accuracy: 0.7076\n",
            "Epoch 15/30\n",
            "33/33 [==============================] - 25s 757ms/step - loss: 0.7647 - accuracy: 0.6380 - val_loss: 0.6831 - val_accuracy: 0.7165\n",
            "Epoch 16/30\n",
            "33/33 [==============================] - 25s 757ms/step - loss: 0.7212 - accuracy: 0.6713 - val_loss: 0.7035 - val_accuracy: 0.6920\n",
            "Epoch 17/30\n",
            "33/33 [==============================] - 25s 758ms/step - loss: 0.7198 - accuracy: 0.6689 - val_loss: 0.6873 - val_accuracy: 0.7009\n",
            "Epoch 18/30\n",
            "33/33 [==============================] - 25s 755ms/step - loss: 0.7038 - accuracy: 0.6765 - val_loss: 0.7038 - val_accuracy: 0.6964\n",
            "Epoch 19/30\n",
            "33/33 [==============================] - 25s 756ms/step - loss: 0.7254 - accuracy: 0.6618 - val_loss: 0.6902 - val_accuracy: 0.6964\n",
            "Epoch 20/30\n",
            "33/33 [==============================] - 25s 752ms/step - loss: 0.7189 - accuracy: 0.6826 - val_loss: 0.6545 - val_accuracy: 0.7031\n",
            "Epoch 21/30\n",
            "33/33 [==============================] - 25s 753ms/step - loss: 0.6865 - accuracy: 0.6864 - val_loss: 0.6260 - val_accuracy: 0.7411\n",
            "Epoch 22/30\n",
            "33/33 [==============================] - 25s 752ms/step - loss: 0.6920 - accuracy: 0.6883 - val_loss: 0.6132 - val_accuracy: 0.7366\n",
            "Epoch 23/30\n",
            "33/33 [==============================] - 25s 753ms/step - loss: 0.6748 - accuracy: 0.7059 - val_loss: 0.6875 - val_accuracy: 0.7009\n",
            "Epoch 24/30\n",
            "33/33 [==============================] - 25s 752ms/step - loss: 0.6296 - accuracy: 0.7059 - val_loss: 0.7439 - val_accuracy: 0.6920\n",
            "Epoch 25/30\n",
            "33/33 [==============================] - 25s 752ms/step - loss: 0.6558 - accuracy: 0.6964 - val_loss: 0.6573 - val_accuracy: 0.7121\n",
            "Epoch 26/30\n",
            "33/33 [==============================] - 25s 755ms/step - loss: 0.6751 - accuracy: 0.7011 - val_loss: 0.6534 - val_accuracy: 0.7299\n",
            "Epoch 27/30\n",
            "33/33 [==============================] - 25s 752ms/step - loss: 0.6573 - accuracy: 0.7016 - val_loss: 0.6008 - val_accuracy: 0.7388\n",
            "Epoch 28/30\n",
            "33/33 [==============================] - 25s 753ms/step - loss: 0.6309 - accuracy: 0.7130 - val_loss: 0.6905 - val_accuracy: 0.7054\n",
            "Epoch 29/30\n",
            "33/33 [==============================] - 25s 749ms/step - loss: 0.6401 - accuracy: 0.7068 - val_loss: 0.5809 - val_accuracy: 0.7433\n",
            "Epoch 30/30\n",
            "33/33 [==============================] - 25s 752ms/step - loss: 0.6050 - accuracy: 0.7187 - val_loss: 0.6819 - val_accuracy: 0.7232\n"
          ],
          "name": "stdout"
        }
      ]
    },
    {
      "cell_type": "code",
      "metadata": {
        "id": "VY3wtqDJd3Wf"
      },
      "source": [
        "np.save('his0_resnet.npy',history0.history)"
      ],
      "execution_count": 17,
      "outputs": []
    },
    {
      "cell_type": "code",
      "metadata": {
        "id": "RFo-3ZAikWt9",
        "colab": {
          "base_uri": "https://localhost:8080/"
        },
        "outputId": "a3b5e60d-3a47-4e9a-8979-3314608385c7"
      },
      "source": [
        "model1.save(\"0thModel.h5\")"
      ],
      "execution_count": 18,
      "outputs": [
        {
          "output_type": "stream",
          "text": [
            "/usr/local/lib/python3.7/dist-packages/tensorflow/python/keras/utils/generic_utils.py:497: CustomMaskWarning: Custom mask layers require a config and must override get_config. When loading, the custom mask layer must be passed to the custom_objects argument.\n",
            "  category=CustomMaskWarning)\n"
          ],
          "name": "stderr"
        }
      ]
    },
    {
      "cell_type": "markdown",
      "metadata": {
        "id": "LwKQytXZpVoQ"
      },
      "source": [
        "**FINE TUNING**"
      ]
    },
    {
      "cell_type": "code",
      "metadata": {
        "id": "6FXRdFeNnVfA",
        "colab": {
          "base_uri": "https://localhost:8080/"
        },
        "outputId": "0e14296b-d64c-4c5b-ce45-73e57f1f48e3"
      },
      "source": [
        "model4 = Model(pre_trained_model.input, x)\n",
        "optimizer = Adam(lr=0.0001, beta_1=0.9, beta_2=0.999, epsilon=None, decay=0.2, amsgrad=False)\n",
        "model4.compile(loss='categorical_crossentropy',\n",
        "              optimizer=optimizer,\n",
        "              metrics=['acc'])"
      ],
      "execution_count": 19,
      "outputs": [
        {
          "output_type": "stream",
          "text": [
            "/usr/local/lib/python3.7/dist-packages/tensorflow/python/keras/optimizer_v2/optimizer_v2.py:375: UserWarning: The `lr` argument is deprecated, use `learning_rate` instead.\n",
            "  \"The `lr` argument is deprecated, use `learning_rate` instead.\")\n"
          ],
          "name": "stderr"
        }
      ]
    },
    {
      "cell_type": "code",
      "metadata": {
        "id": "GTmmbBoxnGNg"
      },
      "source": [
        "for layer in pre_trained_model.layers[::-5]:\n",
        "    layer.trainable = True"
      ],
      "execution_count": 20,
      "outputs": []
    },
    {
      "cell_type": "code",
      "metadata": {
        "id": "xBrdwZ_7nZ0Y"
      },
      "source": [
        "learning_rate_reduction = ReduceLROnPlateau(monitor='val_acc', patience=2, verbose=1, factor=0.5, \n",
        "                                            min_lr=0.000001, cooldown=2)"
      ],
      "execution_count": 21,
      "outputs": []
    },
    {
      "cell_type": "code",
      "metadata": {
        "id": "i1v1RoX6nhuM",
        "colab": {
          "base_uri": "https://localhost:8080/"
        },
        "outputId": "fc917ee5-76ae-487b-d7ad-7efbbe0caa76"
      },
      "source": [
        "batch_size = 64\n",
        "epochs = 30\n",
        "history3 = model4.fit_generator(train_datagen.flow(X_train,Y_train, batch_size=batch_size),\n",
        "                              epochs = epochs, validation_data = val_datagen.flow(X_val, Y_val),\n",
        "                              verbose = 1, steps_per_epoch=(X_train.shape[0] // batch_size),\n",
        "                              validation_steps=(X_val.shape[0] // batch_size),\n",
        "                              callbacks=[learning_rate_reduction])"
      ],
      "execution_count": 22,
      "outputs": [
        {
          "output_type": "stream",
          "text": [
            "/usr/local/lib/python3.7/dist-packages/tensorflow/python/keras/engine/training.py:1940: UserWarning: `Model.fit_generator` is deprecated and will be removed in a future version. Please use `Model.fit`, which supports generators.\n",
            "  warnings.warn('`Model.fit_generator` is deprecated and '\n"
          ],
          "name": "stderr"
        },
        {
          "output_type": "stream",
          "text": [
            "Epoch 1/30\n",
            "33/33 [==============================] - 32s 839ms/step - loss: 0.6377 - acc: 0.7310 - val_loss: 0.7079 - val_acc: 0.7388\n",
            "Epoch 2/30\n",
            "33/33 [==============================] - 25s 760ms/step - loss: 0.6074 - acc: 0.7230 - val_loss: 0.6999 - val_acc: 0.7232\n",
            "Epoch 3/30\n",
            "33/33 [==============================] - 25s 757ms/step - loss: 0.5710 - acc: 0.7524 - val_loss: 0.6359 - val_acc: 0.7388\n",
            "\n",
            "Epoch 00003: ReduceLROnPlateau reducing learning rate to 4.999999873689376e-05.\n",
            "Epoch 4/30\n",
            "33/33 [==============================] - 25s 753ms/step - loss: 0.5618 - acc: 0.7642 - val_loss: 0.6853 - val_acc: 0.7165\n",
            "Epoch 5/30\n",
            "33/33 [==============================] - 25s 755ms/step - loss: 0.5916 - acc: 0.7434 - val_loss: 0.7252 - val_acc: 0.7210\n",
            "Epoch 6/30\n",
            "33/33 [==============================] - 25s 755ms/step - loss: 0.5798 - acc: 0.7400 - val_loss: 0.6382 - val_acc: 0.7299\n",
            "\n",
            "Epoch 00006: ReduceLROnPlateau reducing learning rate to 2.499999936844688e-05.\n",
            "Epoch 7/30\n",
            "33/33 [==============================] - 25s 756ms/step - loss: 0.5945 - acc: 0.7301 - val_loss: 0.6781 - val_acc: 0.7143\n",
            "Epoch 8/30\n",
            "33/33 [==============================] - 25s 758ms/step - loss: 0.6141 - acc: 0.7329 - val_loss: 0.6366 - val_acc: 0.7210\n",
            "Epoch 9/30\n",
            "33/33 [==============================] - 25s 759ms/step - loss: 0.5736 - acc: 0.7467 - val_loss: 0.6580 - val_acc: 0.7277\n",
            "\n",
            "Epoch 00009: ReduceLROnPlateau reducing learning rate to 1.249999968422344e-05.\n",
            "Epoch 10/30\n",
            "33/33 [==============================] - 25s 754ms/step - loss: 0.5796 - acc: 0.7462 - val_loss: 0.6954 - val_acc: 0.7344\n",
            "Epoch 11/30\n",
            "33/33 [==============================] - 25s 754ms/step - loss: 0.5809 - acc: 0.7467 - val_loss: 0.7206 - val_acc: 0.7321\n",
            "Epoch 12/30\n",
            "33/33 [==============================] - 25s 756ms/step - loss: 0.5977 - acc: 0.7391 - val_loss: 0.6656 - val_acc: 0.7411\n",
            "Epoch 13/30\n",
            "33/33 [==============================] - 25s 756ms/step - loss: 0.5909 - acc: 0.7410 - val_loss: 0.6529 - val_acc: 0.7612\n",
            "Epoch 14/30\n",
            "33/33 [==============================] - 25s 758ms/step - loss: 0.5468 - acc: 0.7623 - val_loss: 0.6763 - val_acc: 0.7299\n",
            "Epoch 15/30\n",
            "33/33 [==============================] - 25s 756ms/step - loss: 0.5606 - acc: 0.7566 - val_loss: 0.6997 - val_acc: 0.7210\n",
            "\n",
            "Epoch 00015: ReduceLROnPlateau reducing learning rate to 6.24999984211172e-06.\n",
            "Epoch 16/30\n",
            "33/33 [==============================] - 25s 757ms/step - loss: 0.6032 - acc: 0.7211 - val_loss: 0.6765 - val_acc: 0.7433\n",
            "Epoch 17/30\n",
            "33/33 [==============================] - 25s 760ms/step - loss: 0.5563 - acc: 0.7462 - val_loss: 0.6434 - val_acc: 0.7589\n",
            "Epoch 18/30\n",
            "33/33 [==============================] - 25s 757ms/step - loss: 0.5714 - acc: 0.7391 - val_loss: 0.6329 - val_acc: 0.7232\n",
            "\n",
            "Epoch 00018: ReduceLROnPlateau reducing learning rate to 3.12499992105586e-06.\n",
            "Epoch 19/30\n",
            "33/33 [==============================] - 25s 757ms/step - loss: 0.5881 - acc: 0.7438 - val_loss: 0.6071 - val_acc: 0.7455\n",
            "Epoch 20/30\n",
            "33/33 [==============================] - 25s 759ms/step - loss: 0.5919 - acc: 0.7538 - val_loss: 0.6849 - val_acc: 0.7165\n",
            "Epoch 21/30\n",
            "33/33 [==============================] - 25s 760ms/step - loss: 0.5770 - acc: 0.7457 - val_loss: 0.6422 - val_acc: 0.7143\n",
            "\n",
            "Epoch 00021: ReduceLROnPlateau reducing learning rate to 1.56249996052793e-06.\n",
            "Epoch 22/30\n",
            "33/33 [==============================] - 25s 753ms/step - loss: 0.5945 - acc: 0.7287 - val_loss: 0.6124 - val_acc: 0.7433\n",
            "Epoch 23/30\n",
            "33/33 [==============================] - 25s 758ms/step - loss: 0.5521 - acc: 0.7500 - val_loss: 0.5661 - val_acc: 0.7679\n",
            "Epoch 24/30\n",
            "33/33 [==============================] - 25s 754ms/step - loss: 0.5871 - acc: 0.7306 - val_loss: 0.6225 - val_acc: 0.7188\n",
            "Epoch 25/30\n",
            "33/33 [==============================] - 25s 759ms/step - loss: 0.5907 - acc: 0.7391 - val_loss: 0.7023 - val_acc: 0.6987\n",
            "\n",
            "Epoch 00025: ReduceLROnPlateau reducing learning rate to 1e-06.\n",
            "Epoch 26/30\n",
            "33/33 [==============================] - 25s 755ms/step - loss: 0.5647 - acc: 0.7410 - val_loss: 0.6051 - val_acc: 0.7478\n",
            "Epoch 27/30\n",
            "33/33 [==============================] - 25s 757ms/step - loss: 0.5869 - acc: 0.7571 - val_loss: 0.6658 - val_acc: 0.7433\n",
            "Epoch 28/30\n",
            "33/33 [==============================] - 25s 761ms/step - loss: 0.5958 - acc: 0.7315 - val_loss: 0.6658 - val_acc: 0.7232\n",
            "Epoch 29/30\n",
            "33/33 [==============================] - 25s 753ms/step - loss: 0.5921 - acc: 0.7415 - val_loss: 0.6157 - val_acc: 0.7299\n",
            "Epoch 30/30\n",
            "33/33 [==============================] - 25s 759ms/step - loss: 0.5707 - acc: 0.7476 - val_loss: 0.6717 - val_acc: 0.7254\n"
          ],
          "name": "stdout"
        }
      ]
    },
    {
      "cell_type": "code",
      "metadata": {
        "id": "ECNQAcebs0g6"
      },
      "source": [
        "np.save('his3_resnet.npy',history3.history)"
      ],
      "execution_count": 23,
      "outputs": []
    },
    {
      "cell_type": "code",
      "metadata": {
        "colab": {
          "base_uri": "https://localhost:8080/"
        },
        "id": "DfkewlEdlPGq",
        "outputId": "101a08e4-6e6d-41e1-c01e-add5d569bfe8"
      },
      "source": [
        "model4.save(\"3rdModel.h5\")"
      ],
      "execution_count": 24,
      "outputs": [
        {
          "output_type": "stream",
          "text": [
            "/usr/local/lib/python3.7/dist-packages/tensorflow/python/keras/utils/generic_utils.py:497: CustomMaskWarning: Custom mask layers require a config and must override get_config. When loading, the custom mask layer must be passed to the custom_objects argument.\n",
            "  category=CustomMaskWarning)\n"
          ],
          "name": "stderr"
        }
      ]
    },
    {
      "cell_type": "code",
      "metadata": {
        "id": "OiKl4-9NJxr5"
      },
      "source": [
        "#from tensorflow.keras.models import load_model\n",
        "#model4 = load_model('0thModel.h5')"
      ],
      "execution_count": 25,
      "outputs": []
    },
    {
      "cell_type": "code",
      "metadata": {
        "colab": {
          "base_uri": "https://localhost:8080/"
        },
        "id": "KuUtbb0Xnpi9",
        "outputId": "2a040afb-4f2e-4bbf-a8a2-16cd1312fed9"
      },
      "source": [
        "loss_test, acc_test = model4.evaluate(X_test, Y_test, verbose=1)\n",
        "print(\"Test: accuracy = %f  ;  loss = %f\" % (acc_test, loss_test))"
      ],
      "execution_count": 26,
      "outputs": [
        {
          "output_type": "stream",
          "text": [
            "31/31 [==============================] - 4s 108ms/step - loss: 0.5900 - acc: 0.7382\n",
            "Test: accuracy = 0.738241  ;  loss = 0.589956\n"
          ],
          "name": "stdout"
        }
      ]
    },
    {
      "cell_type": "code",
      "metadata": {
        "colab": {
          "base_uri": "https://localhost:8080/",
          "height": 311
        },
        "id": "2e94a28c",
        "outputId": "fe33a358-6a94-4cef-80e0-a93e793fd050"
      },
      "source": [
        "from sklearn.metrics import confusion_matrix\n",
        "import itertools\n",
        "def plot_confusion_matrix(cm, classes,\n",
        "                          normalize=False,\n",
        "                          title='Confusion matrix 0f resnet4',\n",
        "                          cmap=plt.cm.Blues):\n",
        "    \"\"\"\n",
        "    This function prints and plots the confusion matrix.\n",
        "    Normalization can be applied by setting `normalize=True`.\n",
        "    \"\"\"\n",
        "    plt.imshow(cm, interpolation='nearest', cmap=cmap)\n",
        "    plt.title(title)\n",
        "    plt.colorbar()\n",
        "    tick_marks = np.arange(len(classes))\n",
        "    plt.xticks(tick_marks, classes, rotation=45)\n",
        "    plt.yticks(tick_marks, classes)\n",
        "\n",
        "    if normalize:\n",
        "        cm = cm.astype('float') / cm.sum(axis=1)[:, np.newaxis]\n",
        "\n",
        "    thresh = cm.max() / 2.\n",
        "    for i, j in itertools.product(range(cm.shape[0]), range(cm.shape[1])):\n",
        "        plt.text(j, i, cm[i, j],\n",
        "                 horizontalalignment=\"center\",\n",
        "                 color=\"white\" if cm[i, j] > thresh else \"black\")\n",
        "\n",
        "    plt.tight_layout()\n",
        "    plt.ylabel('True label')\n",
        "    plt.xlabel('Predicted label')\n",
        "\n",
        "# Predict the values from the validation dataset\n",
        "y_pred = model4.predict(X_test)\n",
        "# Convert predictions classes to one hot vectors \n",
        "y_pred_classes = np.argmax(y_pred,axis = 1) \n",
        "# Convert validation observations to one hot vectors\n",
        "y_true = np.argmax(Y_test,axis = 1) \n",
        "# compute the confusion matrix\n",
        "confusion_mtx = confusion_matrix(y_true, y_pred_classes) \n",
        "# plot the confusion matrix\n",
        "plot_confusion_matrix(confusion_mtx, classes = range(3))"
      ],
      "execution_count": 27,
      "outputs": [
        {
          "output_type": "display_data",
          "data": {
            "image/png": "[encoded data removed]",
            "text/plain": [
              "<Figure size 432x288 with 2 Axes>"
            ]
          },
          "metadata": {
            "tags": [],
            "needs_background": "light"
          }
        }
      ]
    }
  ]
}